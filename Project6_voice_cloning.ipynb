{
  "cells": [
    {
      "cell_type": "markdown",
      "metadata": {
        "id": "view-in-github",
        "colab_type": "text"
      },
      "source": [
        "<a href=\"https://colab.research.google.com/github/Soomro2023/Project6/blob/main/Project6_voice_cloning.ipynb\" target=\"_parent\"><img src=\"https://colab.research.google.com/assets/colab-badge.svg\" alt=\"Open In Colab\"/></a>"
      ]
    },
    {
      "cell_type": "markdown",
      "metadata": {
        "id": "HjXHN-vHhu-j"
      },
      "source": [
        "# Install voice cloning models"
      ]
    },
    {
      "cell_type": "code",
      "execution_count": null,
      "metadata": {
        "id": "9doCqV6SmMdQ"
      },
      "outputs": [],
      "source": [
        "import os\n",
        "from os.path import exists, join, basename, splitext\n",
        "\n",
        "git_repo_url = 'https://github.com/CorentinJ/Real-Time-Voice-Cloning.git'\n",
        "project_name = splitext(basename(git_repo_url))[0]\n",
        "if not exists(project_name):\n",
        "  # clone and install\n",
        "  !git clone -q --recursive {git_repo_url}\n",
        "  # install dependencies\n",
        "  !cd {project_name} && pip install -q -r requirements.txt\n",
        "  !pip install -q --upgrade gdown\n",
        "  !apt-get install -qq libportaudio2\n",
        "  !pip install -q https://github.com/tugstugi/dl-colab-notebooks/archive/colab_utils.zip"
      ]
    },
    {
      "cell_type": "code",
      "execution_count": null,
      "metadata": {
        "colab": {
          "base_uri": "https://localhost:8080/"
        },
        "id": "_Q6kNzG9hhi0",
        "outputId": "0b606f35-841b-4fa9-9ec0-1fa2cb858387"
      },
      "outputs": [
        {
          "output_type": "stream",
          "name": "stdout",
          "text": [
            "Downloading...\n",
            "From: https://drive.google.com/uc?id=1q8mEGwCkFy23KZsinbuvdKAQLqNKbYf1\n",
            "To: /content/Real-Time-Voice-Cloning/saved_models/default/encoder.pt\n",
            "100% 17.1M/17.1M [00:00<00:00, 143MB/s]\n",
            "Downloading...\n",
            "From (uriginal): https://drive.google.com/uc?id=1EqFMIbvxffxtjiVrtykroF6_mUh-5Z3s\n",
            "From (redirected): https://drive.google.com/uc?id=1EqFMIbvxffxtjiVrtykroF6_mUh-5Z3s&confirm=t&uuid=7052d432-908b-44d6-996b-90d9aa4d3255\n",
            "To: /content/Real-Time-Voice-Cloning/saved_models/default/synthesizer.pt\n",
            "100% 371M/371M [00:04<00:00, 78.6MB/s]\n",
            "Downloading...\n",
            "From: https://drive.google.com/uc?id=1cf2NO6FtI0jDuy8AV3Xgn6leO6dHjIgu\n",
            "To: /content/Real-Time-Voice-Cloning/saved_models/default/vocoder.pt\n",
            "100% 53.8M/53.8M [00:02<00:00, 24.4MB/s]\n"
          ]
        }
      ],
      "source": [
        "# %tensorflow_version 1.x\n",
        "# download pretrained model\n",
        "#!cd {project_name} && wget https://github.com/blue-fish/Real-Time-Voice-Cloning/releases/download/v1.0/pretrained.zip && unzip -o pretrained.zip\n",
        "!cd {project_name} && mkdir -p saved_models/default/\n",
        "!cd {project_name}/saved_models/default/ && gdown https://drive.google.com/uc?id=1q8mEGwCkFy23KZsinbuvdKAQLqNKbYf1\n",
        "!cd {project_name}/saved_models/default/ && gdown https://drive.google.com/uc?id=1EqFMIbvxffxtjiVrtykroF6_mUh-5Z3s\n",
        "!cd {project_name}/saved_models/default/ && gdown https://drive.google.com/uc?id=1cf2NO6FtI0jDuy8AV3Xgn6leO6dHjIgu"
      ]
    },
    {
      "cell_type": "code",
      "execution_count": null,
      "metadata": {
        "colab": {
          "base_uri": "https://localhost:8080/"
        },
        "id": "44NMIeidmiAl",
        "outputId": "d1d10ae2-149f-49ae-e117-473c655635ac"
      },
      "outputs": [
        {
          "output_type": "stream",
          "name": "stdout",
          "text": [
            "Requirement already satisfied: unidecode in /usr/local/lib/python3.10/dist-packages (1.3.7)\n"
          ]
        }
      ],
      "source": [
        "!pip install unidecode"
      ]
    },
    {
      "cell_type": "code",
      "execution_count": null,
      "metadata": {
        "id": "A_DoxTeUTmt3"
      },
      "outputs": [],
      "source": [
        "# !pip install dl_colab_notebooks"
      ]
    },
    {
      "cell_type": "code",
      "execution_count": null,
      "metadata": {
        "colab": {
          "base_uri": "https://localhost:8080/"
        },
        "id": "OUgNx6DplxLA",
        "outputId": "2863f02c-6593-4519-871e-5c2d8286072c"
      },
      "outputs": [
        {
          "output_type": "stream",
          "name": "stderr",
          "text": [
            "/content/Real-Time-Voice-Cloning/encoder/audio.py:13: UserWarning: Unable to import 'webrtcvad'. This package enables noise removal and is recommended.\n",
            "  warn(\"Unable to import 'webrtcvad'. This package enables noise removal and is recommended.\")\n"
          ]
        }
      ],
      "source": [
        "import sys\n",
        "sys.path.append(project_name)\n",
        "\n",
        "from IPython.display import display, Audio, clear_output\n",
        "from IPython.utils import io\n",
        "import ipywidgets as widgets\n",
        "import numpy as np\n",
        "from dl_colab_notebooks.audio import record_audio, upload_audio\n",
        "\n",
        "from synthesizer.inference import Synthesizer\n",
        "from encoder import inference as encoder\n",
        "from vocoder import inference as vocoder\n",
        "from pathlib import Path"
      ]
    },
    {
      "cell_type": "code",
      "execution_count": null,
      "metadata": {
        "colab": {
          "base_uri": "https://localhost:8080/"
        },
        "id": "uLFfIDP-mxcq",
        "outputId": "4f22b024-9a69-441a-d2a5-e6a3d232c7e5"
      },
      "outputs": [
        {
          "output_type": "stream",
          "name": "stdout",
          "text": [
            "cloned_df.csv\t\t\t\t\t    PROMPTS.TXT\t\t     test_data.csv\n",
            "darpa-timit-acousticphonetic-continuous-speech.zip  README.DOC\t\t     TESTSET.DOC\n",
            "data\t\t\t\t\t\t    Real-Time-Voice-Cloning  TIMITDIC.DOC\n",
            "drive\t\t\t\t\t\t    sample_data\t\t     TIMITDIC.TXT\n",
            "kaggle.json\t\t\t\t\t    SPKRINFO.TXT\t     train_data.csv\n",
            "PHONCODE.DOC\t\t\t\t\t    SPKRSENT.TXT\n",
            "Loaded encoder \"encoder.pt\" trained to step 1564501\n",
            "Synthesizer using device: cpu\n",
            "Building Wave-RNN\n",
            "Trainable Parameters: 4.481M\n",
            "Loading model weights at Real-Time-Voice-Cloning/saved_models/default/vocoder.pt\n"
          ]
        }
      ],
      "source": [
        "!ls\n",
        "encoder.load_model(project_name / Path(\"saved_models/default/encoder.pt\"))\n",
        "synthesizer = Synthesizer(project_name / Path(\"saved_models/default/synthesizer.pt\"))\n",
        "vocoder.load_model(project_name / Path(\"saved_models/default/vocoder.pt\"))"
      ]
    },
    {
      "cell_type": "markdown",
      "metadata": {
        "id": "PJ4bxewunDDd"
      },
      "source": [
        "# Download the TIMIT dataset for creating fake audios"
      ]
    },
    {
      "cell_type": "code",
      "execution_count": null,
      "metadata": {
        "colab": {
          "base_uri": "https://localhost:8080/"
        },
        "id": "6LvKgmznm9Qf",
        "outputId": "98dbf600-57c1-4808-bcec-19fbbeab0c6d"
      },
      "outputs": [
        {
          "output_type": "stream",
          "name": "stdout",
          "text": [
            "\u001b[1;30;43mStreaming output truncated to the last 5000 lines.\u001b[0m\n",
            "  inflating: data/TRAIN/DR6/MTXS0/SA1.WAV  \n",
            "  inflating: data/TRAIN/DR6/MTXS0/SA1.WAV.wav  \n",
            "  inflating: data/TRAIN/DR6/MTXS0/SA1.WRD  \n",
            "  inflating: data/TRAIN/DR6/MTXS0/SA2.PHN  \n",
            "  inflating: data/TRAIN/DR6/MTXS0/SA2.TXT  \n",
            "  inflating: data/TRAIN/DR6/MTXS0/SA2.WAV  \n",
            "  inflating: data/TRAIN/DR6/MTXS0/SA2.WAV.wav  \n",
            "  inflating: data/TRAIN/DR6/MTXS0/SA2.WRD  \n",
            "  inflating: data/TRAIN/DR6/MTXS0/SI1060.PHN  \n",
            "  inflating: data/TRAIN/DR6/MTXS0/SI1060.TXT  \n",
            "  inflating: data/TRAIN/DR6/MTXS0/SI1060.WAV  \n",
            "  inflating: data/TRAIN/DR6/MTXS0/SI1060.WAV.wav  \n",
            "  inflating: data/TRAIN/DR6/MTXS0/SI1060.WRD  \n",
            "  inflating: data/TRAIN/DR6/MTXS0/SI1690.PHN  \n",
            "  inflating: data/TRAIN/DR6/MTXS0/SI1690.TXT  \n",
            "  inflating: data/TRAIN/DR6/MTXS0/SI1690.WAV  \n",
            "  inflating: data/TRAIN/DR6/MTXS0/SI1690.WAV.wav  \n",
            "  inflating: data/TRAIN/DR6/MTXS0/SI1690.WRD  \n",
            "  inflating: data/TRAIN/DR6/MTXS0/SI2320.PHN  \n",
            "  inflating: data/TRAIN/DR6/MTXS0/SI2320.TXT  \n",
            "  inflating: data/TRAIN/DR6/MTXS0/SI2320.WAV  \n",
            "  inflating: data/TRAIN/DR6/MTXS0/SI2320.WAV.wav  \n",
            "  inflating: data/TRAIN/DR6/MTXS0/SI2320.WRD  \n",
            "  inflating: data/TRAIN/DR6/MTXS0/SX160.PHN  \n",
            "  inflating: data/TRAIN/DR6/MTXS0/SX160.TXT  \n",
            "  inflating: data/TRAIN/DR6/MTXS0/SX160.WAV  \n",
            "  inflating: data/TRAIN/DR6/MTXS0/SX160.WAV.wav  \n",
            "  inflating: data/TRAIN/DR6/MTXS0/SX160.WRD  \n",
            "  inflating: data/TRAIN/DR6/MTXS0/SX250.PHN  \n",
            "  inflating: data/TRAIN/DR6/MTXS0/SX250.TXT  \n",
            "  inflating: data/TRAIN/DR6/MTXS0/SX250.WAV  \n",
            "  inflating: data/TRAIN/DR6/MTXS0/SX250.WAV.wav  \n",
            "  inflating: data/TRAIN/DR6/MTXS0/SX250.WRD  \n",
            "  inflating: data/TRAIN/DR6/MTXS0/SX340.PHN  \n",
            "  inflating: data/TRAIN/DR6/MTXS0/SX340.TXT  \n",
            "  inflating: data/TRAIN/DR6/MTXS0/SX340.WAV  \n",
            "  inflating: data/TRAIN/DR6/MTXS0/SX340.WAV.wav  \n",
            "  inflating: data/TRAIN/DR6/MTXS0/SX340.WRD  \n",
            "  inflating: data/TRAIN/DR6/MTXS0/SX430.PHN  \n",
            "  inflating: data/TRAIN/DR6/MTXS0/SX430.TXT  \n",
            "  inflating: data/TRAIN/DR6/MTXS0/SX430.WAV  \n",
            "  inflating: data/TRAIN/DR6/MTXS0/SX430.WAV.wav  \n",
            "  inflating: data/TRAIN/DR6/MTXS0/SX430.WRD  \n",
            "  inflating: data/TRAIN/DR6/MTXS0/SX70.PHN  \n",
            "  inflating: data/TRAIN/DR6/MTXS0/SX70.TXT  \n",
            "  inflating: data/TRAIN/DR6/MTXS0/SX70.WAV  \n",
            "  inflating: data/TRAIN/DR6/MTXS0/SX70.WAV.wav  \n",
            "  inflating: data/TRAIN/DR6/MTXS0/SX70.WRD  \n",
            "  inflating: data/TRAIN/DR7/FBLV0/SA1.PHN  \n",
            "  inflating: data/TRAIN/DR7/FBLV0/SA1.TXT  \n",
            "  inflating: data/TRAIN/DR7/FBLV0/SA1.WAV  \n",
            "  inflating: data/TRAIN/DR7/FBLV0/SA1.WAV.wav  \n",
            "  inflating: data/TRAIN/DR7/FBLV0/SA1.WRD  \n",
            "  inflating: data/TRAIN/DR7/FBLV0/SA2.PHN  \n",
            "  inflating: data/TRAIN/DR7/FBLV0/SA2.TXT  \n",
            "  inflating: data/TRAIN/DR7/FBLV0/SA2.WAV  \n",
            "  inflating: data/TRAIN/DR7/FBLV0/SA2.WAV.wav  \n",
            "  inflating: data/TRAIN/DR7/FBLV0/SA2.WRD  \n",
            "  inflating: data/TRAIN/DR7/FBLV0/SI1058.PHN  \n",
            "  inflating: data/TRAIN/DR7/FBLV0/SI1058.TXT  \n",
            "  inflating: data/TRAIN/DR7/FBLV0/SI1058.WAV  \n",
            "  inflating: data/TRAIN/DR7/FBLV0/SI1058.WAV.wav  \n",
            "  inflating: data/TRAIN/DR7/FBLV0/SI1058.WRD  \n",
            "  inflating: data/TRAIN/DR7/FBLV0/SI1688.PHN  \n",
            "  inflating: data/TRAIN/DR7/FBLV0/SI1688.TXT  \n",
            "  inflating: data/TRAIN/DR7/FBLV0/SI1688.WAV  \n",
            "  inflating: data/TRAIN/DR7/FBLV0/SI1688.WAV.wav  \n",
            "  inflating: data/TRAIN/DR7/FBLV0/SI1688.WRD  \n",
            "  inflating: data/TRAIN/DR7/FBLV0/SI2318.PHN  \n",
            "  inflating: data/TRAIN/DR7/FBLV0/SI2318.TXT  \n",
            "  inflating: data/TRAIN/DR7/FBLV0/SI2318.WAV  \n",
            "  inflating: data/TRAIN/DR7/FBLV0/SI2318.WAV.wav  \n",
            "  inflating: data/TRAIN/DR7/FBLV0/SI2318.WRD  \n",
            "  inflating: data/TRAIN/DR7/FBLV0/SX158.PHN  \n",
            "  inflating: data/TRAIN/DR7/FBLV0/SX158.TXT  \n",
            "  inflating: data/TRAIN/DR7/FBLV0/SX158.WAV  \n",
            "  inflating: data/TRAIN/DR7/FBLV0/SX158.WAV.wav  \n",
            "  inflating: data/TRAIN/DR7/FBLV0/SX158.WRD  \n",
            "  inflating: data/TRAIN/DR7/FBLV0/SX248.PHN  \n",
            "  inflating: data/TRAIN/DR7/FBLV0/SX248.TXT  \n",
            "  inflating: data/TRAIN/DR7/FBLV0/SX248.WAV  \n",
            "  inflating: data/TRAIN/DR7/FBLV0/SX248.WAV.wav  \n",
            "  inflating: data/TRAIN/DR7/FBLV0/SX248.WRD  \n",
            "  inflating: data/TRAIN/DR7/FBLV0/SX338.PHN  \n",
            "  inflating: data/TRAIN/DR7/FBLV0/SX338.TXT  \n",
            "  inflating: data/TRAIN/DR7/FBLV0/SX338.WAV  \n",
            "  inflating: data/TRAIN/DR7/FBLV0/SX338.WAV.wav  \n",
            "  inflating: data/TRAIN/DR7/FBLV0/SX338.WRD  \n",
            "  inflating: data/TRAIN/DR7/FBLV0/SX428.PHN  \n",
            "  inflating: data/TRAIN/DR7/FBLV0/SX428.TXT  \n",
            "  inflating: data/TRAIN/DR7/FBLV0/SX428.WAV  \n",
            "  inflating: data/TRAIN/DR7/FBLV0/SX428.WAV.wav  \n",
            "  inflating: data/TRAIN/DR7/FBLV0/SX428.WRD  \n",
            "  inflating: data/TRAIN/DR7/FBLV0/SX68.PHN  \n",
            "  inflating: data/TRAIN/DR7/FBLV0/SX68.TXT  \n",
            "  inflating: data/TRAIN/DR7/FBLV0/SX68.WAV  \n",
            "  inflating: data/TRAIN/DR7/FBLV0/SX68.WAV.wav  \n",
            "  inflating: data/TRAIN/DR7/FBLV0/SX68.WRD  \n",
            "  inflating: data/TRAIN/DR7/FCJS0/SA1.PHN  \n",
            "  inflating: data/TRAIN/DR7/FCJS0/SA1.TXT  \n",
            "  inflating: data/TRAIN/DR7/FCJS0/SA1.WAV  \n",
            "  inflating: data/TRAIN/DR7/FCJS0/SA1.WAV.wav  \n",
            "  inflating: data/TRAIN/DR7/FCJS0/SA1.WRD  \n",
            "  inflating: data/TRAIN/DR7/FCJS0/SA2.PHN  \n",
            "  inflating: data/TRAIN/DR7/FCJS0/SA2.TXT  \n",
            "  inflating: data/TRAIN/DR7/FCJS0/SA2.WAV  \n",
            "  inflating: data/TRAIN/DR7/FCJS0/SA2.WAV.wav  \n",
            "  inflating: data/TRAIN/DR7/FCJS0/SA2.WRD  \n",
            "  inflating: data/TRAIN/DR7/FCJS0/SI1607.PHN  \n",
            "  inflating: data/TRAIN/DR7/FCJS0/SI1607.TXT  \n",
            "  inflating: data/TRAIN/DR7/FCJS0/SI1607.WAV  \n",
            "  inflating: data/TRAIN/DR7/FCJS0/SI1607.WAV.wav  \n",
            "  inflating: data/TRAIN/DR7/FCJS0/SI1607.WRD  \n",
            "  inflating: data/TRAIN/DR7/FCJS0/SI2237.PHN  \n",
            "  inflating: data/TRAIN/DR7/FCJS0/SI2237.TXT  \n",
            "  inflating: data/TRAIN/DR7/FCJS0/SI2237.WAV  \n",
            "  inflating: data/TRAIN/DR7/FCJS0/SI2237.WAV.wav  \n",
            "  inflating: data/TRAIN/DR7/FCJS0/SI2237.WRD  \n",
            "  inflating: data/TRAIN/DR7/FCJS0/SI977.PHN  \n",
            "  inflating: data/TRAIN/DR7/FCJS0/SI977.TXT  \n",
            "  inflating: data/TRAIN/DR7/FCJS0/SI977.WAV  \n",
            "  inflating: data/TRAIN/DR7/FCJS0/SI977.WAV.wav  \n",
            "  inflating: data/TRAIN/DR7/FCJS0/SI977.WRD  \n",
            "  inflating: data/TRAIN/DR7/FCJS0/SX167.PHN  \n",
            "  inflating: data/TRAIN/DR7/FCJS0/SX167.TXT  \n",
            "  inflating: data/TRAIN/DR7/FCJS0/SX167.WAV  \n",
            "  inflating: data/TRAIN/DR7/FCJS0/SX167.WAV.wav  \n",
            "  inflating: data/TRAIN/DR7/FCJS0/SX167.WRD  \n",
            "  inflating: data/TRAIN/DR7/FCJS0/SX257.PHN  \n",
            "  inflating: data/TRAIN/DR7/FCJS0/SX257.TXT  \n",
            "  inflating: data/TRAIN/DR7/FCJS0/SX257.WAV  \n",
            "  inflating: data/TRAIN/DR7/FCJS0/SX257.WAV.wav  \n",
            "  inflating: data/TRAIN/DR7/FCJS0/SX257.WRD  \n",
            "  inflating: data/TRAIN/DR7/FCJS0/SX347.PHN  \n",
            "  inflating: data/TRAIN/DR7/FCJS0/SX347.TXT  \n",
            "  inflating: data/TRAIN/DR7/FCJS0/SX347.WAV  \n",
            "  inflating: data/TRAIN/DR7/FCJS0/SX347.WAV.wav  \n",
            "  inflating: data/TRAIN/DR7/FCJS0/SX347.WRD  \n",
            "  inflating: data/TRAIN/DR7/FCJS0/SX437.PHN  \n",
            "  inflating: data/TRAIN/DR7/FCJS0/SX437.TXT  \n",
            "  inflating: data/TRAIN/DR7/FCJS0/SX437.WAV  \n",
            "  inflating: data/TRAIN/DR7/FCJS0/SX437.WAV.wav  \n",
            "  inflating: data/TRAIN/DR7/FCJS0/SX437.WRD  \n",
            "  inflating: data/TRAIN/DR7/FCJS0/SX77.PHN  \n",
            "  inflating: data/TRAIN/DR7/FCJS0/SX77.TXT  \n",
            "  inflating: data/TRAIN/DR7/FCJS0/SX77.WAV  \n",
            "  inflating: data/TRAIN/DR7/FCJS0/SX77.WAV.wav  \n",
            "  inflating: data/TRAIN/DR7/FCJS0/SX77.WRD  \n",
            "  inflating: data/TRAIN/DR7/FCRZ0/SA1.PHN  \n",
            "  inflating: data/TRAIN/DR7/FCRZ0/SA1.TXT  \n",
            "  inflating: data/TRAIN/DR7/FCRZ0/SA1.WAV  \n",
            "  inflating: data/TRAIN/DR7/FCRZ0/SA1.WAV.wav  \n",
            "  inflating: data/TRAIN/DR7/FCRZ0/SA1.WRD  \n",
            "  inflating: data/TRAIN/DR7/FCRZ0/SA2.PHN  \n",
            "  inflating: data/TRAIN/DR7/FCRZ0/SA2.TXT  \n",
            "  inflating: data/TRAIN/DR7/FCRZ0/SA2.WAV  \n",
            "  inflating: data/TRAIN/DR7/FCRZ0/SA2.WAV.wav  \n",
            "  inflating: data/TRAIN/DR7/FCRZ0/SA2.WRD  \n",
            "  inflating: data/TRAIN/DR7/FCRZ0/SI1913.PHN  \n",
            "  inflating: data/TRAIN/DR7/FCRZ0/SI1913.TXT  \n",
            "  inflating: data/TRAIN/DR7/FCRZ0/SI1913.WAV  \n",
            "  inflating: data/TRAIN/DR7/FCRZ0/SI1913.WAV.wav  \n",
            "  inflating: data/TRAIN/DR7/FCRZ0/SI1913.WRD  \n",
            "  inflating: data/TRAIN/DR7/FCRZ0/SI2053.PHN  \n",
            "  inflating: data/TRAIN/DR7/FCRZ0/SI2053.TXT  \n",
            "  inflating: data/TRAIN/DR7/FCRZ0/SI2053.WAV  \n",
            "  inflating: data/TRAIN/DR7/FCRZ0/SI2053.WAV.wav  \n",
            "  inflating: data/TRAIN/DR7/FCRZ0/SI2053.WRD  \n",
            "  inflating: data/TRAIN/DR7/FCRZ0/SI793.PHN  \n",
            "  inflating: data/TRAIN/DR7/FCRZ0/SI793.TXT  \n",
            "  inflating: data/TRAIN/DR7/FCRZ0/SI793.WAV  \n",
            "  inflating: data/TRAIN/DR7/FCRZ0/SI793.WAV.wav  \n",
            "  inflating: data/TRAIN/DR7/FCRZ0/SI793.WRD  \n",
            "  inflating: data/TRAIN/DR7/FCRZ0/SX163.PHN  \n",
            "  inflating: data/TRAIN/DR7/FCRZ0/SX163.TXT  \n",
            "  inflating: data/TRAIN/DR7/FCRZ0/SX163.WAV  \n",
            "  inflating: data/TRAIN/DR7/FCRZ0/SX163.WAV.wav  \n",
            "  inflating: data/TRAIN/DR7/FCRZ0/SX163.WRD  \n",
            "  inflating: data/TRAIN/DR7/FCRZ0/SX253.PHN  \n",
            "  inflating: data/TRAIN/DR7/FCRZ0/SX253.TXT  \n",
            "  inflating: data/TRAIN/DR7/FCRZ0/SX253.WAV  \n",
            "  inflating: data/TRAIN/DR7/FCRZ0/SX253.WAV.wav  \n",
            "  inflating: data/TRAIN/DR7/FCRZ0/SX253.WRD  \n",
            "  inflating: data/TRAIN/DR7/FCRZ0/SX343.PHN  \n",
            "  inflating: data/TRAIN/DR7/FCRZ0/SX343.TXT  \n",
            "  inflating: data/TRAIN/DR7/FCRZ0/SX343.WAV  \n",
            "  inflating: data/TRAIN/DR7/FCRZ0/SX343.WAV.wav  \n",
            "  inflating: data/TRAIN/DR7/FCRZ0/SX343.WRD  \n",
            "  inflating: data/TRAIN/DR7/FCRZ0/SX433.PHN  \n",
            "  inflating: data/TRAIN/DR7/FCRZ0/SX433.TXT  \n",
            "  inflating: data/TRAIN/DR7/FCRZ0/SX433.WAV  \n",
            "  inflating: data/TRAIN/DR7/FCRZ0/SX433.WAV.wav  \n",
            "  inflating: data/TRAIN/DR7/FCRZ0/SX433.WRD  \n",
            "  inflating: data/TRAIN/DR7/FCRZ0/SX73.PHN  \n",
            "  inflating: data/TRAIN/DR7/FCRZ0/SX73.TXT  \n",
            "  inflating: data/TRAIN/DR7/FCRZ0/SX73.WAV  \n",
            "  inflating: data/TRAIN/DR7/FCRZ0/SX73.WAV.wav  \n",
            "  inflating: data/TRAIN/DR7/FCRZ0/SX73.WRD  \n",
            "  inflating: data/TRAIN/DR7/FJEN0/SA1.PHN  \n",
            "  inflating: data/TRAIN/DR7/FJEN0/SA1.TXT  \n",
            "  inflating: data/TRAIN/DR7/FJEN0/SA1.WAV  \n",
            "  inflating: data/TRAIN/DR7/FJEN0/SA1.WAV.wav  \n",
            "  inflating: data/TRAIN/DR7/FJEN0/SA1.WRD  \n",
            "  inflating: data/TRAIN/DR7/FJEN0/SA2.PHN  \n",
            "  inflating: data/TRAIN/DR7/FJEN0/SA2.TXT  \n",
            "  inflating: data/TRAIN/DR7/FJEN0/SA2.WAV  \n",
            "  inflating: data/TRAIN/DR7/FJEN0/SA2.WAV.wav  \n",
            "  inflating: data/TRAIN/DR7/FJEN0/SA2.WRD  \n",
            "  inflating: data/TRAIN/DR7/FJEN0/SI1047.PHN  \n",
            "  inflating: data/TRAIN/DR7/FJEN0/SI1047.TXT  \n",
            "  inflating: data/TRAIN/DR7/FJEN0/SI1047.WAV  \n",
            "  inflating: data/TRAIN/DR7/FJEN0/SI1047.WAV.wav  \n",
            "  inflating: data/TRAIN/DR7/FJEN0/SI1047.WRD  \n",
            "  inflating: data/TRAIN/DR7/FJEN0/SI1677.PHN  \n",
            "  inflating: data/TRAIN/DR7/FJEN0/SI1677.TXT  \n",
            "  inflating: data/TRAIN/DR7/FJEN0/SI1677.WAV  \n",
            "  inflating: data/TRAIN/DR7/FJEN0/SI1677.WAV.wav  \n",
            "  inflating: data/TRAIN/DR7/FJEN0/SI1677.WRD  \n",
            "  inflating: data/TRAIN/DR7/FJEN0/SI2307.PHN  \n",
            "  inflating: data/TRAIN/DR7/FJEN0/SI2307.TXT  \n",
            "  inflating: data/TRAIN/DR7/FJEN0/SI2307.WAV  \n",
            "  inflating: data/TRAIN/DR7/FJEN0/SI2307.WAV.wav  \n",
            "  inflating: data/TRAIN/DR7/FJEN0/SI2307.WRD  \n",
            "  inflating: data/TRAIN/DR7/FJEN0/SX147.PHN  \n",
            "  inflating: data/TRAIN/DR7/FJEN0/SX147.TXT  \n",
            "  inflating: data/TRAIN/DR7/FJEN0/SX147.WAV  \n",
            "  inflating: data/TRAIN/DR7/FJEN0/SX147.WAV.wav  \n",
            "  inflating: data/TRAIN/DR7/FJEN0/SX147.WRD  \n",
            "  inflating: data/TRAIN/DR7/FJEN0/SX237.PHN  \n",
            "  inflating: data/TRAIN/DR7/FJEN0/SX237.TXT  \n",
            "  inflating: data/TRAIN/DR7/FJEN0/SX237.WAV  \n",
            "  inflating: data/TRAIN/DR7/FJEN0/SX237.WAV.wav  \n",
            "  inflating: data/TRAIN/DR7/FJEN0/SX237.WRD  \n",
            "  inflating: data/TRAIN/DR7/FJEN0/SX327.PHN  \n",
            "  inflating: data/TRAIN/DR7/FJEN0/SX327.TXT  \n",
            "  inflating: data/TRAIN/DR7/FJEN0/SX327.WAV  \n",
            "  inflating: data/TRAIN/DR7/FJEN0/SX327.WAV.wav  \n",
            "  inflating: data/TRAIN/DR7/FJEN0/SX327.WRD  \n",
            "  inflating: data/TRAIN/DR7/FJEN0/SX417.PHN  \n",
            "  inflating: data/TRAIN/DR7/FJEN0/SX417.TXT  \n",
            "  inflating: data/TRAIN/DR7/FJEN0/SX417.WAV  \n",
            "  inflating: data/TRAIN/DR7/FJEN0/SX417.WAV.wav  \n",
            "  inflating: data/TRAIN/DR7/FJEN0/SX417.WRD  \n",
            "  inflating: data/TRAIN/DR7/FJEN0/SX57.PHN  \n",
            "  inflating: data/TRAIN/DR7/FJEN0/SX57.TXT  \n",
            "  inflating: data/TRAIN/DR7/FJEN0/SX57.WAV  \n",
            "  inflating: data/TRAIN/DR7/FJEN0/SX57.WAV.wav  \n",
            "  inflating: data/TRAIN/DR7/FJEN0/SX57.WRD  \n",
            "  inflating: data/TRAIN/DR7/FJHK0/SA1.PHN  \n",
            "  inflating: data/TRAIN/DR7/FJHK0/SA1.TXT  \n",
            "  inflating: data/TRAIN/DR7/FJHK0/SA1.WAV  \n",
            "  inflating: data/TRAIN/DR7/FJHK0/SA1.WAV.wav  \n",
            "  inflating: data/TRAIN/DR7/FJHK0/SA1.WRD  \n",
            "  inflating: data/TRAIN/DR7/FJHK0/SA2.PHN  \n",
            "  inflating: data/TRAIN/DR7/FJHK0/SA2.TXT  \n",
            "  inflating: data/TRAIN/DR7/FJHK0/SA2.WAV  \n",
            "  inflating: data/TRAIN/DR7/FJHK0/SA2.WAV.wav  \n",
            "  inflating: data/TRAIN/DR7/FJHK0/SA2.WRD  \n",
            "  inflating: data/TRAIN/DR7/FJHK0/SI1022.PHN  \n",
            "  inflating: data/TRAIN/DR7/FJHK0/SI1022.TXT  \n",
            "  inflating: data/TRAIN/DR7/FJHK0/SI1022.WAV  \n",
            "  inflating: data/TRAIN/DR7/FJHK0/SI1022.WAV.wav  \n",
            "  inflating: data/TRAIN/DR7/FJHK0/SI1022.WRD  \n",
            "  inflating: data/TRAIN/DR7/FJHK0/SI1652.PHN  \n",
            "  inflating: data/TRAIN/DR7/FJHK0/SI1652.TXT  \n",
            "  inflating: data/TRAIN/DR7/FJHK0/SI1652.WAV  \n",
            "  inflating: data/TRAIN/DR7/FJHK0/SI1652.WAV.wav  \n",
            "  inflating: data/TRAIN/DR7/FJHK0/SI1652.WRD  \n",
            "  inflating: data/TRAIN/DR7/FJHK0/SI2282.PHN  \n",
            "  inflating: data/TRAIN/DR7/FJHK0/SI2282.TXT  \n",
            "  inflating: data/TRAIN/DR7/FJHK0/SI2282.WAV  \n",
            "  inflating: data/TRAIN/DR7/FJHK0/SI2282.WAV.wav  \n",
            "  inflating: data/TRAIN/DR7/FJHK0/SI2282.WRD  \n",
            "  inflating: data/TRAIN/DR7/FJHK0/SX122.PHN  \n",
            "  inflating: data/TRAIN/DR7/FJHK0/SX122.TXT  \n",
            "  inflating: data/TRAIN/DR7/FJHK0/SX122.WAV  \n",
            "  inflating: data/TRAIN/DR7/FJHK0/SX122.WAV.wav  \n",
            "  inflating: data/TRAIN/DR7/FJHK0/SX122.WRD  \n",
            "  inflating: data/TRAIN/DR7/FJHK0/SX212.PHN  \n",
            "  inflating: data/TRAIN/DR7/FJHK0/SX212.TXT  \n",
            "  inflating: data/TRAIN/DR7/FJHK0/SX212.WAV  \n",
            "  inflating: data/TRAIN/DR7/FJHK0/SX212.WAV.wav  \n",
            "  inflating: data/TRAIN/DR7/FJHK0/SX212.WRD  \n",
            "  inflating: data/TRAIN/DR7/FJHK0/SX302.PHN  \n",
            "  inflating: data/TRAIN/DR7/FJHK0/SX302.TXT  \n",
            "  inflating: data/TRAIN/DR7/FJHK0/SX302.WAV  \n",
            "  inflating: data/TRAIN/DR7/FJHK0/SX302.WAV.wav  \n",
            "  inflating: data/TRAIN/DR7/FJHK0/SX302.WRD  \n",
            "  inflating: data/TRAIN/DR7/FJHK0/SX32.PHN  \n",
            "  inflating: data/TRAIN/DR7/FJHK0/SX32.TXT  \n",
            "  inflating: data/TRAIN/DR7/FJHK0/SX32.WAV  \n",
            "  inflating: data/TRAIN/DR7/FJHK0/SX32.WAV.wav  \n",
            "  inflating: data/TRAIN/DR7/FJHK0/SX32.WRD  \n",
            "  inflating: data/TRAIN/DR7/FJHK0/SX392.PHN  \n",
            "  inflating: data/TRAIN/DR7/FJHK0/SX392.TXT  \n",
            "  inflating: data/TRAIN/DR7/FJHK0/SX392.WAV  \n",
            "  inflating: data/TRAIN/DR7/FJHK0/SX392.WAV.wav  \n",
            "  inflating: data/TRAIN/DR7/FJHK0/SX392.WRD  \n",
            "  inflating: data/TRAIN/DR7/FJRP1/SA1.PHN  \n",
            "  inflating: data/TRAIN/DR7/FJRP1/SA1.TXT  \n",
            "  inflating: data/TRAIN/DR7/FJRP1/SA1.WAV  \n",
            "  inflating: data/TRAIN/DR7/FJRP1/SA1.WAV.wav  \n",
            "  inflating: data/TRAIN/DR7/FJRP1/SA1.WRD  \n",
            "  inflating: data/TRAIN/DR7/FJRP1/SA2.PHN  \n",
            "  inflating: data/TRAIN/DR7/FJRP1/SA2.TXT  \n",
            "  inflating: data/TRAIN/DR7/FJRP1/SA2.WAV  \n",
            "  inflating: data/TRAIN/DR7/FJRP1/SA2.WAV.wav  \n",
            "  inflating: data/TRAIN/DR7/FJRP1/SA2.WRD  \n",
            "  inflating: data/TRAIN/DR7/FJRP1/SI1432.PHN  \n",
            "  inflating: data/TRAIN/DR7/FJRP1/SI1432.TXT  \n",
            "  inflating: data/TRAIN/DR7/FJRP1/SI1432.WAV  \n",
            "  inflating: data/TRAIN/DR7/FJRP1/SI1432.WAV.wav  \n",
            "  inflating: data/TRAIN/DR7/FJRP1/SI1432.WRD  \n",
            "  inflating: data/TRAIN/DR7/FJRP1/SI2062.PHN  \n",
            "  inflating: data/TRAIN/DR7/FJRP1/SI2062.TXT  \n",
            "  inflating: data/TRAIN/DR7/FJRP1/SI2062.WAV  \n",
            "  inflating: data/TRAIN/DR7/FJRP1/SI2062.WAV.wav  \n",
            "  inflating: data/TRAIN/DR7/FJRP1/SI2062.WRD  \n",
            "  inflating: data/TRAIN/DR7/FJRP1/SI802.PHN  \n",
            "  inflating: data/TRAIN/DR7/FJRP1/SI802.TXT  \n",
            "  inflating: data/TRAIN/DR7/FJRP1/SI802.WAV  \n",
            "  inflating: data/TRAIN/DR7/FJRP1/SI802.WAV.wav  \n",
            "  inflating: data/TRAIN/DR7/FJRP1/SI802.WRD  \n",
            "  inflating: data/TRAIN/DR7/FJRP1/SX172.PHN  \n",
            "  inflating: data/TRAIN/DR7/FJRP1/SX172.TXT  \n",
            "  inflating: data/TRAIN/DR7/FJRP1/SX172.WAV  \n",
            "  inflating: data/TRAIN/DR7/FJRP1/SX172.WAV.wav  \n",
            "  inflating: data/TRAIN/DR7/FJRP1/SX172.WRD  \n",
            "  inflating: data/TRAIN/DR7/FJRP1/SX262.PHN  \n",
            "  inflating: data/TRAIN/DR7/FJRP1/SX262.TXT  \n",
            "  inflating: data/TRAIN/DR7/FJRP1/SX262.WAV  \n",
            "  inflating: data/TRAIN/DR7/FJRP1/SX262.WAV.wav  \n",
            "  inflating: data/TRAIN/DR7/FJRP1/SX262.WRD  \n",
            "  inflating: data/TRAIN/DR7/FJRP1/SX352.PHN  \n",
            "  inflating: data/TRAIN/DR7/FJRP1/SX352.TXT  \n",
            "  inflating: data/TRAIN/DR7/FJRP1/SX352.WAV  \n",
            "  inflating: data/TRAIN/DR7/FJRP1/SX352.WAV.wav  \n",
            "  inflating: data/TRAIN/DR7/FJRP1/SX352.WRD  \n",
            "  inflating: data/TRAIN/DR7/FJRP1/SX442.PHN  \n",
            "  inflating: data/TRAIN/DR7/FJRP1/SX442.TXT  \n",
            "  inflating: data/TRAIN/DR7/FJRP1/SX442.WAV  \n",
            "  inflating: data/TRAIN/DR7/FJRP1/SX442.WAV.wav  \n",
            "  inflating: data/TRAIN/DR7/FJRP1/SX442.WRD  \n",
            "  inflating: data/TRAIN/DR7/FJRP1/SX82.PHN  \n",
            "  inflating: data/TRAIN/DR7/FJRP1/SX82.TXT  \n",
            "  inflating: data/TRAIN/DR7/FJRP1/SX82.WAV  \n",
            "  inflating: data/TRAIN/DR7/FJRP1/SX82.WAV.wav  \n",
            "  inflating: data/TRAIN/DR7/FJRP1/SX82.WRD  \n",
            "  inflating: data/TRAIN/DR7/FJSK0/SA1.PHN  \n",
            "  inflating: data/TRAIN/DR7/FJSK0/SA1.TXT  \n",
            "  inflating: data/TRAIN/DR7/FJSK0/SA1.WAV  \n",
            "  inflating: data/TRAIN/DR7/FJSK0/SA1.WAV.wav  \n",
            "  inflating: data/TRAIN/DR7/FJSK0/SA1.WRD  \n",
            "  inflating: data/TRAIN/DR7/FJSK0/SA2.PHN  \n",
            "  inflating: data/TRAIN/DR7/FJSK0/SA2.TXT  \n",
            "  inflating: data/TRAIN/DR7/FJSK0/SA2.WAV  \n",
            "  inflating: data/TRAIN/DR7/FJSK0/SA2.WAV.wav  \n",
            "  inflating: data/TRAIN/DR7/FJSK0/SA2.WRD  \n",
            "  inflating: data/TRAIN/DR7/FJSK0/SI1052.PHN  \n",
            "  inflating: data/TRAIN/DR7/FJSK0/SI1052.TXT  \n",
            "  inflating: data/TRAIN/DR7/FJSK0/SI1052.WAV  \n",
            "  inflating: data/TRAIN/DR7/FJSK0/SI1052.WAV.wav  \n",
            "  inflating: data/TRAIN/DR7/FJSK0/SI1052.WRD  \n",
            "  inflating: data/TRAIN/DR7/FJSK0/SI1682.PHN  \n",
            "  inflating: data/TRAIN/DR7/FJSK0/SI1682.TXT  \n",
            "  inflating: data/TRAIN/DR7/FJSK0/SI1682.WAV  \n",
            "  inflating: data/TRAIN/DR7/FJSK0/SI1682.WAV.wav  \n",
            "  inflating: data/TRAIN/DR7/FJSK0/SI1682.WRD  \n",
            "  inflating: data/TRAIN/DR7/FJSK0/SI2312.PHN  \n",
            "  inflating: data/TRAIN/DR7/FJSK0/SI2312.TXT  \n",
            "  inflating: data/TRAIN/DR7/FJSK0/SI2312.WAV  \n",
            "  inflating: data/TRAIN/DR7/FJSK0/SI2312.WAV.wav  \n",
            "  inflating: data/TRAIN/DR7/FJSK0/SI2312.WRD  \n",
            "  inflating: data/TRAIN/DR7/FJSK0/SX152.PHN  \n",
            "  inflating: data/TRAIN/DR7/FJSK0/SX152.TXT  \n",
            "  inflating: data/TRAIN/DR7/FJSK0/SX152.WAV  \n",
            "  inflating: data/TRAIN/DR7/FJSK0/SX152.WAV.wav  \n",
            "  inflating: data/TRAIN/DR7/FJSK0/SX152.WRD  \n",
            "  inflating: data/TRAIN/DR7/FJSK0/SX242.PHN  \n",
            "  inflating: data/TRAIN/DR7/FJSK0/SX242.TXT  \n",
            "  inflating: data/TRAIN/DR7/FJSK0/SX242.WAV  \n",
            "  inflating: data/TRAIN/DR7/FJSK0/SX242.WAV.wav  \n",
            "  inflating: data/TRAIN/DR7/FJSK0/SX242.WRD  \n",
            "  inflating: data/TRAIN/DR7/FJSK0/SX332.PHN  \n",
            "  inflating: data/TRAIN/DR7/FJSK0/SX332.TXT  \n",
            "  inflating: data/TRAIN/DR7/FJSK0/SX332.WAV  \n",
            "  inflating: data/TRAIN/DR7/FJSK0/SX332.WAV.wav  \n",
            "  inflating: data/TRAIN/DR7/FJSK0/SX332.WRD  \n",
            "  inflating: data/TRAIN/DR7/FJSK0/SX422.PHN  \n",
            "  inflating: data/TRAIN/DR7/FJSK0/SX422.TXT  \n",
            "  inflating: data/TRAIN/DR7/FJSK0/SX422.WAV  \n",
            "  inflating: data/TRAIN/DR7/FJSK0/SX422.WAV.wav  \n",
            "  inflating: data/TRAIN/DR7/FJSK0/SX422.WRD  \n",
            "  inflating: data/TRAIN/DR7/FJSK0/SX62.PHN  \n",
            "  inflating: data/TRAIN/DR7/FJSK0/SX62.TXT  \n",
            "  inflating: data/TRAIN/DR7/FJSK0/SX62.WAV  \n",
            "  inflating: data/TRAIN/DR7/FJSK0/SX62.WAV.wav  \n",
            "  inflating: data/TRAIN/DR7/FJSK0/SX62.WRD  \n",
            "  inflating: data/TRAIN/DR7/FKDE0/SA1.PHN  \n",
            "  inflating: data/TRAIN/DR7/FKDE0/SA1.TXT  \n",
            "  inflating: data/TRAIN/DR7/FKDE0/SA1.WAV  \n",
            "  inflating: data/TRAIN/DR7/FKDE0/SA1.WAV.wav  \n",
            "  inflating: data/TRAIN/DR7/FKDE0/SA1.WRD  \n",
            "  inflating: data/TRAIN/DR7/FKDE0/SA2.PHN  \n",
            "  inflating: data/TRAIN/DR7/FKDE0/SA2.TXT  \n",
            "  inflating: data/TRAIN/DR7/FKDE0/SA2.WAV  \n",
            "  inflating: data/TRAIN/DR7/FKDE0/SA2.WAV.wav  \n",
            "  inflating: data/TRAIN/DR7/FKDE0/SA2.WRD  \n",
            "  inflating: data/TRAIN/DR7/FKDE0/SI1141.PHN  \n",
            "  inflating: data/TRAIN/DR7/FKDE0/SI1141.TXT  \n",
            "  inflating: data/TRAIN/DR7/FKDE0/SI1141.WAV  \n",
            "  inflating: data/TRAIN/DR7/FKDE0/SI1141.WAV.wav  \n",
            "  inflating: data/TRAIN/DR7/FKDE0/SI1141.WRD  \n",
            "  inflating: data/TRAIN/DR7/FKDE0/SI1771.PHN  \n",
            "  inflating: data/TRAIN/DR7/FKDE0/SI1771.TXT  \n",
            "  inflating: data/TRAIN/DR7/FKDE0/SI1771.WAV  \n",
            "  inflating: data/TRAIN/DR7/FKDE0/SI1771.WAV.wav  \n",
            "  inflating: data/TRAIN/DR7/FKDE0/SI1771.WRD  \n",
            "  inflating: data/TRAIN/DR7/FKDE0/SI2221.PHN  \n",
            "  inflating: data/TRAIN/DR7/FKDE0/SI2221.TXT  \n",
            "  inflating: data/TRAIN/DR7/FKDE0/SI2221.WAV  \n",
            "  inflating: data/TRAIN/DR7/FKDE0/SI2221.WAV.wav  \n",
            "  inflating: data/TRAIN/DR7/FKDE0/SI2221.WRD  \n",
            "  inflating: data/TRAIN/DR7/FKDE0/SX151.PHN  \n",
            "  inflating: data/TRAIN/DR7/FKDE0/SX151.TXT  \n",
            "  inflating: data/TRAIN/DR7/FKDE0/SX151.WAV  \n",
            "  inflating: data/TRAIN/DR7/FKDE0/SX151.WAV.wav  \n",
            "  inflating: data/TRAIN/DR7/FKDE0/SX151.WRD  \n",
            "  inflating: data/TRAIN/DR7/FKDE0/SX241.PHN  \n",
            "  inflating: data/TRAIN/DR7/FKDE0/SX241.TXT  \n",
            "  inflating: data/TRAIN/DR7/FKDE0/SX241.WAV  \n",
            "  inflating: data/TRAIN/DR7/FKDE0/SX241.WAV.wav  \n",
            "  inflating: data/TRAIN/DR7/FKDE0/SX241.WRD  \n",
            "  inflating: data/TRAIN/DR7/FKDE0/SX331.PHN  \n",
            "  inflating: data/TRAIN/DR7/FKDE0/SX331.TXT  \n",
            "  inflating: data/TRAIN/DR7/FKDE0/SX331.WAV  \n",
            "  inflating: data/TRAIN/DR7/FKDE0/SX331.WAV.wav  \n",
            "  inflating: data/TRAIN/DR7/FKDE0/SX331.WRD  \n",
            "  inflating: data/TRAIN/DR7/FKDE0/SX421.PHN  \n",
            "  inflating: data/TRAIN/DR7/FKDE0/SX421.TXT  \n",
            "  inflating: data/TRAIN/DR7/FKDE0/SX421.WAV  \n",
            "  inflating: data/TRAIN/DR7/FKDE0/SX421.WAV.wav  \n",
            "  inflating: data/TRAIN/DR7/FKDE0/SX421.WRD  \n",
            "  inflating: data/TRAIN/DR7/FKDE0/SX61.PHN  \n",
            "  inflating: data/TRAIN/DR7/FKDE0/SX61.TXT  \n",
            "  inflating: data/TRAIN/DR7/FKDE0/SX61.WAV  \n",
            "  inflating: data/TRAIN/DR7/FKDE0/SX61.WAV.wav  \n",
            "  inflating: data/TRAIN/DR7/FKDE0/SX61.WRD  \n",
            "  inflating: data/TRAIN/DR7/FKSR0/SA1.PHN  \n",
            "  inflating: data/TRAIN/DR7/FKSR0/SA1.TXT  \n",
            "  inflating: data/TRAIN/DR7/FKSR0/SA1.WAV  \n",
            "  inflating: data/TRAIN/DR7/FKSR0/SA1.WAV.wav  \n",
            "  inflating: data/TRAIN/DR7/FKSR0/SA1.WRD  \n",
            "  inflating: data/TRAIN/DR7/FKSR0/SA2.PHN  \n",
            "  inflating: data/TRAIN/DR7/FKSR0/SA2.TXT  \n",
            "  inflating: data/TRAIN/DR7/FKSR0/SA2.WAV  \n",
            "  inflating: data/TRAIN/DR7/FKSR0/SA2.WAV.wav  \n",
            "  inflating: data/TRAIN/DR7/FKSR0/SA2.WRD  \n",
            "  inflating: data/TRAIN/DR7/FKSR0/SI1117.PHN  \n",
            "  inflating: data/TRAIN/DR7/FKSR0/SI1117.TXT  \n",
            "  inflating: data/TRAIN/DR7/FKSR0/SI1117.WAV  \n",
            "  inflating: data/TRAIN/DR7/FKSR0/SI1117.WAV.wav  \n",
            "  inflating: data/TRAIN/DR7/FKSR0/SI1117.WRD  \n",
            "  inflating: data/TRAIN/DR7/FKSR0/SI1747.PHN  \n",
            "  inflating: data/TRAIN/DR7/FKSR0/SI1747.TXT  \n",
            "  inflating: data/TRAIN/DR7/FKSR0/SI1747.WAV  \n",
            "  inflating: data/TRAIN/DR7/FKSR0/SI1747.WAV.wav  \n",
            "  inflating: data/TRAIN/DR7/FKSR0/SI1747.WRD  \n",
            "  inflating: data/TRAIN/DR7/FKSR0/SI487.PHN  \n",
            "  inflating: data/TRAIN/DR7/FKSR0/SI487.TXT  \n",
            "  inflating: data/TRAIN/DR7/FKSR0/SI487.WAV  \n",
            "  inflating: data/TRAIN/DR7/FKSR0/SI487.WAV.wav  \n",
            "  inflating: data/TRAIN/DR7/FKSR0/SI487.WRD  \n",
            "  inflating: data/TRAIN/DR7/FKSR0/SX161.PHN  \n",
            "  inflating: data/TRAIN/DR7/FKSR0/SX161.TXT  \n",
            "  inflating: data/TRAIN/DR7/FKSR0/SX161.WAV  \n",
            "  inflating: data/TRAIN/DR7/FKSR0/SX161.WAV.wav  \n",
            "  inflating: data/TRAIN/DR7/FKSR0/SX161.WRD  \n",
            "  inflating: data/TRAIN/DR7/FKSR0/SX217.PHN  \n",
            "  inflating: data/TRAIN/DR7/FKSR0/SX217.TXT  \n",
            "  inflating: data/TRAIN/DR7/FKSR0/SX217.WAV  \n",
            "  inflating: data/TRAIN/DR7/FKSR0/SX217.WAV.wav  \n",
            "  inflating: data/TRAIN/DR7/FKSR0/SX217.WRD  \n",
            "  inflating: data/TRAIN/DR7/FKSR0/SX366.PHN  \n",
            "  inflating: data/TRAIN/DR7/FKSR0/SX366.TXT  \n",
            "  inflating: data/TRAIN/DR7/FKSR0/SX366.WAV  \n",
            "  inflating: data/TRAIN/DR7/FKSR0/SX366.WAV.wav  \n",
            "  inflating: data/TRAIN/DR7/FKSR0/SX366.WRD  \n",
            "  inflating: data/TRAIN/DR7/FKSR0/SX37.PHN  \n",
            "  inflating: data/TRAIN/DR7/FKSR0/SX37.TXT  \n",
            "  inflating: data/TRAIN/DR7/FKSR0/SX37.WAV  \n",
            "  inflating: data/TRAIN/DR7/FKSR0/SX37.WAV.wav  \n",
            "  inflating: data/TRAIN/DR7/FKSR0/SX37.WRD  \n",
            "  inflating: data/TRAIN/DR7/FKSR0/SX397.PHN  \n",
            "  inflating: data/TRAIN/DR7/FKSR0/SX397.TXT  \n",
            "  inflating: data/TRAIN/DR7/FKSR0/SX397.WAV  \n",
            "  inflating: data/TRAIN/DR7/FKSR0/SX397.WAV.wav  \n",
            "  inflating: data/TRAIN/DR7/FKSR0/SX397.WRD  \n",
            "  inflating: data/TRAIN/DR7/FLEH0/SA1.PHN  \n",
            "  inflating: data/TRAIN/DR7/FLEH0/SA1.TXT  \n",
            "  inflating: data/TRAIN/DR7/FLEH0/SA1.WAV  \n",
            "  inflating: data/TRAIN/DR7/FLEH0/SA1.WAV.wav  \n",
            "  inflating: data/TRAIN/DR7/FLEH0/SA1.WRD  \n",
            "  inflating: data/TRAIN/DR7/FLEH0/SA2.PHN  \n",
            "  inflating: data/TRAIN/DR7/FLEH0/SA2.TXT  \n",
            "  inflating: data/TRAIN/DR7/FLEH0/SA2.WAV  \n",
            "  inflating: data/TRAIN/DR7/FLEH0/SA2.WAV.wav  \n",
            "  inflating: data/TRAIN/DR7/FLEH0/SA2.WRD  \n",
            "  inflating: data/TRAIN/DR7/FLEH0/SI1051.PHN  \n",
            "  inflating: data/TRAIN/DR7/FLEH0/SI1051.TXT  \n",
            "  inflating: data/TRAIN/DR7/FLEH0/SI1051.WAV  \n",
            "  inflating: data/TRAIN/DR7/FLEH0/SI1051.WAV.wav  \n",
            "  inflating: data/TRAIN/DR7/FLEH0/SI1051.WRD  \n",
            "  inflating: data/TRAIN/DR7/FLEH0/SI1681.PHN  \n",
            "  inflating: data/TRAIN/DR7/FLEH0/SI1681.TXT  \n",
            "  inflating: data/TRAIN/DR7/FLEH0/SI1681.WAV  \n",
            "  inflating: data/TRAIN/DR7/FLEH0/SI1681.WAV.wav  \n",
            "  inflating: data/TRAIN/DR7/FLEH0/SI1681.WRD  \n",
            "  inflating: data/TRAIN/DR7/FLEH0/SI2311.PHN  \n",
            "  inflating: data/TRAIN/DR7/FLEH0/SI2311.TXT  \n",
            "  inflating: data/TRAIN/DR7/FLEH0/SI2311.WAV  \n",
            "  inflating: data/TRAIN/DR7/FLEH0/SI2311.WAV.wav  \n",
            "  inflating: data/TRAIN/DR7/FLEH0/SI2311.WRD  \n",
            "  inflating: data/TRAIN/DR7/FLEH0/SX151.PHN  \n",
            "  inflating: data/TRAIN/DR7/FLEH0/SX151.TXT  \n",
            "  inflating: data/TRAIN/DR7/FLEH0/SX151.WAV  \n",
            "  inflating: data/TRAIN/DR7/FLEH0/SX151.WAV.wav  \n",
            "  inflating: data/TRAIN/DR7/FLEH0/SX151.WRD  \n",
            "  inflating: data/TRAIN/DR7/FLEH0/SX241.PHN  \n",
            "  inflating: data/TRAIN/DR7/FLEH0/SX241.TXT  \n",
            "  inflating: data/TRAIN/DR7/FLEH0/SX241.WAV  \n",
            "  inflating: data/TRAIN/DR7/FLEH0/SX241.WAV.wav  \n",
            "  inflating: data/TRAIN/DR7/FLEH0/SX241.WRD  \n",
            "  inflating: data/TRAIN/DR7/FLEH0/SX331.PHN  \n",
            "  inflating: data/TRAIN/DR7/FLEH0/SX331.TXT  \n",
            "  inflating: data/TRAIN/DR7/FLEH0/SX331.WAV  \n",
            "  inflating: data/TRAIN/DR7/FLEH0/SX331.WAV.wav  \n",
            "  inflating: data/TRAIN/DR7/FLEH0/SX331.WRD  \n",
            "  inflating: data/TRAIN/DR7/FLEH0/SX421.PHN  \n",
            "  inflating: data/TRAIN/DR7/FLEH0/SX421.TXT  \n",
            "  inflating: data/TRAIN/DR7/FLEH0/SX421.WAV  \n",
            "  inflating: data/TRAIN/DR7/FLEH0/SX421.WAV.wav  \n",
            "  inflating: data/TRAIN/DR7/FLEH0/SX421.WRD  \n",
            "  inflating: data/TRAIN/DR7/FLEH0/SX61.PHN  \n",
            "  inflating: data/TRAIN/DR7/FLEH0/SX61.TXT  \n",
            "  inflating: data/TRAIN/DR7/FLEH0/SX61.WAV  \n",
            "  inflating: data/TRAIN/DR7/FLEH0/SX61.WAV.wav  \n",
            "  inflating: data/TRAIN/DR7/FLEH0/SX61.WRD  \n",
            "  inflating: data/TRAIN/DR7/FLET0/SA1.PHN  \n",
            "  inflating: data/TRAIN/DR7/FLET0/SA1.TXT  \n",
            "  inflating: data/TRAIN/DR7/FLET0/SA1.WAV  \n",
            "  inflating: data/TRAIN/DR7/FLET0/SA1.WAV.wav  \n",
            "  inflating: data/TRAIN/DR7/FLET0/SA1.WRD  \n",
            "  inflating: data/TRAIN/DR7/FLET0/SA2.PHN  \n",
            "  inflating: data/TRAIN/DR7/FLET0/SA2.TXT  \n",
            "  inflating: data/TRAIN/DR7/FLET0/SA2.WAV  \n",
            "  inflating: data/TRAIN/DR7/FLET0/SA2.WAV.wav  \n",
            "  inflating: data/TRAIN/DR7/FLET0/SA2.WRD  \n",
            "  inflating: data/TRAIN/DR7/FLET0/SI1137.PHN  \n",
            "  inflating: data/TRAIN/DR7/FLET0/SI1137.TXT  \n",
            "  inflating: data/TRAIN/DR7/FLET0/SI1137.WAV  \n",
            "  inflating: data/TRAIN/DR7/FLET0/SI1137.WAV.wav  \n",
            "  inflating: data/TRAIN/DR7/FLET0/SI1137.WRD  \n",
            "  inflating: data/TRAIN/DR7/FLET0/SI1767.PHN  \n",
            "  inflating: data/TRAIN/DR7/FLET0/SI1767.TXT  \n",
            "  inflating: data/TRAIN/DR7/FLET0/SI1767.WAV  \n",
            "  inflating: data/TRAIN/DR7/FLET0/SI1767.WAV.wav  \n",
            "  inflating: data/TRAIN/DR7/FLET0/SI1767.WRD  \n",
            "  inflating: data/TRAIN/DR7/FLET0/SI507.PHN  \n",
            "  inflating: data/TRAIN/DR7/FLET0/SI507.TXT  \n",
            "  inflating: data/TRAIN/DR7/FLET0/SI507.WAV  \n",
            "  inflating: data/TRAIN/DR7/FLET0/SI507.WAV.wav  \n",
            "  inflating: data/TRAIN/DR7/FLET0/SI507.WRD  \n",
            "  inflating: data/TRAIN/DR7/FLET0/SX147.PHN  \n",
            "  inflating: data/TRAIN/DR7/FLET0/SX147.TXT  \n",
            "  inflating: data/TRAIN/DR7/FLET0/SX147.WAV  \n",
            "  inflating: data/TRAIN/DR7/FLET0/SX147.WAV.wav  \n",
            "  inflating: data/TRAIN/DR7/FLET0/SX147.WRD  \n",
            "  inflating: data/TRAIN/DR7/FLET0/SX237.PHN  \n",
            "  inflating: data/TRAIN/DR7/FLET0/SX237.TXT  \n",
            "  inflating: data/TRAIN/DR7/FLET0/SX237.WAV  \n",
            "  inflating: data/TRAIN/DR7/FLET0/SX237.WAV.wav  \n",
            "  inflating: data/TRAIN/DR7/FLET0/SX237.WRD  \n",
            "  inflating: data/TRAIN/DR7/FLET0/SX277.PHN  \n",
            "  inflating: data/TRAIN/DR7/FLET0/SX277.TXT  \n",
            "  inflating: data/TRAIN/DR7/FLET0/SX277.WAV  \n",
            "  inflating: data/TRAIN/DR7/FLET0/SX277.WAV.wav  \n",
            "  inflating: data/TRAIN/DR7/FLET0/SX277.WRD  \n",
            "  inflating: data/TRAIN/DR7/FLET0/SX417.PHN  \n",
            "  inflating: data/TRAIN/DR7/FLET0/SX417.TXT  \n",
            "  inflating: data/TRAIN/DR7/FLET0/SX417.WAV  \n",
            "  inflating: data/TRAIN/DR7/FLET0/SX417.WAV.wav  \n",
            "  inflating: data/TRAIN/DR7/FLET0/SX417.WRD  \n",
            "  inflating: data/TRAIN/DR7/FLET0/SX57.PHN  \n",
            "  inflating: data/TRAIN/DR7/FLET0/SX57.TXT  \n",
            "  inflating: data/TRAIN/DR7/FLET0/SX57.WAV  \n",
            "  inflating: data/TRAIN/DR7/FLET0/SX57.WAV.wav  \n",
            "  inflating: data/TRAIN/DR7/FLET0/SX57.WRD  \n",
            "  inflating: data/TRAIN/DR7/FMAH1/SA1.PHN  \n",
            "  inflating: data/TRAIN/DR7/FMAH1/SA1.TXT  \n",
            "  inflating: data/TRAIN/DR7/FMAH1/SA1.WAV  \n",
            "  inflating: data/TRAIN/DR7/FMAH1/SA1.WAV.wav  \n",
            "  inflating: data/TRAIN/DR7/FMAH1/SA1.WRD  \n",
            "  inflating: data/TRAIN/DR7/FMAH1/SA2.PHN  \n",
            "  inflating: data/TRAIN/DR7/FMAH1/SA2.TXT  \n",
            "  inflating: data/TRAIN/DR7/FMAH1/SA2.WAV  \n",
            "  inflating: data/TRAIN/DR7/FMAH1/SA2.WAV.wav  \n",
            "  inflating: data/TRAIN/DR7/FMAH1/SA2.WRD  \n",
            "  inflating: data/TRAIN/DR7/FMAH1/SI1509.PHN  \n",
            "  inflating: data/TRAIN/DR7/FMAH1/SI1509.TXT  \n",
            "  inflating: data/TRAIN/DR7/FMAH1/SI1509.WAV  \n",
            "  inflating: data/TRAIN/DR7/FMAH1/SI1509.WAV.wav  \n",
            "  inflating: data/TRAIN/DR7/FMAH1/SI1509.WRD  \n",
            "  inflating: data/TRAIN/DR7/FMAH1/SI2139.PHN  \n",
            "  inflating: data/TRAIN/DR7/FMAH1/SI2139.TXT  \n",
            "  inflating: data/TRAIN/DR7/FMAH1/SI2139.WAV  \n",
            "  inflating: data/TRAIN/DR7/FMAH1/SI2139.WAV.wav  \n",
            "  inflating: data/TRAIN/DR7/FMAH1/SI2139.WRD  \n",
            "  inflating: data/TRAIN/DR7/FMAH1/SI879.PHN  \n",
            "  inflating: data/TRAIN/DR7/FMAH1/SI879.TXT  \n",
            "  inflating: data/TRAIN/DR7/FMAH1/SI879.WAV  \n",
            "  inflating: data/TRAIN/DR7/FMAH1/SI879.WAV.wav  \n",
            "  inflating: data/TRAIN/DR7/FMAH1/SI879.WRD  \n",
            "  inflating: data/TRAIN/DR7/FMAH1/SX159.PHN  \n",
            "  inflating: data/TRAIN/DR7/FMAH1/SX159.TXT  \n",
            "  inflating: data/TRAIN/DR7/FMAH1/SX159.WAV  \n",
            "  inflating: data/TRAIN/DR7/FMAH1/SX159.WAV.wav  \n",
            "  inflating: data/TRAIN/DR7/FMAH1/SX159.WRD  \n",
            "  inflating: data/TRAIN/DR7/FMAH1/SX249.PHN  \n",
            "  inflating: data/TRAIN/DR7/FMAH1/SX249.TXT  \n",
            "  inflating: data/TRAIN/DR7/FMAH1/SX249.WAV  \n",
            "  inflating: data/TRAIN/DR7/FMAH1/SX249.WAV.wav  \n",
            "  inflating: data/TRAIN/DR7/FMAH1/SX249.WRD  \n",
            "  inflating: data/TRAIN/DR7/FMAH1/SX339.PHN  \n",
            "  inflating: data/TRAIN/DR7/FMAH1/SX339.TXT  \n",
            "  inflating: data/TRAIN/DR7/FMAH1/SX339.WAV  \n",
            "  inflating: data/TRAIN/DR7/FMAH1/SX339.WAV.wav  \n",
            "  inflating: data/TRAIN/DR7/FMAH1/SX339.WRD  \n",
            "  inflating: data/TRAIN/DR7/FMAH1/SX429.PHN  \n",
            "  inflating: data/TRAIN/DR7/FMAH1/SX429.TXT  \n",
            "  inflating: data/TRAIN/DR7/FMAH1/SX429.WAV  \n",
            "  inflating: data/TRAIN/DR7/FMAH1/SX429.WAV.wav  \n",
            "  inflating: data/TRAIN/DR7/FMAH1/SX429.WRD  \n",
            "  inflating: data/TRAIN/DR7/FMAH1/SX69.PHN  \n",
            "  inflating: data/TRAIN/DR7/FMAH1/SX69.TXT  \n",
            "  inflating: data/TRAIN/DR7/FMAH1/SX69.WAV  \n",
            "  inflating: data/TRAIN/DR7/FMAH1/SX69.WAV.wav  \n",
            "  inflating: data/TRAIN/DR7/FMAH1/SX69.WRD  \n",
            "  inflating: data/TRAIN/DR7/FMKC0/SA1.PHN  \n",
            "  inflating: data/TRAIN/DR7/FMKC0/SA1.TXT  \n",
            "  inflating: data/TRAIN/DR7/FMKC0/SA1.WAV  \n",
            "  inflating: data/TRAIN/DR7/FMKC0/SA1.WAV.wav  \n",
            "  inflating: data/TRAIN/DR7/FMKC0/SA1.WRD  \n",
            "  inflating: data/TRAIN/DR7/FMKC0/SA2.PHN  \n",
            "  inflating: data/TRAIN/DR7/FMKC0/SA2.TXT  \n",
            "  inflating: data/TRAIN/DR7/FMKC0/SA2.WAV  \n",
            "  inflating: data/TRAIN/DR7/FMKC0/SA2.WAV.wav  \n",
            "  inflating: data/TRAIN/DR7/FMKC0/SA2.WRD  \n",
            "  inflating: data/TRAIN/DR7/FMKC0/SI1041.PHN  \n",
            "  inflating: data/TRAIN/DR7/FMKC0/SI1041.TXT  \n",
            "  inflating: data/TRAIN/DR7/FMKC0/SI1041.WAV  \n",
            "  inflating: data/TRAIN/DR7/FMKC0/SI1041.WAV.wav  \n",
            "  inflating: data/TRAIN/DR7/FMKC0/SI1041.WRD  \n",
            "  inflating: data/TRAIN/DR7/FMKC0/SI1072.PHN  \n",
            "  inflating: data/TRAIN/DR7/FMKC0/SI1072.TXT  \n",
            "  inflating: data/TRAIN/DR7/FMKC0/SI1072.WAV  \n",
            "  inflating: data/TRAIN/DR7/FMKC0/SI1072.WAV.wav  \n",
            "  inflating: data/TRAIN/DR7/FMKC0/SI1072.WRD  \n",
            "  inflating: data/TRAIN/DR7/FMKC0/SI1702.PHN  \n",
            "  inflating: data/TRAIN/DR7/FMKC0/SI1702.TXT  \n",
            "  inflating: data/TRAIN/DR7/FMKC0/SI1702.WAV  \n",
            "  inflating: data/TRAIN/DR7/FMKC0/SI1702.WAV.wav  \n",
            "  inflating: data/TRAIN/DR7/FMKC0/SI1702.WRD  \n",
            "  inflating: data/TRAIN/DR7/FMKC0/SX172.PHN  \n",
            "  inflating: data/TRAIN/DR7/FMKC0/SX172.TXT  \n",
            "  inflating: data/TRAIN/DR7/FMKC0/SX172.WAV  \n",
            "  inflating: data/TRAIN/DR7/FMKC0/SX172.WAV.wav  \n",
            "  inflating: data/TRAIN/DR7/FMKC0/SX172.WRD  \n",
            "  inflating: data/TRAIN/DR7/FMKC0/SX262.PHN  \n",
            "  inflating: data/TRAIN/DR7/FMKC0/SX262.TXT  \n",
            "  inflating: data/TRAIN/DR7/FMKC0/SX262.WAV  \n",
            "  inflating: data/TRAIN/DR7/FMKC0/SX262.WAV.wav  \n",
            "  inflating: data/TRAIN/DR7/FMKC0/SX262.WRD  \n",
            "  inflating: data/TRAIN/DR7/FMKC0/SX352.PHN  \n",
            "  inflating: data/TRAIN/DR7/FMKC0/SX352.TXT  \n",
            "  inflating: data/TRAIN/DR7/FMKC0/SX352.WAV  \n",
            "  inflating: data/TRAIN/DR7/FMKC0/SX352.WAV.wav  \n",
            "  inflating: data/TRAIN/DR7/FMKC0/SX352.WRD  \n",
            "  inflating: data/TRAIN/DR7/FMKC0/SX442.PHN  \n",
            "  inflating: data/TRAIN/DR7/FMKC0/SX442.TXT  \n",
            "  inflating: data/TRAIN/DR7/FMKC0/SX442.WAV  \n",
            "  inflating: data/TRAIN/DR7/FMKC0/SX442.WAV.wav  \n",
            "  inflating: data/TRAIN/DR7/FMKC0/SX442.WRD  \n",
            "  inflating: data/TRAIN/DR7/FMKC0/SX82.PHN  \n",
            "  inflating: data/TRAIN/DR7/FMKC0/SX82.TXT  \n",
            "  inflating: data/TRAIN/DR7/FMKC0/SX82.WAV  \n",
            "  inflating: data/TRAIN/DR7/FMKC0/SX82.WAV.wav  \n",
            "  inflating: data/TRAIN/DR7/FMKC0/SX82.WRD  \n",
            "  inflating: data/TRAIN/DR7/FPAB1/SA1.PHN  \n",
            "  inflating: data/TRAIN/DR7/FPAB1/SA1.TXT  \n",
            "  inflating: data/TRAIN/DR7/FPAB1/SA1.WAV  \n",
            "  inflating: data/TRAIN/DR7/FPAB1/SA1.WAV.wav  \n",
            "  inflating: data/TRAIN/DR7/FPAB1/SA1.WRD  \n",
            "  inflating: data/TRAIN/DR7/FPAB1/SA2.PHN  \n",
            "  inflating: data/TRAIN/DR7/FPAB1/SA2.TXT  \n",
            "  inflating: data/TRAIN/DR7/FPAB1/SA2.WAV  \n",
            "  inflating: data/TRAIN/DR7/FPAB1/SA2.WAV.wav  \n",
            "  inflating: data/TRAIN/DR7/FPAB1/SA2.WRD  \n",
            "  inflating: data/TRAIN/DR7/FPAB1/SI1471.PHN  \n",
            "  inflating: data/TRAIN/DR7/FPAB1/SI1471.TXT  \n",
            "  inflating: data/TRAIN/DR7/FPAB1/SI1471.WAV  \n",
            "  inflating: data/TRAIN/DR7/FPAB1/SI1471.WAV.wav  \n",
            "  inflating: data/TRAIN/DR7/FPAB1/SI1471.WRD  \n",
            "  inflating: data/TRAIN/DR7/FPAB1/SI2101.PHN  \n",
            "  inflating: data/TRAIN/DR7/FPAB1/SI2101.TXT  \n",
            "  inflating: data/TRAIN/DR7/FPAB1/SI2101.WAV  \n",
            "  inflating: data/TRAIN/DR7/FPAB1/SI2101.WAV.wav  \n",
            "  inflating: data/TRAIN/DR7/FPAB1/SI2101.WRD  \n",
            "  inflating: data/TRAIN/DR7/FPAB1/SI841.PHN  \n",
            "  inflating: data/TRAIN/DR7/FPAB1/SI841.TXT  \n",
            "  inflating: data/TRAIN/DR7/FPAB1/SI841.WAV  \n",
            "  inflating: data/TRAIN/DR7/FPAB1/SI841.WAV.wav  \n",
            "  inflating: data/TRAIN/DR7/FPAB1/SI841.WRD  \n",
            "  inflating: data/TRAIN/DR7/FPAB1/SX121.PHN  \n",
            "  inflating: data/TRAIN/DR7/FPAB1/SX121.TXT  \n",
            "  inflating: data/TRAIN/DR7/FPAB1/SX121.WAV  \n",
            "  inflating: data/TRAIN/DR7/FPAB1/SX121.WAV.wav  \n",
            "  inflating: data/TRAIN/DR7/FPAB1/SX121.WRD  \n",
            "  inflating: data/TRAIN/DR7/FPAB1/SX211.PHN  \n",
            "  inflating: data/TRAIN/DR7/FPAB1/SX211.TXT  \n",
            "  inflating: data/TRAIN/DR7/FPAB1/SX211.WAV  \n",
            "  inflating: data/TRAIN/DR7/FPAB1/SX211.WAV.wav  \n",
            "  inflating: data/TRAIN/DR7/FPAB1/SX211.WRD  \n",
            "  inflating: data/TRAIN/DR7/FPAB1/SX301.PHN  \n",
            "  inflating: data/TRAIN/DR7/FPAB1/SX301.TXT  \n",
            "  inflating: data/TRAIN/DR7/FPAB1/SX301.WAV  \n",
            "  inflating: data/TRAIN/DR7/FPAB1/SX301.WAV.wav  \n",
            "  inflating: data/TRAIN/DR7/FPAB1/SX301.WRD  \n",
            "  inflating: data/TRAIN/DR7/FPAB1/SX31.PHN  \n",
            "  inflating: data/TRAIN/DR7/FPAB1/SX31.TXT  \n",
            "  inflating: data/TRAIN/DR7/FPAB1/SX31.WAV  \n",
            "  inflating: data/TRAIN/DR7/FPAB1/SX31.WAV.wav  \n",
            "  inflating: data/TRAIN/DR7/FPAB1/SX31.WRD  \n",
            "  inflating: data/TRAIN/DR7/FPAB1/SX391.PHN  \n",
            "  inflating: data/TRAIN/DR7/FPAB1/SX391.TXT  \n",
            "  inflating: data/TRAIN/DR7/FPAB1/SX391.WAV  \n",
            "  inflating: data/TRAIN/DR7/FPAB1/SX391.WAV.wav  \n",
            "  inflating: data/TRAIN/DR7/FPAB1/SX391.WRD  \n",
            "  inflating: data/TRAIN/DR7/FPAC0/SA1.PHN  \n",
            "  inflating: data/TRAIN/DR7/FPAC0/SA1.TXT  \n",
            "  inflating: data/TRAIN/DR7/FPAC0/SA1.WAV  \n",
            "  inflating: data/TRAIN/DR7/FPAC0/SA1.WAV.wav  \n",
            "  inflating: data/TRAIN/DR7/FPAC0/SA1.WRD  \n",
            "  inflating: data/TRAIN/DR7/FPAC0/SA2.PHN  \n",
            "  inflating: data/TRAIN/DR7/FPAC0/SA2.TXT  \n",
            "  inflating: data/TRAIN/DR7/FPAC0/SA2.WAV  \n",
            "  inflating: data/TRAIN/DR7/FPAC0/SA2.WAV.wav  \n",
            "  inflating: data/TRAIN/DR7/FPAC0/SA2.WRD  \n",
            "  inflating: data/TRAIN/DR7/FPAC0/SI1921.PHN  \n",
            "  inflating: data/TRAIN/DR7/FPAC0/SI1921.TXT  \n",
            "  inflating: data/TRAIN/DR7/FPAC0/SI1921.WAV  \n",
            "  inflating: data/TRAIN/DR7/FPAC0/SI1921.WAV.wav  \n",
            "  inflating: data/TRAIN/DR7/FPAC0/SI1921.WRD  \n",
            "  inflating: data/TRAIN/DR7/FPAC0/SI2011.PHN  \n",
            "  inflating: data/TRAIN/DR7/FPAC0/SI2011.TXT  \n",
            "  inflating: data/TRAIN/DR7/FPAC0/SI2011.WAV  \n",
            "  inflating: data/TRAIN/DR7/FPAC0/SI2011.WAV.wav  \n",
            "  inflating: data/TRAIN/DR7/FPAC0/SI2011.WRD  \n",
            "  inflating: data/TRAIN/DR7/FPAC0/SI661.PHN  \n",
            "  inflating: data/TRAIN/DR7/FPAC0/SI661.TXT  \n",
            "  inflating: data/TRAIN/DR7/FPAC0/SI661.WAV  \n",
            "  inflating: data/TRAIN/DR7/FPAC0/SI661.WAV.wav  \n",
            "  inflating: data/TRAIN/DR7/FPAC0/SI661.WRD  \n",
            "  inflating: data/TRAIN/DR7/FPAC0/SX121.PHN  \n",
            "  inflating: data/TRAIN/DR7/FPAC0/SX121.TXT  \n",
            "  inflating: data/TRAIN/DR7/FPAC0/SX121.WAV  \n",
            "  inflating: data/TRAIN/DR7/FPAC0/SX121.WAV.wav  \n",
            "  inflating: data/TRAIN/DR7/FPAC0/SX121.WRD  \n",
            "  inflating: data/TRAIN/DR7/FPAC0/SX211.PHN  \n",
            "  inflating: data/TRAIN/DR7/FPAC0/SX211.TXT  \n",
            "  inflating: data/TRAIN/DR7/FPAC0/SX211.WAV  \n",
            "  inflating: data/TRAIN/DR7/FPAC0/SX211.WAV.wav  \n",
            "  inflating: data/TRAIN/DR7/FPAC0/SX211.WRD  \n",
            "  inflating: data/TRAIN/DR7/FPAC0/SX301.PHN  \n",
            "  inflating: data/TRAIN/DR7/FPAC0/SX301.TXT  \n",
            "  inflating: data/TRAIN/DR7/FPAC0/SX301.WAV  \n",
            "  inflating: data/TRAIN/DR7/FPAC0/SX301.WAV.wav  \n",
            "  inflating: data/TRAIN/DR7/FPAC0/SX301.WRD  \n",
            "  inflating: data/TRAIN/DR7/FPAC0/SX31.PHN  \n",
            "  inflating: data/TRAIN/DR7/FPAC0/SX31.TXT  \n",
            "  inflating: data/TRAIN/DR7/FPAC0/SX31.WAV  \n",
            "  inflating: data/TRAIN/DR7/FPAC0/SX31.WAV.wav  \n",
            "  inflating: data/TRAIN/DR7/FPAC0/SX31.WRD  \n",
            "  inflating: data/TRAIN/DR7/FPAC0/SX391.PHN  \n",
            "  inflating: data/TRAIN/DR7/FPAC0/SX391.TXT  \n",
            "  inflating: data/TRAIN/DR7/FPAC0/SX391.WAV  \n",
            "  inflating: data/TRAIN/DR7/FPAC0/SX391.WAV.wav  \n",
            "  inflating: data/TRAIN/DR7/FPAC0/SX391.WRD  \n",
            "  inflating: data/TRAIN/DR7/FREH0/SA1.PHN  \n",
            "  inflating: data/TRAIN/DR7/FREH0/SA1.TXT  \n",
            "  inflating: data/TRAIN/DR7/FREH0/SA1.WAV  \n",
            "  inflating: data/TRAIN/DR7/FREH0/SA1.WAV.wav  \n",
            "  inflating: data/TRAIN/DR7/FREH0/SA1.WRD  \n",
            "  inflating: data/TRAIN/DR7/FREH0/SA2.PHN  \n",
            "  inflating: data/TRAIN/DR7/FREH0/SA2.TXT  \n",
            "  inflating: data/TRAIN/DR7/FREH0/SA2.WAV  \n",
            "  inflating: data/TRAIN/DR7/FREH0/SA2.WAV.wav  \n",
            "  inflating: data/TRAIN/DR7/FREH0/SA2.WRD  \n",
            "  inflating: data/TRAIN/DR7/FREH0/SI1315.PHN  \n",
            "  inflating: data/TRAIN/DR7/FREH0/SI1315.TXT  \n",
            "  inflating: data/TRAIN/DR7/FREH0/SI1315.WAV  \n",
            "  inflating: data/TRAIN/DR7/FREH0/SI1315.WAV.wav  \n",
            "  inflating: data/TRAIN/DR7/FREH0/SI1315.WRD  \n",
            "  inflating: data/TRAIN/DR7/FREH0/SI1945.PHN  \n",
            "  inflating: data/TRAIN/DR7/FREH0/SI1945.TXT  \n",
            "  inflating: data/TRAIN/DR7/FREH0/SI1945.WAV  \n",
            "  inflating: data/TRAIN/DR7/FREH0/SI1945.WAV.wav  \n",
            "  inflating: data/TRAIN/DR7/FREH0/SI1945.WRD  \n",
            "  inflating: data/TRAIN/DR7/FREH0/SI685.PHN  \n",
            "  inflating: data/TRAIN/DR7/FREH0/SI685.TXT  \n",
            "  inflating: data/TRAIN/DR7/FREH0/SI685.WAV  \n",
            "  inflating: data/TRAIN/DR7/FREH0/SI685.WAV.wav  \n",
            "  inflating: data/TRAIN/DR7/FREH0/SI685.WRD  \n",
            "  inflating: data/TRAIN/DR7/FREH0/SX145.PHN  \n",
            "  inflating: data/TRAIN/DR7/FREH0/SX145.TXT  \n",
            "  inflating: data/TRAIN/DR7/FREH0/SX145.WAV  \n",
            "  inflating: data/TRAIN/DR7/FREH0/SX145.WAV.wav  \n",
            "  inflating: data/TRAIN/DR7/FREH0/SX145.WRD  \n",
            "  inflating: data/TRAIN/DR7/FREH0/SX235.PHN  \n",
            "  inflating: data/TRAIN/DR7/FREH0/SX235.TXT  \n",
            "  inflating: data/TRAIN/DR7/FREH0/SX235.WAV  \n",
            "  inflating: data/TRAIN/DR7/FREH0/SX235.WAV.wav  \n",
            "  inflating: data/TRAIN/DR7/FREH0/SX235.WRD  \n",
            "  inflating: data/TRAIN/DR7/FREH0/SX325.PHN  \n",
            "  inflating: data/TRAIN/DR7/FREH0/SX325.TXT  \n",
            "  inflating: data/TRAIN/DR7/FREH0/SX325.WAV  \n",
            "  inflating: data/TRAIN/DR7/FREH0/SX325.WAV.wav  \n",
            "  inflating: data/TRAIN/DR7/FREH0/SX325.WRD  \n",
            "  inflating: data/TRAIN/DR7/FREH0/SX415.PHN  \n",
            "  inflating: data/TRAIN/DR7/FREH0/SX415.TXT  \n",
            "  inflating: data/TRAIN/DR7/FREH0/SX415.WAV  \n",
            "  inflating: data/TRAIN/DR7/FREH0/SX415.WAV.wav  \n",
            "  inflating: data/TRAIN/DR7/FREH0/SX415.WRD  \n",
            "  inflating: data/TRAIN/DR7/FREH0/SX55.PHN  \n",
            "  inflating: data/TRAIN/DR7/FREH0/SX55.TXT  \n",
            "  inflating: data/TRAIN/DR7/FREH0/SX55.WAV  \n",
            "  inflating: data/TRAIN/DR7/FREH0/SX55.WAV.wav  \n",
            "  inflating: data/TRAIN/DR7/FREH0/SX55.WRD  \n",
            "  inflating: data/TRAIN/DR7/FSPM0/SA1.PHN  \n",
            "  inflating: data/TRAIN/DR7/FSPM0/SA1.TXT  \n",
            "  inflating: data/TRAIN/DR7/FSPM0/SA1.WAV  \n",
            "  inflating: data/TRAIN/DR7/FSPM0/SA1.WAV.wav  \n",
            "  inflating: data/TRAIN/DR7/FSPM0/SA1.WRD  \n",
            "  inflating: data/TRAIN/DR7/FSPM0/SA2.PHN  \n",
            "  inflating: data/TRAIN/DR7/FSPM0/SA2.TXT  \n",
            "  inflating: data/TRAIN/DR7/FSPM0/SA2.WAV  \n",
            "  inflating: data/TRAIN/DR7/FSPM0/SA2.WAV.wav  \n",
            "  inflating: data/TRAIN/DR7/FSPM0/SA2.WRD  \n",
            "  inflating: data/TRAIN/DR7/FSPM0/SI1241.PHN  \n",
            "  inflating: data/TRAIN/DR7/FSPM0/SI1241.TXT  \n",
            "  inflating: data/TRAIN/DR7/FSPM0/SI1241.WAV  \n",
            "  inflating: data/TRAIN/DR7/FSPM0/SI1241.WAV.wav  \n",
            "  inflating: data/TRAIN/DR7/FSPM0/SI1241.WRD  \n",
            "  inflating: data/TRAIN/DR7/FSPM0/SI1871.PHN  \n",
            "  inflating: data/TRAIN/DR7/FSPM0/SI1871.TXT  \n",
            "  inflating: data/TRAIN/DR7/FSPM0/SI1871.WAV  \n",
            "  inflating: data/TRAIN/DR7/FSPM0/SI1871.WAV.wav  \n",
            "  inflating: data/TRAIN/DR7/FSPM0/SI1871.WRD  \n",
            "  inflating: data/TRAIN/DR7/FSPM0/SI611.PHN  \n",
            "  inflating: data/TRAIN/DR7/FSPM0/SI611.TXT  \n",
            "  inflating: data/TRAIN/DR7/FSPM0/SI611.WAV  \n",
            "  inflating: data/TRAIN/DR7/FSPM0/SI611.WAV.wav  \n",
            "  inflating: data/TRAIN/DR7/FSPM0/SI611.WRD  \n",
            "  inflating: data/TRAIN/DR7/FSPM0/SX161.PHN  \n",
            "  inflating: data/TRAIN/DR7/FSPM0/SX161.TXT  \n",
            "  inflating: data/TRAIN/DR7/FSPM0/SX161.WAV  \n",
            "  inflating: data/TRAIN/DR7/FSPM0/SX161.WAV.wav  \n",
            "  inflating: data/TRAIN/DR7/FSPM0/SX161.WRD  \n",
            "  inflating: data/TRAIN/DR7/FSPM0/SX251.PHN  \n",
            "  inflating: data/TRAIN/DR7/FSPM0/SX251.TXT  \n",
            "  inflating: data/TRAIN/DR7/FSPM0/SX251.WAV  \n",
            "  inflating: data/TRAIN/DR7/FSPM0/SX251.WAV.wav  \n",
            "  inflating: data/TRAIN/DR7/FSPM0/SX251.WRD  \n",
            "  inflating: data/TRAIN/DR7/FSPM0/SX341.PHN  \n",
            "  inflating: data/TRAIN/DR7/FSPM0/SX341.TXT  \n",
            "  inflating: data/TRAIN/DR7/FSPM0/SX341.WAV  \n",
            "  inflating: data/TRAIN/DR7/FSPM0/SX341.WAV.wav  \n",
            "  inflating: data/TRAIN/DR7/FSPM0/SX341.WRD  \n",
            "  inflating: data/TRAIN/DR7/FSPM0/SX431.PHN  \n",
            "  inflating: data/TRAIN/DR7/FSPM0/SX431.TXT  \n",
            "  inflating: data/TRAIN/DR7/FSPM0/SX431.WAV  \n",
            "  inflating: data/TRAIN/DR7/FSPM0/SX431.WAV.wav  \n",
            "  inflating: data/TRAIN/DR7/FSPM0/SX431.WRD  \n",
            "  inflating: data/TRAIN/DR7/FSPM0/SX71.PHN  \n",
            "  inflating: data/TRAIN/DR7/FSPM0/SX71.TXT  \n",
            "  inflating: data/TRAIN/DR7/FSPM0/SX71.WAV  \n",
            "  inflating: data/TRAIN/DR7/FSPM0/SX71.WAV.wav  \n",
            "  inflating: data/TRAIN/DR7/FSPM0/SX71.WRD  \n",
            "  inflating: data/TRAIN/DR7/FVKB0/SA1.PHN  \n",
            "  inflating: data/TRAIN/DR7/FVKB0/SA1.TXT  \n",
            "  inflating: data/TRAIN/DR7/FVKB0/SA1.WAV  \n",
            "  inflating: data/TRAIN/DR7/FVKB0/SA1.WAV.wav  \n",
            "  inflating: data/TRAIN/DR7/FVKB0/SA1.WRD  \n",
            "  inflating: data/TRAIN/DR7/FVKB0/SA2.PHN  \n",
            "  inflating: data/TRAIN/DR7/FVKB0/SA2.TXT  \n",
            "  inflating: data/TRAIN/DR7/FVKB0/SA2.WAV  \n",
            "  inflating: data/TRAIN/DR7/FVKB0/SA2.WAV.wav  \n",
            "  inflating: data/TRAIN/DR7/FVKB0/SA2.WRD  \n",
            "  inflating: data/TRAIN/DR7/FVKB0/SI1159.PHN  \n",
            "  inflating: data/TRAIN/DR7/FVKB0/SI1159.TXT  \n",
            "  inflating: data/TRAIN/DR7/FVKB0/SI1159.WAV  \n",
            "  inflating: data/TRAIN/DR7/FVKB0/SI1159.WAV.wav  \n",
            "  inflating: data/TRAIN/DR7/FVKB0/SI1159.WRD  \n",
            "  inflating: data/TRAIN/DR7/FVKB0/SI1789.PHN  \n",
            "  inflating: data/TRAIN/DR7/FVKB0/SI1789.TXT  \n",
            "  inflating: data/TRAIN/DR7/FVKB0/SI1789.WAV  \n",
            "  inflating: data/TRAIN/DR7/FVKB0/SI1789.WAV.wav  \n",
            "  inflating: data/TRAIN/DR7/FVKB0/SI1789.WRD  \n",
            "  inflating: data/TRAIN/DR7/FVKB0/SI529.PHN  \n",
            "  inflating: data/TRAIN/DR7/FVKB0/SI529.TXT  \n",
            "  inflating: data/TRAIN/DR7/FVKB0/SI529.WAV  \n",
            "  inflating: data/TRAIN/DR7/FVKB0/SI529.WAV.wav  \n",
            "  inflating: data/TRAIN/DR7/FVKB0/SI529.WRD  \n",
            "  inflating: data/TRAIN/DR7/FVKB0/SX169.PHN  \n",
            "  inflating: data/TRAIN/DR7/FVKB0/SX169.TXT  \n",
            "  inflating: data/TRAIN/DR7/FVKB0/SX169.WAV  \n",
            "  inflating: data/TRAIN/DR7/FVKB0/SX169.WAV.wav  \n",
            "  inflating: data/TRAIN/DR7/FVKB0/SX169.WRD  \n",
            "  inflating: data/TRAIN/DR7/FVKB0/SX259.PHN  \n",
            "  inflating: data/TRAIN/DR7/FVKB0/SX259.TXT  \n",
            "  inflating: data/TRAIN/DR7/FVKB0/SX259.WAV  \n",
            "  inflating: data/TRAIN/DR7/FVKB0/SX259.WAV.wav  \n",
            "  inflating: data/TRAIN/DR7/FVKB0/SX259.WRD  \n",
            "  inflating: data/TRAIN/DR7/FVKB0/SX349.PHN  \n",
            "  inflating: data/TRAIN/DR7/FVKB0/SX349.TXT  \n",
            "  inflating: data/TRAIN/DR7/FVKB0/SX349.WAV  \n",
            "  inflating: data/TRAIN/DR7/FVKB0/SX349.WAV.wav  \n",
            "  inflating: data/TRAIN/DR7/FVKB0/SX349.WRD  \n",
            "  inflating: data/TRAIN/DR7/FVKB0/SX439.PHN  \n",
            "  inflating: data/TRAIN/DR7/FVKB0/SX439.TXT  \n",
            "  inflating: data/TRAIN/DR7/FVKB0/SX439.WAV  \n",
            "  inflating: data/TRAIN/DR7/FVKB0/SX439.WAV.wav  \n",
            "  inflating: data/TRAIN/DR7/FVKB0/SX439.WRD  \n",
            "  inflating: data/TRAIN/DR7/FVKB0/SX79.PHN  \n",
            "  inflating: data/TRAIN/DR7/FVKB0/SX79.TXT  \n",
            "  inflating: data/TRAIN/DR7/FVKB0/SX79.WAV  \n",
            "  inflating: data/TRAIN/DR7/FVKB0/SX79.WAV.wav  \n",
            "  inflating: data/TRAIN/DR7/FVKB0/SX79.WRD  \n",
            "  inflating: data/TRAIN/DR7/MADD0/SA1.PHN  \n",
            "  inflating: data/TRAIN/DR7/MADD0/SA1.TXT  \n",
            "  inflating: data/TRAIN/DR7/MADD0/SA1.WAV  \n",
            "  inflating: data/TRAIN/DR7/MADD0/SA1.WAV.wav  \n",
            "  inflating: data/TRAIN/DR7/MADD0/SA1.WRD  \n",
            "  inflating: data/TRAIN/DR7/MADD0/SA2.PHN  \n",
            "  inflating: data/TRAIN/DR7/MADD0/SA2.TXT  \n",
            "  inflating: data/TRAIN/DR7/MADD0/SA2.WAV  \n",
            "  inflating: data/TRAIN/DR7/MADD0/SA2.WAV.wav  \n",
            "  inflating: data/TRAIN/DR7/MADD0/SA2.WRD  \n",
            "  inflating: data/TRAIN/DR7/MADD0/SI1295.PHN  \n",
            "  inflating: data/TRAIN/DR7/MADD0/SI1295.TXT  \n",
            "  inflating: data/TRAIN/DR7/MADD0/SI1295.WAV  \n",
            "  inflating: data/TRAIN/DR7/MADD0/SI1295.WAV.wav  \n",
            "  inflating: data/TRAIN/DR7/MADD0/SI1295.WRD  \n",
            "  inflating: data/TRAIN/DR7/MADD0/SI1798.PHN  \n",
            "  inflating: data/TRAIN/DR7/MADD0/SI1798.TXT  \n",
            "  inflating: data/TRAIN/DR7/MADD0/SI1798.WAV  \n",
            "  inflating: data/TRAIN/DR7/MADD0/SI1798.WAV.wav  \n",
            "  inflating: data/TRAIN/DR7/MADD0/SI1798.WRD  \n",
            "  inflating: data/TRAIN/DR7/MADD0/SI538.PHN  \n",
            "  inflating: data/TRAIN/DR7/MADD0/SI538.TXT  \n",
            "  inflating: data/TRAIN/DR7/MADD0/SI538.WAV  \n",
            "  inflating: data/TRAIN/DR7/MADD0/SI538.WAV.wav  \n",
            "  inflating: data/TRAIN/DR7/MADD0/SI538.WRD  \n",
            "  inflating: data/TRAIN/DR7/MADD0/SX178.PHN  \n",
            "  inflating: data/TRAIN/DR7/MADD0/SX178.TXT  \n",
            "  inflating: data/TRAIN/DR7/MADD0/SX178.WAV  \n",
            "  inflating: data/TRAIN/DR7/MADD0/SX178.WAV.wav  \n",
            "  inflating: data/TRAIN/DR7/MADD0/SX178.WRD  \n",
            "  inflating: data/TRAIN/DR7/MADD0/SX268.PHN  \n",
            "  inflating: data/TRAIN/DR7/MADD0/SX268.TXT  \n",
            "  inflating: data/TRAIN/DR7/MADD0/SX268.WAV  \n",
            "  inflating: data/TRAIN/DR7/MADD0/SX268.WAV.wav  \n",
            "  inflating: data/TRAIN/DR7/MADD0/SX268.WRD  \n",
            "  inflating: data/TRAIN/DR7/MADD0/SX358.PHN  \n",
            "  inflating: data/TRAIN/DR7/MADD0/SX358.TXT  \n",
            "  inflating: data/TRAIN/DR7/MADD0/SX358.WAV  \n",
            "  inflating: data/TRAIN/DR7/MADD0/SX358.WAV.wav  \n",
            "  inflating: data/TRAIN/DR7/MADD0/SX358.WRD  \n",
            "  inflating: data/TRAIN/DR7/MADD0/SX448.PHN  \n",
            "  inflating: data/TRAIN/DR7/MADD0/SX448.TXT  \n",
            "  inflating: data/TRAIN/DR7/MADD0/SX448.WAV  \n",
            "  inflating: data/TRAIN/DR7/MADD0/SX448.WAV.wav  \n",
            "  inflating: data/TRAIN/DR7/MADD0/SX448.WRD  \n",
            "  inflating: data/TRAIN/DR7/MADD0/SX88.PHN  \n",
            "  inflating: data/TRAIN/DR7/MADD0/SX88.TXT  \n",
            "  inflating: data/TRAIN/DR7/MADD0/SX88.WAV  \n",
            "  inflating: data/TRAIN/DR7/MADD0/SX88.WAV.wav  \n",
            "  inflating: data/TRAIN/DR7/MADD0/SX88.WRD  \n",
            "  inflating: data/TRAIN/DR7/MAEO0/SA1.PHN  \n",
            "  inflating: data/TRAIN/DR7/MAEO0/SA1.TXT  \n",
            "  inflating: data/TRAIN/DR7/MAEO0/SA1.WAV  \n",
            "  inflating: data/TRAIN/DR7/MAEO0/SA1.WAV.wav  \n",
            "  inflating: data/TRAIN/DR7/MAEO0/SA1.WRD  \n",
            "  inflating: data/TRAIN/DR7/MAEO0/SA2.PHN  \n",
            "  inflating: data/TRAIN/DR7/MAEO0/SA2.TXT  \n",
            "  inflating: data/TRAIN/DR7/MAEO0/SA2.WAV  \n",
            "  inflating: data/TRAIN/DR7/MAEO0/SA2.WAV.wav  \n",
            "  inflating: data/TRAIN/DR7/MAEO0/SA2.WRD  \n",
            "  inflating: data/TRAIN/DR7/MAEO0/SI1326.PHN  \n",
            "  inflating: data/TRAIN/DR7/MAEO0/SI1326.TXT  \n",
            "  inflating: data/TRAIN/DR7/MAEO0/SI1326.WAV  \n",
            "  inflating: data/TRAIN/DR7/MAEO0/SI1326.WAV.wav  \n",
            "  inflating: data/TRAIN/DR7/MAEO0/SI1326.WRD  \n",
            "  inflating: data/TRAIN/DR7/MAEO0/SI1655.PHN  \n",
            "  inflating: data/TRAIN/DR7/MAEO0/SI1655.TXT  \n",
            "  inflating: data/TRAIN/DR7/MAEO0/SI1655.WAV  \n",
            "  inflating: data/TRAIN/DR7/MAEO0/SI1655.WAV.wav  \n",
            "  inflating: data/TRAIN/DR7/MAEO0/SI1655.WRD  \n",
            "  inflating: data/TRAIN/DR7/MAEO0/SI1956.PHN  \n",
            "  inflating: data/TRAIN/DR7/MAEO0/SI1956.TXT  \n",
            "  inflating: data/TRAIN/DR7/MAEO0/SI1956.WAV  \n",
            "  inflating: data/TRAIN/DR7/MAEO0/SI1956.WAV.wav  \n",
            "  inflating: data/TRAIN/DR7/MAEO0/SI1956.WRD  \n",
            "  inflating: data/TRAIN/DR7/MAEO0/SX156.PHN  \n",
            "  inflating: data/TRAIN/DR7/MAEO0/SX156.TXT  \n",
            "  inflating: data/TRAIN/DR7/MAEO0/SX156.WAV  \n",
            "  inflating: data/TRAIN/DR7/MAEO0/SX156.WAV.wav  \n",
            "  inflating: data/TRAIN/DR7/MAEO0/SX156.WRD  \n",
            "  inflating: data/TRAIN/DR7/MAEO0/SX246.PHN  \n",
            "  inflating: data/TRAIN/DR7/MAEO0/SX246.TXT  \n",
            "  inflating: data/TRAIN/DR7/MAEO0/SX246.WAV  \n",
            "  inflating: data/TRAIN/DR7/MAEO0/SX246.WAV.wav  \n",
            "  inflating: data/TRAIN/DR7/MAEO0/SX246.WRD  \n",
            "  inflating: data/TRAIN/DR7/MAEO0/SX336.PHN  \n",
            "  inflating: data/TRAIN/DR7/MAEO0/SX336.TXT  \n",
            "  inflating: data/TRAIN/DR7/MAEO0/SX336.WAV  \n",
            "  inflating: data/TRAIN/DR7/MAEO0/SX336.WAV.wav  \n",
            "  inflating: data/TRAIN/DR7/MAEO0/SX336.WRD  \n",
            "  inflating: data/TRAIN/DR7/MAEO0/SX426.PHN  \n",
            "  inflating: data/TRAIN/DR7/MAEO0/SX426.TXT  \n",
            "  inflating: data/TRAIN/DR7/MAEO0/SX426.WAV  \n",
            "  inflating: data/TRAIN/DR7/MAEO0/SX426.WAV.wav  \n",
            "  inflating: data/TRAIN/DR7/MAEO0/SX426.WRD  \n",
            "  inflating: data/TRAIN/DR7/MAEO0/SX66.PHN  \n",
            "  inflating: data/TRAIN/DR7/MAEO0/SX66.TXT  \n",
            "  inflating: data/TRAIN/DR7/MAEO0/SX66.WAV  \n",
            "  inflating: data/TRAIN/DR7/MAEO0/SX66.WAV.wav  \n",
            "  inflating: data/TRAIN/DR7/MAEO0/SX66.WRD  \n",
            "  inflating: data/TRAIN/DR7/MAFM0/SA1.PHN  \n",
            "  inflating: data/TRAIN/DR7/MAFM0/SA1.TXT  \n",
            "  inflating: data/TRAIN/DR7/MAFM0/SA1.WAV  \n",
            "  inflating: data/TRAIN/DR7/MAFM0/SA1.WAV.wav  \n",
            "  inflating: data/TRAIN/DR7/MAFM0/SA1.WRD  \n",
            "  inflating: data/TRAIN/DR7/MAFM0/SA2.PHN  \n",
            "  inflating: data/TRAIN/DR7/MAFM0/SA2.TXT  \n",
            "  inflating: data/TRAIN/DR7/MAFM0/SA2.WAV  \n",
            "  inflating: data/TRAIN/DR7/MAFM0/SA2.WAV.wav  \n",
            "  inflating: data/TRAIN/DR7/MAFM0/SA2.WRD  \n",
            "  inflating: data/TRAIN/DR7/MAFM0/SI1569.PHN  \n",
            "  inflating: data/TRAIN/DR7/MAFM0/SI1569.TXT  \n",
            "  inflating: data/TRAIN/DR7/MAFM0/SI1569.WAV  \n",
            "  inflating: data/TRAIN/DR7/MAFM0/SI1569.WAV.wav  \n",
            "  inflating: data/TRAIN/DR7/MAFM0/SI1569.WRD  \n",
            "  inflating: data/TRAIN/DR7/MAFM0/SI2199.PHN  \n",
            "  inflating: data/TRAIN/DR7/MAFM0/SI2199.TXT  \n",
            "  inflating: data/TRAIN/DR7/MAFM0/SI2199.WAV  \n",
            "  inflating: data/TRAIN/DR7/MAFM0/SI2199.WAV.wav  \n",
            "  inflating: data/TRAIN/DR7/MAFM0/SI2199.WRD  \n",
            "  inflating: data/TRAIN/DR7/MAFM0/SI939.PHN  \n",
            "  inflating: data/TRAIN/DR7/MAFM0/SI939.TXT  \n",
            "  inflating: data/TRAIN/DR7/MAFM0/SI939.WAV  \n",
            "  inflating: data/TRAIN/DR7/MAFM0/SI939.WAV.wav  \n",
            "  inflating: data/TRAIN/DR7/MAFM0/SI939.WRD  \n",
            "  inflating: data/TRAIN/DR7/MAFM0/SX129.PHN  \n",
            "  inflating: data/TRAIN/DR7/MAFM0/SX129.TXT  \n",
            "  inflating: data/TRAIN/DR7/MAFM0/SX129.WAV  \n",
            "  inflating: data/TRAIN/DR7/MAFM0/SX129.WAV.wav  \n",
            "  inflating: data/TRAIN/DR7/MAFM0/SX129.WRD  \n",
            "  inflating: data/TRAIN/DR7/MAFM0/SX219.PHN  \n",
            "  inflating: data/TRAIN/DR7/MAFM0/SX219.TXT  \n",
            "  inflating: data/TRAIN/DR7/MAFM0/SX219.WAV  \n",
            "  inflating: data/TRAIN/DR7/MAFM0/SX219.WAV.wav  \n",
            "  inflating: data/TRAIN/DR7/MAFM0/SX219.WRD  \n",
            "  inflating: data/TRAIN/DR7/MAFM0/SX309.PHN  \n",
            "  inflating: data/TRAIN/DR7/MAFM0/SX309.TXT  \n",
            "  inflating: data/TRAIN/DR7/MAFM0/SX309.WAV  \n",
            "  inflating: data/TRAIN/DR7/MAFM0/SX309.WAV.wav  \n",
            "  inflating: data/TRAIN/DR7/MAFM0/SX309.WRD  \n",
            "  inflating: data/TRAIN/DR7/MAFM0/SX39.PHN  \n",
            "  inflating: data/TRAIN/DR7/MAFM0/SX39.TXT  \n",
            "  inflating: data/TRAIN/DR7/MAFM0/SX39.WAV  \n",
            "  inflating: data/TRAIN/DR7/MAFM0/SX39.WAV.wav  \n",
            "  inflating: data/TRAIN/DR7/MAFM0/SX39.WRD  \n",
            "  inflating: data/TRAIN/DR7/MAFM0/SX399.PHN  \n",
            "  inflating: data/TRAIN/DR7/MAFM0/SX399.TXT  \n",
            "  inflating: data/TRAIN/DR7/MAFM0/SX399.WAV  \n",
            "  inflating: data/TRAIN/DR7/MAFM0/SX399.WAV.wav  \n",
            "  inflating: data/TRAIN/DR7/MAFM0/SX399.WRD  \n",
            "  inflating: data/TRAIN/DR7/MBAR0/SA1.PHN  \n",
            "  inflating: data/TRAIN/DR7/MBAR0/SA1.TXT  \n",
            "  inflating: data/TRAIN/DR7/MBAR0/SA1.WAV  \n",
            "  inflating: data/TRAIN/DR7/MBAR0/SA1.WAV.wav  \n",
            "  inflating: data/TRAIN/DR7/MBAR0/SA1.WRD  \n",
            "  inflating: data/TRAIN/DR7/MBAR0/SA2.PHN  \n",
            "  inflating: data/TRAIN/DR7/MBAR0/SA2.TXT  \n",
            "  inflating: data/TRAIN/DR7/MBAR0/SA2.WAV  \n",
            "  inflating: data/TRAIN/DR7/MBAR0/SA2.WAV.wav  \n",
            "  inflating: data/TRAIN/DR7/MBAR0/SA2.WRD  \n",
            "  inflating: data/TRAIN/DR7/MBAR0/SI1319.PHN  \n",
            "  inflating: data/TRAIN/DR7/MBAR0/SI1319.TXT  \n",
            "  inflating: data/TRAIN/DR7/MBAR0/SI1319.WAV  \n",
            "  inflating: data/TRAIN/DR7/MBAR0/SI1319.WAV.wav  \n",
            "  inflating: data/TRAIN/DR7/MBAR0/SI1319.WRD  \n",
            "  inflating: data/TRAIN/DR7/MBAR0/SI1949.PHN  \n",
            "  inflating: data/TRAIN/DR7/MBAR0/SI1949.TXT  \n",
            "  inflating: data/TRAIN/DR7/MBAR0/SI1949.WAV  \n",
            "  inflating: data/TRAIN/DR7/MBAR0/SI1949.WAV.wav  \n",
            "  inflating: data/TRAIN/DR7/MBAR0/SI1949.WRD  \n",
            "  inflating: data/TRAIN/DR7/MBAR0/SI689.PHN  \n",
            "  inflating: data/TRAIN/DR7/MBAR0/SI689.TXT  \n",
            "  inflating: data/TRAIN/DR7/MBAR0/SI689.WAV  \n",
            "  inflating: data/TRAIN/DR7/MBAR0/SI689.WAV.wav  \n",
            "  inflating: data/TRAIN/DR7/MBAR0/SI689.WRD  \n",
            "  inflating: data/TRAIN/DR7/MBAR0/SX149.PHN  \n",
            "  inflating: data/TRAIN/DR7/MBAR0/SX149.TXT  \n",
            "  inflating: data/TRAIN/DR7/MBAR0/SX149.WAV  \n",
            "  inflating: data/TRAIN/DR7/MBAR0/SX149.WAV.wav  \n",
            "  inflating: data/TRAIN/DR7/MBAR0/SX149.WRD  \n",
            "  inflating: data/TRAIN/DR7/MBAR0/SX239.PHN  \n",
            "  inflating: data/TRAIN/DR7/MBAR0/SX239.TXT  \n",
            "  inflating: data/TRAIN/DR7/MBAR0/SX239.WAV  \n",
            "  inflating: data/TRAIN/DR7/MBAR0/SX239.WAV.wav  \n",
            "  inflating: data/TRAIN/DR7/MBAR0/SX239.WRD  \n",
            "  inflating: data/TRAIN/DR7/MBAR0/SX329.PHN  \n",
            "  inflating: data/TRAIN/DR7/MBAR0/SX329.TXT  \n",
            "  inflating: data/TRAIN/DR7/MBAR0/SX329.WAV  \n",
            "  inflating: data/TRAIN/DR7/MBAR0/SX329.WAV.wav  \n",
            "  inflating: data/TRAIN/DR7/MBAR0/SX329.WRD  \n",
            "  inflating: data/TRAIN/DR7/MBAR0/SX419.PHN  \n",
            "  inflating: data/TRAIN/DR7/MBAR0/SX419.TXT  \n",
            "  inflating: data/TRAIN/DR7/MBAR0/SX419.WAV  \n",
            "  inflating: data/TRAIN/DR7/MBAR0/SX419.WAV.wav  \n",
            "  inflating: data/TRAIN/DR7/MBAR0/SX419.WRD  \n",
            "  inflating: data/TRAIN/DR7/MBAR0/SX59.PHN  \n",
            "  inflating: data/TRAIN/DR7/MBAR0/SX59.TXT  \n",
            "  inflating: data/TRAIN/DR7/MBAR0/SX59.WAV  \n",
            "  inflating: data/TRAIN/DR7/MBAR0/SX59.WAV.wav  \n",
            "  inflating: data/TRAIN/DR7/MBAR0/SX59.WRD  \n",
            "  inflating: data/TRAIN/DR7/MBBR0/SA1.PHN  \n",
            "  inflating: data/TRAIN/DR7/MBBR0/SA1.TXT  \n",
            "  inflating: data/TRAIN/DR7/MBBR0/SA1.WAV  \n",
            "  inflating: data/TRAIN/DR7/MBBR0/SA1.WAV.wav  \n",
            "  inflating: data/TRAIN/DR7/MBBR0/SA1.WRD  \n",
            "  inflating: data/TRAIN/DR7/MBBR0/SA2.PHN  \n",
            "  inflating: data/TRAIN/DR7/MBBR0/SA2.TXT  \n",
            "  inflating: data/TRAIN/DR7/MBBR0/SA2.WAV  \n",
            "  inflating: data/TRAIN/DR7/MBBR0/SA2.WAV.wav  \n",
            "  inflating: data/TRAIN/DR7/MBBR0/SA2.WRD  \n",
            "  inflating: data/TRAIN/DR7/MBBR0/SI1055.PHN  \n",
            "  inflating: data/TRAIN/DR7/MBBR0/SI1055.TXT  \n",
            "  inflating: data/TRAIN/DR7/MBBR0/SI1055.WAV  \n",
            "  inflating: data/TRAIN/DR7/MBBR0/SI1055.WAV.wav  \n",
            "  inflating: data/TRAIN/DR7/MBBR0/SI1055.WRD  \n",
            "  inflating: data/TRAIN/DR7/MBBR0/SI1685.PHN  \n",
            "  inflating: data/TRAIN/DR7/MBBR0/SI1685.TXT  \n",
            "  inflating: data/TRAIN/DR7/MBBR0/SI1685.WAV  \n",
            "  inflating: data/TRAIN/DR7/MBBR0/SI1685.WAV.wav  \n",
            "  inflating: data/TRAIN/DR7/MBBR0/SI1685.WRD  \n",
            "  inflating: data/TRAIN/DR7/MBBR0/SI2315.PHN  \n",
            "  inflating: data/TRAIN/DR7/MBBR0/SI2315.TXT  \n",
            "  inflating: data/TRAIN/DR7/MBBR0/SI2315.WAV  \n",
            "  inflating: data/TRAIN/DR7/MBBR0/SI2315.WAV.wav  \n",
            "  inflating: data/TRAIN/DR7/MBBR0/SI2315.WRD  \n",
            "  inflating: data/TRAIN/DR7/MBBR0/SX155.PHN  \n",
            "  inflating: data/TRAIN/DR7/MBBR0/SX155.TXT  \n",
            "  inflating: data/TRAIN/DR7/MBBR0/SX155.WAV  \n",
            "  inflating: data/TRAIN/DR7/MBBR0/SX155.WAV.wav  \n",
            "  inflating: data/TRAIN/DR7/MBBR0/SX155.WRD  \n",
            "  inflating: data/TRAIN/DR7/MBBR0/SX245.PHN  \n",
            "  inflating: data/TRAIN/DR7/MBBR0/SX245.TXT  \n",
            "  inflating: data/TRAIN/DR7/MBBR0/SX245.WAV  \n",
            "  inflating: data/TRAIN/DR7/MBBR0/SX245.WAV.wav  \n",
            "  inflating: data/TRAIN/DR7/MBBR0/SX245.WRD  \n",
            "  inflating: data/TRAIN/DR7/MBBR0/SX335.PHN  \n",
            "  inflating: data/TRAIN/DR7/MBBR0/SX335.TXT  \n",
            "  inflating: data/TRAIN/DR7/MBBR0/SX335.WAV  \n",
            "  inflating: data/TRAIN/DR7/MBBR0/SX335.WAV.wav  \n",
            "  inflating: data/TRAIN/DR7/MBBR0/SX335.WRD  \n",
            "  inflating: data/TRAIN/DR7/MBBR0/SX425.PHN  \n",
            "  inflating: data/TRAIN/DR7/MBBR0/SX425.TXT  \n",
            "  inflating: data/TRAIN/DR7/MBBR0/SX425.WAV  \n",
            "  inflating: data/TRAIN/DR7/MBBR0/SX425.WAV.wav  \n",
            "  inflating: data/TRAIN/DR7/MBBR0/SX425.WRD  \n",
            "  inflating: data/TRAIN/DR7/MBBR0/SX65.PHN  \n",
            "  inflating: data/TRAIN/DR7/MBBR0/SX65.TXT  \n",
            "  inflating: data/TRAIN/DR7/MBBR0/SX65.WAV  \n",
            "  inflating: data/TRAIN/DR7/MBBR0/SX65.WAV.wav  \n",
            "  inflating: data/TRAIN/DR7/MBBR0/SX65.WRD  \n",
            "  inflating: data/TRAIN/DR7/MBML0/SA1.PHN  \n",
            "  inflating: data/TRAIN/DR7/MBML0/SA1.TXT  \n",
            "  inflating: data/TRAIN/DR7/MBML0/SA1.WAV  \n",
            "  inflating: data/TRAIN/DR7/MBML0/SA1.WAV.wav  \n",
            "  inflating: data/TRAIN/DR7/MBML0/SA1.WRD  \n",
            "  inflating: data/TRAIN/DR7/MBML0/SA2.PHN  \n",
            "  inflating: data/TRAIN/DR7/MBML0/SA2.TXT  \n",
            "  inflating: data/TRAIN/DR7/MBML0/SA2.WAV  \n",
            "  inflating: data/TRAIN/DR7/MBML0/SA2.WAV.wav  \n",
            "  inflating: data/TRAIN/DR7/MBML0/SA2.WRD  \n",
            "  inflating: data/TRAIN/DR7/MBML0/SI1169.PHN  \n",
            "  inflating: data/TRAIN/DR7/MBML0/SI1169.TXT  \n",
            "  inflating: data/TRAIN/DR7/MBML0/SI1169.WAV  \n",
            "  inflating: data/TRAIN/DR7/MBML0/SI1169.WAV.wav  \n",
            "  inflating: data/TRAIN/DR7/MBML0/SI1169.WRD  \n",
            "  inflating: data/TRAIN/DR7/MBML0/SI1799.PHN  \n",
            "  inflating: data/TRAIN/DR7/MBML0/SI1799.TXT  \n",
            "  inflating: data/TRAIN/DR7/MBML0/SI1799.WAV  \n",
            "  inflating: data/TRAIN/DR7/MBML0/SI1799.WAV.wav  \n",
            "  inflating: data/TRAIN/DR7/MBML0/SI1799.WRD  \n",
            "  inflating: data/TRAIN/DR7/MBML0/SI539.PHN  \n",
            "  inflating: data/TRAIN/DR7/MBML0/SI539.TXT  \n",
            "  inflating: data/TRAIN/DR7/MBML0/SI539.WAV  \n",
            "  inflating: data/TRAIN/DR7/MBML0/SI539.WAV.wav  \n",
            "  inflating: data/TRAIN/DR7/MBML0/SI539.WRD  \n",
            "  inflating: data/TRAIN/DR7/MBML0/SX179.PHN  \n",
            "  inflating: data/TRAIN/DR7/MBML0/SX179.TXT  \n",
            "  inflating: data/TRAIN/DR7/MBML0/SX179.WAV  \n",
            "  inflating: data/TRAIN/DR7/MBML0/SX179.WAV.wav  \n",
            "  inflating: data/TRAIN/DR7/MBML0/SX179.WRD  \n",
            "  inflating: data/TRAIN/DR7/MBML0/SX269.PHN  \n",
            "  inflating: data/TRAIN/DR7/MBML0/SX269.TXT  \n",
            "  inflating: data/TRAIN/DR7/MBML0/SX269.WAV  \n",
            "  inflating: data/TRAIN/DR7/MBML0/SX269.WAV.wav  \n",
            "  inflating: data/TRAIN/DR7/MBML0/SX269.WRD  \n",
            "  inflating: data/TRAIN/DR7/MBML0/SX359.PHN  \n",
            "  inflating: data/TRAIN/DR7/MBML0/SX359.TXT  \n",
            "  inflating: data/TRAIN/DR7/MBML0/SX359.WAV  \n",
            "  inflating: data/TRAIN/DR7/MBML0/SX359.WAV.wav  \n",
            "  inflating: data/TRAIN/DR7/MBML0/SX359.WRD  \n",
            "  inflating: data/TRAIN/DR7/MBML0/SX449.PHN  \n",
            "  inflating: data/TRAIN/DR7/MBML0/SX449.TXT  \n",
            "  inflating: data/TRAIN/DR7/MBML0/SX449.WAV  \n",
            "  inflating: data/TRAIN/DR7/MBML0/SX449.WAV.wav  \n",
            "  inflating: data/TRAIN/DR7/MBML0/SX449.WRD  \n",
            "  inflating: data/TRAIN/DR7/MBML0/SX89.PHN  \n",
            "  inflating: data/TRAIN/DR7/MBML0/SX89.TXT  \n",
            "  inflating: data/TRAIN/DR7/MBML0/SX89.WAV  \n",
            "  inflating: data/TRAIN/DR7/MBML0/SX89.WAV.wav  \n",
            "  inflating: data/TRAIN/DR7/MBML0/SX89.WRD  \n",
            "  inflating: data/TRAIN/DR7/MBOM0/SA1.PHN  \n",
            "  inflating: data/TRAIN/DR7/MBOM0/SA1.TXT  \n",
            "  inflating: data/TRAIN/DR7/MBOM0/SA1.WAV  \n",
            "  inflating: data/TRAIN/DR7/MBOM0/SA1.WAV.wav  \n",
            "  inflating: data/TRAIN/DR7/MBOM0/SA1.WRD  \n",
            "  inflating: data/TRAIN/DR7/MBOM0/SA2.PHN  \n",
            "  inflating: data/TRAIN/DR7/MBOM0/SA2.TXT  \n",
            "  inflating: data/TRAIN/DR7/MBOM0/SA2.WAV  \n",
            "  inflating: data/TRAIN/DR7/MBOM0/SA2.WAV.wav  \n",
            "  inflating: data/TRAIN/DR7/MBOM0/SA2.WRD  \n",
            "  inflating: data/TRAIN/DR7/MBOM0/SI1014.PHN  \n",
            "  inflating: data/TRAIN/DR7/MBOM0/SI1014.TXT  \n",
            "  inflating: data/TRAIN/DR7/MBOM0/SI1014.WAV  \n",
            "  inflating: data/TRAIN/DR7/MBOM0/SI1014.WAV.wav  \n",
            "  inflating: data/TRAIN/DR7/MBOM0/SI1014.WRD  \n",
            "  inflating: data/TRAIN/DR7/MBOM0/SI1644.PHN  \n",
            "  inflating: data/TRAIN/DR7/MBOM0/SI1644.TXT  \n",
            "  inflating: data/TRAIN/DR7/MBOM0/SI1644.WAV  \n",
            "  inflating: data/TRAIN/DR7/MBOM0/SI1644.WAV.wav  \n",
            "  inflating: data/TRAIN/DR7/MBOM0/SI1644.WRD  \n",
            "  inflating: data/TRAIN/DR7/MBOM0/SI2274.PHN  \n",
            "  inflating: data/TRAIN/DR7/MBOM0/SI2274.TXT  \n",
            "  inflating: data/TRAIN/DR7/MBOM0/SI2274.WAV  \n",
            "  inflating: data/TRAIN/DR7/MBOM0/SI2274.WAV.wav  \n",
            "  inflating: data/TRAIN/DR7/MBOM0/SI2274.WRD  \n",
            "  inflating: data/TRAIN/DR7/MBOM0/SX114.PHN  \n",
            "  inflating: data/TRAIN/DR7/MBOM0/SX114.TXT  \n",
            "  inflating: data/TRAIN/DR7/MBOM0/SX114.WAV  \n",
            "  inflating: data/TRAIN/DR7/MBOM0/SX114.WAV.wav  \n",
            "  inflating: data/TRAIN/DR7/MBOM0/SX114.WRD  \n",
            "  inflating: data/TRAIN/DR7/MBOM0/SX204.PHN  \n",
            "  inflating: data/TRAIN/DR7/MBOM0/SX204.TXT  \n",
            "  inflating: data/TRAIN/DR7/MBOM0/SX204.WAV  \n",
            "  inflating: data/TRAIN/DR7/MBOM0/SX204.WAV.wav  \n",
            "  inflating: data/TRAIN/DR7/MBOM0/SX204.WRD  \n",
            "  inflating: data/TRAIN/DR7/MBOM0/SX294.PHN  \n",
            "  inflating: data/TRAIN/DR7/MBOM0/SX294.TXT  \n",
            "  inflating: data/TRAIN/DR7/MBOM0/SX294.WAV  \n",
            "  inflating: data/TRAIN/DR7/MBOM0/SX294.WAV.wav  \n",
            "  inflating: data/TRAIN/DR7/MBOM0/SX294.WRD  \n",
            "  inflating: data/TRAIN/DR7/MBOM0/SX311.PHN  \n",
            "  inflating: data/TRAIN/DR7/MBOM0/SX311.TXT  \n",
            "  inflating: data/TRAIN/DR7/MBOM0/SX311.WAV  \n",
            "  inflating: data/TRAIN/DR7/MBOM0/SX311.WAV.wav  \n",
            "  inflating: data/TRAIN/DR7/MBOM0/SX311.WRD  \n",
            "  inflating: data/TRAIN/DR7/MBOM0/SX384.PHN  \n",
            "  inflating: data/TRAIN/DR7/MBOM0/SX384.TXT  \n",
            "  inflating: data/TRAIN/DR7/MBOM0/SX384.WAV  \n",
            "  inflating: data/TRAIN/DR7/MBOM0/SX384.WAV.wav  \n",
            "  inflating: data/TRAIN/DR7/MBOM0/SX384.WRD  \n",
            "  inflating: data/TRAIN/DR7/MBTH0/SA1.PHN  \n",
            "  inflating: data/TRAIN/DR7/MBTH0/SA1.TXT  \n",
            "  inflating: data/TRAIN/DR7/MBTH0/SA1.WAV  \n",
            "  inflating: data/TRAIN/DR7/MBTH0/SA1.WAV.wav  \n",
            "  inflating: data/TRAIN/DR7/MBTH0/SA1.WRD  \n",
            "  inflating: data/TRAIN/DR7/MBTH0/SA2.PHN  \n",
            "  inflating: data/TRAIN/DR7/MBTH0/SA2.TXT  \n",
            "  inflating: data/TRAIN/DR7/MBTH0/SA2.WAV  \n",
            "  inflating: data/TRAIN/DR7/MBTH0/SA2.WAV.wav  \n",
            "  inflating: data/TRAIN/DR7/MBTH0/SA2.WRD  \n",
            "  inflating: data/TRAIN/DR7/MBTH0/SI2102.PHN  \n",
            "  inflating: data/TRAIN/DR7/MBTH0/SI2102.TXT  \n",
            "  inflating: data/TRAIN/DR7/MBTH0/SI2102.WAV  \n",
            "  inflating: data/TRAIN/DR7/MBTH0/SI2102.WAV.wav  \n",
            "  inflating: data/TRAIN/DR7/MBTH0/SI2102.WRD  \n",
            "  inflating: data/TRAIN/DR7/MBTH0/SI505.PHN  \n",
            "  inflating: data/TRAIN/DR7/MBTH0/SI505.TXT  \n",
            "  inflating: data/TRAIN/DR7/MBTH0/SI505.WAV  \n",
            "  inflating: data/TRAIN/DR7/MBTH0/SI505.WAV.wav  \n",
            "  inflating: data/TRAIN/DR7/MBTH0/SI505.WRD  \n",
            "  inflating: data/TRAIN/DR7/MBTH0/SI757.PHN  \n",
            "  inflating: data/TRAIN/DR7/MBTH0/SI757.TXT  \n",
            "  inflating: data/TRAIN/DR7/MBTH0/SI757.WAV  \n",
            "  inflating: data/TRAIN/DR7/MBTH0/SI757.WAV.wav  \n",
            "  inflating: data/TRAIN/DR7/MBTH0/SI757.WRD  \n",
            "  inflating: data/TRAIN/DR7/MBTH0/SX122.PHN  \n",
            "  inflating: data/TRAIN/DR7/MBTH0/SX122.TXT  \n",
            "  inflating: data/TRAIN/DR7/MBTH0/SX122.WAV  \n",
            "  inflating: data/TRAIN/DR7/MBTH0/SX122.WAV.wav  \n",
            "  inflating: data/TRAIN/DR7/MBTH0/SX122.WRD  \n",
            "  inflating: data/TRAIN/DR7/MBTH0/SX212.PHN  \n",
            "  inflating: data/TRAIN/DR7/MBTH0/SX212.TXT  \n",
            "  inflating: data/TRAIN/DR7/MBTH0/SX212.WAV  \n",
            "  inflating: data/TRAIN/DR7/MBTH0/SX212.WAV.wav  \n",
            "  inflating: data/TRAIN/DR7/MBTH0/SX212.WRD  \n",
            "  inflating: data/TRAIN/DR7/MBTH0/SX302.PHN  \n",
            "  inflating: data/TRAIN/DR7/MBTH0/SX302.TXT  \n",
            "  inflating: data/TRAIN/DR7/MBTH0/SX302.WAV  \n",
            "  inflating: data/TRAIN/DR7/MBTH0/SX302.WAV.wav  \n",
            "  inflating: data/TRAIN/DR7/MBTH0/SX302.WRD  \n",
            "  inflating: data/TRAIN/DR7/MBTH0/SX32.PHN  \n",
            "  inflating: data/TRAIN/DR7/MBTH0/SX32.TXT  \n",
            "  inflating: data/TRAIN/DR7/MBTH0/SX32.WAV  \n",
            "  inflating: data/TRAIN/DR7/MBTH0/SX32.WAV.wav  \n",
            "  inflating: data/TRAIN/DR7/MBTH0/SX32.WRD  \n",
            "  inflating: data/TRAIN/DR7/MBTH0/SX392.PHN  \n",
            "  inflating: data/TRAIN/DR7/MBTH0/SX392.TXT  \n",
            "  inflating: data/TRAIN/DR7/MBTH0/SX392.WAV  \n",
            "  inflating: data/TRAIN/DR7/MBTH0/SX392.WAV.wav  \n",
            "  inflating: data/TRAIN/DR7/MBTH0/SX392.WRD  \n",
            "  inflating: data/TRAIN/DR7/MCLK0/SA1.PHN  \n",
            "  inflating: data/TRAIN/DR7/MCLK0/SA1.TXT  \n",
            "  inflating: data/TRAIN/DR7/MCLK0/SA1.WAV  \n",
            "  inflating: data/TRAIN/DR7/MCLK0/SA1.WAV.wav  \n",
            "  inflating: data/TRAIN/DR7/MCLK0/SA1.WRD  \n",
            "  inflating: data/TRAIN/DR7/MCLK0/SA2.PHN  \n",
            "  inflating: data/TRAIN/DR7/MCLK0/SA2.TXT  \n",
            "  inflating: data/TRAIN/DR7/MCLK0/SA2.WAV  \n",
            "  inflating: data/TRAIN/DR7/MCLK0/SA2.WAV.wav  \n",
            "  inflating: data/TRAIN/DR7/MCLK0/SA2.WRD  \n",
            "  inflating: data/TRAIN/DR7/MCLK0/SI1660.PHN  \n",
            "  inflating: data/TRAIN/DR7/MCLK0/SI1660.TXT  \n",
            "  inflating: data/TRAIN/DR7/MCLK0/SI1660.WAV  \n",
            "  inflating: data/TRAIN/DR7/MCLK0/SI1660.WAV.wav  \n",
            "  inflating: data/TRAIN/DR7/MCLK0/SI1660.WRD  \n",
            "  inflating: data/TRAIN/DR7/MCLK0/SI2290.PHN  \n",
            "  inflating: data/TRAIN/DR7/MCLK0/SI2290.TXT  \n",
            "  inflating: data/TRAIN/DR7/MCLK0/SI2290.WAV  \n",
            "  inflating: data/TRAIN/DR7/MCLK0/SI2290.WAV.wav  \n",
            "  inflating: data/TRAIN/DR7/MCLK0/SI2290.WRD  \n",
            "  inflating: data/TRAIN/DR7/MCLK0/SI650.PHN  \n",
            "  inflating: data/TRAIN/DR7/MCLK0/SI650.TXT  \n",
            "  inflating: data/TRAIN/DR7/MCLK0/SI650.WAV  \n",
            "  inflating: data/TRAIN/DR7/MCLK0/SI650.WAV.wav  \n",
            "  inflating: data/TRAIN/DR7/MCLK0/SI650.WRD  \n",
            "  inflating: data/TRAIN/DR7/MCLK0/SX130.PHN  \n",
            "  inflating: data/TRAIN/DR7/MCLK0/SX130.TXT  \n",
            "  inflating: data/TRAIN/DR7/MCLK0/SX130.WAV  \n",
            "  inflating: data/TRAIN/DR7/MCLK0/SX130.WAV.wav  \n",
            "  inflating: data/TRAIN/DR7/MCLK0/SX130.WRD  \n",
            "  inflating: data/TRAIN/DR7/MCLK0/SX220.PHN  \n",
            "  inflating: data/TRAIN/DR7/MCLK0/SX220.TXT  \n",
            "  inflating: data/TRAIN/DR7/MCLK0/SX220.WAV  \n",
            "  inflating: data/TRAIN/DR7/MCLK0/SX220.WAV.wav  \n",
            "  inflating: data/TRAIN/DR7/MCLK0/SX220.WRD  \n",
            "  inflating: data/TRAIN/DR7/MCLK0/SX310.PHN  \n",
            "  inflating: data/TRAIN/DR7/MCLK0/SX310.TXT  \n",
            "  inflating: data/TRAIN/DR7/MCLK0/SX310.WAV  \n",
            "  inflating: data/TRAIN/DR7/MCLK0/SX310.WAV.wav  \n",
            "  inflating: data/TRAIN/DR7/MCLK0/SX310.WRD  \n",
            "  inflating: data/TRAIN/DR7/MCLK0/SX40.PHN  \n",
            "  inflating: data/TRAIN/DR7/MCLK0/SX40.TXT  \n",
            "  inflating: data/TRAIN/DR7/MCLK0/SX40.WAV  \n",
            "  inflating: data/TRAIN/DR7/MCLK0/SX40.WAV.wav  \n",
            "  inflating: data/TRAIN/DR7/MCLK0/SX40.WRD  \n",
            "  inflating: data/TRAIN/DR7/MCLK0/SX400.PHN  \n",
            "  inflating: data/TRAIN/DR7/MCLK0/SX400.TXT  \n",
            "  inflating: data/TRAIN/DR7/MCLK0/SX400.WAV  \n",
            "  inflating: data/TRAIN/DR7/MCLK0/SX400.WAV.wav  \n",
            "  inflating: data/TRAIN/DR7/MCLK0/SX400.WRD  \n",
            "  inflating: data/TRAIN/DR7/MCRE0/SA1.PHN  \n",
            "  inflating: data/TRAIN/DR7/MCRE0/SA1.TXT  \n",
            "  inflating: data/TRAIN/DR7/MCRE0/SA1.WAV  \n",
            "  inflating: data/TRAIN/DR7/MCRE0/SA1.WAV.wav  \n",
            "  inflating: data/TRAIN/DR7/MCRE0/SA1.WRD  \n",
            "  inflating: data/TRAIN/DR7/MCRE0/SA2.PHN  \n",
            "  inflating: data/TRAIN/DR7/MCRE0/SA2.TXT  \n",
            "  inflating: data/TRAIN/DR7/MCRE0/SA2.WAV  \n",
            "  inflating: data/TRAIN/DR7/MCRE0/SA2.WAV.wav  \n",
            "  inflating: data/TRAIN/DR7/MCRE0/SA2.WRD  \n",
            "  inflating: data/TRAIN/DR7/MCRE0/SI1121.PHN  \n",
            "  inflating: data/TRAIN/DR7/MCRE0/SI1121.TXT  \n",
            "  inflating: data/TRAIN/DR7/MCRE0/SI1121.WAV  \n",
            "  inflating: data/TRAIN/DR7/MCRE0/SI1121.WAV.wav  \n",
            "  inflating: data/TRAIN/DR7/MCRE0/SI1121.WRD  \n",
            "  inflating: data/TRAIN/DR7/MCRE0/SI1725.PHN  \n",
            "  inflating: data/TRAIN/DR7/MCRE0/SI1725.TXT  \n",
            "  inflating: data/TRAIN/DR7/MCRE0/SI1725.WAV  \n",
            "  inflating: data/TRAIN/DR7/MCRE0/SI1725.WAV.wav  \n",
            "  inflating: data/TRAIN/DR7/MCRE0/SI1725.WRD  \n",
            "  inflating: data/TRAIN/DR7/MCRE0/SI1751.PHN  \n",
            "  inflating: data/TRAIN/DR7/MCRE0/SI1751.TXT  \n",
            "  inflating: data/TRAIN/DR7/MCRE0/SI1751.WAV  \n",
            "  inflating: data/TRAIN/DR7/MCRE0/SI1751.WAV.wav  \n",
            "  inflating: data/TRAIN/DR7/MCRE0/SI1751.WRD  \n",
            "  inflating: data/TRAIN/DR7/MCRE0/SX131.PHN  \n",
            "  inflating: data/TRAIN/DR7/MCRE0/SX131.TXT  \n",
            "  inflating: data/TRAIN/DR7/MCRE0/SX131.WAV  \n",
            "  inflating: data/TRAIN/DR7/MCRE0/SX131.WAV.wav  \n",
            "  inflating: data/TRAIN/DR7/MCRE0/SX131.WRD  \n",
            "  inflating: data/TRAIN/DR7/MCRE0/SX221.PHN  \n",
            "  inflating: data/TRAIN/DR7/MCRE0/SX221.TXT  \n",
            "  inflating: data/TRAIN/DR7/MCRE0/SX221.WAV  \n",
            "  inflating: data/TRAIN/DR7/MCRE0/SX221.WAV.wav  \n",
            "  inflating: data/TRAIN/DR7/MCRE0/SX221.WRD  \n",
            "  inflating: data/TRAIN/DR7/MCRE0/SX24.PHN  \n",
            "  inflating: data/TRAIN/DR7/MCRE0/SX24.TXT  \n",
            "  inflating: data/TRAIN/DR7/MCRE0/SX24.WAV  \n",
            "  inflating: data/TRAIN/DR7/MCRE0/SX24.WAV.wav  \n",
            "  inflating: data/TRAIN/DR7/MCRE0/SX24.WRD  \n",
            "  inflating: data/TRAIN/DR7/MCRE0/SX401.PHN  \n",
            "  inflating: data/TRAIN/DR7/MCRE0/SX401.TXT  \n",
            "  inflating: data/TRAIN/DR7/MCRE0/SX401.WAV  \n",
            "  inflating: data/TRAIN/DR7/MCRE0/SX401.WAV.wav  \n",
            "  inflating: data/TRAIN/DR7/MCRE0/SX401.WRD  \n",
            "  inflating: data/TRAIN/DR7/MCRE0/SX41.PHN  \n",
            "  inflating: data/TRAIN/DR7/MCRE0/SX41.TXT  \n",
            "  inflating: data/TRAIN/DR7/MCRE0/SX41.WAV  \n",
            "  inflating: data/TRAIN/DR7/MCRE0/SX41.WAV.wav  \n",
            "  inflating: data/TRAIN/DR7/MCRE0/SX41.WRD  \n",
            "  inflating: data/TRAIN/DR7/MCTH0/SA1.PHN  \n",
            "  inflating: data/TRAIN/DR7/MCTH0/SA1.TXT  \n",
            "  inflating: data/TRAIN/DR7/MCTH0/SA1.WAV  \n",
            "  inflating: data/TRAIN/DR7/MCTH0/SA1.WAV.wav  \n",
            "  inflating: data/TRAIN/DR7/MCTH0/SA1.WRD  \n",
            "  inflating: data/TRAIN/DR7/MCTH0/SA2.PHN  \n",
            "  inflating: data/TRAIN/DR7/MCTH0/SA2.TXT  \n",
            "  inflating: data/TRAIN/DR7/MCTH0/SA2.WAV  \n",
            "  inflating: data/TRAIN/DR7/MCTH0/SA2.WAV.wav  \n",
            "  inflating: data/TRAIN/DR7/MCTH0/SA2.WRD  \n",
            "  inflating: data/TRAIN/DR7/MCTH0/SI1209.PHN  \n",
            "  inflating: data/TRAIN/DR7/MCTH0/SI1209.TXT  \n",
            "  inflating: data/TRAIN/DR7/MCTH0/SI1209.WAV  \n",
            "  inflating: data/TRAIN/DR7/MCTH0/SI1209.WAV.wav  \n",
            "  inflating: data/TRAIN/DR7/MCTH0/SI1209.WRD  \n",
            "  inflating: data/TRAIN/DR7/MCTH0/SI1839.PHN  \n",
            "  inflating: data/TRAIN/DR7/MCTH0/SI1839.TXT  \n",
            "  inflating: data/TRAIN/DR7/MCTH0/SI1839.WAV  \n",
            "  inflating: data/TRAIN/DR7/MCTH0/SI1839.WAV.wav  \n",
            "  inflating: data/TRAIN/DR7/MCTH0/SI1839.WRD  \n",
            "  inflating: data/TRAIN/DR7/MCTH0/SI579.PHN  \n",
            "  inflating: data/TRAIN/DR7/MCTH0/SI579.TXT  \n",
            "  inflating: data/TRAIN/DR7/MCTH0/SI579.WAV  \n",
            "  inflating: data/TRAIN/DR7/MCTH0/SI579.WAV.wav  \n",
            "  inflating: data/TRAIN/DR7/MCTH0/SI579.WRD  \n",
            "  inflating: data/TRAIN/DR7/MCTH0/SX129.PHN  \n",
            "  inflating: data/TRAIN/DR7/MCTH0/SX129.TXT  \n",
            "  inflating: data/TRAIN/DR7/MCTH0/SX129.WAV  \n",
            "  inflating: data/TRAIN/DR7/MCTH0/SX129.WAV.wav  \n",
            "  inflating: data/TRAIN/DR7/MCTH0/SX129.WRD  \n",
            "  inflating: data/TRAIN/DR7/MCTH0/SX219.PHN  \n",
            "  inflating: data/TRAIN/DR7/MCTH0/SX219.TXT  \n",
            "  inflating: data/TRAIN/DR7/MCTH0/SX219.WAV  \n",
            "  inflating: data/TRAIN/DR7/MCTH0/SX219.WAV.wav  \n",
            "  inflating: data/TRAIN/DR7/MCTH0/SX219.WRD  \n",
            "  inflating: data/TRAIN/DR7/MCTH0/SX309.PHN  \n",
            "  inflating: data/TRAIN/DR7/MCTH0/SX309.TXT  \n",
            "  inflating: data/TRAIN/DR7/MCTH0/SX309.WAV  \n",
            "  inflating: data/TRAIN/DR7/MCTH0/SX309.WAV.wav  \n",
            "  inflating: data/TRAIN/DR7/MCTH0/SX309.WRD  \n",
            "  inflating: data/TRAIN/DR7/MCTH0/SX39.PHN  \n",
            "  inflating: data/TRAIN/DR7/MCTH0/SX39.TXT  \n",
            "  inflating: data/TRAIN/DR7/MCTH0/SX39.WAV  \n",
            "  inflating: data/TRAIN/DR7/MCTH0/SX39.WAV.wav  \n",
            "  inflating: data/TRAIN/DR7/MCTH0/SX39.WRD  \n",
            "  inflating: data/TRAIN/DR7/MCTH0/SX399.PHN  \n",
            "  inflating: data/TRAIN/DR7/MCTH0/SX399.TXT  \n",
            "  inflating: data/TRAIN/DR7/MCTH0/SX399.WAV  \n",
            "  inflating: data/TRAIN/DR7/MCTH0/SX399.WAV.wav  \n",
            "  inflating: data/TRAIN/DR7/MCTH0/SX399.WRD  \n",
            "  inflating: data/TRAIN/DR7/MDCM0/SA1.PHN  \n",
            "  inflating: data/TRAIN/DR7/MDCM0/SA1.TXT  \n",
            "  inflating: data/TRAIN/DR7/MDCM0/SA1.WAV  \n",
            "  inflating: data/TRAIN/DR7/MDCM0/SA1.WAV.wav  \n",
            "  inflating: data/TRAIN/DR7/MDCM0/SA1.WRD  \n",
            "  inflating: data/TRAIN/DR7/MDCM0/SA2.PHN  \n",
            "  inflating: data/TRAIN/DR7/MDCM0/SA2.TXT  \n",
            "  inflating: data/TRAIN/DR7/MDCM0/SA2.WAV  \n",
            "  inflating: data/TRAIN/DR7/MDCM0/SA2.WAV.wav  \n",
            "  inflating: data/TRAIN/DR7/MDCM0/SA2.WRD  \n",
            "  inflating: data/TRAIN/DR7/MDCM0/SI1480.PHN  \n",
            "  inflating: data/TRAIN/DR7/MDCM0/SI1480.TXT  \n",
            "  inflating: data/TRAIN/DR7/MDCM0/SI1480.WAV  \n",
            "  inflating: data/TRAIN/DR7/MDCM0/SI1480.WAV.wav  \n",
            "  inflating: data/TRAIN/DR7/MDCM0/SI1480.WRD  \n",
            "  inflating: data/TRAIN/DR7/MDCM0/SI2110.PHN  \n",
            "  inflating: data/TRAIN/DR7/MDCM0/SI2110.TXT  \n",
            "  inflating: data/TRAIN/DR7/MDCM0/SI2110.WAV  \n",
            "  inflating: data/TRAIN/DR7/MDCM0/SI2110.WAV.wav  \n",
            "  inflating: data/TRAIN/DR7/MDCM0/SI2110.WRD  \n",
            "  inflating: data/TRAIN/DR7/MDCM0/SI850.PHN  \n",
            "  inflating: data/TRAIN/DR7/MDCM0/SI850.TXT  \n",
            "  inflating: data/TRAIN/DR7/MDCM0/SI850.WAV  \n",
            "  inflating: data/TRAIN/DR7/MDCM0/SI850.WAV.wav  \n",
            "  inflating: data/TRAIN/DR7/MDCM0/SI850.WRD  \n",
            "  inflating: data/TRAIN/DR7/MDCM0/SX130.PHN  \n",
            "  inflating: data/TRAIN/DR7/MDCM0/SX130.TXT  \n",
            "  inflating: data/TRAIN/DR7/MDCM0/SX130.WAV  \n",
            "  inflating: data/TRAIN/DR7/MDCM0/SX130.WAV.wav  \n",
            "  inflating: data/TRAIN/DR7/MDCM0/SX130.WRD  \n",
            "  inflating: data/TRAIN/DR7/MDCM0/SX220.PHN  \n",
            "  inflating: data/TRAIN/DR7/MDCM0/SX220.TXT  \n",
            "  inflating: data/TRAIN/DR7/MDCM0/SX220.WAV  \n",
            "  inflating: data/TRAIN/DR7/MDCM0/SX220.WAV.wav  \n",
            "  inflating: data/TRAIN/DR7/MDCM0/SX220.WRD  \n",
            "  inflating: data/TRAIN/DR7/MDCM0/SX310.PHN  \n",
            "  inflating: data/TRAIN/DR7/MDCM0/SX310.TXT  \n",
            "  inflating: data/TRAIN/DR7/MDCM0/SX310.WAV  \n",
            "  inflating: data/TRAIN/DR7/MDCM0/SX310.WAV.wav  \n",
            "  inflating: data/TRAIN/DR7/MDCM0/SX310.WRD  \n",
            "  inflating: data/TRAIN/DR7/MDCM0/SX40.PHN  \n",
            "  inflating: data/TRAIN/DR7/MDCM0/SX40.TXT  \n",
            "  inflating: data/TRAIN/DR7/MDCM0/SX40.WAV  \n",
            "  inflating: data/TRAIN/DR7/MDCM0/SX40.WAV.wav  \n",
            "  inflating: data/TRAIN/DR7/MDCM0/SX40.WRD  \n",
            "  inflating: data/TRAIN/DR7/MDCM0/SX400.PHN  \n",
            "  inflating: data/TRAIN/DR7/MDCM0/SX400.TXT  \n",
            "  inflating: data/TRAIN/DR7/MDCM0/SX400.WAV  \n",
            "  inflating: data/TRAIN/DR7/MDCM0/SX400.WAV.wav  \n",
            "  inflating: data/TRAIN/DR7/MDCM0/SX400.WRD  \n",
            "  inflating: data/TRAIN/DR7/MDED0/SA1.PHN  \n",
            "  inflating: data/TRAIN/DR7/MDED0/SA1.TXT  \n",
            "  inflating: data/TRAIN/DR7/MDED0/SA1.WAV  \n",
            "  inflating: data/TRAIN/DR7/MDED0/SA1.WAV.wav  \n",
            "  inflating: data/TRAIN/DR7/MDED0/SA1.WRD  \n",
            "  inflating: data/TRAIN/DR7/MDED0/SA2.PHN  \n",
            "  inflating: data/TRAIN/DR7/MDED0/SA2.TXT  \n",
            "  inflating: data/TRAIN/DR7/MDED0/SA2.WAV  \n",
            "  inflating: data/TRAIN/DR7/MDED0/SA2.WAV.wav  \n",
            "  inflating: data/TRAIN/DR7/MDED0/SA2.WRD  \n",
            "  inflating: data/TRAIN/DR7/MDED0/SI1170.PHN  \n",
            "  inflating: data/TRAIN/DR7/MDED0/SI1170.TXT  \n",
            "  inflating: data/TRAIN/DR7/MDED0/SI1170.WAV  \n",
            "  inflating: data/TRAIN/DR7/MDED0/SI1170.WAV.wav  \n",
            "  inflating: data/TRAIN/DR7/MDED0/SI1170.WRD  \n",
            "  inflating: data/TRAIN/DR7/MDED0/SI1800.PHN  \n",
            "  inflating: data/TRAIN/DR7/MDED0/SI1800.TXT  \n",
            "  inflating: data/TRAIN/DR7/MDED0/SI1800.WAV  \n",
            "  inflating: data/TRAIN/DR7/MDED0/SI1800.WAV.wav  \n",
            "  inflating: data/TRAIN/DR7/MDED0/SI1800.WRD  \n",
            "  inflating: data/TRAIN/DR7/MDED0/SI540.PHN  \n",
            "  inflating: data/TRAIN/DR7/MDED0/SI540.TXT  \n",
            "  inflating: data/TRAIN/DR7/MDED0/SI540.WAV  \n",
            "  inflating: data/TRAIN/DR7/MDED0/SI540.WAV.wav  \n",
            "  inflating: data/TRAIN/DR7/MDED0/SI540.WRD  \n",
            "  inflating: data/TRAIN/DR7/MDED0/SX180.PHN  \n",
            "  inflating: data/TRAIN/DR7/MDED0/SX180.TXT  \n",
            "  inflating: data/TRAIN/DR7/MDED0/SX180.WAV  \n",
            "  inflating: data/TRAIN/DR7/MDED0/SX180.WAV.wav  \n",
            "  inflating: data/TRAIN/DR7/MDED0/SX180.WRD  \n",
            "  inflating: data/TRAIN/DR7/MDED0/SX270.PHN  \n",
            "  inflating: data/TRAIN/DR7/MDED0/SX270.TXT  \n",
            "  inflating: data/TRAIN/DR7/MDED0/SX270.WAV  \n",
            "  inflating: data/TRAIN/DR7/MDED0/SX270.WAV.wav  \n",
            "  inflating: data/TRAIN/DR7/MDED0/SX270.WRD  \n",
            "  inflating: data/TRAIN/DR7/MDED0/SX360.PHN  \n",
            "  inflating: data/TRAIN/DR7/MDED0/SX360.TXT  \n",
            "  inflating: data/TRAIN/DR7/MDED0/SX360.WAV  \n",
            "  inflating: data/TRAIN/DR7/MDED0/SX360.WAV.wav  \n",
            "  inflating: data/TRAIN/DR7/MDED0/SX360.WRD  \n",
            "  inflating: data/TRAIN/DR7/MDED0/SX450.PHN  \n",
            "  inflating: data/TRAIN/DR7/MDED0/SX450.TXT  \n",
            "  inflating: data/TRAIN/DR7/MDED0/SX450.WAV  \n",
            "  inflating: data/TRAIN/DR7/MDED0/SX450.WAV.wav  \n",
            "  inflating: data/TRAIN/DR7/MDED0/SX450.WRD  \n",
            "  inflating: data/TRAIN/DR7/MDED0/SX90.PHN  \n",
            "  inflating: data/TRAIN/DR7/MDED0/SX90.TXT  \n",
            "  inflating: data/TRAIN/DR7/MDED0/SX90.WAV  \n",
            "  inflating: data/TRAIN/DR7/MDED0/SX90.WAV.wav  \n",
            "  inflating: data/TRAIN/DR7/MDED0/SX90.WRD  \n",
            "  inflating: data/TRAIN/DR7/MDKS0/SA1.PHN  \n",
            "  inflating: data/TRAIN/DR7/MDKS0/SA1.TXT  \n",
            "  inflating: data/TRAIN/DR7/MDKS0/SA1.WAV  \n",
            "  inflating: data/TRAIN/DR7/MDKS0/SA1.WAV.wav  \n",
            "  inflating: data/TRAIN/DR7/MDKS0/SA1.WRD  \n",
            "  inflating: data/TRAIN/DR7/MDKS0/SA2.PHN  \n",
            "  inflating: data/TRAIN/DR7/MDKS0/SA2.TXT  \n",
            "  inflating: data/TRAIN/DR7/MDKS0/SA2.WAV  \n",
            "  inflating: data/TRAIN/DR7/MDKS0/SA2.WAV.wav  \n",
            "  inflating: data/TRAIN/DR7/MDKS0/SA2.WRD  \n",
            "  inflating: data/TRAIN/DR7/MDKS0/SI1066.PHN  \n",
            "  inflating: data/TRAIN/DR7/MDKS0/SI1066.TXT  \n",
            "  inflating: data/TRAIN/DR7/MDKS0/SI1066.WAV  \n",
            "  inflating: data/TRAIN/DR7/MDKS0/SI1066.WAV.wav  \n",
            "  inflating: data/TRAIN/DR7/MDKS0/SI1066.WRD  \n",
            "  inflating: data/TRAIN/DR7/MDKS0/SI1696.PHN  \n",
            "  inflating: data/TRAIN/DR7/MDKS0/SI1696.TXT  \n",
            "  inflating: data/TRAIN/DR7/MDKS0/SI1696.WAV  \n",
            "  inflating: data/TRAIN/DR7/MDKS0/SI1696.WAV.wav  \n",
            "  inflating: data/TRAIN/DR7/MDKS0/SI1696.WRD  \n",
            "  inflating: data/TRAIN/DR7/MDKS0/SI2326.PHN  \n",
            "  inflating: data/TRAIN/DR7/MDKS0/SI2326.TXT  \n",
            "  inflating: data/TRAIN/DR7/MDKS0/SI2326.WAV  \n",
            "  inflating: data/TRAIN/DR7/MDKS0/SI2326.WAV.wav  \n",
            "  inflating: data/TRAIN/DR7/MDKS0/SI2326.WRD  \n",
            "  inflating: data/TRAIN/DR7/MDKS0/SX166.PHN  \n",
            "  inflating: data/TRAIN/DR7/MDKS0/SX166.TXT  \n",
            "  inflating: data/TRAIN/DR7/MDKS0/SX166.WAV  \n",
            "  inflating: data/TRAIN/DR7/MDKS0/SX166.WAV.wav  \n",
            "  inflating: data/TRAIN/DR7/MDKS0/SX166.WRD  \n",
            "  inflating: data/TRAIN/DR7/MDKS0/SX256.PHN  \n",
            "  inflating: data/TRAIN/DR7/MDKS0/SX256.TXT  \n",
            "  inflating: data/TRAIN/DR7/MDKS0/SX256.WAV  \n",
            "  inflating: data/TRAIN/DR7/MDKS0/SX256.WAV.wav  \n",
            "  inflating: data/TRAIN/DR7/MDKS0/SX256.WRD  \n",
            "  inflating: data/TRAIN/DR7/MDKS0/SX346.PHN  \n",
            "  inflating: data/TRAIN/DR7/MDKS0/SX346.TXT  \n",
            "  inflating: data/TRAIN/DR7/MDKS0/SX346.WAV  \n",
            "  inflating: data/TRAIN/DR7/MDKS0/SX346.WAV.wav  \n",
            "  inflating: data/TRAIN/DR7/MDKS0/SX346.WRD  \n",
            "  inflating: data/TRAIN/DR7/MDKS0/SX436.PHN  \n",
            "  inflating: data/TRAIN/DR7/MDKS0/SX436.TXT  \n",
            "  inflating: data/TRAIN/DR7/MDKS0/SX436.WAV  \n",
            "  inflating: data/TRAIN/DR7/MDKS0/SX436.WAV.wav  \n",
            "  inflating: data/TRAIN/DR7/MDKS0/SX436.WRD  \n",
            "  inflating: data/TRAIN/DR7/MDKS0/SX76.PHN  \n",
            "  inflating: data/TRAIN/DR7/MDKS0/SX76.TXT  \n",
            "  inflating: data/TRAIN/DR7/MDKS0/SX76.WAV  \n",
            "  inflating: data/TRAIN/DR7/MDKS0/SX76.WAV.wav  \n",
            "  inflating: data/TRAIN/DR7/MDKS0/SX76.WRD  \n",
            "  inflating: data/TRAIN/DR7/MDLC1/SA1.PHN  \n",
            "  inflating: data/TRAIN/DR7/MDLC1/SA1.TXT  \n",
            "  inflating: data/TRAIN/DR7/MDLC1/SA1.WAV  \n",
            "  inflating: data/TRAIN/DR7/MDLC1/SA1.WAV.wav  \n",
            "  inflating: data/TRAIN/DR7/MDLC1/SA1.WRD  \n",
            "  inflating: data/TRAIN/DR7/MDLC1/SA2.PHN  \n",
            "  inflating: data/TRAIN/DR7/MDLC1/SA2.TXT  \n",
            "  inflating: data/TRAIN/DR7/MDLC1/SA2.WAV  \n",
            "  inflating: data/TRAIN/DR7/MDLC1/SA2.WAV.wav  \n",
            "  inflating: data/TRAIN/DR7/MDLC1/SA2.WRD  \n",
            "  inflating: data/TRAIN/DR7/MDLC1/SI1435.PHN  \n",
            "  inflating: data/TRAIN/DR7/MDLC1/SI1435.TXT  \n",
            "  inflating: data/TRAIN/DR7/MDLC1/SI1435.WAV  \n",
            "  inflating: data/TRAIN/DR7/MDLC1/SI1435.WAV.wav  \n",
            "  inflating: data/TRAIN/DR7/MDLC1/SI1435.WRD  \n",
            "  inflating: data/TRAIN/DR7/MDLC1/SI2065.PHN  \n",
            "  inflating: data/TRAIN/DR7/MDLC1/SI2065.TXT  \n",
            "  inflating: data/TRAIN/DR7/MDLC1/SI2065.WAV  \n",
            "  inflating: data/TRAIN/DR7/MDLC1/SI2065.WAV.wav  \n",
            "  inflating: data/TRAIN/DR7/MDLC1/SI2065.WRD  \n",
            "  inflating: data/TRAIN/DR7/MDLC1/SI2144.PHN  \n",
            "  inflating: data/TRAIN/DR7/MDLC1/SI2144.TXT  \n",
            "  inflating: data/TRAIN/DR7/MDLC1/SI2144.WAV  \n",
            "  inflating: data/TRAIN/DR7/MDLC1/SI2144.WAV.wav  \n",
            "  inflating: data/TRAIN/DR7/MDLC1/SI2144.WRD  \n",
            "  inflating: data/TRAIN/DR7/MDLC1/SX175.PHN  \n",
            "  inflating: data/TRAIN/DR7/MDLC1/SX175.TXT  \n",
            "  inflating: data/TRAIN/DR7/MDLC1/SX175.WAV  \n",
            "  inflating: data/TRAIN/DR7/MDLC1/SX175.WAV.wav  \n",
            "  inflating: data/TRAIN/DR7/MDLC1/SX175.WRD  \n",
            "  inflating: data/TRAIN/DR7/MDLC1/SX265.PHN  \n",
            "  inflating: data/TRAIN/DR7/MDLC1/SX265.TXT  \n",
            "  inflating: data/TRAIN/DR7/MDLC1/SX265.WAV  \n",
            "  inflating: data/TRAIN/DR7/MDLC1/SX265.WAV.wav  \n",
            "  inflating: data/TRAIN/DR7/MDLC1/SX265.WRD  \n",
            "  inflating: data/TRAIN/DR7/MDLC1/SX355.PHN  \n",
            "  inflating: data/TRAIN/DR7/MDLC1/SX355.TXT  \n",
            "  inflating: data/TRAIN/DR7/MDLC1/SX355.WAV  \n",
            "  inflating: data/TRAIN/DR7/MDLC1/SX355.WAV.wav  \n",
            "  inflating: data/TRAIN/DR7/MDLC1/SX355.WRD  \n",
            "  inflating: data/TRAIN/DR7/MDLC1/SX445.PHN  \n",
            "  inflating: data/TRAIN/DR7/MDLC1/SX445.TXT  \n",
            "  inflating: data/TRAIN/DR7/MDLC1/SX445.WAV  \n",
            "  inflating: data/TRAIN/DR7/MDLC1/SX445.WAV.wav  \n",
            "  inflating: data/TRAIN/DR7/MDLC1/SX445.WRD  \n",
            "  inflating: data/TRAIN/DR7/MDLC1/SX85.PHN  \n",
            "  inflating: data/TRAIN/DR7/MDLC1/SX85.TXT  \n",
            "  inflating: data/TRAIN/DR7/MDLC1/SX85.WAV  \n",
            "  inflating: data/TRAIN/DR7/MDLC1/SX85.WAV.wav  \n",
            "  inflating: data/TRAIN/DR7/MDLC1/SX85.WRD  \n",
            "  inflating: data/TRAIN/DR7/MDLM0/SA1.PHN  \n",
            "  inflating: data/TRAIN/DR7/MDLM0/SA1.TXT  \n",
            "  inflating: data/TRAIN/DR7/MDLM0/SA1.WAV  \n",
            "  inflating: data/TRAIN/DR7/MDLM0/SA1.WAV.wav  \n",
            "  inflating: data/TRAIN/DR7/MDLM0/SA1.WRD  \n",
            "  inflating: data/TRAIN/DR7/MDLM0/SA2.PHN  \n",
            "  inflating: data/TRAIN/DR7/MDLM0/SA2.TXT  \n",
            "  inflating: data/TRAIN/DR7/MDLM0/SA2.WAV  \n",
            "  inflating: data/TRAIN/DR7/MDLM0/SA2.WAV.wav  \n",
            "  inflating: data/TRAIN/DR7/MDLM0/SA2.WRD  \n",
            "  inflating: data/TRAIN/DR7/MDLM0/SI1234.PHN  \n",
            "  inflating: data/TRAIN/DR7/MDLM0/SI1234.TXT  \n",
            "  inflating: data/TRAIN/DR7/MDLM0/SI1234.WAV  \n",
            "  inflating: data/TRAIN/DR7/MDLM0/SI1234.WAV.wav  \n",
            "  inflating: data/TRAIN/DR7/MDLM0/SI1234.WRD  \n",
            "  inflating: data/TRAIN/DR7/MDLM0/SI1864.PHN  \n",
            "  inflating: data/TRAIN/DR7/MDLM0/SI1864.TXT  \n",
            "  inflating: data/TRAIN/DR7/MDLM0/SI1864.WAV  \n",
            "  inflating: data/TRAIN/DR7/MDLM0/SI1864.WAV.wav  \n",
            "  inflating: data/TRAIN/DR7/MDLM0/SI1864.WRD  \n",
            "  inflating: data/TRAIN/DR7/MDLM0/SI604.PHN  \n",
            "  inflating: data/TRAIN/DR7/MDLM0/SI604.TXT  \n",
            "  inflating: data/TRAIN/DR7/MDLM0/SI604.WAV  \n",
            "  inflating: data/TRAIN/DR7/MDLM0/SI604.WAV.wav  \n",
            "  inflating: data/TRAIN/DR7/MDLM0/SI604.WRD  \n",
            "  inflating: data/TRAIN/DR7/MDLM0/SX154.PHN  \n",
            "  inflating: data/TRAIN/DR7/MDLM0/SX154.TXT  \n",
            "  inflating: data/TRAIN/DR7/MDLM0/SX154.WAV  \n",
            "  inflating: data/TRAIN/DR7/MDLM0/SX154.WAV.wav  \n",
            "  inflating: data/TRAIN/DR7/MDLM0/SX154.WRD  \n",
            "  inflating: data/TRAIN/DR7/MDLM0/SX244.PHN  \n",
            "  inflating: data/TRAIN/DR7/MDLM0/SX244.TXT  \n",
            "  inflating: data/TRAIN/DR7/MDLM0/SX244.WAV  \n",
            "  inflating: data/TRAIN/DR7/MDLM0/SX244.WAV.wav  \n",
            "  inflating: data/TRAIN/DR7/MDLM0/SX244.WRD  \n",
            "  inflating: data/TRAIN/DR7/MDLM0/SX334.PHN  \n",
            "  inflating: data/TRAIN/DR7/MDLM0/SX334.TXT  \n",
            "  inflating: data/TRAIN/DR7/MDLM0/SX334.WAV  \n",
            "  inflating: data/TRAIN/DR7/MDLM0/SX334.WAV.wav  \n",
            "  inflating: data/TRAIN/DR7/MDLM0/SX334.WRD  \n",
            "  inflating: data/TRAIN/DR7/MDLM0/SX424.PHN  \n",
            "  inflating: data/TRAIN/DR7/MDLM0/SX424.TXT  \n",
            "  inflating: data/TRAIN/DR7/MDLM0/SX424.WAV  \n",
            "  inflating: data/TRAIN/DR7/MDLM0/SX424.WAV.wav  \n",
            "  inflating: data/TRAIN/DR7/MDLM0/SX424.WRD  \n",
            "  inflating: data/TRAIN/DR7/MDLM0/SX64.PHN  \n",
            "  inflating: data/TRAIN/DR7/MDLM0/SX64.TXT  \n",
            "  inflating: data/TRAIN/DR7/MDLM0/SX64.WAV  \n",
            "  inflating: data/TRAIN/DR7/MDLM0/SX64.WAV.wav  \n",
            "  inflating: data/TRAIN/DR7/MDLM0/SX64.WRD  \n",
            "  inflating: data/TRAIN/DR7/MDLR0/SA1.PHN  \n",
            "  inflating: data/TRAIN/DR7/MDLR0/SA1.TXT  \n",
            "  inflating: data/TRAIN/DR7/MDLR0/SA1.WAV  \n",
            "  inflating: data/TRAIN/DR7/MDLR0/SA1.WAV.wav  \n",
            "  inflating: data/TRAIN/DR7/MDLR0/SA1.WRD  \n",
            "  inflating: data/TRAIN/DR7/MDLR0/SA2.PHN  \n",
            "  inflating: data/TRAIN/DR7/MDLR0/SA2.TXT  \n",
            "  inflating: data/TRAIN/DR7/MDLR0/SA2.WAV  \n",
            "  inflating: data/TRAIN/DR7/MDLR0/SA2.WAV.wav  \n",
            "  inflating: data/TRAIN/DR7/MDLR0/SA2.WRD  \n",
            "  inflating: data/TRAIN/DR7/MDLR0/SI1233.PHN  \n",
            "  inflating: data/TRAIN/DR7/MDLR0/SI1233.TXT  \n",
            "  inflating: data/TRAIN/DR7/MDLR0/SI1233.WAV  \n",
            "  inflating: data/TRAIN/DR7/MDLR0/SI1233.WAV.wav  \n",
            "  inflating: data/TRAIN/DR7/MDLR0/SI1233.WRD  \n",
            "  inflating: data/TRAIN/DR7/MDLR0/SI1863.PHN  \n",
            "  inflating: data/TRAIN/DR7/MDLR0/SI1863.TXT  \n",
            "  inflating: data/TRAIN/DR7/MDLR0/SI1863.WAV  \n",
            "  inflating: data/TRAIN/DR7/MDLR0/SI1863.WAV.wav  \n",
            "  inflating: data/TRAIN/DR7/MDLR0/SI1863.WRD  \n",
            "  inflating: data/TRAIN/DR7/MDLR0/SI603.PHN  \n",
            "  inflating: data/TRAIN/DR7/MDLR0/SI603.TXT  \n",
            "  inflating: data/TRAIN/DR7/MDLR0/SI603.WAV  \n",
            "  inflating: data/TRAIN/DR7/MDLR0/SI603.WAV.wav  \n",
            "  inflating: data/TRAIN/DR7/MDLR0/SI603.WRD  \n",
            "  inflating: data/TRAIN/DR7/MDLR0/SX153.PHN  \n",
            "  inflating: data/TRAIN/DR7/MDLR0/SX153.TXT  \n",
            "  inflating: data/TRAIN/DR7/MDLR0/SX153.WAV  \n",
            "  inflating: data/TRAIN/DR7/MDLR0/SX153.WAV.wav  \n",
            "  inflating: data/TRAIN/DR7/MDLR0/SX153.WRD  \n",
            "  inflating: data/TRAIN/DR7/MDLR0/SX243.PHN  \n",
            "  inflating: data/TRAIN/DR7/MDLR0/SX243.TXT  \n",
            "  inflating: data/TRAIN/DR7/MDLR0/SX243.WAV  \n",
            "  inflating: data/TRAIN/DR7/MDLR0/SX243.WAV.wav  \n",
            "  inflating: data/TRAIN/DR7/MDLR0/SX243.WRD  \n",
            "  inflating: data/TRAIN/DR7/MDLR0/SX333.PHN  \n",
            "  inflating: data/TRAIN/DR7/MDLR0/SX333.TXT  \n",
            "  inflating: data/TRAIN/DR7/MDLR0/SX333.WAV  \n",
            "  inflating: data/TRAIN/DR7/MDLR0/SX333.WAV.wav  \n",
            "  inflating: data/TRAIN/DR7/MDLR0/SX333.WRD  \n",
            "  inflating: data/TRAIN/DR7/MDLR0/SX423.PHN  \n",
            "  inflating: data/TRAIN/DR7/MDLR0/SX423.TXT  \n",
            "  inflating: data/TRAIN/DR7/MDLR0/SX423.WAV  \n",
            "  inflating: data/TRAIN/DR7/MDLR0/SX423.WAV.wav  \n",
            "  inflating: data/TRAIN/DR7/MDLR0/SX423.WRD  \n",
            "  inflating: data/TRAIN/DR7/MDLR0/SX63.PHN  \n",
            "  inflating: data/TRAIN/DR7/MDLR0/SX63.TXT  \n",
            "  inflating: data/TRAIN/DR7/MDLR0/SX63.WAV  \n",
            "  inflating: data/TRAIN/DR7/MDLR0/SX63.WAV.wav  \n",
            "  inflating: data/TRAIN/DR7/MDLR0/SX63.WRD  \n",
            "  inflating: data/TRAIN/DR7/MDLR1/SA1.PHN  \n",
            "  inflating: data/TRAIN/DR7/MDLR1/SA1.TXT  \n",
            "  inflating: data/TRAIN/DR7/MDLR1/SA1.WAV  \n",
            "  inflating: data/TRAIN/DR7/MDLR1/SA1.WAV.wav  \n",
            "  inflating: data/TRAIN/DR7/MDLR1/SA1.WRD  \n",
            "  inflating: data/TRAIN/DR7/MDLR1/SA2.PHN  \n",
            "  inflating: data/TRAIN/DR7/MDLR1/SA2.TXT  \n",
            "  inflating: data/TRAIN/DR7/MDLR1/SA2.WAV  \n",
            "  inflating: data/TRAIN/DR7/MDLR1/SA2.WAV.wav  \n",
            "  inflating: data/TRAIN/DR7/MDLR1/SA2.WRD  \n",
            "  inflating: data/TRAIN/DR7/MDLR1/SI1299.PHN  \n",
            "  inflating: data/TRAIN/DR7/MDLR1/SI1299.TXT  \n",
            "  inflating: data/TRAIN/DR7/MDLR1/SI1299.WAV  \n",
            "  inflating: data/TRAIN/DR7/MDLR1/SI1299.WAV.wav  \n",
            "  inflating: data/TRAIN/DR7/MDLR1/SI1299.WRD  \n",
            "  inflating: data/TRAIN/DR7/MDLR1/SI1929.PHN  \n",
            "  inflating: data/TRAIN/DR7/MDLR1/SI1929.TXT  \n",
            "  inflating: data/TRAIN/DR7/MDLR1/SI1929.WAV  \n",
            "  inflating: data/TRAIN/DR7/MDLR1/SI1929.WAV.wav  \n",
            "  inflating: data/TRAIN/DR7/MDLR1/SI1929.WRD  \n",
            "  inflating: data/TRAIN/DR7/MDLR1/SI669.PHN  \n",
            "  inflating: data/TRAIN/DR7/MDLR1/SI669.TXT  \n",
            "  inflating: data/TRAIN/DR7/MDLR1/SI669.WAV  \n",
            "  inflating: data/TRAIN/DR7/MDLR1/SI669.WAV.wav  \n",
            "  inflating: data/TRAIN/DR7/MDLR1/SI669.WRD  \n",
            "  inflating: data/TRAIN/DR7/MDLR1/SX129.PHN  \n",
            "  inflating: data/TRAIN/DR7/MDLR1/SX129.TXT  \n",
            "  inflating: data/TRAIN/DR7/MDLR1/SX129.WAV  \n",
            "  inflating: data/TRAIN/DR7/MDLR1/SX129.WAV.wav  \n",
            "  inflating: data/TRAIN/DR7/MDLR1/SX129.WRD  \n",
            "  inflating: data/TRAIN/DR7/MDLR1/SX219.PHN  \n",
            "  inflating: data/TRAIN/DR7/MDLR1/SX219.TXT  \n",
            "  inflating: data/TRAIN/DR7/MDLR1/SX219.WAV  \n",
            "  inflating: data/TRAIN/DR7/MDLR1/SX219.WAV.wav  \n",
            "  inflating: data/TRAIN/DR7/MDLR1/SX219.WRD  \n",
            "  inflating: data/TRAIN/DR7/MDLR1/SX309.PHN  \n",
            "  inflating: data/TRAIN/DR7/MDLR1/SX309.TXT  \n",
            "  inflating: data/TRAIN/DR7/MDLR1/SX309.WAV  \n",
            "  inflating: data/TRAIN/DR7/MDLR1/SX309.WAV.wav  \n",
            "  inflating: data/TRAIN/DR7/MDLR1/SX309.WRD  \n",
            "  inflating: data/TRAIN/DR7/MDLR1/SX39.PHN  \n",
            "  inflating: data/TRAIN/DR7/MDLR1/SX39.TXT  \n",
            "  inflating: data/TRAIN/DR7/MDLR1/SX39.WAV  \n",
            "  inflating: data/TRAIN/DR7/MDLR1/SX39.WAV.wav  \n",
            "  inflating: data/TRAIN/DR7/MDLR1/SX39.WRD  \n",
            "  inflating: data/TRAIN/DR7/MDLR1/SX399.PHN  \n",
            "  inflating: data/TRAIN/DR7/MDLR1/SX399.TXT  \n",
            "  inflating: data/TRAIN/DR7/MDLR1/SX399.WAV  \n",
            "  inflating: data/TRAIN/DR7/MDLR1/SX399.WAV.wav  \n",
            "  inflating: data/TRAIN/DR7/MDLR1/SX399.WRD  \n",
            "  inflating: data/TRAIN/DR7/MDPB0/SA1.PHN  \n",
            "  inflating: data/TRAIN/DR7/MDPB0/SA1.TXT  \n",
            "  inflating: data/TRAIN/DR7/MDPB0/SA1.WAV  \n",
            "  inflating: data/TRAIN/DR7/MDPB0/SA1.WAV.wav  \n",
            "  inflating: data/TRAIN/DR7/MDPB0/SA1.WRD  \n",
            "  inflating: data/TRAIN/DR7/MDPB0/SA2.PHN  \n",
            "  inflating: data/TRAIN/DR7/MDPB0/SA2.TXT  \n",
            "  inflating: data/TRAIN/DR7/MDPB0/SA2.WAV  \n",
            "  inflating: data/TRAIN/DR7/MDPB0/SA2.WAV.wav  \n",
            "  inflating: data/TRAIN/DR7/MDPB0/SA2.WRD  \n",
            "  inflating: data/TRAIN/DR7/MDPB0/SI1760.PHN  \n",
            "  inflating: data/TRAIN/DR7/MDPB0/SI1760.TXT  \n",
            "  inflating: data/TRAIN/DR7/MDPB0/SI1760.WAV  \n",
            "  inflating: data/TRAIN/DR7/MDPB0/SI1760.WAV.wav  \n",
            "  inflating: data/TRAIN/DR7/MDPB0/SI1760.WRD  \n",
            "  inflating: data/TRAIN/DR7/MDPB0/SI2126.PHN  \n",
            "  inflating: data/TRAIN/DR7/MDPB0/SI2126.TXT  \n",
            "  inflating: data/TRAIN/DR7/MDPB0/SI2126.WAV  \n",
            "  inflating: data/TRAIN/DR7/MDPB0/SI2126.WAV.wav  \n",
            "  inflating: data/TRAIN/DR7/MDPB0/SI2126.WRD  \n",
            "  inflating: data/TRAIN/DR7/MDPB0/SI866.PHN  \n",
            "  inflating: data/TRAIN/DR7/MDPB0/SI866.TXT  \n",
            "  inflating: data/TRAIN/DR7/MDPB0/SI866.WAV  \n",
            "  inflating: data/TRAIN/DR7/MDPB0/SI866.WAV.wav  \n",
            "  inflating: data/TRAIN/DR7/MDPB0/SI866.WRD  \n",
            "  inflating: data/TRAIN/DR7/MDPB0/SX146.PHN  \n",
            "  inflating: data/TRAIN/DR7/MDPB0/SX146.TXT  \n",
            "  inflating: data/TRAIN/DR7/MDPB0/SX146.WAV  \n",
            "  inflating: data/TRAIN/DR7/MDPB0/SX146.WAV.wav  \n",
            "  inflating: data/TRAIN/DR7/MDPB0/SX146.WRD  \n",
            "  inflating: data/TRAIN/DR7/MDPB0/SX236.PHN  \n",
            "  inflating: data/TRAIN/DR7/MDPB0/SX236.TXT  \n",
            "  inflating: data/TRAIN/DR7/MDPB0/SX236.WAV  \n",
            "  inflating: data/TRAIN/DR7/MDPB0/SX236.WAV.wav  \n",
            "  inflating: data/TRAIN/DR7/MDPB0/SX236.WRD  \n",
            "  inflating: data/TRAIN/DR7/MDPB0/SX326.PHN  \n",
            "  inflating: data/TRAIN/DR7/MDPB0/SX326.TXT  \n",
            "  inflating: data/TRAIN/DR7/MDPB0/SX326.WAV  \n",
            "  inflating: data/TRAIN/DR7/MDPB0/SX326.WAV.wav  \n",
            "  inflating: data/TRAIN/DR7/MDPB0/SX326.WRD  \n",
            "  inflating: data/TRAIN/DR7/MDPB0/SX416.PHN  \n",
            "  inflating: data/TRAIN/DR7/MDPB0/SX416.TXT  \n",
            "  inflating: data/TRAIN/DR7/MDPB0/SX416.WAV  \n",
            "  inflating: data/TRAIN/DR7/MDPB0/SX416.WAV.wav  \n",
            "  inflating: data/TRAIN/DR7/MDPB0/SX416.WRD  \n",
            "  inflating: data/TRAIN/DR7/MDPB0/SX56.PHN  \n",
            "  inflating: data/TRAIN/DR7/MDPB0/SX56.TXT  \n",
            "  inflating: data/TRAIN/DR7/MDPB0/SX56.WAV  \n",
            "  inflating: data/TRAIN/DR7/MDPB0/SX56.WAV.wav  \n",
            "  inflating: data/TRAIN/DR7/MDPB0/SX56.WRD  \n",
            "  inflating: data/TRAIN/DR7/MFXS0/SA1.PHN  \n",
            "  inflating: data/TRAIN/DR7/MFXS0/SA1.TXT  \n",
            "  inflating: data/TRAIN/DR7/MFXS0/SA1.WAV  \n",
            "  inflating: data/TRAIN/DR7/MFXS0/SA1.WAV.wav  \n",
            "  inflating: data/TRAIN/DR7/MFXS0/SA1.WRD  \n",
            "  inflating: data/TRAIN/DR7/MFXS0/SA2.PHN  \n",
            "  inflating: data/TRAIN/DR7/MFXS0/SA2.TXT  \n",
            "  inflating: data/TRAIN/DR7/MFXS0/SA2.WAV  \n",
            "  inflating: data/TRAIN/DR7/MFXS0/SA2.WAV.wav  \n",
            "  inflating: data/TRAIN/DR7/MFXS0/SA2.WRD  \n",
            "  inflating: data/TRAIN/DR7/MFXS0/SI1674.PHN  \n",
            "  inflating: data/TRAIN/DR7/MFXS0/SI1674.TXT  \n",
            "  inflating: data/TRAIN/DR7/MFXS0/SI1674.WAV  \n",
            "  inflating: data/TRAIN/DR7/MFXS0/SI1674.WAV.wav  \n",
            "  inflating: data/TRAIN/DR7/MFXS0/SI1674.WRD  \n",
            "  inflating: data/TRAIN/DR7/MFXS0/SI2225.PHN  \n",
            "  inflating: data/TRAIN/DR7/MFXS0/SI2225.TXT  \n",
            "  inflating: data/TRAIN/DR7/MFXS0/SI2225.WAV  \n",
            "  inflating: data/TRAIN/DR7/MFXS0/SI2225.WAV.wav  \n",
            "  inflating: data/TRAIN/DR7/MFXS0/SI2225.WRD  \n",
            "  inflating: data/TRAIN/DR7/MFXS0/SI2304.PHN  \n",
            "  inflating: data/TRAIN/DR7/MFXS0/SI2304.TXT  \n",
            "  inflating: data/TRAIN/DR7/MFXS0/SI2304.WAV  \n",
            "  inflating: data/TRAIN/DR7/MFXS0/SI2304.WAV.wav  \n",
            "  inflating: data/TRAIN/DR7/MFXS0/SI2304.WRD  \n",
            "  inflating: data/TRAIN/DR7/MFXS0/SX144.PHN  \n",
            "  inflating: data/TRAIN/DR7/MFXS0/SX144.TXT  \n",
            "  inflating: data/TRAIN/DR7/MFXS0/SX144.WAV  \n",
            "  inflating: data/TRAIN/DR7/MFXS0/SX144.WAV.wav  \n",
            "  inflating: data/TRAIN/DR7/MFXS0/SX144.WRD  \n",
            "  inflating: data/TRAIN/DR7/MFXS0/SX234.PHN  \n",
            "  inflating: data/TRAIN/DR7/MFXS0/SX234.TXT  \n",
            "  inflating: data/TRAIN/DR7/MFXS0/SX234.WAV  \n",
            "  inflating: data/TRAIN/DR7/MFXS0/SX234.WAV.wav  \n",
            "  inflating: data/TRAIN/DR7/MFXS0/SX234.WRD  \n",
            "  inflating: data/TRAIN/DR7/MFXS0/SX324.PHN  \n",
            "  inflating: data/TRAIN/DR7/MFXS0/SX324.TXT  \n",
            "  inflating: data/TRAIN/DR7/MFXS0/SX324.WAV  \n",
            "  inflating: data/TRAIN/DR7/MFXS0/SX324.WAV.wav  \n",
            "  inflating: data/TRAIN/DR7/MFXS0/SX324.WRD  \n",
            "  inflating: data/TRAIN/DR7/MFXS0/SX414.PHN  \n",
            "  inflating: data/TRAIN/DR7/MFXS0/SX414.TXT  \n",
            "  inflating: data/TRAIN/DR7/MFXS0/SX414.WAV  \n",
            "  inflating: data/TRAIN/DR7/MFXS0/SX414.WAV.wav  \n",
            "  inflating: data/TRAIN/DR7/MFXS0/SX414.WRD  \n",
            "  inflating: data/TRAIN/DR7/MFXS0/SX54.PHN  \n",
            "  inflating: data/TRAIN/DR7/MFXS0/SX54.TXT  \n",
            "  inflating: data/TRAIN/DR7/MFXS0/SX54.WAV  \n",
            "  inflating: data/TRAIN/DR7/MFXS0/SX54.WAV.wav  \n",
            "  inflating: data/TRAIN/DR7/MFXS0/SX54.WRD  \n",
            "  inflating: data/TRAIN/DR7/MFXV0/SA1.PHN  \n",
            "  inflating: data/TRAIN/DR7/MFXV0/SA1.TXT  \n",
            "  inflating: data/TRAIN/DR7/MFXV0/SA1.WAV  \n",
            "  inflating: data/TRAIN/DR7/MFXV0/SA1.WAV.wav  \n",
            "  inflating: data/TRAIN/DR7/MFXV0/SA1.WRD  \n",
            "  inflating: data/TRAIN/DR7/MFXV0/SA2.PHN  \n",
            "  inflating: data/TRAIN/DR7/MFXV0/SA2.TXT  \n",
            "  inflating: data/TRAIN/DR7/MFXV0/SA2.WAV  \n",
            "  inflating: data/TRAIN/DR7/MFXV0/SA2.WAV.wav  \n",
            "  inflating: data/TRAIN/DR7/MFXV0/SA2.WRD  \n",
            "  inflating: data/TRAIN/DR7/MFXV0/SI1005.PHN  \n",
            "  inflating: data/TRAIN/DR7/MFXV0/SI1005.TXT  \n",
            "  inflating: data/TRAIN/DR7/MFXV0/SI1005.WAV  \n",
            "  inflating: data/TRAIN/DR7/MFXV0/SI1005.WAV.wav  \n",
            "  inflating: data/TRAIN/DR7/MFXV0/SI1005.WRD  \n",
            "  inflating: data/TRAIN/DR7/MFXV0/SI1342.PHN  \n",
            "  inflating: data/TRAIN/DR7/MFXV0/SI1342.TXT  \n",
            "  inflating: data/TRAIN/DR7/MFXV0/SI1342.WAV  \n",
            "  inflating: data/TRAIN/DR7/MFXV0/SI1342.WAV.wav  \n",
            "  inflating: data/TRAIN/DR7/MFXV0/SI1342.WRD  \n",
            "  inflating: data/TRAIN/DR7/MFXV0/SI1635.PHN  \n",
            "  inflating: data/TRAIN/DR7/MFXV0/SI1635.TXT  \n",
            "  inflating: data/TRAIN/DR7/MFXV0/SI1635.WAV  \n",
            "  inflating: data/TRAIN/DR7/MFXV0/SI1635.WAV.wav  \n",
            "  inflating: data/TRAIN/DR7/MFXV0/SI1635.WRD  \n",
            "  inflating: data/TRAIN/DR7/MFXV0/SX105.PHN  \n",
            "  inflating: data/TRAIN/DR7/MFXV0/SX105.TXT  \n",
            "  inflating: data/TRAIN/DR7/MFXV0/SX105.WAV  \n",
            "  inflating: data/TRAIN/DR7/MFXV0/SX105.WAV.wav  \n",
            "  inflating: data/TRAIN/DR7/MFXV0/SX105.WRD  \n",
            "  inflating: data/TRAIN/DR7/MFXV0/SX15.PHN  \n",
            "  inflating: data/TRAIN/DR7/MFXV0/SX15.TXT  \n",
            "  inflating: data/TRAIN/DR7/MFXV0/SX15.WAV  \n",
            "  inflating: data/TRAIN/DR7/MFXV0/SX15.WAV.wav  \n",
            "  inflating: data/TRAIN/DR7/MFXV0/SX15.WRD  \n",
            "  inflating: data/TRAIN/DR7/MFXV0/SX195.PHN  \n",
            "  inflating: data/TRAIN/DR7/MFXV0/SX195.TXT  \n",
            "  inflating: data/TRAIN/DR7/MFXV0/SX195.WAV  \n",
            "  inflating: data/TRAIN/DR7/MFXV0/SX195.WAV.wav  \n",
            "  inflating: data/TRAIN/DR7/MFXV0/SX195.WRD  \n",
            "  inflating: data/TRAIN/DR7/MFXV0/SX285.PHN  \n",
            "  inflating: data/TRAIN/DR7/MFXV0/SX285.TXT  \n",
            "  inflating: data/TRAIN/DR7/MFXV0/SX285.WAV  \n",
            "  inflating: data/TRAIN/DR7/MFXV0/SX285.WAV.wav  \n",
            "  inflating: data/TRAIN/DR7/MFXV0/SX285.WRD  \n",
            "  inflating: data/TRAIN/DR7/MFXV0/SX375.PHN  \n",
            "  inflating: data/TRAIN/DR7/MFXV0/SX375.TXT  \n",
            "  inflating: data/TRAIN/DR7/MFXV0/SX375.WAV  \n",
            "  inflating: data/TRAIN/DR7/MFXV0/SX375.WAV.wav  \n",
            "  inflating: data/TRAIN/DR7/MFXV0/SX375.WRD  \n",
            "  inflating: data/TRAIN/DR7/MGAK0/SA1.PHN  \n",
            "  inflating: data/TRAIN/DR7/MGAK0/SA1.TXT  \n",
            "  inflating: data/TRAIN/DR7/MGAK0/SA1.WAV  \n",
            "  inflating: data/TRAIN/DR7/MGAK0/SA1.WAV.wav  \n",
            "  inflating: data/TRAIN/DR7/MGAK0/SA1.WRD  \n",
            "  inflating: data/TRAIN/DR7/MGAK0/SA2.PHN  \n",
            "  inflating: data/TRAIN/DR7/MGAK0/SA2.TXT  \n",
            "  inflating: data/TRAIN/DR7/MGAK0/SA2.WAV  \n",
            "  inflating: data/TRAIN/DR7/MGAK0/SA2.WAV.wav  \n",
            "  inflating: data/TRAIN/DR7/MGAK0/SA2.WRD  \n",
            "  inflating: data/TRAIN/DR7/MGAK0/SI1036.PHN  \n",
            "  inflating: data/TRAIN/DR7/MGAK0/SI1036.TXT  \n",
            "  inflating: data/TRAIN/DR7/MGAK0/SI1036.WAV  \n",
            "  inflating: data/TRAIN/DR7/MGAK0/SI1036.WAV.wav  \n",
            "  inflating: data/TRAIN/DR7/MGAK0/SI1036.WRD  \n",
            "  inflating: data/TRAIN/DR7/MGAK0/SI1666.PHN  \n",
            "  inflating: data/TRAIN/DR7/MGAK0/SI1666.TXT  \n",
            "  inflating: data/TRAIN/DR7/MGAK0/SI1666.WAV  \n",
            "  inflating: data/TRAIN/DR7/MGAK0/SI1666.WAV.wav  \n",
            "  inflating: data/TRAIN/DR7/MGAK0/SI1666.WRD  \n",
            "  inflating: data/TRAIN/DR7/MGAK0/SI2296.PHN  \n",
            "  inflating: data/TRAIN/DR7/MGAK0/SI2296.TXT  \n",
            "  inflating: data/TRAIN/DR7/MGAK0/SI2296.WAV  \n",
            "  inflating: data/TRAIN/DR7/MGAK0/SI2296.WAV.wav  \n",
            "  inflating: data/TRAIN/DR7/MGAK0/SI2296.WRD  \n",
            "  inflating: data/TRAIN/DR7/MGAK0/SX136.PHN  \n",
            "  inflating: data/TRAIN/DR7/MGAK0/SX136.TXT  \n",
            "  inflating: data/TRAIN/DR7/MGAK0/SX136.WAV  \n",
            "  inflating: data/TRAIN/DR7/MGAK0/SX136.WAV.wav  \n",
            "  inflating: data/TRAIN/DR7/MGAK0/SX136.WRD  \n",
            "  inflating: data/TRAIN/DR7/MGAK0/SX226.PHN  \n",
            "  inflating: data/TRAIN/DR7/MGAK0/SX226.TXT  \n",
            "  inflating: data/TRAIN/DR7/MGAK0/SX226.WAV  \n",
            "  inflating: data/TRAIN/DR7/MGAK0/SX226.WAV.wav  \n",
            "  inflating: data/TRAIN/DR7/MGAK0/SX226.WRD  \n",
            "  inflating: data/TRAIN/DR7/MGAK0/SX316.PHN  \n",
            "  inflating: data/TRAIN/DR7/MGAK0/SX316.TXT  \n",
            "  inflating: data/TRAIN/DR7/MGAK0/SX316.WAV  \n",
            "  inflating: data/TRAIN/DR7/MGAK0/SX316.WAV.wav  \n",
            "  inflating: data/TRAIN/DR7/MGAK0/SX316.WRD  \n",
            "  inflating: data/TRAIN/DR7/MGAK0/SX406.PHN  \n",
            "  inflating: data/TRAIN/DR7/MGAK0/SX406.TXT  \n",
            "  inflating: data/TRAIN/DR7/MGAK0/SX406.WAV  \n",
            "  inflating: data/TRAIN/DR7/MGAK0/SX406.WAV.wav  \n",
            "  inflating: data/TRAIN/DR7/MGAK0/SX406.WRD  \n",
            "  inflating: data/TRAIN/DR7/MGAK0/SX46.PHN  \n",
            "  inflating: data/TRAIN/DR7/MGAK0/SX46.TXT  \n",
            "  inflating: data/TRAIN/DR7/MGAK0/SX46.WAV  \n",
            "  inflating: data/TRAIN/DR7/MGAK0/SX46.WAV.wav  \n",
            "  inflating: data/TRAIN/DR7/MGAK0/SX46.WRD  \n",
            "  inflating: data/TRAIN/DR7/MGAR0/SA1.PHN  \n",
            "  inflating: data/TRAIN/DR7/MGAR0/SA1.TXT  \n",
            "  inflating: data/TRAIN/DR7/MGAR0/SA1.WAV  \n",
            "  inflating: data/TRAIN/DR7/MGAR0/SA1.WAV.wav  \n",
            "  inflating: data/TRAIN/DR7/MGAR0/SA1.WRD  \n",
            "  inflating: data/TRAIN/DR7/MGAR0/SA2.PHN  \n",
            "  inflating: data/TRAIN/DR7/MGAR0/SA2.TXT  \n",
            "  inflating: data/TRAIN/DR7/MGAR0/SA2.WAV  \n",
            "  inflating: data/TRAIN/DR7/MGAR0/SA2.WAV.wav  \n",
            "  inflating: data/TRAIN/DR7/MGAR0/SA2.WRD  \n",
            "  inflating: data/TRAIN/DR7/MGAR0/SI1212.PHN  \n",
            "  inflating: data/TRAIN/DR7/MGAR0/SI1212.TXT  \n",
            "  inflating: data/TRAIN/DR7/MGAR0/SI1212.WAV  \n",
            "  inflating: data/TRAIN/DR7/MGAR0/SI1212.WAV.wav  \n",
            "  inflating: data/TRAIN/DR7/MGAR0/SI1212.WRD  \n",
            "  inflating: data/TRAIN/DR7/MGAR0/SI1694.PHN  \n",
            "  inflating: data/TRAIN/DR7/MGAR0/SI1694.TXT  \n",
            "  inflating: data/TRAIN/DR7/MGAR0/SI1694.WAV  \n",
            "  inflating: data/TRAIN/DR7/MGAR0/SI1694.WAV.wav  \n",
            "  inflating: data/TRAIN/DR7/MGAR0/SI1694.WRD  \n",
            "  inflating: data/TRAIN/DR7/MGAR0/SI1842.PHN  \n",
            "  inflating: data/TRAIN/DR7/MGAR0/SI1842.TXT  \n",
            "  inflating: data/TRAIN/DR7/MGAR0/SI1842.WAV  \n",
            "  inflating: data/TRAIN/DR7/MGAR0/SI1842.WAV.wav  \n",
            "  inflating: data/TRAIN/DR7/MGAR0/SI1842.WRD  \n",
            "  inflating: data/TRAIN/DR7/MGAR0/SX132.PHN  \n",
            "  inflating: data/TRAIN/DR7/MGAR0/SX132.TXT  \n",
            "  inflating: data/TRAIN/DR7/MGAR0/SX132.WAV  \n",
            "  inflating: data/TRAIN/DR7/MGAR0/SX132.WAV.wav  \n",
            "  inflating: data/TRAIN/DR7/MGAR0/SX132.WRD  \n",
            "  inflating: data/TRAIN/DR7/MGAR0/SX222.PHN  \n",
            "  inflating: data/TRAIN/DR7/MGAR0/SX222.TXT  \n",
            "  inflating: data/TRAIN/DR7/MGAR0/SX222.WAV  \n",
            "  inflating: data/TRAIN/DR7/MGAR0/SX222.WAV.wav  \n",
            "  inflating: data/TRAIN/DR7/MGAR0/SX222.WRD  \n",
            "  inflating: data/TRAIN/DR7/MGAR0/SX312.PHN  \n",
            "  inflating: data/TRAIN/DR7/MGAR0/SX312.TXT  \n",
            "  inflating: data/TRAIN/DR7/MGAR0/SX312.WAV  \n",
            "  inflating: data/TRAIN/DR7/MGAR0/SX312.WAV.wav  \n",
            "  inflating: data/TRAIN/DR7/MGAR0/SX312.WRD  \n",
            "  inflating: data/TRAIN/DR7/MGAR0/SX402.PHN  \n",
            "  inflating: data/TRAIN/DR7/MGAR0/SX402.TXT  \n",
            "  inflating: data/TRAIN/DR7/MGAR0/SX402.WAV  \n",
            "  inflating: data/TRAIN/DR7/MGAR0/SX402.WAV.wav  \n",
            "  inflating: data/TRAIN/DR7/MGAR0/SX402.WRD  \n",
            "  inflating: data/TRAIN/DR7/MGAR0/SX42.PHN  \n",
            "  inflating: data/TRAIN/DR7/MGAR0/SX42.TXT  \n",
            "  inflating: data/TRAIN/DR7/MGAR0/SX42.WAV  \n",
            "  inflating: data/TRAIN/DR7/MGAR0/SX42.WAV.wav  \n",
            "  inflating: data/TRAIN/DR7/MGAR0/SX42.WRD  \n",
            "  inflating: data/TRAIN/DR7/MGAW0/SA1.PHN  \n",
            "  inflating: data/TRAIN/DR7/MGAW0/SA1.TXT  \n",
            "  inflating: data/TRAIN/DR7/MGAW0/SA1.WAV  \n",
            "  inflating: data/TRAIN/DR7/MGAW0/SA1.WAV.wav  \n",
            "  inflating: data/TRAIN/DR7/MGAW0/SA1.WRD  \n",
            "  inflating: data/TRAIN/DR7/MGAW0/SA2.PHN  \n",
            "  inflating: data/TRAIN/DR7/MGAW0/SA2.TXT  \n",
            "  inflating: data/TRAIN/DR7/MGAW0/SA2.WAV  \n",
            "  inflating: data/TRAIN/DR7/MGAW0/SA2.WAV.wav  \n",
            "  inflating: data/TRAIN/DR7/MGAW0/SA2.WRD  \n",
            "  inflating: data/TRAIN/DR7/MGAW0/SI1165.PHN  \n",
            "  inflating: data/TRAIN/DR7/MGAW0/SI1165.TXT  \n",
            "  inflating: data/TRAIN/DR7/MGAW0/SI1165.WAV  \n",
            "  inflating: data/TRAIN/DR7/MGAW0/SI1165.WAV.wav  \n",
            "  inflating: data/TRAIN/DR7/MGAW0/SI1165.WRD  \n",
            "  inflating: data/TRAIN/DR7/MGAW0/SI1802.PHN  \n",
            "  inflating: data/TRAIN/DR7/MGAW0/SI1802.TXT  \n",
            "  inflating: data/TRAIN/DR7/MGAW0/SI1802.WAV  \n",
            "  inflating: data/TRAIN/DR7/MGAW0/SI1802.WAV.wav  \n",
            "  inflating: data/TRAIN/DR7/MGAW0/SI1802.WRD  \n",
            "  inflating: data/TRAIN/DR7/MGAW0/SI535.PHN  \n",
            "  inflating: data/TRAIN/DR7/MGAW0/SI535.TXT  \n",
            "  inflating: data/TRAIN/DR7/MGAW0/SI535.WAV  \n",
            "  inflating: data/TRAIN/DR7/MGAW0/SI535.WAV.wav  \n",
            "  inflating: data/TRAIN/DR7/MGAW0/SI535.WRD  \n",
            "  inflating: data/TRAIN/DR7/MGAW0/SX175.PHN  \n",
            "  inflating: data/TRAIN/DR7/MGAW0/SX175.TXT  \n",
            "  inflating: data/TRAIN/DR7/MGAW0/SX175.WAV  \n",
            "  inflating: data/TRAIN/DR7/MGAW0/SX175.WAV.wav  \n",
            "  inflating: data/TRAIN/DR7/MGAW0/SX175.WRD  \n",
            "  inflating: data/TRAIN/DR7/MGAW0/SX265.PHN  \n",
            "  inflating: data/TRAIN/DR7/MGAW0/SX265.TXT  \n",
            "  inflating: data/TRAIN/DR7/MGAW0/SX265.WAV  \n",
            "  inflating: data/TRAIN/DR7/MGAW0/SX265.WAV.wav  \n",
            "  inflating: data/TRAIN/DR7/MGAW0/SX265.WRD  \n",
            "  inflating: data/TRAIN/DR7/MGAW0/SX355.PHN  \n",
            "  inflating: data/TRAIN/DR7/MGAW0/SX355.TXT  \n",
            "  inflating: data/TRAIN/DR7/MGAW0/SX355.WAV  \n",
            "  inflating: data/TRAIN/DR7/MGAW0/SX355.WAV.wav  \n",
            "  inflating: data/TRAIN/DR7/MGAW0/SX355.WRD  \n",
            "  inflating: data/TRAIN/DR7/MGAW0/SX445.PHN  \n",
            "  inflating: data/TRAIN/DR7/MGAW0/SX445.TXT  \n",
            "  inflating: data/TRAIN/DR7/MGAW0/SX445.WAV  \n",
            "  inflating: data/TRAIN/DR7/MGAW0/SX445.WAV.wav  \n",
            "  inflating: data/TRAIN/DR7/MGAW0/SX445.WRD  \n",
            "  inflating: data/TRAIN/DR7/MGAW0/SX85.PHN  \n",
            "  inflating: data/TRAIN/DR7/MGAW0/SX85.TXT  \n",
            "  inflating: data/TRAIN/DR7/MGAW0/SX85.WAV  \n",
            "  inflating: data/TRAIN/DR7/MGAW0/SX85.WAV.wav  \n",
            "  inflating: data/TRAIN/DR7/MGAW0/SX85.WRD  \n",
            "  inflating: data/TRAIN/DR7/MGSL0/SA1.PHN  \n",
            "  inflating: data/TRAIN/DR7/MGSL0/SA1.TXT  \n",
            "  inflating: data/TRAIN/DR7/MGSL0/SA1.WAV  \n",
            "  inflating: data/TRAIN/DR7/MGSL0/SA1.WAV.wav  \n",
            "  inflating: data/TRAIN/DR7/MGSL0/SA1.WRD  \n",
            "  inflating: data/TRAIN/DR7/MGSL0/SA2.PHN  \n",
            "  inflating: data/TRAIN/DR7/MGSL0/SA2.TXT  \n",
            "  inflating: data/TRAIN/DR7/MGSL0/SA2.WAV  \n",
            "  inflating: data/TRAIN/DR7/MGSL0/SA2.WAV.wav  \n",
            "  inflating: data/TRAIN/DR7/MGSL0/SA2.WRD  \n",
            "  inflating: data/TRAIN/DR7/MGSL0/SI1164.PHN  \n",
            "  inflating: data/TRAIN/DR7/MGSL0/SI1164.TXT  \n",
            "  inflating: data/TRAIN/DR7/MGSL0/SI1164.WAV  \n",
            "  inflating: data/TRAIN/DR7/MGSL0/SI1164.WAV.wav  \n",
            "  inflating: data/TRAIN/DR7/MGSL0/SI1164.WRD  \n",
            "  inflating: data/TRAIN/DR7/MGSL0/SI534.PHN  \n",
            "  inflating: data/TRAIN/DR7/MGSL0/SI534.TXT  \n",
            "  inflating: data/TRAIN/DR7/MGSL0/SI534.WAV  \n",
            "  inflating: data/TRAIN/DR7/MGSL0/SI534.WAV.wav  \n",
            "  inflating: data/TRAIN/DR7/MGSL0/SI534.WRD  \n",
            "  inflating: data/TRAIN/DR7/MGSL0/SI797.PHN  \n",
            "  inflating: data/TRAIN/DR7/MGSL0/SI797.TXT  \n",
            "  inflating: data/TRAIN/DR7/MGSL0/SI797.WAV  \n",
            "  inflating: data/TRAIN/DR7/MGSL0/SI797.WAV.wav  \n",
            "  inflating: data/TRAIN/DR7/MGSL0/SI797.WRD  \n",
            "  inflating: data/TRAIN/DR7/MGSL0/SX174.PHN  \n",
            "  inflating: data/TRAIN/DR7/MGSL0/SX174.TXT  \n",
            "  inflating: data/TRAIN/DR7/MGSL0/SX174.WAV  \n",
            "  inflating: data/TRAIN/DR7/MGSL0/SX174.WAV.wav  \n",
            "  inflating: data/TRAIN/DR7/MGSL0/SX174.WRD  \n",
            "  inflating: data/TRAIN/DR7/MGSL0/SX264.PHN  \n",
            "  inflating: data/TRAIN/DR7/MGSL0/SX264.TXT  \n",
            "  inflating: data/TRAIN/DR7/MGSL0/SX264.WAV  \n",
            "  inflating: data/TRAIN/DR7/MGSL0/SX264.WAV.wav  \n",
            "  inflating: data/TRAIN/DR7/MGSL0/SX264.WRD  \n",
            "  inflating: data/TRAIN/DR7/MGSL0/SX354.PHN  \n",
            "  inflating: data/TRAIN/DR7/MGSL0/SX354.TXT  \n",
            "  inflating: data/TRAIN/DR7/MGSL0/SX354.WAV  \n",
            "  inflating: data/TRAIN/DR7/MGSL0/SX354.WAV.wav  \n",
            "  inflating: data/TRAIN/DR7/MGSL0/SX354.WRD  \n",
            "  inflating: data/TRAIN/DR7/MGSL0/SX444.PHN  \n",
            "  inflating: data/TRAIN/DR7/MGSL0/SX444.TXT  \n",
            "  inflating: data/TRAIN/DR7/MGSL0/SX444.WAV  \n",
            "  inflating: data/TRAIN/DR7/MGSL0/SX444.WAV.wav  \n",
            "  inflating: data/TRAIN/DR7/MGSL0/SX444.WRD  \n",
            "  inflating: data/TRAIN/DR7/MGSL0/SX84.PHN  \n",
            "  inflating: data/TRAIN/DR7/MGSL0/SX84.TXT  \n",
            "  inflating: data/TRAIN/DR7/MGSL0/SX84.WAV  \n",
            "  inflating: data/TRAIN/DR7/MGSL0/SX84.WAV.wav  \n",
            "  inflating: data/TRAIN/DR7/MGSL0/SX84.WRD  \n",
            "  inflating: data/TRAIN/DR7/MHBS0/SA1.PHN  \n",
            "  inflating: data/TRAIN/DR7/MHBS0/SA1.TXT  \n",
            "  inflating: data/TRAIN/DR7/MHBS0/SA1.WAV  \n",
            "  inflating: data/TRAIN/DR7/MHBS0/SA1.WAV.wav  \n",
            "  inflating: data/TRAIN/DR7/MHBS0/SA1.WRD  \n",
            "  inflating: data/TRAIN/DR7/MHBS0/SA2.PHN  \n",
            "  inflating: data/TRAIN/DR7/MHBS0/SA2.TXT  \n",
            "  inflating: data/TRAIN/DR7/MHBS0/SA2.WAV  \n",
            "  inflating: data/TRAIN/DR7/MHBS0/SA2.WAV.wav  \n",
            "  inflating: data/TRAIN/DR7/MHBS0/SA2.WRD  \n",
            "  inflating: data/TRAIN/DR7/MHBS0/SI1575.PHN  \n",
            "  inflating: data/TRAIN/DR7/MHBS0/SI1575.TXT  \n",
            "  inflating: data/TRAIN/DR7/MHBS0/SI1575.WAV  \n",
            "  inflating: data/TRAIN/DR7/MHBS0/SI1575.WAV.wav  \n",
            "  inflating: data/TRAIN/DR7/MHBS0/SI1575.WRD  \n",
            "  inflating: data/TRAIN/DR7/MHBS0/SI2205.PHN  \n",
            "  inflating: data/TRAIN/DR7/MHBS0/SI2205.TXT  \n",
            "  inflating: data/TRAIN/DR7/MHBS0/SI2205.WAV  \n",
            "  inflating: data/TRAIN/DR7/MHBS0/SI2205.WAV.wav  \n",
            "  inflating: data/TRAIN/DR7/MHBS0/SI2205.WRD  \n",
            "  inflating: data/TRAIN/DR7/MHBS0/SI945.PHN  \n",
            "  inflating: data/TRAIN/DR7/MHBS0/SI945.TXT  \n",
            "  inflating: data/TRAIN/DR7/MHBS0/SI945.WAV  \n",
            "  inflating: data/TRAIN/DR7/MHBS0/SI945.WAV.wav  \n",
            "  inflating: data/TRAIN/DR7/MHBS0/SI945.WRD  \n",
            "  inflating: data/TRAIN/DR7/MHBS0/SX135.PHN  \n",
            "  inflating: data/TRAIN/DR7/MHBS0/SX135.TXT  \n",
            "  inflating: data/TRAIN/DR7/MHBS0/SX135.WAV  \n",
            "  inflating: data/TRAIN/DR7/MHBS0/SX135.WAV.wav  \n",
            "  inflating: data/TRAIN/DR7/MHBS0/SX135.WRD  \n",
            "  inflating: data/TRAIN/DR7/MHBS0/SX225.PHN  \n",
            "  inflating: data/TRAIN/DR7/MHBS0/SX225.TXT  \n",
            "  inflating: data/TRAIN/DR7/MHBS0/SX225.WAV  \n",
            "  inflating: data/TRAIN/DR7/MHBS0/SX225.WAV.wav  \n",
            "  inflating: data/TRAIN/DR7/MHBS0/SX225.WRD  \n",
            "  inflating: data/TRAIN/DR7/MHBS0/SX315.PHN  \n",
            "  inflating: data/TRAIN/DR7/MHBS0/SX315.TXT  \n",
            "  inflating: data/TRAIN/DR7/MHBS0/SX315.WAV  \n",
            "  inflating: data/TRAIN/DR7/MHBS0/SX315.WAV.wav  \n",
            "  inflating: data/TRAIN/DR7/MHBS0/SX315.WRD  \n",
            "  inflating: data/TRAIN/DR7/MHBS0/SX405.PHN  \n",
            "  inflating: data/TRAIN/DR7/MHBS0/SX405.TXT  \n",
            "  inflating: data/TRAIN/DR7/MHBS0/SX405.WAV  \n",
            "  inflating: data/TRAIN/DR7/MHBS0/SX405.WAV.wav  \n",
            "  inflating: data/TRAIN/DR7/MHBS0/SX405.WRD  \n",
            "  inflating: data/TRAIN/DR7/MHBS0/SX45.PHN  \n",
            "  inflating: data/TRAIN/DR7/MHBS0/SX45.TXT  \n",
            "  inflating: data/TRAIN/DR7/MHBS0/SX45.WAV  \n",
            "  inflating: data/TRAIN/DR7/MHBS0/SX45.WAV.wav  \n",
            "  inflating: data/TRAIN/DR7/MHBS0/SX45.WRD  \n",
            "  inflating: data/TRAIN/DR7/MHXL0/SA1.PHN  \n",
            "  inflating: data/TRAIN/DR7/MHXL0/SA1.TXT  \n",
            "  inflating: data/TRAIN/DR7/MHXL0/SA1.WAV  \n",
            "  inflating: data/TRAIN/DR7/MHXL0/SA1.WAV.wav  \n",
            "  inflating: data/TRAIN/DR7/MHXL0/SA1.WRD  \n",
            "  inflating: data/TRAIN/DR7/MHXL0/SA2.PHN  \n",
            "  inflating: data/TRAIN/DR7/MHXL0/SA2.TXT  \n",
            "  inflating: data/TRAIN/DR7/MHXL0/SA2.WAV  \n",
            "  inflating: data/TRAIN/DR7/MHXL0/SA2.WAV.wav  \n",
            "  inflating: data/TRAIN/DR7/MHXL0/SA2.WRD  \n",
            "  inflating: data/TRAIN/DR7/MHXL0/SI1772.PHN  \n",
            "  inflating: data/TRAIN/DR7/MHXL0/SI1772.TXT  \n",
            "  inflating: data/TRAIN/DR7/MHXL0/SI1772.WAV  \n",
            "  inflating: data/TRAIN/DR7/MHXL0/SI1772.WAV.wav  \n",
            "  inflating: data/TRAIN/DR7/MHXL0/SI1772.WRD  \n",
            "  inflating: data/TRAIN/DR7/MHXL0/SI512.PHN  \n",
            "  inflating: data/TRAIN/DR7/MHXL0/SI512.TXT  \n",
            "  inflating: data/TRAIN/DR7/MHXL0/SI512.WAV  \n",
            "  inflating: data/TRAIN/DR7/MHXL0/SI512.WAV.wav  \n",
            "  inflating: data/TRAIN/DR7/MHXL0/SI512.WRD  \n",
            "  inflating: data/TRAIN/DR7/MHXL0/SI612.PHN  \n",
            "  inflating: data/TRAIN/DR7/MHXL0/SI612.TXT  \n",
            "  inflating: data/TRAIN/DR7/MHXL0/SI612.WAV  \n",
            "  inflating: data/TRAIN/DR7/MHXL0/SI612.WAV.wav  \n",
            "  inflating: data/TRAIN/DR7/MHXL0/SI612.WRD  \n",
            "  inflating: data/TRAIN/DR7/MHXL0/SX152.PHN  \n",
            "  inflating: data/TRAIN/DR7/MHXL0/SX152.TXT  \n",
            "  inflating: data/TRAIN/DR7/MHXL0/SX152.WAV  \n",
            "  inflating: data/TRAIN/DR7/MHXL0/SX152.WAV.wav  \n",
            "  inflating: data/TRAIN/DR7/MHXL0/SX152.WRD  \n",
            "  inflating: data/TRAIN/DR7/MHXL0/SX242.PHN  \n",
            "  inflating: data/TRAIN/DR7/MHXL0/SX242.TXT  \n",
            "  inflating: data/TRAIN/DR7/MHXL0/SX242.WAV  \n",
            "  inflating: data/TRAIN/DR7/MHXL0/SX242.WAV.wav  \n",
            "  inflating: data/TRAIN/DR7/MHXL0/SX242.WRD  \n",
            "  inflating: data/TRAIN/DR7/MHXL0/SX332.PHN  \n",
            "  inflating: data/TRAIN/DR7/MHXL0/SX332.TXT  \n",
            "  inflating: data/TRAIN/DR7/MHXL0/SX332.WAV  \n",
            "  inflating: data/TRAIN/DR7/MHXL0/SX332.WAV.wav  \n",
            "  inflating: data/TRAIN/DR7/MHXL0/SX332.WRD  \n",
            "  inflating: data/TRAIN/DR7/MHXL0/SX422.PHN  \n",
            "  inflating: data/TRAIN/DR7/MHXL0/SX422.TXT  \n",
            "  inflating: data/TRAIN/DR7/MHXL0/SX422.WAV  \n",
            "  inflating: data/TRAIN/DR7/MHXL0/SX422.WAV.wav  \n",
            "  inflating: data/TRAIN/DR7/MHXL0/SX422.WRD  \n",
            "  inflating: data/TRAIN/DR7/MHXL0/SX62.PHN  \n",
            "  inflating: data/TRAIN/DR7/MHXL0/SX62.TXT  \n",
            "  inflating: data/TRAIN/DR7/MHXL0/SX62.WAV  \n",
            "  inflating: data/TRAIN/DR7/MHXL0/SX62.WAV.wav  \n",
            "  inflating: data/TRAIN/DR7/MHXL0/SX62.WRD  \n",
            "  inflating: data/TRAIN/DR7/MJAI0/SA1.PHN  \n",
            "  inflating: data/TRAIN/DR7/MJAI0/SA1.TXT  \n",
            "  inflating: data/TRAIN/DR7/MJAI0/SA1.WAV  \n",
            "  inflating: data/TRAIN/DR7/MJAI0/SA1.WAV.wav  \n",
            "  inflating: data/TRAIN/DR7/MJAI0/SA1.WRD  \n",
            "  inflating: data/TRAIN/DR7/MJAI0/SA2.PHN  \n",
            "  inflating: data/TRAIN/DR7/MJAI0/SA2.TXT  \n",
            "  inflating: data/TRAIN/DR7/MJAI0/SA2.WAV  \n",
            "  inflating: data/TRAIN/DR7/MJAI0/SA2.WAV.wav  \n",
            "  inflating: data/TRAIN/DR7/MJAI0/SA2.WRD  \n",
            "  inflating: data/TRAIN/DR7/MJAI0/SI1604.PHN  \n",
            "  inflating: data/TRAIN/DR7/MJAI0/SI1604.TXT  \n",
            "  inflating: data/TRAIN/DR7/MJAI0/SI1604.WAV  \n",
            "  inflating: data/TRAIN/DR7/MJAI0/SI1604.WAV.wav  \n",
            "  inflating: data/TRAIN/DR7/MJAI0/SI1604.WRD  \n",
            "  inflating: data/TRAIN/DR7/MJAI0/SI682.PHN  \n",
            "  inflating: data/TRAIN/DR7/MJAI0/SI682.TXT  \n",
            "  inflating: data/TRAIN/DR7/MJAI0/SI682.WAV  \n",
            "  inflating: data/TRAIN/DR7/MJAI0/SI682.WAV.wav  \n",
            "  inflating: data/TRAIN/DR7/MJAI0/SI682.WRD  \n",
            "  inflating: data/TRAIN/DR7/MJAI0/SI710.PHN  \n",
            "  inflating: data/TRAIN/DR7/MJAI0/SI710.TXT  \n",
            "  inflating: data/TRAIN/DR7/MJAI0/SI710.WAV  \n",
            "  inflating: data/TRAIN/DR7/MJAI0/SI710.WAV.wav  \n",
            "  inflating: data/TRAIN/DR7/MJAI0/SI710.WRD  \n",
            "  inflating: data/TRAIN/DR7/MJAI0/SX164.PHN  \n",
            "  inflating: data/TRAIN/DR7/MJAI0/SX164.TXT  \n",
            "  inflating: data/TRAIN/DR7/MJAI0/SX164.WAV  \n",
            "  inflating: data/TRAIN/DR7/MJAI0/SX164.WAV.wav  \n",
            "  inflating: data/TRAIN/DR7/MJAI0/SX164.WRD  \n",
            "  inflating: data/TRAIN/DR7/MJAI0/SX254.PHN  \n",
            "  inflating: data/TRAIN/DR7/MJAI0/SX254.TXT  \n",
            "  inflating: data/TRAIN/DR7/MJAI0/SX254.WAV  \n",
            "  inflating: data/TRAIN/DR7/MJAI0/SX254.WAV.wav  \n",
            "  inflating: data/TRAIN/DR7/MJAI0/SX254.WRD  \n",
            "  inflating: data/TRAIN/DR7/MJAI0/SX344.PHN  \n",
            "  inflating: data/TRAIN/DR7/MJAI0/SX344.TXT  \n",
            "  inflating: data/TRAIN/DR7/MJAI0/SX344.WAV  \n",
            "  inflating: data/TRAIN/DR7/MJAI0/SX344.WAV.wav  \n",
            "  inflating: data/TRAIN/DR7/MJAI0/SX344.WRD  \n",
            "  inflating: data/TRAIN/DR7/MJAI0/SX434.PHN  \n",
            "  inflating: data/TRAIN/DR7/MJAI0/SX434.TXT  \n",
            "  inflating: data/TRAIN/DR7/MJAI0/SX434.WAV  \n",
            "  inflating: data/TRAIN/DR7/MJAI0/SX434.WAV.wav  \n",
            "  inflating: data/TRAIN/DR7/MJAI0/SX434.WRD  \n",
            "  inflating: data/TRAIN/DR7/MJAI0/SX74.PHN  \n",
            "  inflating: data/TRAIN/DR7/MJAI0/SX74.TXT  \n",
            "  inflating: data/TRAIN/DR7/MJAI0/SX74.WAV  \n",
            "  inflating: data/TRAIN/DR7/MJAI0/SX74.WAV.wav  \n",
            "  inflating: data/TRAIN/DR7/MJAI0/SX74.WRD  \n",
            "  inflating: data/TRAIN/DR7/MJDG0/SA1.PHN  \n",
            "  inflating: data/TRAIN/DR7/MJDG0/SA1.TXT  \n",
            "  inflating: data/TRAIN/DR7/MJDG0/SA1.WAV  \n",
            "  inflating: data/TRAIN/DR7/MJDG0/SA1.WAV.wav  \n",
            "  inflating: data/TRAIN/DR7/MJDG0/SA1.WRD  \n",
            "  inflating: data/TRAIN/DR7/MJDG0/SA2.PHN  \n",
            "  inflating: data/TRAIN/DR7/MJDG0/SA2.TXT  \n",
            "  inflating: data/TRAIN/DR7/MJDG0/SA2.WAV  \n",
            "  inflating: data/TRAIN/DR7/MJDG0/SA2.WAV.wav  \n",
            "  inflating: data/TRAIN/DR7/MJDG0/SA2.WRD  \n",
            "  inflating: data/TRAIN/DR7/MJDG0/SI1042.PHN  \n",
            "  inflating: data/TRAIN/DR7/MJDG0/SI1042.TXT  \n",
            "  inflating: data/TRAIN/DR7/MJDG0/SI1042.WAV  \n",
            "  inflating: data/TRAIN/DR7/MJDG0/SI1042.WAV.wav  \n",
            "  inflating: data/TRAIN/DR7/MJDG0/SI1042.WRD  \n",
            "  inflating: data/TRAIN/DR7/MJDG0/SI1672.PHN  \n",
            "  inflating: data/TRAIN/DR7/MJDG0/SI1672.TXT  \n",
            "  inflating: data/TRAIN/DR7/MJDG0/SI1672.WAV  \n",
            "  inflating: data/TRAIN/DR7/MJDG0/SI1672.WAV.wav  \n",
            "  inflating: data/TRAIN/DR7/MJDG0/SI1672.WRD  \n",
            "  inflating: data/TRAIN/DR7/MJDG0/SI1705.PHN  \n",
            "  inflating: data/TRAIN/DR7/MJDG0/SI1705.TXT  \n",
            "  inflating: data/TRAIN/DR7/MJDG0/SI1705.WAV  \n",
            "  inflating: data/TRAIN/DR7/MJDG0/SI1705.WAV.wav  \n",
            "  inflating: data/TRAIN/DR7/MJDG0/SI1705.WRD  \n",
            "  inflating: data/TRAIN/DR7/MJDG0/SX142.PHN  \n",
            "  inflating: data/TRAIN/DR7/MJDG0/SX142.TXT  \n",
            "  inflating: data/TRAIN/DR7/MJDG0/SX142.WAV  \n",
            "  inflating: data/TRAIN/DR7/MJDG0/SX142.WAV.wav  \n",
            "  inflating: data/TRAIN/DR7/MJDG0/SX142.WRD  \n",
            "  inflating: data/TRAIN/DR7/MJDG0/SX232.PHN  \n",
            "  inflating: data/TRAIN/DR7/MJDG0/SX232.TXT  \n",
            "  inflating: data/TRAIN/DR7/MJDG0/SX232.WAV  \n",
            "  inflating: data/TRAIN/DR7/MJDG0/SX232.WAV.wav  \n",
            "  inflating: data/TRAIN/DR7/MJDG0/SX232.WRD  \n",
            "  inflating: data/TRAIN/DR7/MJDG0/SX322.PHN  \n",
            "  inflating: data/TRAIN/DR7/MJDG0/SX322.TXT  \n",
            "  inflating: data/TRAIN/DR7/MJDG0/SX322.WAV  \n",
            "  inflating: data/TRAIN/DR7/MJDG0/SX322.WAV.wav  \n",
            "  inflating: data/TRAIN/DR7/MJDG0/SX322.WRD  \n",
            "  inflating: data/TRAIN/DR7/MJDG0/SX412.PHN  \n",
            "  inflating: data/TRAIN/DR7/MJDG0/SX412.TXT  \n",
            "  inflating: data/TRAIN/DR7/MJDG0/SX412.WAV  \n",
            "  inflating: data/TRAIN/DR7/MJDG0/SX412.WAV.wav  \n",
            "  inflating: data/TRAIN/DR7/MJDG0/SX412.WRD  \n",
            "  inflating: data/TRAIN/DR7/MJDG0/SX52.PHN  \n",
            "  inflating: data/TRAIN/DR7/MJDG0/SX52.TXT  \n",
            "  inflating: data/TRAIN/DR7/MJDG0/SX52.WAV  \n",
            "  inflating: data/TRAIN/DR7/MJDG0/SX52.WAV.wav  \n",
            "  inflating: data/TRAIN/DR7/MJDG0/SX52.WRD  \n",
            "  inflating: data/TRAIN/DR7/MJFR0/SA1.PHN  \n",
            "  inflating: data/TRAIN/DR7/MJFR0/SA1.TXT  \n",
            "  inflating: data/TRAIN/DR7/MJFR0/SA1.WAV  \n",
            "  inflating: data/TRAIN/DR7/MJFR0/SA1.WAV.wav  \n",
            "  inflating: data/TRAIN/DR7/MJFR0/SA1.WRD  \n",
            "  inflating: data/TRAIN/DR7/MJFR0/SA2.PHN  \n",
            "  inflating: data/TRAIN/DR7/MJFR0/SA2.TXT  \n",
            "  inflating: data/TRAIN/DR7/MJFR0/SA2.WAV  \n",
            "  inflating: data/TRAIN/DR7/MJFR0/SA2.WAV.wav  \n",
            "  inflating: data/TRAIN/DR7/MJFR0/SA2.WRD  \n",
            "  inflating: data/TRAIN/DR7/MJFR0/SI1605.PHN  \n",
            "  inflating: data/TRAIN/DR7/MJFR0/SI1605.TXT  \n",
            "  inflating: data/TRAIN/DR7/MJFR0/SI1605.WAV  \n",
            "  inflating: data/TRAIN/DR7/MJFR0/SI1605.WAV.wav  \n",
            "  inflating: data/TRAIN/DR7/MJFR0/SI1605.WRD  \n",
            "  inflating: data/TRAIN/DR7/MJFR0/SI2235.PHN  \n",
            "  inflating: data/TRAIN/DR7/MJFR0/SI2235.TXT  \n",
            "  inflating: data/TRAIN/DR7/MJFR0/SI2235.WAV  \n",
            "  inflating: data/TRAIN/DR7/MJFR0/SI2235.WAV.wav  \n",
            "  inflating: data/TRAIN/DR7/MJFR0/SI2235.WRD  \n",
            "  inflating: data/TRAIN/DR7/MJFR0/SI975.PHN  \n",
            "  inflating: data/TRAIN/DR7/MJFR0/SI975.TXT  \n",
            "  inflating: data/TRAIN/DR7/MJFR0/SI975.WAV  \n",
            "  inflating: data/TRAIN/DR7/MJFR0/SI975.WAV.wav  \n",
            "  inflating: data/TRAIN/DR7/MJFR0/SI975.WRD  \n",
            "  inflating: data/TRAIN/DR7/MJFR0/SX165.PHN  \n",
            "  inflating: data/TRAIN/DR7/MJFR0/SX165.TXT  \n",
            "  inflating: data/TRAIN/DR7/MJFR0/SX165.WAV  \n",
            "  inflating: data/TRAIN/DR7/MJFR0/SX165.WAV.wav  \n",
            "  inflating: data/TRAIN/DR7/MJFR0/SX165.WRD  \n",
            "  inflating: data/TRAIN/DR7/MJFR0/SX255.PHN  \n",
            "  inflating: data/TRAIN/DR7/MJFR0/SX255.TXT  \n",
            "  inflating: data/TRAIN/DR7/MJFR0/SX255.WAV  \n",
            "  inflating: data/TRAIN/DR7/MJFR0/SX255.WAV.wav  \n",
            "  inflating: data/TRAIN/DR7/MJFR0/SX255.WRD  \n",
            "  inflating: data/TRAIN/DR7/MJFR0/SX345.PHN  \n",
            "  inflating: data/TRAIN/DR7/MJFR0/SX345.TXT  \n",
            "  inflating: data/TRAIN/DR7/MJFR0/SX345.WAV  \n",
            "  inflating: data/TRAIN/DR7/MJFR0/SX345.WAV.wav  \n",
            "  inflating: data/TRAIN/DR7/MJFR0/SX345.WRD  \n",
            "  inflating: data/TRAIN/DR7/MJFR0/SX435.PHN  \n",
            "  inflating: data/TRAIN/DR7/MJFR0/SX435.TXT  \n",
            "  inflating: data/TRAIN/DR7/MJFR0/SX435.WAV  \n",
            "  inflating: data/TRAIN/DR7/MJFR0/SX435.WAV.wav  \n",
            "  inflating: data/TRAIN/DR7/MJFR0/SX435.WRD  \n",
            "  inflating: data/TRAIN/DR7/MJFR0/SX75.PHN  \n",
            "  inflating: data/TRAIN/DR7/MJFR0/SX75.TXT  \n",
            "  inflating: data/TRAIN/DR7/MJFR0/SX75.WAV  \n",
            "  inflating: data/TRAIN/DR7/MJFR0/SX75.WAV.wav  \n",
            "  inflating: data/TRAIN/DR7/MJFR0/SX75.WRD  \n",
            "  inflating: data/TRAIN/DR7/MJJM0/SA1.PHN  \n",
            "  inflating: data/TRAIN/DR7/MJJM0/SA1.TXT  \n",
            "  inflating: data/TRAIN/DR7/MJJM0/SA1.WAV  \n",
            "  inflating: data/TRAIN/DR7/MJJM0/SA1.WAV.wav  \n",
            "  inflating: data/TRAIN/DR7/MJJM0/SA1.WRD  \n",
            "  inflating: data/TRAIN/DR7/MJJM0/SA2.PHN  \n",
            "  inflating: data/TRAIN/DR7/MJJM0/SA2.TXT  \n",
            "  inflating: data/TRAIN/DR7/MJJM0/SA2.WAV  \n",
            "  inflating: data/TRAIN/DR7/MJJM0/SA2.WAV.wav  \n",
            "  inflating: data/TRAIN/DR7/MJJM0/SA2.WRD  \n",
            "  inflating: data/TRAIN/DR7/MJJM0/SI1251.PHN  \n",
            "  inflating: data/TRAIN/DR7/MJJM0/SI1251.TXT  \n",
            "  inflating: data/TRAIN/DR7/MJJM0/SI1251.WAV  \n",
            "  inflating: data/TRAIN/DR7/MJJM0/SI1251.WAV.wav  \n",
            "  inflating: data/TRAIN/DR7/MJJM0/SI1251.WRD  \n",
            "  inflating: data/TRAIN/DR7/MJJM0/SI1457.PHN  \n",
            "  inflating: data/TRAIN/DR7/MJJM0/SI1457.TXT  \n",
            "  inflating: data/TRAIN/DR7/MJJM0/SI1457.WAV  \n",
            "  inflating: data/TRAIN/DR7/MJJM0/SI1457.WAV.wav  \n",
            "  inflating: data/TRAIN/DR7/MJJM0/SI1457.WRD  \n",
            "  inflating: data/TRAIN/DR7/MJJM0/SI827.PHN  \n",
            "  inflating: data/TRAIN/DR7/MJJM0/SI827.TXT  \n",
            "  inflating: data/TRAIN/DR7/MJJM0/SI827.WAV  \n",
            "  inflating: data/TRAIN/DR7/MJJM0/SI827.WAV.wav  \n",
            "  inflating: data/TRAIN/DR7/MJJM0/SI827.WRD  \n",
            "  inflating: data/TRAIN/DR7/MJJM0/SX107.PHN  \n",
            "  inflating: data/TRAIN/DR7/MJJM0/SX107.TXT  \n",
            "  inflating: data/TRAIN/DR7/MJJM0/SX107.WAV  \n",
            "  inflating: data/TRAIN/DR7/MJJM0/SX107.WAV.wav  \n",
            "  inflating: data/TRAIN/DR7/MJJM0/SX107.WRD  \n",
            "  inflating: data/TRAIN/DR7/MJJM0/SX17.PHN  \n",
            "  inflating: data/TRAIN/DR7/MJJM0/SX17.TXT  \n",
            "  inflating: data/TRAIN/DR7/MJJM0/SX17.WAV  \n",
            "  inflating: data/TRAIN/DR7/MJJM0/SX17.WAV.wav  \n",
            "  inflating: data/TRAIN/DR7/MJJM0/SX17.WRD  \n",
            "  inflating: data/TRAIN/DR7/MJJM0/SX197.PHN  \n",
            "  inflating: data/TRAIN/DR7/MJJM0/SX197.TXT  \n",
            "  inflating: data/TRAIN/DR7/MJJM0/SX197.WAV  \n",
            "  inflating: data/TRAIN/DR7/MJJM0/SX197.WAV.wav  \n",
            "  inflating: data/TRAIN/DR7/MJJM0/SX197.WRD  \n",
            "  inflating: data/TRAIN/DR7/MJJM0/SX287.PHN  \n",
            "  inflating: data/TRAIN/DR7/MJJM0/SX287.TXT  \n",
            "  inflating: data/TRAIN/DR7/MJJM0/SX287.WAV  \n",
            "  inflating: data/TRAIN/DR7/MJJM0/SX287.WAV.wav  \n",
            "  inflating: data/TRAIN/DR7/MJJM0/SX287.WRD  \n",
            "  inflating: data/TRAIN/DR7/MJJM0/SX377.PHN  \n",
            "  inflating: data/TRAIN/DR7/MJJM0/SX377.TXT  \n",
            "  inflating: data/TRAIN/DR7/MJJM0/SX377.WAV  \n",
            "  inflating: data/TRAIN/DR7/MJJM0/SX377.WAV.wav  \n",
            "  inflating: data/TRAIN/DR7/MJJM0/SX377.WRD  \n",
            "  inflating: data/TRAIN/DR7/MJRA0/SA1.PHN  \n",
            "  inflating: data/TRAIN/DR7/MJRA0/SA1.TXT  \n",
            "  inflating: data/TRAIN/DR7/MJRA0/SA1.WAV  \n",
            "  inflating: data/TRAIN/DR7/MJRA0/SA1.WAV.wav  \n",
            "  inflating: data/TRAIN/DR7/MJRA0/SA1.WRD  \n",
            "  inflating: data/TRAIN/DR7/MJRA0/SA2.PHN  \n",
            "  inflating: data/TRAIN/DR7/MJRA0/SA2.TXT  \n",
            "  inflating: data/TRAIN/DR7/MJRA0/SA2.WAV  \n",
            "  inflating: data/TRAIN/DR7/MJRA0/SA2.WAV.wav  \n",
            "  inflating: data/TRAIN/DR7/MJRA0/SA2.WRD  \n",
            "  inflating: data/TRAIN/DR7/MJRA0/SI1236.PHN  \n",
            "  inflating: data/TRAIN/DR7/MJRA0/SI1236.TXT  \n",
            "  inflating: data/TRAIN/DR7/MJRA0/SI1236.WAV  \n",
            "  inflating: data/TRAIN/DR7/MJRA0/SI1236.WAV.wav  \n",
            "  inflating: data/TRAIN/DR7/MJRA0/SI1236.WRD  \n",
            "  inflating: data/TRAIN/DR7/MJRA0/SI1866.PHN  \n",
            "  inflating: data/TRAIN/DR7/MJRA0/SI1866.TXT  \n",
            "  inflating: data/TRAIN/DR7/MJRA0/SI1866.WAV  \n",
            "  inflating: data/TRAIN/DR7/MJRA0/SI1866.WAV.wav  \n",
            "  inflating: data/TRAIN/DR7/MJRA0/SI1866.WRD  \n",
            "  inflating: data/TRAIN/DR7/MJRA0/SI606.PHN  \n",
            "  inflating: data/TRAIN/DR7/MJRA0/SI606.TXT  \n",
            "  inflating: data/TRAIN/DR7/MJRA0/SI606.WAV  \n",
            "  inflating: data/TRAIN/DR7/MJRA0/SI606.WAV.wav  \n",
            "  inflating: data/TRAIN/DR7/MJRA0/SI606.WRD  \n",
            "  inflating: data/TRAIN/DR7/MJRA0/SX156.PHN  \n",
            "  inflating: data/TRAIN/DR7/MJRA0/SX156.TXT  \n",
            "  inflating: data/TRAIN/DR7/MJRA0/SX156.WAV  \n",
            "  inflating: data/TRAIN/DR7/MJRA0/SX156.WAV.wav  \n",
            "  inflating: data/TRAIN/DR7/MJRA0/SX156.WRD  \n",
            "  inflating: data/TRAIN/DR7/MJRA0/SX246.PHN  \n",
            "  inflating: data/TRAIN/DR7/MJRA0/SX246.TXT  \n",
            "  inflating: data/TRAIN/DR7/MJRA0/SX246.WAV  \n",
            "  inflating: data/TRAIN/DR7/MJRA0/SX246.WAV.wav  \n",
            "  inflating: data/TRAIN/DR7/MJRA0/SX246.WRD  \n",
            "  inflating: data/TRAIN/DR7/MJRA0/SX336.PHN  \n",
            "  inflating: data/TRAIN/DR7/MJRA0/SX336.TXT  \n",
            "  inflating: data/TRAIN/DR7/MJRA0/SX336.WAV  \n",
            "  inflating: data/TRAIN/DR7/MJRA0/SX336.WAV.wav  \n",
            "  inflating: data/TRAIN/DR7/MJRA0/SX336.WRD  \n",
            "  inflating: data/TRAIN/DR7/MJRA0/SX426.PHN  \n",
            "  inflating: data/TRAIN/DR7/MJRA0/SX426.TXT  \n",
            "  inflating: data/TRAIN/DR7/MJRA0/SX426.WAV  \n",
            "  inflating: data/TRAIN/DR7/MJRA0/SX426.WAV.wav  \n",
            "  inflating: data/TRAIN/DR7/MJRA0/SX426.WRD  \n",
            "  inflating: data/TRAIN/DR7/MJRA0/SX66.PHN  \n",
            "  inflating: data/TRAIN/DR7/MJRA0/SX66.TXT  \n",
            "  inflating: data/TRAIN/DR7/MJRA0/SX66.WAV  \n",
            "  inflating: data/TRAIN/DR7/MJRA0/SX66.WAV.wav  \n",
            "  inflating: data/TRAIN/DR7/MJRA0/SX66.WRD  \n",
            "  inflating: data/TRAIN/DR7/MKAG0/SA1.PHN  \n",
            "  inflating: data/TRAIN/DR7/MKAG0/SA1.TXT  \n",
            "  inflating: data/TRAIN/DR7/MKAG0/SA1.WAV  \n",
            "  inflating: data/TRAIN/DR7/MKAG0/SA1.WAV.wav  \n",
            "  inflating: data/TRAIN/DR7/MKAG0/SA1.WRD  \n",
            "  inflating: data/TRAIN/DR7/MKAG0/SA2.PHN  \n",
            "  inflating: data/TRAIN/DR7/MKAG0/SA2.TXT  \n",
            "  inflating: data/TRAIN/DR7/MKAG0/SA2.WAV  \n",
            "  inflating: data/TRAIN/DR7/MKAG0/SA2.WAV.wav  \n",
            "  inflating: data/TRAIN/DR7/MKAG0/SA2.WRD  \n",
            "  inflating: data/TRAIN/DR7/MKAG0/SI1609.PHN  \n",
            "  inflating: data/TRAIN/DR7/MKAG0/SI1609.TXT  \n",
            "  inflating: data/TRAIN/DR7/MKAG0/SI1609.WAV  \n",
            "  inflating: data/TRAIN/DR7/MKAG0/SI1609.WAV.wav  \n",
            "  inflating: data/TRAIN/DR7/MKAG0/SI1609.WRD  \n",
            "  inflating: data/TRAIN/DR7/MKAG0/SI2239.PHN  \n",
            "  inflating: data/TRAIN/DR7/MKAG0/SI2239.TXT  \n",
            "  inflating: data/TRAIN/DR7/MKAG0/SI2239.WAV  \n",
            "  inflating: data/TRAIN/DR7/MKAG0/SI2239.WAV.wav  \n",
            "  inflating: data/TRAIN/DR7/MKAG0/SI2239.WRD  \n",
            "  inflating: data/TRAIN/DR7/MKAG0/SI979.PHN  \n",
            "  inflating: data/TRAIN/DR7/MKAG0/SI979.TXT  \n",
            "  inflating: data/TRAIN/DR7/MKAG0/SI979.WAV  \n",
            "  inflating: data/TRAIN/DR7/MKAG0/SI979.WAV.wav  \n",
            "  inflating: data/TRAIN/DR7/MKAG0/SI979.WRD  \n",
            "  inflating: data/TRAIN/DR7/MKAG0/SX169.PHN  \n",
            "  inflating: data/TRAIN/DR7/MKAG0/SX169.TXT  \n",
            "  inflating: data/TRAIN/DR7/MKAG0/SX169.WAV  \n",
            "  inflating: data/TRAIN/DR7/MKAG0/SX169.WAV.wav  \n",
            "  inflating: data/TRAIN/DR7/MKAG0/SX169.WRD  \n",
            "  inflating: data/TRAIN/DR7/MKAG0/SX259.PHN  \n",
            "  inflating: data/TRAIN/DR7/MKAG0/SX259.TXT  \n",
            "  inflating: data/TRAIN/DR7/MKAG0/SX259.WAV  \n",
            "  inflating: data/TRAIN/DR7/MKAG0/SX259.WAV.wav  \n",
            "  inflating: data/TRAIN/DR7/MKAG0/SX259.WRD  \n",
            "  inflating: data/TRAIN/DR7/MKAG0/SX30.PHN  \n",
            "  inflating: data/TRAIN/DR7/MKAG0/SX30.TXT  \n",
            "  inflating: data/TRAIN/DR7/MKAG0/SX30.WAV  \n",
            "  inflating: data/TRAIN/DR7/MKAG0/SX30.WAV.wav  \n",
            "  inflating: data/TRAIN/DR7/MKAG0/SX30.WRD  \n",
            "  inflating: data/TRAIN/DR7/MKAG0/SX439.PHN  \n",
            "  inflating: data/TRAIN/DR7/MKAG0/SX439.TXT  \n",
            "  inflating: data/TRAIN/DR7/MKAG0/SX439.WAV  \n",
            "  inflating: data/TRAIN/DR7/MKAG0/SX439.WAV.wav  \n",
            "  inflating: data/TRAIN/DR7/MKAG0/SX439.WRD  \n",
            "  inflating: data/TRAIN/DR7/MKAG0/SX79.PHN  \n",
            "  inflating: data/TRAIN/DR7/MKAG0/SX79.TXT  \n",
            "  inflating: data/TRAIN/DR7/MKAG0/SX79.WAV  \n",
            "  inflating: data/TRAIN/DR7/MKAG0/SX79.WAV.wav  \n",
            "  inflating: data/TRAIN/DR7/MKAG0/SX79.WRD  \n",
            "  inflating: data/TRAIN/DR7/MKDB0/SA1.PHN  \n",
            "  inflating: data/TRAIN/DR7/MKDB0/SA1.TXT  \n",
            "  inflating: data/TRAIN/DR7/MKDB0/SA1.WAV  \n",
            "  inflating: data/TRAIN/DR7/MKDB0/SA1.WAV.wav  \n",
            "  inflating: data/TRAIN/DR7/MKDB0/SA1.WRD  \n",
            "  inflating: data/TRAIN/DR7/MKDB0/SA2.PHN  \n",
            "  inflating: data/TRAIN/DR7/MKDB0/SA2.TXT  \n",
            "  inflating: data/TRAIN/DR7/MKDB0/SA2.WAV  \n",
            "  inflating: data/TRAIN/DR7/MKDB0/SA2.WAV.wav  \n",
            "  inflating: data/TRAIN/DR7/MKDB0/SA2.WRD  \n",
            "  inflating: data/TRAIN/DR7/MKDB0/SI2132.PHN  \n",
            "  inflating: data/TRAIN/DR7/MKDB0/SI2132.TXT  \n",
            "  inflating: data/TRAIN/DR7/MKDB0/SI2132.WAV  \n",
            "  inflating: data/TRAIN/DR7/MKDB0/SI2132.WAV.wav  \n",
            "  inflating: data/TRAIN/DR7/MKDB0/SI2132.WRD  \n",
            "  inflating: data/TRAIN/DR7/MKDB0/SI588.PHN  \n",
            "  inflating: data/TRAIN/DR7/MKDB0/SI588.TXT  \n",
            "  inflating: data/TRAIN/DR7/MKDB0/SI588.WAV  \n",
            "  inflating: data/TRAIN/DR7/MKDB0/SI588.WAV.wav  \n",
            "  inflating: data/TRAIN/DR7/MKDB0/SI588.WRD  \n",
            "  inflating: data/TRAIN/DR7/MKDB0/SI872.PHN  \n",
            "  inflating: data/TRAIN/DR7/MKDB0/SI872.TXT  \n",
            "  inflating: data/TRAIN/DR7/MKDB0/SI872.WAV  \n",
            "  inflating: data/TRAIN/DR7/MKDB0/SI872.WAV.wav  \n",
            "  inflating: data/TRAIN/DR7/MKDB0/SI872.WRD  \n",
            "  inflating: data/TRAIN/DR7/MKDB0/SX152.PHN  \n",
            "  inflating: data/TRAIN/DR7/MKDB0/SX152.TXT  \n",
            "  inflating: data/TRAIN/DR7/MKDB0/SX152.WAV  \n",
            "  inflating: data/TRAIN/DR7/MKDB0/SX152.WAV.wav  \n",
            "  inflating: data/TRAIN/DR7/MKDB0/SX152.WRD  \n",
            "  inflating: data/TRAIN/DR7/MKDB0/SX242.PHN  \n",
            "  inflating: data/TRAIN/DR7/MKDB0/SX242.TXT  \n",
            "  inflating: data/TRAIN/DR7/MKDB0/SX242.WAV  \n",
            "  inflating: data/TRAIN/DR7/MKDB0/SX242.WAV.wav  \n",
            "  inflating: data/TRAIN/DR7/MKDB0/SX242.WRD  \n",
            "  inflating: data/TRAIN/DR7/MKDB0/SX332.PHN  \n",
            "  inflating: data/TRAIN/DR7/MKDB0/SX332.TXT  \n",
            "  inflating: data/TRAIN/DR7/MKDB0/SX332.WAV  \n",
            "  inflating: data/TRAIN/DR7/MKDB0/SX332.WAV.wav  \n",
            "  inflating: data/TRAIN/DR7/MKDB0/SX332.WRD  \n",
            "  inflating: data/TRAIN/DR7/MKDB0/SX422.PHN  \n",
            "  inflating: data/TRAIN/DR7/MKDB0/SX422.TXT  \n",
            "  inflating: data/TRAIN/DR7/MKDB0/SX422.WAV  \n",
            "  inflating: data/TRAIN/DR7/MKDB0/SX422.WAV.wav  \n",
            "  inflating: data/TRAIN/DR7/MKDB0/SX422.WRD  \n",
            "  inflating: data/TRAIN/DR7/MKDB0/SX62.PHN  \n",
            "  inflating: data/TRAIN/DR7/MKDB0/SX62.TXT  \n",
            "  inflating: data/TRAIN/DR7/MKDB0/SX62.WAV  \n",
            "  inflating: data/TRAIN/DR7/MKDB0/SX62.WAV.wav  \n",
            "  inflating: data/TRAIN/DR7/MKDB0/SX62.WRD  \n",
            "  inflating: data/TRAIN/DR7/MKLR0/SA1.PHN  \n",
            "  inflating: data/TRAIN/DR7/MKLR0/SA1.TXT  \n",
            "  inflating: data/TRAIN/DR7/MKLR0/SA1.WAV  \n",
            "  inflating: data/TRAIN/DR7/MKLR0/SA1.WAV.wav  \n",
            "  inflating: data/TRAIN/DR7/MKLR0/SA1.WRD  \n",
            "  inflating: data/TRAIN/DR7/MKLR0/SA2.PHN  \n",
            "  inflating: data/TRAIN/DR7/MKLR0/SA2.TXT  \n",
            "  inflating: data/TRAIN/DR7/MKLR0/SA2.WAV  \n",
            "  inflating: data/TRAIN/DR7/MKLR0/SA2.WAV.wav  \n",
            "  inflating: data/TRAIN/DR7/MKLR0/SA2.WRD  \n",
            "  inflating: data/TRAIN/DR7/MKLR0/SI1059.PHN  \n",
            "  inflating: data/TRAIN/DR7/MKLR0/SI1059.TXT  \n",
            "  inflating: data/TRAIN/DR7/MKLR0/SI1059.WAV  \n",
            "  inflating: data/TRAIN/DR7/MKLR0/SI1059.WAV.wav  \n",
            "  inflating: data/TRAIN/DR7/MKLR0/SI1059.WRD  \n",
            "  inflating: data/TRAIN/DR7/MKLR0/SI1689.PHN  \n",
            "  inflating: data/TRAIN/DR7/MKLR0/SI1689.TXT  \n",
            "  inflating: data/TRAIN/DR7/MKLR0/SI1689.WAV  \n",
            "  inflating: data/TRAIN/DR7/MKLR0/SI1689.WAV.wav  \n",
            "  inflating: data/TRAIN/DR7/MKLR0/SI1689.WRD  \n",
            "  inflating: data/TRAIN/DR7/MKLR0/SI2319.PHN  \n",
            "  inflating: data/TRAIN/DR7/MKLR0/SI2319.TXT  \n",
            "  inflating: data/TRAIN/DR7/MKLR0/SI2319.WAV  \n",
            "  inflating: data/TRAIN/DR7/MKLR0/SI2319.WAV.wav  \n",
            "  inflating: data/TRAIN/DR7/MKLR0/SI2319.WRD  \n",
            "  inflating: data/TRAIN/DR7/MKLR0/SX159.PHN  \n",
            "  inflating: data/TRAIN/DR7/MKLR0/SX159.TXT  \n",
            "  inflating: data/TRAIN/DR7/MKLR0/SX159.WAV  \n",
            "  inflating: data/TRAIN/DR7/MKLR0/SX159.WAV.wav  \n",
            "  inflating: data/TRAIN/DR7/MKLR0/SX159.WRD  \n",
            "  inflating: data/TRAIN/DR7/MKLR0/SX249.PHN  \n",
            "  inflating: data/TRAIN/DR7/MKLR0/SX249.TXT  \n",
            "  inflating: data/TRAIN/DR7/MKLR0/SX249.WAV  \n",
            "  inflating: data/TRAIN/DR7/MKLR0/SX249.WAV.wav  \n",
            "  inflating: data/TRAIN/DR7/MKLR0/SX249.WRD  \n",
            "  inflating: data/TRAIN/DR7/MKLR0/SX339.PHN  \n",
            "  inflating: data/TRAIN/DR7/MKLR0/SX339.TXT  \n",
            "  inflating: data/TRAIN/DR7/MKLR0/SX339.WAV  \n",
            "  inflating: data/TRAIN/DR7/MKLR0/SX339.WAV.wav  \n",
            "  inflating: data/TRAIN/DR7/MKLR0/SX339.WRD  \n",
            "  inflating: data/TRAIN/DR7/MKLR0/SX429.PHN  \n",
            "  inflating: data/TRAIN/DR7/MKLR0/SX429.TXT  \n",
            "  inflating: data/TRAIN/DR7/MKLR0/SX429.WAV  \n",
            "  inflating: data/TRAIN/DR7/MKLR0/SX429.WAV.wav  \n",
            "  inflating: data/TRAIN/DR7/MKLR0/SX429.WRD  \n",
            "  inflating: data/TRAIN/DR7/MKLR0/SX69.PHN  \n",
            "  inflating: data/TRAIN/DR7/MKLR0/SX69.TXT  \n",
            "  inflating: data/TRAIN/DR7/MKLR0/SX69.WAV  \n",
            "  inflating: data/TRAIN/DR7/MKLR0/SX69.WAV.wav  \n",
            "  inflating: data/TRAIN/DR7/MKLR0/SX69.WRD  \n",
            "  inflating: data/TRAIN/DR7/MMDG0/SA1.PHN  \n",
            "  inflating: data/TRAIN/DR7/MMDG0/SA1.TXT  \n",
            "  inflating: data/TRAIN/DR7/MMDG0/SA1.WAV  \n",
            "  inflating: data/TRAIN/DR7/MMDG0/SA1.WAV.wav  \n",
            "  inflating: data/TRAIN/DR7/MMDG0/SA1.WRD  \n",
            "  inflating: data/TRAIN/DR7/MMDG0/SA2.PHN  \n",
            "  inflating: data/TRAIN/DR7/MMDG0/SA2.TXT  \n",
            "  inflating: data/TRAIN/DR7/MMDG0/SA2.WAV  \n",
            "  inflating: data/TRAIN/DR7/MMDG0/SA2.WAV.wav  \n",
            "  inflating: data/TRAIN/DR7/MMDG0/SA2.WRD  \n",
            "  inflating: data/TRAIN/DR7/MMDG0/SI1780.PHN  \n",
            "  inflating: data/TRAIN/DR7/MMDG0/SI1780.TXT  \n",
            "  inflating: data/TRAIN/DR7/MMDG0/SI1780.WAV  \n",
            "  inflating: data/TRAIN/DR7/MMDG0/SI1780.WAV.wav  \n",
            "  inflating: data/TRAIN/DR7/MMDG0/SI1780.WRD  \n",
            "  inflating: data/TRAIN/DR7/MMDG0/SI2035.PHN  \n",
            "  inflating: data/TRAIN/DR7/MMDG0/SI2035.TXT  \n",
            "  inflating: data/TRAIN/DR7/MMDG0/SI2035.WAV  \n",
            "  inflating: data/TRAIN/DR7/MMDG0/SI2035.WAV.wav  \n",
            "  inflating: data/TRAIN/DR7/MMDG0/SI2035.WRD  \n",
            "  inflating: data/TRAIN/DR7/MMDG0/SI520.PHN  \n",
            "  inflating: data/TRAIN/DR7/MMDG0/SI520.TXT  \n",
            "  inflating: data/TRAIN/DR7/MMDG0/SI520.WAV  \n",
            "  inflating: data/TRAIN/DR7/MMDG0/SI520.WAV.wav  \n",
            "  inflating: data/TRAIN/DR7/MMDG0/SI520.WRD  \n",
            "  inflating: data/TRAIN/DR7/MMDG0/SX160.PHN  \n",
            "  inflating: data/TRAIN/DR7/MMDG0/SX160.TXT  \n",
            "  inflating: data/TRAIN/DR7/MMDG0/SX160.WAV  \n",
            "  inflating: data/TRAIN/DR7/MMDG0/SX160.WAV.wav  \n",
            "  inflating: data/TRAIN/DR7/MMDG0/SX160.WRD  \n",
            "  inflating: data/TRAIN/DR7/MMDG0/SX250.PHN  \n",
            "  inflating: data/TRAIN/DR7/MMDG0/SX250.TXT  \n",
            "  inflating: data/TRAIN/DR7/MMDG0/SX250.WAV  \n",
            "  inflating: data/TRAIN/DR7/MMDG0/SX250.WAV.wav  \n",
            "  inflating: data/TRAIN/DR7/MMDG0/SX250.WRD  \n",
            "  inflating: data/TRAIN/DR7/MMDG0/SX340.PHN  \n",
            "  inflating: data/TRAIN/DR7/MMDG0/SX340.TXT  \n",
            "  inflating: data/TRAIN/DR7/MMDG0/SX340.WAV  \n",
            "  inflating: data/TRAIN/DR7/MMDG0/SX340.WAV.wav  \n",
            "  inflating: data/TRAIN/DR7/MMDG0/SX340.WRD  \n",
            "  inflating: data/TRAIN/DR7/MMDG0/SX430.PHN  \n",
            "  inflating: data/TRAIN/DR7/MMDG0/SX430.TXT  \n",
            "  inflating: data/TRAIN/DR7/MMDG0/SX430.WAV  \n",
            "  inflating: data/TRAIN/DR7/MMDG0/SX430.WAV.wav  \n",
            "  inflating: data/TRAIN/DR7/MMDG0/SX430.WRD  \n",
            "  inflating: data/TRAIN/DR7/MMDG0/SX70.PHN  \n",
            "  inflating: data/TRAIN/DR7/MMDG0/SX70.TXT  \n",
            "  inflating: data/TRAIN/DR7/MMDG0/SX70.WAV  \n",
            "  inflating: data/TRAIN/DR7/MMDG0/SX70.WAV.wav  \n",
            "  inflating: data/TRAIN/DR7/MMDG0/SX70.WRD  \n",
            "  inflating: data/TRAIN/DR7/MMWS1/SA1.PHN  \n",
            "  inflating: data/TRAIN/DR7/MMWS1/SA1.TXT  \n",
            "  inflating: data/TRAIN/DR7/MMWS1/SA1.WAV  \n",
            "  inflating: data/TRAIN/DR7/MMWS1/SA1.WAV.wav  \n",
            "  inflating: data/TRAIN/DR7/MMWS1/SA1.WRD  \n",
            "  inflating: data/TRAIN/DR7/MMWS1/SA2.PHN  \n",
            "  inflating: data/TRAIN/DR7/MMWS1/SA2.TXT  \n",
            "  inflating: data/TRAIN/DR7/MMWS1/SA2.WAV  \n",
            "  inflating: data/TRAIN/DR7/MMWS1/SA2.WAV.wav  \n",
            "  inflating: data/TRAIN/DR7/MMWS1/SA2.WRD  \n",
            "  inflating: data/TRAIN/DR7/MMWS1/SI1071.PHN  \n",
            "  inflating: data/TRAIN/DR7/MMWS1/SI1071.TXT  \n",
            "  inflating: data/TRAIN/DR7/MMWS1/SI1071.WAV  \n",
            "  inflating: data/TRAIN/DR7/MMWS1/SI1071.WAV.wav  \n",
            "  inflating: data/TRAIN/DR7/MMWS1/SI1071.WRD  \n",
            "  inflating: data/TRAIN/DR7/MMWS1/SI1701.PHN  \n",
            "  inflating: data/TRAIN/DR7/MMWS1/SI1701.TXT  \n",
            "  inflating: data/TRAIN/DR7/MMWS1/SI1701.WAV  \n",
            "  inflating: data/TRAIN/DR7/MMWS1/SI1701.WAV.wav  \n",
            "  inflating: data/TRAIN/DR7/MMWS1/SI1701.WRD  \n",
            "  inflating: data/TRAIN/DR7/MMWS1/SI2331.PHN  \n",
            "  inflating: data/TRAIN/DR7/MMWS1/SI2331.TXT  \n",
            "  inflating: data/TRAIN/DR7/MMWS1/SI2331.WAV  \n",
            "  inflating: data/TRAIN/DR7/MMWS1/SI2331.WAV.wav  \n",
            "  inflating: data/TRAIN/DR7/MMWS1/SI2331.WRD  \n",
            "  inflating: data/TRAIN/DR7/MMWS1/SX261.PHN  \n",
            "  inflating: data/TRAIN/DR7/MMWS1/SX261.TXT  \n",
            "  inflating: data/TRAIN/DR7/MMWS1/SX261.WAV  \n",
            "  inflating: data/TRAIN/DR7/MMWS1/SX261.WAV.wav  \n",
            "  inflating: data/TRAIN/DR7/MMWS1/SX261.WRD  \n",
            "  inflating: data/TRAIN/DR7/MMWS1/SX27.PHN  \n",
            "  inflating: data/TRAIN/DR7/MMWS1/SX27.TXT  \n",
            "  inflating: data/TRAIN/DR7/MMWS1/SX27.WAV  \n",
            "  inflating: data/TRAIN/DR7/MMWS1/SX27.WAV.wav  \n",
            "  inflating: data/TRAIN/DR7/MMWS1/SX27.WRD  \n",
            "  inflating: data/TRAIN/DR7/MMWS1/SX351.PHN  \n",
            "  inflating: data/TRAIN/DR7/MMWS1/SX351.TXT  \n",
            "  inflating: data/TRAIN/DR7/MMWS1/SX351.WAV  \n",
            "  inflating: data/TRAIN/DR7/MMWS1/SX351.WAV.wav  \n",
            "  inflating: data/TRAIN/DR7/MMWS1/SX351.WRD  \n",
            "  inflating: data/TRAIN/DR7/MMWS1/SX441.PHN  \n",
            "  inflating: data/TRAIN/DR7/MMWS1/SX441.TXT  \n",
            "  inflating: data/TRAIN/DR7/MMWS1/SX441.WAV  \n",
            "  inflating: data/TRAIN/DR7/MMWS1/SX441.WAV.wav  \n",
            "  inflating: data/TRAIN/DR7/MMWS1/SX441.WRD  \n",
            "  inflating: data/TRAIN/DR7/MMWS1/SX81.PHN  \n",
            "  inflating: data/TRAIN/DR7/MMWS1/SX81.TXT  \n",
            "  inflating: data/TRAIN/DR7/MMWS1/SX81.WAV  \n",
            "  inflating: data/TRAIN/DR7/MMWS1/SX81.WAV.wav  \n",
            "  inflating: data/TRAIN/DR7/MMWS1/SX81.WRD  \n",
            "  inflating: data/TRAIN/DR7/MNTW0/SA1.PHN  \n",
            "  inflating: data/TRAIN/DR7/MNTW0/SA1.TXT  \n",
            "  inflating: data/TRAIN/DR7/MNTW0/SA1.WAV  \n",
            "  inflating: data/TRAIN/DR7/MNTW0/SA1.WAV.wav  \n",
            "  inflating: data/TRAIN/DR7/MNTW0/SA1.WRD  \n",
            "  inflating: data/TRAIN/DR7/MNTW0/SA2.PHN  \n",
            "  inflating: data/TRAIN/DR7/MNTW0/SA2.TXT  \n",
            "  inflating: data/TRAIN/DR7/MNTW0/SA2.WAV  \n",
            "  inflating: data/TRAIN/DR7/MNTW0/SA2.WAV.wav  \n",
            "  inflating: data/TRAIN/DR7/MNTW0/SA2.WRD  \n",
            "  inflating: data/TRAIN/DR7/MNTW0/SI1068.PHN  \n",
            "  inflating: data/TRAIN/DR7/MNTW0/SI1068.TXT  \n",
            "  inflating: data/TRAIN/DR7/MNTW0/SI1068.WAV  \n",
            "  inflating: data/TRAIN/DR7/MNTW0/SI1068.WAV.wav  \n",
            "  inflating: data/TRAIN/DR7/MNTW0/SI1068.WRD  \n",
            "  inflating: data/TRAIN/DR7/MNTW0/SI1698.PHN  \n",
            "  inflating: data/TRAIN/DR7/MNTW0/SI1698.TXT  \n",
            "  inflating: data/TRAIN/DR7/MNTW0/SI1698.WAV  \n",
            "  inflating: data/TRAIN/DR7/MNTW0/SI1698.WAV.wav  \n",
            "  inflating: data/TRAIN/DR7/MNTW0/SI1698.WRD  \n",
            "  inflating: data/TRAIN/DR7/MNTW0/SI2328.PHN  \n",
            "  inflating: data/TRAIN/DR7/MNTW0/SI2328.TXT  \n",
            "  inflating: data/TRAIN/DR7/MNTW0/SI2328.WAV  \n",
            "  inflating: data/TRAIN/DR7/MNTW0/SI2328.WAV.wav  \n",
            "  inflating: data/TRAIN/DR7/MNTW0/SI2328.WRD  \n",
            "  inflating: data/TRAIN/DR7/MNTW0/SX168.PHN  \n",
            "  inflating: data/TRAIN/DR7/MNTW0/SX168.TXT  \n",
            "  inflating: data/TRAIN/DR7/MNTW0/SX168.WAV  \n",
            "  inflating: data/TRAIN/DR7/MNTW0/SX168.WAV.wav  \n",
            "  inflating: data/TRAIN/DR7/MNTW0/SX168.WRD  \n",
            "  inflating: data/TRAIN/DR7/MNTW0/SX202.PHN  \n",
            "  inflating: data/TRAIN/DR7/MNTW0/SX202.TXT  \n",
            "  inflating: data/TRAIN/DR7/MNTW0/SX202.WAV  \n",
            "  inflating: data/TRAIN/DR7/MNTW0/SX202.WAV.wav  \n",
            "  inflating: data/TRAIN/DR7/MNTW0/SX202.WRD  \n",
            "  inflating: data/TRAIN/DR7/MNTW0/SX258.PHN  \n",
            "  inflating: data/TRAIN/DR7/MNTW0/SX258.TXT  \n",
            "  inflating: data/TRAIN/DR7/MNTW0/SX258.WAV  \n",
            "  inflating: data/TRAIN/DR7/MNTW0/SX258.WAV.wav  \n",
            "  inflating: data/TRAIN/DR7/MNTW0/SX258.WRD  \n",
            "  inflating: data/TRAIN/DR7/MNTW0/SX348.PHN  \n",
            "  inflating: data/TRAIN/DR7/MNTW0/SX348.TXT  \n",
            "  inflating: data/TRAIN/DR7/MNTW0/SX348.WAV  \n",
            "  inflating: data/TRAIN/DR7/MNTW0/SX348.WAV.wav  \n",
            "  inflating: data/TRAIN/DR7/MNTW0/SX348.WRD  \n",
            "  inflating: data/TRAIN/DR7/MNTW0/SX78.PHN  \n",
            "  inflating: data/TRAIN/DR7/MNTW0/SX78.TXT  \n",
            "  inflating: data/TRAIN/DR7/MNTW0/SX78.WAV  \n",
            "  inflating: data/TRAIN/DR7/MNTW0/SX78.WAV.wav  \n",
            "  inflating: data/TRAIN/DR7/MNTW0/SX78.WRD  \n",
            "  inflating: data/TRAIN/DR7/MPAR0/SA1.PHN  \n",
            "  inflating: data/TRAIN/DR7/MPAR0/SA1.TXT  \n",
            "  inflating: data/TRAIN/DR7/MPAR0/SA1.WAV  \n",
            "  inflating: data/TRAIN/DR7/MPAR0/SA1.WAV.wav  \n",
            "  inflating: data/TRAIN/DR7/MPAR0/SA1.WRD  \n",
            "  inflating: data/TRAIN/DR7/MPAR0/SA2.PHN  \n",
            "  inflating: data/TRAIN/DR7/MPAR0/SA2.TXT  \n",
            "  inflating: data/TRAIN/DR7/MPAR0/SA2.WAV  \n",
            "  inflating: data/TRAIN/DR7/MPAR0/SA2.WAV.wav  \n",
            "  inflating: data/TRAIN/DR7/MPAR0/SA2.WRD  \n",
            "  inflating: data/TRAIN/DR7/MPAR0/SI1576.PHN  \n",
            "  inflating: data/TRAIN/DR7/MPAR0/SI1576.TXT  \n",
            "  inflating: data/TRAIN/DR7/MPAR0/SI1576.WAV  \n",
            "  inflating: data/TRAIN/DR7/MPAR0/SI1576.WAV.wav  \n",
            "  inflating: data/TRAIN/DR7/MPAR0/SI1576.WRD  \n",
            "  inflating: data/TRAIN/DR7/MPAR0/SI2206.PHN  \n",
            "  inflating: data/TRAIN/DR7/MPAR0/SI2206.TXT  \n",
            "  inflating: data/TRAIN/DR7/MPAR0/SI2206.WAV  \n",
            "  inflating: data/TRAIN/DR7/MPAR0/SI2206.WAV.wav  \n",
            "  inflating: data/TRAIN/DR7/MPAR0/SI2206.WRD  \n",
            "  inflating: data/TRAIN/DR7/MPAR0/SI946.PHN  \n",
            "  inflating: data/TRAIN/DR7/MPAR0/SI946.TXT  \n",
            "  inflating: data/TRAIN/DR7/MPAR0/SI946.WAV  \n",
            "  inflating: data/TRAIN/DR7/MPAR0/SI946.WAV.wav  \n",
            "  inflating: data/TRAIN/DR7/MPAR0/SI946.WRD  \n",
            "  inflating: data/TRAIN/DR7/MPAR0/SX136.PHN  \n",
            "  inflating: data/TRAIN/DR7/MPAR0/SX136.TXT  \n",
            "  inflating: data/TRAIN/DR7/MPAR0/SX136.WAV  \n",
            "  inflating: data/TRAIN/DR7/MPAR0/SX136.WAV.wav  \n",
            "  inflating: data/TRAIN/DR7/MPAR0/SX136.WRD  \n",
            "  inflating: data/TRAIN/DR7/MPAR0/SX226.PHN  \n",
            "  inflating: data/TRAIN/DR7/MPAR0/SX226.TXT  \n",
            "  inflating: data/TRAIN/DR7/MPAR0/SX226.WAV  \n",
            "  inflating: data/TRAIN/DR7/MPAR0/SX226.WAV.wav  \n",
            "  inflating: data/TRAIN/DR7/MPAR0/SX226.WRD  \n",
            "  inflating: data/TRAIN/DR7/MPAR0/SX316.PHN  \n",
            "  inflating: data/TRAIN/DR7/MPAR0/SX316.TXT  \n",
            "  inflating: data/TRAIN/DR7/MPAR0/SX316.WAV  \n",
            "  inflating: data/TRAIN/DR7/MPAR0/SX316.WAV.wav  \n",
            "  inflating: data/TRAIN/DR7/MPAR0/SX316.WRD  \n",
            "  inflating: data/TRAIN/DR7/MPAR0/SX406.PHN  \n",
            "  inflating: data/TRAIN/DR7/MPAR0/SX406.TXT  \n",
            "  inflating: data/TRAIN/DR7/MPAR0/SX406.WAV  \n",
            "  inflating: data/TRAIN/DR7/MPAR0/SX406.WAV.wav  \n",
            "  inflating: data/TRAIN/DR7/MPAR0/SX406.WRD  \n",
            "  inflating: data/TRAIN/DR7/MPAR0/SX46.PHN  \n",
            "  inflating: data/TRAIN/DR7/MPAR0/SX46.TXT  \n",
            "  inflating: data/TRAIN/DR7/MPAR0/SX46.WAV  \n",
            "  inflating: data/TRAIN/DR7/MPAR0/SX46.WAV.wav  \n",
            "  inflating: data/TRAIN/DR7/MPAR0/SX46.WRD  \n",
            "  inflating: data/TRAIN/DR7/MPFU0/SA1.PHN  \n",
            "  inflating: data/TRAIN/DR7/MPFU0/SA1.TXT  \n",
            "  inflating: data/TRAIN/DR7/MPFU0/SA1.WAV  \n",
            "  inflating: data/TRAIN/DR7/MPFU0/SA1.WAV.wav  \n",
            "  inflating: data/TRAIN/DR7/MPFU0/SA1.WRD  \n",
            "  inflating: data/TRAIN/DR7/MPFU0/SA2.PHN  \n",
            "  inflating: data/TRAIN/DR7/MPFU0/SA2.TXT  \n",
            "  inflating: data/TRAIN/DR7/MPFU0/SA2.WAV  \n",
            "  inflating: data/TRAIN/DR7/MPFU0/SA2.WAV.wav  \n",
            "  inflating: data/TRAIN/DR7/MPFU0/SA2.WRD  \n",
            "  inflating: data/TRAIN/DR7/MPFU0/SI1258.PHN  \n",
            "  inflating: data/TRAIN/DR7/MPFU0/SI1258.TXT  \n",
            "  inflating: data/TRAIN/DR7/MPFU0/SI1258.WAV  \n",
            "  inflating: data/TRAIN/DR7/MPFU0/SI1258.WAV.wav  \n",
            "  inflating: data/TRAIN/DR7/MPFU0/SI1258.WRD  \n",
            "  inflating: data/TRAIN/DR7/MPFU0/SI1888.PHN  \n",
            "  inflating: data/TRAIN/DR7/MPFU0/SI1888.TXT  \n",
            "  inflating: data/TRAIN/DR7/MPFU0/SI1888.WAV  \n",
            "  inflating: data/TRAIN/DR7/MPFU0/SI1888.WAV.wav  \n",
            "  inflating: data/TRAIN/DR7/MPFU0/SI1888.WRD  \n",
            "  inflating: data/TRAIN/DR7/MPFU0/SI628.PHN  \n",
            "  inflating: data/TRAIN/DR7/MPFU0/SI628.TXT  \n",
            "  inflating: data/TRAIN/DR7/MPFU0/SI628.WAV  \n",
            "  inflating: data/TRAIN/DR7/MPFU0/SI628.WAV.wav  \n",
            "  inflating: data/TRAIN/DR7/MPFU0/SI628.WRD  \n",
            "  inflating: data/TRAIN/DR7/MPFU0/SX178.PHN  \n",
            "  inflating: data/TRAIN/DR7/MPFU0/SX178.TXT  \n",
            "  inflating: data/TRAIN/DR7/MPFU0/SX178.WAV  \n",
            "  inflating: data/TRAIN/DR7/MPFU0/SX178.WAV.wav  \n",
            "  inflating: data/TRAIN/DR7/MPFU0/SX178.WRD  \n",
            "  inflating: data/TRAIN/DR7/MPFU0/SX268.PHN  \n",
            "  inflating: data/TRAIN/DR7/MPFU0/SX268.TXT  \n",
            "  inflating: data/TRAIN/DR7/MPFU0/SX268.WAV  \n",
            "  inflating: data/TRAIN/DR7/MPFU0/SX268.WAV.wav  \n",
            "  inflating: data/TRAIN/DR7/MPFU0/SX268.WRD  \n",
            "  inflating: data/TRAIN/DR7/MPFU0/SX358.PHN  \n",
            "  inflating: data/TRAIN/DR7/MPFU0/SX358.TXT  \n",
            "  inflating: data/TRAIN/DR7/MPFU0/SX358.WAV  \n",
            "  inflating: data/TRAIN/DR7/MPFU0/SX358.WAV.wav  \n",
            "  inflating: data/TRAIN/DR7/MPFU0/SX358.WRD  \n",
            "  inflating: data/TRAIN/DR7/MPFU0/SX448.PHN  \n",
            "  inflating: data/TRAIN/DR7/MPFU0/SX448.TXT  \n",
            "  inflating: data/TRAIN/DR7/MPFU0/SX448.WAV  \n",
            "  inflating: data/TRAIN/DR7/MPFU0/SX448.WAV.wav  \n",
            "  inflating: data/TRAIN/DR7/MPFU0/SX448.WRD  \n",
            "  inflating: data/TRAIN/DR7/MPFU0/SX88.PHN  \n",
            "  inflating: data/TRAIN/DR7/MPFU0/SX88.TXT  \n",
            "  inflating: data/TRAIN/DR7/MPFU0/SX88.WAV  \n",
            "  inflating: data/TRAIN/DR7/MPFU0/SX88.WAV.wav  \n",
            "  inflating: data/TRAIN/DR7/MPFU0/SX88.WRD  \n",
            "  inflating: data/TRAIN/DR7/MREM0/SA1.PHN  \n",
            "  inflating: data/TRAIN/DR7/MREM0/SA1.TXT  \n",
            "  inflating: data/TRAIN/DR7/MREM0/SA1.WAV  \n",
            "  inflating: data/TRAIN/DR7/MREM0/SA1.WAV.wav  \n",
            "  inflating: data/TRAIN/DR7/MREM0/SA1.WRD  \n",
            "  inflating: data/TRAIN/DR7/MREM0/SA2.PHN  \n",
            "  inflating: data/TRAIN/DR7/MREM0/SA2.TXT  \n",
            "  inflating: data/TRAIN/DR7/MREM0/SA2.WAV  \n",
            "  inflating: data/TRAIN/DR7/MREM0/SA2.WAV.wav  \n",
            "  inflating: data/TRAIN/DR7/MREM0/SA2.WRD  \n",
            "  inflating: data/TRAIN/DR7/MREM0/SI1591.PHN  \n",
            "  inflating: data/TRAIN/DR7/MREM0/SI1591.TXT  \n",
            "  inflating: data/TRAIN/DR7/MREM0/SI1591.WAV  \n",
            "  inflating: data/TRAIN/DR7/MREM0/SI1591.WAV.wav  \n",
            "  inflating: data/TRAIN/DR7/MREM0/SI1591.WRD  \n",
            "  inflating: data/TRAIN/DR7/MREM0/SI511.PHN  \n",
            "  inflating: data/TRAIN/DR7/MREM0/SI511.TXT  \n",
            "  inflating: data/TRAIN/DR7/MREM0/SI511.WAV  \n",
            "  inflating: data/TRAIN/DR7/MREM0/SI511.WAV.wav  \n",
            "  inflating: data/TRAIN/DR7/MREM0/SI511.WRD  \n",
            "  inflating: data/TRAIN/DR7/MREM0/SI961.PHN  \n",
            "  inflating: data/TRAIN/DR7/MREM0/SI961.TXT  \n",
            "  inflating: data/TRAIN/DR7/MREM0/SI961.WAV  \n",
            "  inflating: data/TRAIN/DR7/MREM0/SI961.WAV.wav  \n",
            "  inflating: data/TRAIN/DR7/MREM0/SI961.WRD  \n",
            "  inflating: data/TRAIN/DR7/MREM0/SX151.PHN  \n",
            "  inflating: data/TRAIN/DR7/MREM0/SX151.TXT  \n",
            "  inflating: data/TRAIN/DR7/MREM0/SX151.WAV  \n",
            "  inflating: data/TRAIN/DR7/MREM0/SX151.WAV.wav  \n",
            "  inflating: data/TRAIN/DR7/MREM0/SX151.WRD  \n",
            "  inflating: data/TRAIN/DR7/MREM0/SX241.PHN  \n",
            "  inflating: data/TRAIN/DR7/MREM0/SX241.TXT  \n",
            "  inflating: data/TRAIN/DR7/MREM0/SX241.WAV  \n",
            "  inflating: data/TRAIN/DR7/MREM0/SX241.WAV.wav  \n",
            "  inflating: data/TRAIN/DR7/MREM0/SX241.WRD  \n",
            "  inflating: data/TRAIN/DR7/MREM0/SX331.PHN  \n",
            "  inflating: data/TRAIN/DR7/MREM0/SX331.TXT  \n",
            "  inflating: data/TRAIN/DR7/MREM0/SX331.WAV  \n",
            "  inflating: data/TRAIN/DR7/MREM0/SX331.WAV.wav  \n",
            "  inflating: data/TRAIN/DR7/MREM0/SX331.WRD  \n",
            "  inflating: data/TRAIN/DR7/MREM0/SX421.PHN  \n",
            "  inflating: data/TRAIN/DR7/MREM0/SX421.TXT  \n",
            "  inflating: data/TRAIN/DR7/MREM0/SX421.WAV  \n",
            "  inflating: data/TRAIN/DR7/MREM0/SX421.WAV.wav  \n",
            "  inflating: data/TRAIN/DR7/MREM0/SX421.WRD  \n",
            "  inflating: data/TRAIN/DR7/MREM0/SX61.PHN  \n",
            "  inflating: data/TRAIN/DR7/MREM0/SX61.TXT  \n",
            "  inflating: data/TRAIN/DR7/MREM0/SX61.WAV  \n",
            "  inflating: data/TRAIN/DR7/MREM0/SX61.WAV.wav  \n",
            "  inflating: data/TRAIN/DR7/MREM0/SX61.WRD  \n",
            "  inflating: data/TRAIN/DR7/MRLJ1/SA1.PHN  \n",
            "  inflating: data/TRAIN/DR7/MRLJ1/SA1.TXT  \n",
            "  inflating: data/TRAIN/DR7/MRLJ1/SA1.WAV  \n",
            "  inflating: data/TRAIN/DR7/MRLJ1/SA1.WAV.wav  \n",
            "  inflating: data/TRAIN/DR7/MRLJ1/SA1.WRD  \n",
            "  inflating: data/TRAIN/DR7/MRLJ1/SA2.PHN  \n",
            "  inflating: data/TRAIN/DR7/MRLJ1/SA2.TXT  \n",
            "  inflating: data/TRAIN/DR7/MRLJ1/SA2.WAV  \n",
            "  inflating: data/TRAIN/DR7/MRLJ1/SA2.WAV.wav  \n",
            "  inflating: data/TRAIN/DR7/MRLJ1/SA2.WRD  \n",
            "  inflating: data/TRAIN/DR7/MRLJ1/SI1671.PHN  \n",
            "  inflating: data/TRAIN/DR7/MRLJ1/SI1671.TXT  \n",
            "  inflating: data/TRAIN/DR7/MRLJ1/SI1671.WAV  \n",
            "  inflating: data/TRAIN/DR7/MRLJ1/SI1671.WAV.wav  \n",
            "  inflating: data/TRAIN/DR7/MRLJ1/SI1671.WRD  \n",
            "  inflating: data/TRAIN/DR7/MRLJ1/SI2301.PHN  \n",
            "  inflating: data/TRAIN/DR7/MRLJ1/SI2301.TXT  \n",
            "  inflating: data/TRAIN/DR7/MRLJ1/SI2301.WAV  \n",
            "  inflating: data/TRAIN/DR7/MRLJ1/SI2301.WAV.wav  \n",
            "  inflating: data/TRAIN/DR7/MRLJ1/SI2301.WRD  \n",
            "  inflating: data/TRAIN/DR7/MRLJ1/SI2332.PHN  \n",
            "  inflating: data/TRAIN/DR7/MRLJ1/SI2332.TXT  \n",
            "  inflating: data/TRAIN/DR7/MRLJ1/SI2332.WAV  \n",
            "  inflating: data/TRAIN/DR7/MRLJ1/SI2332.WAV.wav  \n",
            "  inflating: data/TRAIN/DR7/MRLJ1/SI2332.WRD  \n",
            "  inflating: data/TRAIN/DR7/MRLJ1/SX141.PHN  \n",
            "  inflating: data/TRAIN/DR7/MRLJ1/SX141.TXT  \n",
            "  inflating: data/TRAIN/DR7/MRLJ1/SX141.WAV  \n",
            "  inflating: data/TRAIN/DR7/MRLJ1/SX141.WAV.wav  \n",
            "  inflating: data/TRAIN/DR7/MRLJ1/SX141.WRD  \n",
            "  inflating: data/TRAIN/DR7/MRLJ1/SX231.PHN  \n",
            "  inflating: data/TRAIN/DR7/MRLJ1/SX231.TXT  \n",
            "  inflating: data/TRAIN/DR7/MRLJ1/SX231.WAV  \n",
            "  inflating: data/TRAIN/DR7/MRLJ1/SX231.WAV.wav  \n",
            "  inflating: data/TRAIN/DR7/MRLJ1/SX231.WRD  \n",
            "  inflating: data/TRAIN/DR7/MRLJ1/SX321.PHN  \n",
            "  inflating: data/TRAIN/DR7/MRLJ1/SX321.TXT  \n",
            "  inflating: data/TRAIN/DR7/MRLJ1/SX321.WAV  \n",
            "  inflating: data/TRAIN/DR7/MRLJ1/SX321.WAV.wav  \n",
            "  inflating: data/TRAIN/DR7/MRLJ1/SX321.WRD  \n",
            "  inflating: data/TRAIN/DR7/MRLJ1/SX411.PHN  \n",
            "  inflating: data/TRAIN/DR7/MRLJ1/SX411.TXT  \n",
            "  inflating: data/TRAIN/DR7/MRLJ1/SX411.WAV  \n",
            "  inflating: data/TRAIN/DR7/MRLJ1/SX411.WAV.wav  \n",
            "  inflating: data/TRAIN/DR7/MRLJ1/SX411.WRD  \n",
            "  inflating: data/TRAIN/DR7/MRLJ1/SX51.PHN  \n",
            "  inflating: data/TRAIN/DR7/MRLJ1/SX51.TXT  \n",
            "  inflating: data/TRAIN/DR7/MRLJ1/SX51.WAV  \n",
            "  inflating: data/TRAIN/DR7/MRLJ1/SX51.WAV.wav  \n",
            "  inflating: data/TRAIN/DR7/MRLJ1/SX51.WRD  \n",
            "  inflating: data/TRAIN/DR7/MRMG0/SA1.PHN  \n",
            "  inflating: data/TRAIN/DR7/MRMG0/SA1.TXT  \n",
            "  inflating: data/TRAIN/DR7/MRMG0/SA1.WAV  \n",
            "  inflating: data/TRAIN/DR7/MRMG0/SA1.WAV.wav  \n",
            "  inflating: data/TRAIN/DR7/MRMG0/SA1.WRD  \n",
            "  inflating: data/TRAIN/DR7/MRMG0/SA2.PHN  \n",
            "  inflating: data/TRAIN/DR7/MRMG0/SA2.TXT  \n",
            "  inflating: data/TRAIN/DR7/MRMG0/SA2.WAV  \n",
            "  inflating: data/TRAIN/DR7/MRMG0/SA2.WAV.wav  \n",
            "  inflating: data/TRAIN/DR7/MRMG0/SA2.WRD  \n",
            "  inflating: data/TRAIN/DR7/MRMG0/SI1080.PHN  \n",
            "  inflating: data/TRAIN/DR7/MRMG0/SI1080.TXT  \n",
            "  inflating: data/TRAIN/DR7/MRMG0/SI1080.WAV  \n",
            "  inflating: data/TRAIN/DR7/MRMG0/SI1080.WAV.wav  \n",
            "  inflating: data/TRAIN/DR7/MRMG0/SI1080.WRD  \n",
            "  inflating: data/TRAIN/DR7/MRMG0/SI1710.PHN  \n",
            "  inflating: data/TRAIN/DR7/MRMG0/SI1710.TXT  \n",
            "  inflating: data/TRAIN/DR7/MRMG0/SI1710.WAV  \n",
            "  inflating: data/TRAIN/DR7/MRMG0/SI1710.WAV.wav  \n",
            "  inflating: data/TRAIN/DR7/MRMG0/SI1710.WRD  \n",
            "  inflating: data/TRAIN/DR7/MRMG0/SI2340.PHN  \n",
            "  inflating: data/TRAIN/DR7/MRMG0/SI2340.TXT  \n",
            "  inflating: data/TRAIN/DR7/MRMG0/SI2340.WAV  \n",
            "  inflating: data/TRAIN/DR7/MRMG0/SI2340.WAV.wav  \n",
            "  inflating: data/TRAIN/DR7/MRMG0/SI2340.WRD  \n",
            "  inflating: data/TRAIN/DR7/MRMG0/SX180.PHN  \n",
            "  inflating: data/TRAIN/DR7/MRMG0/SX180.TXT  \n",
            "  inflating: data/TRAIN/DR7/MRMG0/SX180.WAV  \n",
            "  inflating: data/TRAIN/DR7/MRMG0/SX180.WAV.wav  \n",
            "  inflating: data/TRAIN/DR7/MRMG0/SX180.WRD  \n",
            "  inflating: data/TRAIN/DR7/MRMG0/SX270.PHN  \n",
            "  inflating: data/TRAIN/DR7/MRMG0/SX270.TXT  \n",
            "  inflating: data/TRAIN/DR7/MRMG0/SX270.WAV  \n",
            "  inflating: data/TRAIN/DR7/MRMG0/SX270.WAV.wav  \n",
            "  inflating: data/TRAIN/DR7/MRMG0/SX270.WRD  \n",
            "  inflating: data/TRAIN/DR7/MRMG0/SX360.PHN  \n",
            "  inflating: data/TRAIN/DR7/MRMG0/SX360.TXT  \n",
            "  inflating: data/TRAIN/DR7/MRMG0/SX360.WAV  \n",
            "  inflating: data/TRAIN/DR7/MRMG0/SX360.WAV.wav  \n",
            "  inflating: data/TRAIN/DR7/MRMG0/SX360.WRD  \n",
            "  inflating: data/TRAIN/DR7/MRMG0/SX450.PHN  \n",
            "  inflating: data/TRAIN/DR7/MRMG0/SX450.TXT  \n",
            "  inflating: data/TRAIN/DR7/MRMG0/SX450.WAV  \n",
            "  inflating: data/TRAIN/DR7/MRMG0/SX450.WAV.wav  \n",
            "  inflating: data/TRAIN/DR7/MRMG0/SX450.WRD  \n",
            "  inflating: data/TRAIN/DR7/MRMG0/SX90.PHN  \n",
            "  inflating: data/TRAIN/DR7/MRMG0/SX90.TXT  \n",
            "  inflating: data/TRAIN/DR7/MRMG0/SX90.WAV  \n",
            "  inflating: data/TRAIN/DR7/MRMG0/SX90.WAV.wav  \n",
            "  inflating: data/TRAIN/DR7/MRMG0/SX90.WRD  \n",
            "  inflating: data/TRAIN/DR7/MRMH0/SA1.PHN  \n",
            "  inflating: data/TRAIN/DR7/MRMH0/SA1.TXT  \n",
            "  inflating: data/TRAIN/DR7/MRMH0/SA1.WAV  \n",
            "  inflating: data/TRAIN/DR7/MRMH0/SA1.WAV.wav  \n",
            "  inflating: data/TRAIN/DR7/MRMH0/SA1.WRD  \n",
            "  inflating: data/TRAIN/DR7/MRMH0/SA2.PHN  \n",
            "  inflating: data/TRAIN/DR7/MRMH0/SA2.TXT  \n",
            "  inflating: data/TRAIN/DR7/MRMH0/SA2.WAV  \n",
            "  inflating: data/TRAIN/DR7/MRMH0/SA2.WAV.wav  \n",
            "  inflating: data/TRAIN/DR7/MRMH0/SA2.WRD  \n",
            "  inflating: data/TRAIN/DR7/MRMH0/SI1021.PHN  \n",
            "  inflating: data/TRAIN/DR7/MRMH0/SI1021.TXT  \n",
            "  inflating: data/TRAIN/DR7/MRMH0/SI1021.WAV  \n",
            "  inflating: data/TRAIN/DR7/MRMH0/SI1021.WAV.wav  \n",
            "  inflating: data/TRAIN/DR7/MRMH0/SI1021.WRD  \n",
            "  inflating: data/TRAIN/DR7/MRMH0/SI1349.PHN  \n",
            "  inflating: data/TRAIN/DR7/MRMH0/SI1349.TXT  \n",
            "  inflating: data/TRAIN/DR7/MRMH0/SI1349.WAV  \n",
            "  inflating: data/TRAIN/DR7/MRMH0/SI1349.WAV.wav  \n",
            "  inflating: data/TRAIN/DR7/MRMH0/SI1349.WRD  \n",
            "  inflating: data/TRAIN/DR7/MRMH0/SI2281.PHN  \n",
            "  inflating: data/TRAIN/DR7/MRMH0/SI2281.TXT  \n",
            "  inflating: data/TRAIN/DR7/MRMH0/SI2281.WAV  \n",
            "  inflating: data/TRAIN/DR7/MRMH0/SI2281.WAV.wav  \n",
            "  inflating: data/TRAIN/DR7/MRMH0/SI2281.WRD  \n",
            "  inflating: data/TRAIN/DR7/MRMH0/SX121.PHN  \n",
            "  inflating: data/TRAIN/DR7/MRMH0/SX121.TXT  \n",
            "  inflating: data/TRAIN/DR7/MRMH0/SX121.WAV  \n",
            "  inflating: data/TRAIN/DR7/MRMH0/SX121.WAV.wav  \n",
            "  inflating: data/TRAIN/DR7/MRMH0/SX121.WRD  \n",
            "  inflating: data/TRAIN/DR7/MRMH0/SX211.PHN  \n",
            "  inflating: data/TRAIN/DR7/MRMH0/SX211.TXT  \n",
            "  inflating: data/TRAIN/DR7/MRMH0/SX211.WAV  \n",
            "  inflating: data/TRAIN/DR7/MRMH0/SX211.WAV.wav  \n",
            "  inflating: data/TRAIN/DR7/MRMH0/SX211.WRD  \n",
            "  inflating: data/TRAIN/DR7/MRMH0/SX301.PHN  \n",
            "  inflating: data/TRAIN/DR7/MRMH0/SX301.TXT  \n",
            "  inflating: data/TRAIN/DR7/MRMH0/SX301.WAV  \n",
            "  inflating: data/TRAIN/DR7/MRMH0/SX301.WAV.wav  \n",
            "  inflating: data/TRAIN/DR7/MRMH0/SX301.WRD  \n",
            "  inflating: data/TRAIN/DR7/MRMH0/SX31.PHN  \n",
            "  inflating: data/TRAIN/DR7/MRMH0/SX31.TXT  \n",
            "  inflating: data/TRAIN/DR7/MRMH0/SX31.WAV  \n",
            "  inflating: data/TRAIN/DR7/MRMH0/SX31.WAV.wav  \n",
            "  inflating: data/TRAIN/DR7/MRMH0/SX31.WRD  \n",
            "  inflating: data/TRAIN/DR7/MRMH0/SX391.PHN  \n",
            "  inflating: data/TRAIN/DR7/MRMH0/SX391.TXT  \n",
            "  inflating: data/TRAIN/DR7/MRMH0/SX391.WAV  \n",
            "  inflating: data/TRAIN/DR7/MRMH0/SX391.WAV.wav  \n",
            "  inflating: data/TRAIN/DR7/MRMH0/SX391.WRD  \n",
            "  inflating: data/TRAIN/DR7/MRPC1/SA1.PHN  \n",
            "  inflating: data/TRAIN/DR7/MRPC1/SA1.TXT  \n",
            "  inflating: data/TRAIN/DR7/MRPC1/SA1.WAV  \n",
            "  inflating: data/TRAIN/DR7/MRPC1/SA1.WAV.wav  \n",
            "  inflating: data/TRAIN/DR7/MRPC1/SA1.WRD  \n",
            "  inflating: data/TRAIN/DR7/MRPC1/SA2.PHN  \n",
            "  inflating: data/TRAIN/DR7/MRPC1/SA2.TXT  \n",
            "  inflating: data/TRAIN/DR7/MRPC1/SA2.WAV  \n",
            "  inflating: data/TRAIN/DR7/MRPC1/SA2.WAV.wav  \n",
            "  inflating: data/TRAIN/DR7/MRPC1/SA2.WRD  \n",
            "  inflating: data/TRAIN/DR7/MRPC1/SI1482.PHN  \n",
            "  inflating: data/TRAIN/DR7/MRPC1/SI1482.TXT  \n",
            "  inflating: data/TRAIN/DR7/MRPC1/SI1482.WAV  \n",
            "  inflating: data/TRAIN/DR7/MRPC1/SI1482.WAV.wav  \n",
            "  inflating: data/TRAIN/DR7/MRPC1/SI1482.WRD  \n",
            "  inflating: data/TRAIN/DR7/MRPC1/SI2026.PHN  \n",
            "  inflating: data/TRAIN/DR7/MRPC1/SI2026.TXT  \n",
            "  inflating: data/TRAIN/DR7/MRPC1/SI2026.WAV  \n",
            "  inflating: data/TRAIN/DR7/MRPC1/SI2026.WAV.wav  \n",
            "  inflating: data/TRAIN/DR7/MRPC1/SI2026.WRD  \n",
            "  inflating: data/TRAIN/DR7/MRPC1/SI2112.PHN  \n",
            "  inflating: data/TRAIN/DR7/MRPC1/SI2112.TXT  \n",
            "  inflating: data/TRAIN/DR7/MRPC1/SI2112.WAV  \n",
            "  inflating: data/TRAIN/DR7/MRPC1/SI2112.WAV.wav  \n",
            "  inflating: data/TRAIN/DR7/MRPC1/SI2112.WRD  \n",
            "  inflating: data/TRAIN/DR7/MRPC1/SX132.PHN  \n",
            "  inflating: data/TRAIN/DR7/MRPC1/SX132.TXT  \n",
            "  inflating: data/TRAIN/DR7/MRPC1/SX132.WAV  \n",
            "  inflating: data/TRAIN/DR7/MRPC1/SX132.WAV.wav  \n",
            "  inflating: data/TRAIN/DR7/MRPC1/SX132.WRD  \n",
            "  inflating: data/TRAIN/DR7/MRPC1/SX222.PHN  \n",
            "  inflating: data/TRAIN/DR7/MRPC1/SX222.TXT  \n",
            "  inflating: data/TRAIN/DR7/MRPC1/SX222.WAV  \n",
            "  inflating: data/TRAIN/DR7/MRPC1/SX222.WAV.wav  \n",
            "  inflating: data/TRAIN/DR7/MRPC1/SX222.WRD  \n",
            "  inflating: data/TRAIN/DR7/MRPC1/SX312.PHN  \n",
            "  inflating: data/TRAIN/DR7/MRPC1/SX312.TXT  \n",
            "  inflating: data/TRAIN/DR7/MRPC1/SX312.WAV  \n",
            "  inflating: data/TRAIN/DR7/MRPC1/SX312.WAV.wav  \n",
            "  inflating: data/TRAIN/DR7/MRPC1/SX312.WRD  \n",
            "  inflating: data/TRAIN/DR7/MRPC1/SX402.PHN  \n",
            "  inflating: data/TRAIN/DR7/MRPC1/SX402.TXT  \n",
            "  inflating: data/TRAIN/DR7/MRPC1/SX402.WAV  \n",
            "  inflating: data/TRAIN/DR7/MRPC1/SX402.WAV.wav  \n",
            "  inflating: data/TRAIN/DR7/MRPC1/SX402.WRD  \n",
            "  inflating: data/TRAIN/DR7/MRPC1/SX42.PHN  \n",
            "  inflating: data/TRAIN/DR7/MRPC1/SX42.TXT  \n",
            "  inflating: data/TRAIN/DR7/MRPC1/SX42.WAV  \n",
            "  inflating: data/TRAIN/DR7/MRPC1/SX42.WAV.wav  \n",
            "  inflating: data/TRAIN/DR7/MRPC1/SX42.WRD  \n",
            "  inflating: data/TRAIN/DR7/MSAH1/SA1.PHN  \n",
            "  inflating: data/TRAIN/DR7/MSAH1/SA1.TXT  \n",
            "  inflating: data/TRAIN/DR7/MSAH1/SA1.WAV  \n",
            "  inflating: data/TRAIN/DR7/MSAH1/SA1.WAV.wav  \n",
            "  inflating: data/TRAIN/DR7/MSAH1/SA1.WRD  \n",
            "  inflating: data/TRAIN/DR7/MSAH1/SA2.PHN  \n",
            "  inflating: data/TRAIN/DR7/MSAH1/SA2.TXT  \n",
            "  inflating: data/TRAIN/DR7/MSAH1/SA2.WAV  \n",
            "  inflating: data/TRAIN/DR7/MSAH1/SA2.WAV.wav  \n",
            "  inflating: data/TRAIN/DR7/MSAH1/SA2.WRD  \n",
            "  inflating: data/TRAIN/DR7/MSAH1/SI1049.PHN  \n",
            "  inflating: data/TRAIN/DR7/MSAH1/SI1049.TXT  \n",
            "  inflating: data/TRAIN/DR7/MSAH1/SI1049.WAV  \n",
            "  inflating: data/TRAIN/DR7/MSAH1/SI1049.WAV.wav  \n",
            "  inflating: data/TRAIN/DR7/MSAH1/SI1049.WRD  \n",
            "  inflating: data/TRAIN/DR7/MSAH1/SI1679.PHN  \n",
            "  inflating: data/TRAIN/DR7/MSAH1/SI1679.TXT  \n",
            "  inflating: data/TRAIN/DR7/MSAH1/SI1679.WAV  \n",
            "  inflating: data/TRAIN/DR7/MSAH1/SI1679.WAV.wav  \n",
            "  inflating: data/TRAIN/DR7/MSAH1/SI1679.WRD  \n",
            "  inflating: data/TRAIN/DR7/MSAH1/SI2309.PHN  \n",
            "  inflating: data/TRAIN/DR7/MSAH1/SI2309.TXT  \n",
            "  inflating: data/TRAIN/DR7/MSAH1/SI2309.WAV  \n",
            "  inflating: data/TRAIN/DR7/MSAH1/SI2309.WAV.wav  \n",
            "  inflating: data/TRAIN/DR7/MSAH1/SI2309.WRD  \n",
            "  inflating: data/TRAIN/DR7/MSAH1/SX149.PHN  \n",
            "  inflating: data/TRAIN/DR7/MSAH1/SX149.TXT  \n",
            "  inflating: data/TRAIN/DR7/MSAH1/SX149.WAV  \n",
            "  inflating: data/TRAIN/DR7/MSAH1/SX149.WAV.wav  \n",
            "  inflating: data/TRAIN/DR7/MSAH1/SX149.WRD  \n",
            "  inflating: data/TRAIN/DR7/MSAH1/SX239.PHN  \n",
            "  inflating: data/TRAIN/DR7/MSAH1/SX239.TXT  \n",
            "  inflating: data/TRAIN/DR7/MSAH1/SX239.WAV  \n",
            "  inflating: data/TRAIN/DR7/MSAH1/SX239.WAV.wav  \n",
            "  inflating: data/TRAIN/DR7/MSAH1/SX239.WRD  \n",
            "  inflating: data/TRAIN/DR7/MSAH1/SX329.PHN  \n",
            "  inflating: data/TRAIN/DR7/MSAH1/SX329.TXT  \n",
            "  inflating: data/TRAIN/DR7/MSAH1/SX329.WAV  \n",
            "  inflating: data/TRAIN/DR7/MSAH1/SX329.WAV.wav  \n",
            "  inflating: data/TRAIN/DR7/MSAH1/SX329.WRD  \n",
            "  inflating: data/TRAIN/DR7/MSAH1/SX419.PHN  \n",
            "  inflating: data/TRAIN/DR7/MSAH1/SX419.TXT  \n",
            "  inflating: data/TRAIN/DR7/MSAH1/SX419.WAV  \n",
            "  inflating: data/TRAIN/DR7/MSAH1/SX419.WAV.wav  \n",
            "  inflating: data/TRAIN/DR7/MSAH1/SX419.WRD  \n",
            "  inflating: data/TRAIN/DR7/MSAH1/SX59.PHN  \n",
            "  inflating: data/TRAIN/DR7/MSAH1/SX59.TXT  \n",
            "  inflating: data/TRAIN/DR7/MSAH1/SX59.WAV  \n",
            "  inflating: data/TRAIN/DR7/MSAH1/SX59.WAV.wav  \n",
            "  inflating: data/TRAIN/DR7/MSAH1/SX59.WRD  \n",
            "  inflating: data/TRAIN/DR7/MSDB0/SA1.PHN  \n",
            "  inflating: data/TRAIN/DR7/MSDB0/SA1.TXT  \n",
            "  inflating: data/TRAIN/DR7/MSDB0/SA1.WAV  \n",
            "  inflating: data/TRAIN/DR7/MSDB0/SA1.WAV.wav  \n",
            "  inflating: data/TRAIN/DR7/MSDB0/SA1.WRD  \n",
            "  inflating: data/TRAIN/DR7/MSDB0/SA2.PHN  \n",
            "  inflating: data/TRAIN/DR7/MSDB0/SA2.TXT  \n",
            "  inflating: data/TRAIN/DR7/MSDB0/SA2.WAV  \n",
            "  inflating: data/TRAIN/DR7/MSDB0/SA2.WAV.wav  \n",
            "  inflating: data/TRAIN/DR7/MSDB0/SA2.WRD  \n",
            "  inflating: data/TRAIN/DR7/MSDB0/SI1007.PHN  \n",
            "  inflating: data/TRAIN/DR7/MSDB0/SI1007.TXT  \n",
            "  inflating: data/TRAIN/DR7/MSDB0/SI1007.WAV  \n",
            "  inflating: data/TRAIN/DR7/MSDB0/SI1007.WAV.wav  \n",
            "  inflating: data/TRAIN/DR7/MSDB0/SI1007.WRD  \n",
            "  inflating: data/TRAIN/DR7/MSDB0/SI1637.PHN  \n",
            "  inflating: data/TRAIN/DR7/MSDB0/SI1637.TXT  \n",
            "  inflating: data/TRAIN/DR7/MSDB0/SI1637.WAV  \n",
            "  inflating: data/TRAIN/DR7/MSDB0/SI1637.WAV.wav  \n",
            "  inflating: data/TRAIN/DR7/MSDB0/SI1637.WRD  \n",
            "  inflating: data/TRAIN/DR7/MSDB0/SI2267.PHN  \n",
            "  inflating: data/TRAIN/DR7/MSDB0/SI2267.TXT  \n",
            "  inflating: data/TRAIN/DR7/MSDB0/SI2267.WAV  \n",
            "  inflating: data/TRAIN/DR7/MSDB0/SI2267.WAV.wav  \n",
            "  inflating: data/TRAIN/DR7/MSDB0/SI2267.WRD  \n",
            "  inflating: data/TRAIN/DR7/MSDB0/SX107.PHN  \n",
            "  inflating: data/TRAIN/DR7/MSDB0/SX107.TXT  \n",
            "  inflating: data/TRAIN/DR7/MSDB0/SX107.WAV  \n",
            "  inflating: data/TRAIN/DR7/MSDB0/SX107.WAV.wav  \n",
            "  inflating: data/TRAIN/DR7/MSDB0/SX107.WRD  \n",
            "  inflating: data/TRAIN/DR7/MSDB0/SX17.PHN  \n",
            "  inflating: data/TRAIN/DR7/MSDB0/SX17.TXT  \n",
            "  inflating: data/TRAIN/DR7/MSDB0/SX17.WAV  \n",
            "  inflating: data/TRAIN/DR7/MSDB0/SX17.WAV.wav  \n",
            "  inflating: data/TRAIN/DR7/MSDB0/SX17.WRD  \n",
            "  inflating: data/TRAIN/DR7/MSDB0/SX197.PHN  \n",
            "  inflating: data/TRAIN/DR7/MSDB0/SX197.TXT  \n",
            "  inflating: data/TRAIN/DR7/MSDB0/SX197.WAV  \n",
            "  inflating: data/TRAIN/DR7/MSDB0/SX197.WAV.wav  \n",
            "  inflating: data/TRAIN/DR7/MSDB0/SX197.WRD  \n",
            "  inflating: data/TRAIN/DR7/MSDB0/SX287.PHN  \n",
            "  inflating: data/TRAIN/DR7/MSDB0/SX287.TXT  \n",
            "  inflating: data/TRAIN/DR7/MSDB0/SX287.WAV  \n",
            "  inflating: data/TRAIN/DR7/MSDB0/SX287.WAV.wav  \n",
            "  inflating: data/TRAIN/DR7/MSDB0/SX287.WRD  \n",
            "  inflating: data/TRAIN/DR7/MSDB0/SX377.PHN  \n",
            "  inflating: data/TRAIN/DR7/MSDB0/SX377.TXT  \n",
            "  inflating: data/TRAIN/DR7/MSDB0/SX377.WAV  \n",
            "  inflating: data/TRAIN/DR7/MSDB0/SX377.WAV.wav  \n",
            "  inflating: data/TRAIN/DR7/MSDB0/SX377.WRD  \n",
            "  inflating: data/TRAIN/DR7/MSES0/SA1.PHN  \n",
            "  inflating: data/TRAIN/DR7/MSES0/SA1.TXT  \n",
            "  inflating: data/TRAIN/DR7/MSES0/SA1.WAV  \n",
            "  inflating: data/TRAIN/DR7/MSES0/SA1.WAV.wav  \n",
            "  inflating: data/TRAIN/DR7/MSES0/SA1.WRD  \n",
            "  inflating: data/TRAIN/DR7/MSES0/SA2.PHN  \n",
            "  inflating: data/TRAIN/DR7/MSES0/SA2.TXT  \n",
            "  inflating: data/TRAIN/DR7/MSES0/SA2.WAV  \n",
            "  inflating: data/TRAIN/DR7/MSES0/SA2.WAV.wav  \n",
            "  inflating: data/TRAIN/DR7/MSES0/SA2.WRD  \n",
            "  inflating: data/TRAIN/DR7/MSES0/SI1589.PHN  \n",
            "  inflating: data/TRAIN/DR7/MSES0/SI1589.TXT  \n",
            "  inflating: data/TRAIN/DR7/MSES0/SI1589.WAV  \n",
            "  inflating: data/TRAIN/DR7/MSES0/SI1589.WAV.wav  \n",
            "  inflating: data/TRAIN/DR7/MSES0/SI1589.WRD  \n",
            "  inflating: data/TRAIN/DR7/MSES0/SI2216.PHN  \n",
            "  inflating: data/TRAIN/DR7/MSES0/SI2216.TXT  \n",
            "  inflating: data/TRAIN/DR7/MSES0/SI2216.WAV  \n",
            "  inflating: data/TRAIN/DR7/MSES0/SI2216.WAV.wav  \n",
            "  inflating: data/TRAIN/DR7/MSES0/SI2216.WRD  \n",
            "  inflating: data/TRAIN/DR7/MSES0/SI2219.PHN  \n",
            "  inflating: data/TRAIN/DR7/MSES0/SI2219.TXT  \n",
            "  inflating: data/TRAIN/DR7/MSES0/SI2219.WAV  \n",
            "  inflating: data/TRAIN/DR7/MSES0/SI2219.WAV.wav  \n",
            "  inflating: data/TRAIN/DR7/MSES0/SI2219.WRD  \n",
            "  inflating: data/TRAIN/DR7/MSES0/SX149.PHN  \n",
            "  inflating: data/TRAIN/DR7/MSES0/SX149.TXT  \n",
            "  inflating: data/TRAIN/DR7/MSES0/SX149.WAV  \n",
            "  inflating: data/TRAIN/DR7/MSES0/SX149.WAV.wav  \n",
            "  inflating: data/TRAIN/DR7/MSES0/SX149.WRD  \n",
            "  inflating: data/TRAIN/DR7/MSES0/SX239.PHN  \n",
            "  inflating: data/TRAIN/DR7/MSES0/SX239.TXT  \n",
            "  inflating: data/TRAIN/DR7/MSES0/SX239.WAV  \n",
            "  inflating: data/TRAIN/DR7/MSES0/SX239.WAV.wav  \n",
            "  inflating: data/TRAIN/DR7/MSES0/SX239.WRD  \n",
            "  inflating: data/TRAIN/DR7/MSES0/SX329.PHN  \n",
            "  inflating: data/TRAIN/DR7/MSES0/SX329.TXT  \n",
            "  inflating: data/TRAIN/DR7/MSES0/SX329.WAV  \n",
            "  inflating: data/TRAIN/DR7/MSES0/SX329.WAV.wav  \n",
            "  inflating: data/TRAIN/DR7/MSES0/SX329.WRD  \n",
            "  inflating: data/TRAIN/DR7/MSES0/SX419.PHN  \n",
            "  inflating: data/TRAIN/DR7/MSES0/SX419.TXT  \n",
            "  inflating: data/TRAIN/DR7/MSES0/SX419.WAV  \n",
            "  inflating: data/TRAIN/DR7/MSES0/SX419.WAV.wav  \n",
            "  inflating: data/TRAIN/DR7/MSES0/SX419.WRD  \n",
            "  inflating: data/TRAIN/DR7/MSES0/SX59.PHN  \n",
            "  inflating: data/TRAIN/DR7/MSES0/SX59.TXT  \n",
            "  inflating: data/TRAIN/DR7/MSES0/SX59.WAV  \n",
            "  inflating: data/TRAIN/DR7/MSES0/SX59.WAV.wav  \n",
            "  inflating: data/TRAIN/DR7/MSES0/SX59.WRD  \n",
            "  inflating: data/TRAIN/DR7/MTAB0/SA1.PHN  \n",
            "  inflating: data/TRAIN/DR7/MTAB0/SA1.TXT  \n",
            "  inflating: data/TRAIN/DR7/MTAB0/SA1.WAV  \n",
            "  inflating: data/TRAIN/DR7/MTAB0/SA1.WAV.wav  \n",
            "  inflating: data/TRAIN/DR7/MTAB0/SA1.WRD  \n",
            "  inflating: data/TRAIN/DR7/MTAB0/SA2.PHN  \n",
            "  inflating: data/TRAIN/DR7/MTAB0/SA2.TXT  \n",
            "  inflating: data/TRAIN/DR7/MTAB0/SA2.WAV  \n",
            "  inflating: data/TRAIN/DR7/MTAB0/SA2.WAV.wav  \n",
            "  inflating: data/TRAIN/DR7/MTAB0/SA2.WRD  \n",
            "  inflating: data/TRAIN/DR7/MTAB0/SI1572.PHN  \n",
            "  inflating: data/TRAIN/DR7/MTAB0/SI1572.TXT  \n",
            "  inflating: data/TRAIN/DR7/MTAB0/SI1572.WAV  \n",
            "  inflating: data/TRAIN/DR7/MTAB0/SI1572.WAV.wav  \n",
            "  inflating: data/TRAIN/DR7/MTAB0/SI1572.WRD  \n",
            "  inflating: data/TRAIN/DR7/MTAB0/SI2202.PHN  \n",
            "  inflating: data/TRAIN/DR7/MTAB0/SI2202.TXT  \n",
            "  inflating: data/TRAIN/DR7/MTAB0/SI2202.WAV  \n",
            "  inflating: data/TRAIN/DR7/MTAB0/SI2202.WAV.wav  \n",
            "  inflating: data/TRAIN/DR7/MTAB0/SI2202.WRD  \n",
            "  inflating: data/TRAIN/DR7/MTAB0/SI942.PHN  \n",
            "  inflating: data/TRAIN/DR7/MTAB0/SI942.TXT  \n",
            "  inflating: data/TRAIN/DR7/MTAB0/SI942.WAV  \n",
            "  inflating: data/TRAIN/DR7/MTAB0/SI942.WAV.wav  \n",
            "  inflating: data/TRAIN/DR7/MTAB0/SI942.WRD  \n",
            "  inflating: data/TRAIN/DR7/MTAB0/SX132.PHN  \n",
            "  inflating: data/TRAIN/DR7/MTAB0/SX132.TXT  \n",
            "  inflating: data/TRAIN/DR7/MTAB0/SX132.WAV  \n",
            "  inflating: data/TRAIN/DR7/MTAB0/SX132.WAV.wav  \n",
            "  inflating: data/TRAIN/DR7/MTAB0/SX132.WRD  \n",
            "  inflating: data/TRAIN/DR7/MTAB0/SX222.PHN  \n",
            "  inflating: data/TRAIN/DR7/MTAB0/SX222.TXT  \n",
            "  inflating: data/TRAIN/DR7/MTAB0/SX222.WAV  \n",
            "  inflating: data/TRAIN/DR7/MTAB0/SX222.WAV.wav  \n",
            "  inflating: data/TRAIN/DR7/MTAB0/SX222.WRD  \n",
            "  inflating: data/TRAIN/DR7/MTAB0/SX312.PHN  \n",
            "  inflating: data/TRAIN/DR7/MTAB0/SX312.TXT  \n",
            "  inflating: data/TRAIN/DR7/MTAB0/SX312.WAV  \n",
            "  inflating: data/TRAIN/DR7/MTAB0/SX312.WAV.wav  \n",
            "  inflating: data/TRAIN/DR7/MTAB0/SX312.WRD  \n",
            "  inflating: data/TRAIN/DR7/MTAB0/SX402.PHN  \n",
            "  inflating: data/TRAIN/DR7/MTAB0/SX402.TXT  \n",
            "  inflating: data/TRAIN/DR7/MTAB0/SX402.WAV  \n",
            "  inflating: data/TRAIN/DR7/MTAB0/SX402.WAV.wav  \n",
            "  inflating: data/TRAIN/DR7/MTAB0/SX402.WRD  \n",
            "  inflating: data/TRAIN/DR7/MTAB0/SX42.PHN  \n",
            "  inflating: data/TRAIN/DR7/MTAB0/SX42.TXT  \n",
            "  inflating: data/TRAIN/DR7/MTAB0/SX42.WAV  \n",
            "  inflating: data/TRAIN/DR7/MTAB0/SX42.WAV.wav  \n",
            "  inflating: data/TRAIN/DR7/MTAB0/SX42.WRD  \n",
            "  inflating: data/TRAIN/DR7/MTER0/SA1.PHN  \n",
            "  inflating: data/TRAIN/DR7/MTER0/SA1.TXT  \n",
            "  inflating: data/TRAIN/DR7/MTER0/SA1.WAV  \n",
            "  inflating: data/TRAIN/DR7/MTER0/SA1.WAV.wav  \n",
            "  inflating: data/TRAIN/DR7/MTER0/SA1.WRD  \n",
            "  inflating: data/TRAIN/DR7/MTER0/SA2.PHN  \n",
            "  inflating: data/TRAIN/DR7/MTER0/SA2.TXT  \n",
            "  inflating: data/TRAIN/DR7/MTER0/SA2.WAV  \n",
            "  inflating: data/TRAIN/DR7/MTER0/SA2.WAV.wav  \n",
            "  inflating: data/TRAIN/DR7/MTER0/SA2.WRD  \n",
            "  inflating: data/TRAIN/DR7/MTER0/SI1157.PHN  \n",
            "  inflating: data/TRAIN/DR7/MTER0/SI1157.TXT  \n",
            "  inflating: data/TRAIN/DR7/MTER0/SI1157.WAV  \n",
            "  inflating: data/TRAIN/DR7/MTER0/SI1157.WAV.wav  \n",
            "  inflating: data/TRAIN/DR7/MTER0/SI1157.WRD  \n",
            "  inflating: data/TRAIN/DR7/MTER0/SI1787.PHN  \n",
            "  inflating: data/TRAIN/DR7/MTER0/SI1787.TXT  \n",
            "  inflating: data/TRAIN/DR7/MTER0/SI1787.WAV  \n",
            "  inflating: data/TRAIN/DR7/MTER0/SI1787.WAV.wav  \n",
            "  inflating: data/TRAIN/DR7/MTER0/SI1787.WRD  \n",
            "  inflating: data/TRAIN/DR7/MTER0/SI527.PHN  \n",
            "  inflating: data/TRAIN/DR7/MTER0/SI527.TXT  \n",
            "  inflating: data/TRAIN/DR7/MTER0/SI527.WAV  \n",
            "  inflating: data/TRAIN/DR7/MTER0/SI527.WAV.wav  \n",
            "  inflating: data/TRAIN/DR7/MTER0/SI527.WRD  \n",
            "  inflating: data/TRAIN/DR7/MTER0/SX167.PHN  \n",
            "  inflating: data/TRAIN/DR7/MTER0/SX167.TXT  \n",
            "  inflating: data/TRAIN/DR7/MTER0/SX167.WAV  \n",
            "  inflating: data/TRAIN/DR7/MTER0/SX167.WAV.wav  \n",
            "  inflating: data/TRAIN/DR7/MTER0/SX167.WRD  \n",
            "  inflating: data/TRAIN/DR7/MTER0/SX17.PHN  \n",
            "  inflating: data/TRAIN/DR7/MTER0/SX17.TXT  \n",
            "  inflating: data/TRAIN/DR7/MTER0/SX17.WAV  \n",
            "  inflating: data/TRAIN/DR7/MTER0/SX17.WAV.wav  \n",
            "  inflating: data/TRAIN/DR7/MTER0/SX17.WRD  \n",
            "  inflating: data/TRAIN/DR7/MTER0/SX257.PHN  \n",
            "  inflating: data/TRAIN/DR7/MTER0/SX257.TXT  \n",
            "  inflating: data/TRAIN/DR7/MTER0/SX257.WAV  \n",
            "  inflating: data/TRAIN/DR7/MTER0/SX257.WAV.wav  \n",
            "  inflating: data/TRAIN/DR7/MTER0/SX257.WRD  \n",
            "  inflating: data/TRAIN/DR7/MTER0/SX437.PHN  \n",
            "  inflating: data/TRAIN/DR7/MTER0/SX437.TXT  \n",
            "  inflating: data/TRAIN/DR7/MTER0/SX437.WAV  \n",
            "  inflating: data/TRAIN/DR7/MTER0/SX437.WAV.wav  \n",
            "  inflating: data/TRAIN/DR7/MTER0/SX437.WRD  \n",
            "  inflating: data/TRAIN/DR7/MTER0/SX77.PHN  \n",
            "  inflating: data/TRAIN/DR7/MTER0/SX77.TXT  \n",
            "  inflating: data/TRAIN/DR7/MTER0/SX77.WAV  \n",
            "  inflating: data/TRAIN/DR7/MTER0/SX77.WAV.wav  \n",
            "  inflating: data/TRAIN/DR7/MTER0/SX77.WRD  \n",
            "  inflating: data/TRAIN/DR7/MTKD0/SA1.PHN  \n",
            "  inflating: data/TRAIN/DR7/MTKD0/SA1.TXT  \n",
            "  inflating: data/TRAIN/DR7/MTKD0/SA1.WAV  \n",
            "  inflating: data/TRAIN/DR7/MTKD0/SA1.WAV.wav  \n",
            "  inflating: data/TRAIN/DR7/MTKD0/SA1.WRD  \n",
            "  inflating: data/TRAIN/DR7/MTKD0/SA2.PHN  \n",
            "  inflating: data/TRAIN/DR7/MTKD0/SA2.TXT  \n",
            "  inflating: data/TRAIN/DR7/MTKD0/SA2.WAV  \n",
            "  inflating: data/TRAIN/DR7/MTKD0/SA2.WAV.wav  \n",
            "  inflating: data/TRAIN/DR7/MTKD0/SA2.WRD  \n",
            "  inflating: data/TRAIN/DR7/MTKD0/SI1187.PHN  \n",
            "  inflating: data/TRAIN/DR7/MTKD0/SI1187.TXT  \n",
            "  inflating: data/TRAIN/DR7/MTKD0/SI1187.WAV  \n",
            "  inflating: data/TRAIN/DR7/MTKD0/SI1187.WAV.wav  \n",
            "  inflating: data/TRAIN/DR7/MTKD0/SI1187.WRD  \n",
            "  inflating: data/TRAIN/DR7/MTKD0/SI1817.PHN  \n",
            "  inflating: data/TRAIN/DR7/MTKD0/SI1817.TXT  \n",
            "  inflating: data/TRAIN/DR7/MTKD0/SI1817.WAV  \n",
            "  inflating: data/TRAIN/DR7/MTKD0/SI1817.WAV.wav  \n",
            "  inflating: data/TRAIN/DR7/MTKD0/SI1817.WRD  \n",
            "  inflating: data/TRAIN/DR7/MTKD0/SI630.PHN  \n",
            "  inflating: data/TRAIN/DR7/MTKD0/SI630.TXT  \n",
            "  inflating: data/TRAIN/DR7/MTKD0/SI630.WAV  \n",
            "  inflating: data/TRAIN/DR7/MTKD0/SI630.WAV.wav  \n",
            "  inflating: data/TRAIN/DR7/MTKD0/SI630.WRD  \n",
            "  inflating: data/TRAIN/DR7/MTKD0/SX107.PHN  \n",
            "  inflating: data/TRAIN/DR7/MTKD0/SX107.TXT  \n",
            "  inflating: data/TRAIN/DR7/MTKD0/SX107.WAV  \n",
            "  inflating: data/TRAIN/DR7/MTKD0/SX107.WAV.wav  \n",
            "  inflating: data/TRAIN/DR7/MTKD0/SX107.WRD  \n",
            "  inflating: data/TRAIN/DR7/MTKD0/SX17.PHN  \n",
            "  inflating: data/TRAIN/DR7/MTKD0/SX17.TXT  \n",
            "  inflating: data/TRAIN/DR7/MTKD0/SX17.WAV  \n",
            "  inflating: data/TRAIN/DR7/MTKD0/SX17.WAV.wav  \n",
            "  inflating: data/TRAIN/DR7/MTKD0/SX17.WRD  \n",
            "  inflating: data/TRAIN/DR7/MTKD0/SX197.PHN  \n",
            "  inflating: data/TRAIN/DR7/MTKD0/SX197.TXT  \n",
            "  inflating: data/TRAIN/DR7/MTKD0/SX197.WAV  \n",
            "  inflating: data/TRAIN/DR7/MTKD0/SX197.WAV.wav  \n",
            "  inflating: data/TRAIN/DR7/MTKD0/SX197.WRD  \n",
            "  inflating: data/TRAIN/DR7/MTKD0/SX287.PHN  \n",
            "  inflating: data/TRAIN/DR7/MTKD0/SX287.TXT  \n",
            "  inflating: data/TRAIN/DR7/MTKD0/SX287.WAV  \n",
            "  inflating: data/TRAIN/DR7/MTKD0/SX287.WAV.wav  \n",
            "  inflating: data/TRAIN/DR7/MTKD0/SX287.WRD  \n",
            "  inflating: data/TRAIN/DR7/MTKD0/SX377.PHN  \n",
            "  inflating: data/TRAIN/DR7/MTKD0/SX377.TXT  \n",
            "  inflating: data/TRAIN/DR7/MTKD0/SX377.WAV  \n",
            "  inflating: data/TRAIN/DR7/MTKD0/SX377.WAV.wav  \n",
            "  inflating: data/TRAIN/DR7/MTKD0/SX377.WRD  \n",
            "  inflating: data/TRAIN/DR7/MTLC0/SA1.PHN  \n",
            "  inflating: data/TRAIN/DR7/MTLC0/SA1.TXT  \n",
            "  inflating: data/TRAIN/DR7/MTLC0/SA1.WAV  \n",
            "  inflating: data/TRAIN/DR7/MTLC0/SA1.WAV.wav  \n",
            "  inflating: data/TRAIN/DR7/MTLC0/SA1.WRD  \n",
            "  inflating: data/TRAIN/DR7/MTLC0/SA2.PHN  \n",
            "  inflating: data/TRAIN/DR7/MTLC0/SA2.TXT  \n",
            "  inflating: data/TRAIN/DR7/MTLC0/SA2.WAV  \n",
            "  inflating: data/TRAIN/DR7/MTLC0/SA2.WAV.wav  \n",
            "  inflating: data/TRAIN/DR7/MTLC0/SA2.WRD  \n",
            "  inflating: data/TRAIN/DR7/MTLC0/SI1313.PHN  \n",
            "  inflating: data/TRAIN/DR7/MTLC0/SI1313.TXT  \n",
            "  inflating: data/TRAIN/DR7/MTLC0/SI1313.WAV  \n",
            "  inflating: data/TRAIN/DR7/MTLC0/SI1313.WAV.wav  \n",
            "  inflating: data/TRAIN/DR7/MTLC0/SI1313.WRD  \n",
            "  inflating: data/TRAIN/DR7/MTLC0/SI1477.PHN  \n",
            "  inflating: data/TRAIN/DR7/MTLC0/SI1477.TXT  \n",
            "  inflating: data/TRAIN/DR7/MTLC0/SI1477.WAV  \n",
            "  inflating: data/TRAIN/DR7/MTLC0/SI1477.WAV.wav  \n",
            "  inflating: data/TRAIN/DR7/MTLC0/SI1477.WRD  \n",
            "  inflating: data/TRAIN/DR7/MTLC0/SI847.PHN  \n",
            "  inflating: data/TRAIN/DR7/MTLC0/SI847.TXT  \n",
            "  inflating: data/TRAIN/DR7/MTLC0/SI847.WAV  \n",
            "  inflating: data/TRAIN/DR7/MTLC0/SI847.WAV.wav  \n",
            "  inflating: data/TRAIN/DR7/MTLC0/SI847.WRD  \n",
            "  inflating: data/TRAIN/DR7/MTLC0/SX127.PHN  \n",
            "  inflating: data/TRAIN/DR7/MTLC0/SX127.TXT  \n",
            "  inflating: data/TRAIN/DR7/MTLC0/SX127.WAV  \n",
            "  inflating: data/TRAIN/DR7/MTLC0/SX127.WAV.wav  \n",
            "  inflating: data/TRAIN/DR7/MTLC0/SX127.WRD  \n",
            "  inflating: data/TRAIN/DR7/MTLC0/SX217.PHN  \n",
            "  inflating: data/TRAIN/DR7/MTLC0/SX217.TXT  \n",
            "  inflating: data/TRAIN/DR7/MTLC0/SX217.WAV  \n",
            "  inflating: data/TRAIN/DR7/MTLC0/SX217.WAV.wav  \n",
            "  inflating: data/TRAIN/DR7/MTLC0/SX217.WRD  \n",
            "  inflating: data/TRAIN/DR7/MTLC0/SX307.PHN  \n",
            "  inflating: data/TRAIN/DR7/MTLC0/SX307.TXT  \n",
            "  inflating: data/TRAIN/DR7/MTLC0/SX307.WAV  \n",
            "  inflating: data/TRAIN/DR7/MTLC0/SX307.WAV.wav  \n",
            "  inflating: data/TRAIN/DR7/MTLC0/SX307.WRD  \n",
            "  inflating: data/TRAIN/DR7/MTLC0/SX37.PHN  \n",
            "  inflating: data/TRAIN/DR7/MTLC0/SX37.TXT  \n",
            "  inflating: data/TRAIN/DR7/MTLC0/SX37.WAV  \n",
            "  inflating: data/TRAIN/DR7/MTLC0/SX37.WAV.wav  \n",
            "  inflating: data/TRAIN/DR7/MTLC0/SX37.WRD  \n",
            "  inflating: data/TRAIN/DR7/MTLC0/SX397.PHN  \n",
            "  inflating: data/TRAIN/DR7/MTLC0/SX397.TXT  \n",
            "  inflating: data/TRAIN/DR7/MTLC0/SX397.WAV  \n",
            "  inflating: data/TRAIN/DR7/MTLC0/SX397.WAV.wav  \n",
            "  inflating: data/TRAIN/DR7/MTLC0/SX397.WRD  \n",
            "  inflating: data/TRAIN/DR7/MTML0/SA1.PHN  \n",
            "  inflating: data/TRAIN/DR7/MTML0/SA1.TXT  \n",
            "  inflating: data/TRAIN/DR7/MTML0/SA1.WAV  \n",
            "  inflating: data/TRAIN/DR7/MTML0/SA1.WAV.wav  \n",
            "  inflating: data/TRAIN/DR7/MTML0/SA1.WRD  \n",
            "  inflating: data/TRAIN/DR7/MTML0/SA2.PHN  \n",
            "  inflating: data/TRAIN/DR7/MTML0/SA2.TXT  \n",
            "  inflating: data/TRAIN/DR7/MTML0/SA2.WAV  \n",
            "  inflating: data/TRAIN/DR7/MTML0/SA2.WAV.wav  \n",
            "  inflating: data/TRAIN/DR7/MTML0/SA2.WRD  \n",
            "  inflating: data/TRAIN/DR7/MTML0/SI1065.PHN  \n",
            "  inflating: data/TRAIN/DR7/MTML0/SI1065.TXT  \n",
            "  inflating: data/TRAIN/DR7/MTML0/SI1065.WAV  \n",
            "  inflating: data/TRAIN/DR7/MTML0/SI1065.WAV.wav  \n",
            "  inflating: data/TRAIN/DR7/MTML0/SI1065.WRD  \n",
            "  inflating: data/TRAIN/DR7/MTML0/SI1695.PHN  \n",
            "  inflating: data/TRAIN/DR7/MTML0/SI1695.TXT  \n",
            "  inflating: data/TRAIN/DR7/MTML0/SI1695.WAV  \n",
            "  inflating: data/TRAIN/DR7/MTML0/SI1695.WAV.wav  \n",
            "  inflating: data/TRAIN/DR7/MTML0/SI1695.WRD  \n",
            "  inflating: data/TRAIN/DR7/MTML0/SI2325.PHN  \n",
            "  inflating: data/TRAIN/DR7/MTML0/SI2325.TXT  \n",
            "  inflating: data/TRAIN/DR7/MTML0/SI2325.WAV  \n",
            "  inflating: data/TRAIN/DR7/MTML0/SI2325.WAV.wav  \n",
            "  inflating: data/TRAIN/DR7/MTML0/SI2325.WRD  \n",
            "  inflating: data/TRAIN/DR7/MTML0/SX165.PHN  \n",
            "  inflating: data/TRAIN/DR7/MTML0/SX165.TXT  \n",
            "  inflating: data/TRAIN/DR7/MTML0/SX165.WAV  \n",
            "  inflating: data/TRAIN/DR7/MTML0/SX165.WAV.wav  \n",
            "  inflating: data/TRAIN/DR7/MTML0/SX165.WRD  \n",
            "  inflating: data/TRAIN/DR7/MTML0/SX255.PHN  \n",
            "  inflating: data/TRAIN/DR7/MTML0/SX255.TXT  \n",
            "  inflating: data/TRAIN/DR7/MTML0/SX255.WAV  \n",
            "  inflating: data/TRAIN/DR7/MTML0/SX255.WAV.wav  \n",
            "  inflating: data/TRAIN/DR7/MTML0/SX255.WRD  \n",
            "  inflating: data/TRAIN/DR7/MTML0/SX345.PHN  \n",
            "  inflating: data/TRAIN/DR7/MTML0/SX345.TXT  \n",
            "  inflating: data/TRAIN/DR7/MTML0/SX345.WAV  \n",
            "  inflating: data/TRAIN/DR7/MTML0/SX345.WAV.wav  \n",
            "  inflating: data/TRAIN/DR7/MTML0/SX345.WRD  \n",
            "  inflating: data/TRAIN/DR7/MTML0/SX435.PHN  \n",
            "  inflating: data/TRAIN/DR7/MTML0/SX435.TXT  \n",
            "  inflating: data/TRAIN/DR7/MTML0/SX435.WAV  \n",
            "  inflating: data/TRAIN/DR7/MTML0/SX435.WAV.wav  \n",
            "  inflating: data/TRAIN/DR7/MTML0/SX435.WRD  \n",
            "  inflating: data/TRAIN/DR7/MTML0/SX75.PHN  \n",
            "  inflating: data/TRAIN/DR7/MTML0/SX75.TXT  \n",
            "  inflating: data/TRAIN/DR7/MTML0/SX75.WAV  \n",
            "  inflating: data/TRAIN/DR7/MTML0/SX75.WAV.wav  \n",
            "  inflating: data/TRAIN/DR7/MTML0/SX75.WRD  \n",
            "  inflating: data/TRAIN/DR7/MTMN0/SA1.PHN  \n",
            "  inflating: data/TRAIN/DR7/MTMN0/SA1.TXT  \n",
            "  inflating: data/TRAIN/DR7/MTMN0/SA1.WAV  \n",
            "  inflating: data/TRAIN/DR7/MTMN0/SA1.WAV.wav  \n",
            "  inflating: data/TRAIN/DR7/MTMN0/SA1.WRD  \n",
            "  inflating: data/TRAIN/DR7/MTMN0/SA2.PHN  \n",
            "  inflating: data/TRAIN/DR7/MTMN0/SA2.TXT  \n",
            "  inflating: data/TRAIN/DR7/MTMN0/SA2.WAV  \n",
            "  inflating: data/TRAIN/DR7/MTMN0/SA2.WAV.wav  \n",
            "  inflating: data/TRAIN/DR7/MTMN0/SA2.WRD  \n",
            "  inflating: data/TRAIN/DR7/MTMN0/SI1064.PHN  \n",
            "  inflating: data/TRAIN/DR7/MTMN0/SI1064.TXT  \n",
            "  inflating: data/TRAIN/DR7/MTMN0/SI1064.WAV  \n",
            "  inflating: data/TRAIN/DR7/MTMN0/SI1064.WAV.wav  \n",
            "  inflating: data/TRAIN/DR7/MTMN0/SI1064.WRD  \n",
            "  inflating: data/TRAIN/DR7/MTMN0/SI2324.PHN  \n",
            "  inflating: data/TRAIN/DR7/MTMN0/SI2324.TXT  \n",
            "  inflating: data/TRAIN/DR7/MTMN0/SI2324.WAV  \n",
            "  inflating: data/TRAIN/DR7/MTMN0/SI2324.WAV.wav  \n",
            "  inflating: data/TRAIN/DR7/MTMN0/SI2324.WRD  \n",
            "  inflating: data/TRAIN/DR7/MTMN0/SI582.PHN  \n",
            "  inflating: data/TRAIN/DR7/MTMN0/SI582.TXT  \n",
            "  inflating: data/TRAIN/DR7/MTMN0/SI582.WAV  \n",
            "  inflating: data/TRAIN/DR7/MTMN0/SI582.WAV.wav  \n",
            "  inflating: data/TRAIN/DR7/MTMN0/SI582.WRD  \n",
            "  inflating: data/TRAIN/DR7/MTMN0/SX164.PHN  \n",
            "  inflating: data/TRAIN/DR7/MTMN0/SX164.TXT  \n",
            "  inflating: data/TRAIN/DR7/MTMN0/SX164.WAV  \n",
            "  inflating: data/TRAIN/DR7/MTMN0/SX164.WAV.wav  \n",
            "  inflating: data/TRAIN/DR7/MTMN0/SX164.WRD  \n",
            "  inflating: data/TRAIN/DR7/MTMN0/SX254.PHN  \n",
            "  inflating: data/TRAIN/DR7/MTMN0/SX254.TXT  \n",
            "  inflating: data/TRAIN/DR7/MTMN0/SX254.WAV  \n",
            "  inflating: data/TRAIN/DR7/MTMN0/SX254.WAV.wav  \n",
            "  inflating: data/TRAIN/DR7/MTMN0/SX254.WRD  \n",
            "  inflating: data/TRAIN/DR7/MTMN0/SX344.PHN  \n",
            "  inflating: data/TRAIN/DR7/MTMN0/SX344.TXT  \n",
            "  inflating: data/TRAIN/DR7/MTMN0/SX344.WAV  \n",
            "  inflating: data/TRAIN/DR7/MTMN0/SX344.WAV.wav  \n",
            "  inflating: data/TRAIN/DR7/MTMN0/SX344.WRD  \n",
            "  inflating: data/TRAIN/DR7/MTMN0/SX434.PHN  \n",
            "  inflating: data/TRAIN/DR7/MTMN0/SX434.TXT  \n",
            "  inflating: data/TRAIN/DR7/MTMN0/SX434.WAV  \n",
            "  inflating: data/TRAIN/DR7/MTMN0/SX434.WAV.wav  \n",
            "  inflating: data/TRAIN/DR7/MTMN0/SX434.WRD  \n",
            "  inflating: data/TRAIN/DR7/MTMN0/SX74.PHN  \n",
            "  inflating: data/TRAIN/DR7/MTMN0/SX74.TXT  \n",
            "  inflating: data/TRAIN/DR7/MTMN0/SX74.WAV  \n",
            "  inflating: data/TRAIN/DR7/MTMN0/SX74.WAV.wav  \n",
            "  inflating: data/TRAIN/DR7/MTMN0/SX74.WRD  \n",
            "  inflating: data/TRAIN/DR7/MTPR0/SA1.PHN  \n",
            "  inflating: data/TRAIN/DR7/MTPR0/SA1.TXT  \n",
            "  inflating: data/TRAIN/DR7/MTPR0/SA1.WAV  \n",
            "  inflating: data/TRAIN/DR7/MTPR0/SA1.WAV.wav  \n",
            "  inflating: data/TRAIN/DR7/MTPR0/SA1.WRD  \n",
            "  inflating: data/TRAIN/DR7/MTPR0/SA2.PHN  \n",
            "  inflating: data/TRAIN/DR7/MTPR0/SA2.TXT  \n",
            "  inflating: data/TRAIN/DR7/MTPR0/SA2.WAV  \n",
            "  inflating: data/TRAIN/DR7/MTPR0/SA2.WAV.wav  \n",
            "  inflating: data/TRAIN/DR7/MTPR0/SA2.WRD  \n",
            "  inflating: data/TRAIN/DR7/MTPR0/SI1600.PHN  \n",
            "  inflating: data/TRAIN/DR7/MTPR0/SI1600.TXT  \n",
            "  inflating: data/TRAIN/DR7/MTPR0/SI1600.WAV  \n",
            "  inflating: data/TRAIN/DR7/MTPR0/SI1600.WAV.wav  \n",
            "  inflating: data/TRAIN/DR7/MTPR0/SI1600.WRD  \n",
            "  inflating: data/TRAIN/DR7/MTPR0/SI2230.PHN  \n",
            "  inflating: data/TRAIN/DR7/MTPR0/SI2230.TXT  \n",
            "  inflating: data/TRAIN/DR7/MTPR0/SI2230.WAV  \n",
            "  inflating: data/TRAIN/DR7/MTPR0/SI2230.WAV.wav  \n",
            "  inflating: data/TRAIN/DR7/MTPR0/SI2230.WRD  \n",
            "  inflating: data/TRAIN/DR7/MTPR0/SI506.PHN  \n",
            "  inflating: data/TRAIN/DR7/MTPR0/SI506.TXT  \n",
            "  inflating: data/TRAIN/DR7/MTPR0/SI506.WAV  \n",
            "  inflating: data/TRAIN/DR7/MTPR0/SI506.WAV.wav  \n",
            "  inflating: data/TRAIN/DR7/MTPR0/SI506.WRD  \n",
            "  inflating: data/TRAIN/DR7/MTPR0/SX160.PHN  \n",
            "  inflating: data/TRAIN/DR7/MTPR0/SX160.TXT  \n",
            "  inflating: data/TRAIN/DR7/MTPR0/SX160.WAV  \n",
            "  inflating: data/TRAIN/DR7/MTPR0/SX160.WAV.wav  \n",
            "  inflating: data/TRAIN/DR7/MTPR0/SX160.WRD  \n",
            "  inflating: data/TRAIN/DR7/MTPR0/SX250.PHN  \n",
            "  inflating: data/TRAIN/DR7/MTPR0/SX250.TXT  \n",
            "  inflating: data/TRAIN/DR7/MTPR0/SX250.WAV  \n",
            "  inflating: data/TRAIN/DR7/MTPR0/SX250.WAV.wav  \n",
            "  inflating: data/TRAIN/DR7/MTPR0/SX250.WRD  \n",
            "  inflating: data/TRAIN/DR7/MTPR0/SX340.PHN  \n",
            "  inflating: data/TRAIN/DR7/MTPR0/SX340.TXT  \n",
            "  inflating: data/TRAIN/DR7/MTPR0/SX340.WAV  \n",
            "  inflating: data/TRAIN/DR7/MTPR0/SX340.WAV.wav  \n",
            "  inflating: data/TRAIN/DR7/MTPR0/SX340.WRD  \n",
            "  inflating: data/TRAIN/DR7/MTPR0/SX430.PHN  \n",
            "  inflating: data/TRAIN/DR7/MTPR0/SX430.TXT  \n",
            "  inflating: data/TRAIN/DR7/MTPR0/SX430.WAV  \n",
            "  inflating: data/TRAIN/DR7/MTPR0/SX430.WAV.wav  \n",
            "  inflating: data/TRAIN/DR7/MTPR0/SX430.WRD  \n",
            "  inflating: data/TRAIN/DR7/MTPR0/SX70.PHN  \n",
            "  inflating: data/TRAIN/DR7/MTPR0/SX70.TXT  \n",
            "  inflating: data/TRAIN/DR7/MTPR0/SX70.WAV  \n",
            "  inflating: data/TRAIN/DR7/MTPR0/SX70.WAV.wav  \n",
            "  inflating: data/TRAIN/DR7/MTPR0/SX70.WRD  \n",
            "  inflating: data/TRAIN/DR7/MTWH1/SA1.PHN  \n",
            "  inflating: data/TRAIN/DR7/MTWH1/SA1.TXT  \n",
            "  inflating: data/TRAIN/DR7/MTWH1/SA1.WAV  \n",
            "  inflating: data/TRAIN/DR7/MTWH1/SA1.WAV.wav  \n",
            "  inflating: data/TRAIN/DR7/MTWH1/SA1.WRD  \n",
            "  inflating: data/TRAIN/DR7/MTWH1/SA2.PHN  \n",
            "  inflating: data/TRAIN/DR7/MTWH1/SA2.TXT  \n",
            "  inflating: data/TRAIN/DR7/MTWH1/SA2.WAV  \n",
            "  inflating: data/TRAIN/DR7/MTWH1/SA2.WAV.wav  \n",
            "  inflating: data/TRAIN/DR7/MTWH1/SA2.WRD  \n",
            "  inflating: data/TRAIN/DR7/MTWH1/SI1512.PHN  \n",
            "  inflating: data/TRAIN/DR7/MTWH1/SI1512.TXT  \n",
            "  inflating: data/TRAIN/DR7/MTWH1/SI1512.WAV  \n",
            "  inflating: data/TRAIN/DR7/MTWH1/SI1512.WAV.wav  \n",
            "  inflating: data/TRAIN/DR7/MTWH1/SI1512.WRD  \n",
            "  inflating: data/TRAIN/DR7/MTWH1/SI2142.PHN  \n",
            "  inflating: data/TRAIN/DR7/MTWH1/SI2142.TXT  \n",
            "  inflating: data/TRAIN/DR7/MTWH1/SI2142.WAV  \n",
            "  inflating: data/TRAIN/DR7/MTWH1/SI2142.WAV.wav  \n",
            "  inflating: data/TRAIN/DR7/MTWH1/SI2142.WRD  \n",
            "  inflating: data/TRAIN/DR7/MTWH1/SI882.PHN  \n",
            "  inflating: data/TRAIN/DR7/MTWH1/SI882.TXT  \n",
            "  inflating: data/TRAIN/DR7/MTWH1/SI882.WAV  \n",
            "  inflating: data/TRAIN/DR7/MTWH1/SI882.WAV.wav  \n",
            "  inflating: data/TRAIN/DR7/MTWH1/SI882.WRD  \n",
            "  inflating: data/TRAIN/DR7/MTWH1/SX162.PHN  \n",
            "  inflating: data/TRAIN/DR7/MTWH1/SX162.TXT  \n",
            "  inflating: data/TRAIN/DR7/MTWH1/SX162.WAV  \n",
            "  inflating: data/TRAIN/DR7/MTWH1/SX162.WAV.wav  \n",
            "  inflating: data/TRAIN/DR7/MTWH1/SX162.WRD  \n",
            "  inflating: data/TRAIN/DR7/MTWH1/SX252.PHN  \n",
            "  inflating: data/TRAIN/DR7/MTWH1/SX252.TXT  \n",
            "  inflating: data/TRAIN/DR7/MTWH1/SX252.WAV  \n",
            "  inflating: data/TRAIN/DR7/MTWH1/SX252.WAV.wav  \n",
            "  inflating: data/TRAIN/DR7/MTWH1/SX252.WRD  \n",
            "  inflating: data/TRAIN/DR7/MTWH1/SX342.PHN  \n",
            "  inflating: data/TRAIN/DR7/MTWH1/SX342.TXT  \n",
            "  inflating: data/TRAIN/DR7/MTWH1/SX342.WAV  \n",
            "  inflating: data/TRAIN/DR7/MTWH1/SX342.WAV.wav  \n",
            "  inflating: data/TRAIN/DR7/MTWH1/SX342.WRD  \n",
            "  inflating: data/TRAIN/DR7/MTWH1/SX432.PHN  \n",
            "  inflating: data/TRAIN/DR7/MTWH1/SX432.TXT  \n",
            "  inflating: data/TRAIN/DR7/MTWH1/SX432.WAV  \n",
            "  inflating: data/TRAIN/DR7/MTWH1/SX432.WAV.wav  \n",
            "  inflating: data/TRAIN/DR7/MTWH1/SX432.WRD  \n",
            "  inflating: data/TRAIN/DR7/MTWH1/SX72.PHN  \n",
            "  inflating: data/TRAIN/DR7/MTWH1/SX72.TXT  \n",
            "  inflating: data/TRAIN/DR7/MTWH1/SX72.WAV  \n",
            "  inflating: data/TRAIN/DR7/MTWH1/SX72.WAV.wav  \n",
            "  inflating: data/TRAIN/DR7/MTWH1/SX72.WRD  \n",
            "  inflating: data/TRAIN/DR7/MVRW0/SA1.PHN  \n",
            "  inflating: data/TRAIN/DR7/MVRW0/SA1.TXT  \n",
            "  inflating: data/TRAIN/DR7/MVRW0/SA1.WAV  \n",
            "  inflating: data/TRAIN/DR7/MVRW0/SA1.WAV.wav  \n",
            "  inflating: data/TRAIN/DR7/MVRW0/SA1.WRD  \n",
            "  inflating: data/TRAIN/DR7/MVRW0/SA2.PHN  \n",
            "  inflating: data/TRAIN/DR7/MVRW0/SA2.TXT  \n",
            "  inflating: data/TRAIN/DR7/MVRW0/SA2.WAV  \n",
            "  inflating: data/TRAIN/DR7/MVRW0/SA2.WAV.wav  \n",
            "  inflating: data/TRAIN/DR7/MVRW0/SA2.WRD  \n",
            "  inflating: data/TRAIN/DR7/MVRW0/SI1485.PHN  \n",
            "  inflating: data/TRAIN/DR7/MVRW0/SI1485.TXT  \n",
            "  inflating: data/TRAIN/DR7/MVRW0/SI1485.WAV  \n",
            "  inflating: data/TRAIN/DR7/MVRW0/SI1485.WAV.wav  \n",
            "  inflating: data/TRAIN/DR7/MVRW0/SI1485.WRD  \n",
            "  inflating: data/TRAIN/DR7/MVRW0/SI2115.PHN  \n",
            "  inflating: data/TRAIN/DR7/MVRW0/SI2115.TXT  \n",
            "  inflating: data/TRAIN/DR7/MVRW0/SI2115.WAV  \n",
            "  inflating: data/TRAIN/DR7/MVRW0/SI2115.WAV.wav  \n",
            "  inflating: data/TRAIN/DR7/MVRW0/SI2115.WRD  \n",
            "  inflating: data/TRAIN/DR7/MVRW0/SI855.PHN  \n",
            "  inflating: data/TRAIN/DR7/MVRW0/SI855.TXT  \n",
            "  inflating: data/TRAIN/DR7/MVRW0/SI855.WAV  \n",
            "  inflating: data/TRAIN/DR7/MVRW0/SI855.WAV.wav  \n",
            "  inflating: data/TRAIN/DR7/MVRW0/SI855.WRD  \n",
            "  inflating: data/TRAIN/DR7/MVRW0/SX135.PHN  \n",
            "  inflating: data/TRAIN/DR7/MVRW0/SX135.TXT  \n",
            "  inflating: data/TRAIN/DR7/MVRW0/SX135.WAV  \n",
            "  inflating: data/TRAIN/DR7/MVRW0/SX135.WAV.wav  \n",
            "  inflating: data/TRAIN/DR7/MVRW0/SX135.WRD  \n",
            "  inflating: data/TRAIN/DR7/MVRW0/SX225.PHN  \n",
            "  inflating: data/TRAIN/DR7/MVRW0/SX225.TXT  \n",
            "  inflating: data/TRAIN/DR7/MVRW0/SX225.WAV  \n",
            "  inflating: data/TRAIN/DR7/MVRW0/SX225.WAV.wav  \n",
            "  inflating: data/TRAIN/DR7/MVRW0/SX225.WRD  \n",
            "  inflating: data/TRAIN/DR7/MVRW0/SX315.PHN  \n",
            "  inflating: data/TRAIN/DR7/MVRW0/SX315.TXT  \n",
            "  inflating: data/TRAIN/DR7/MVRW0/SX315.WAV  \n",
            "  inflating: data/TRAIN/DR7/MVRW0/SX315.WAV.wav  \n",
            "  inflating: data/TRAIN/DR7/MVRW0/SX315.WRD  \n",
            "  inflating: data/TRAIN/DR7/MVRW0/SX405.PHN  \n",
            "  inflating: data/TRAIN/DR7/MVRW0/SX405.TXT  \n",
            "  inflating: data/TRAIN/DR7/MVRW0/SX405.WAV  \n",
            "  inflating: data/TRAIN/DR7/MVRW0/SX405.WAV.wav  \n",
            "  inflating: data/TRAIN/DR7/MVRW0/SX405.WRD  \n",
            "  inflating: data/TRAIN/DR7/MVRW0/SX45.PHN  \n",
            "  inflating: data/TRAIN/DR7/MVRW0/SX45.TXT  \n",
            "  inflating: data/TRAIN/DR7/MVRW0/SX45.WAV  \n",
            "  inflating: data/TRAIN/DR7/MVRW0/SX45.WAV.wav  \n",
            "  inflating: data/TRAIN/DR7/MVRW0/SX45.WRD  \n",
            "  inflating: data/TRAIN/DR7/MWRE0/SA1.PHN  \n",
            "  inflating: data/TRAIN/DR7/MWRE0/SA1.TXT  \n",
            "  inflating: data/TRAIN/DR7/MWRE0/SA1.WAV  \n",
            "  inflating: data/TRAIN/DR7/MWRE0/SA1.WAV.wav  \n",
            "  inflating: data/TRAIN/DR7/MWRE0/SA1.WRD  \n",
            "  inflating: data/TRAIN/DR7/MWRE0/SA2.PHN  \n",
            "  inflating: data/TRAIN/DR7/MWRE0/SA2.TXT  \n",
            "  inflating: data/TRAIN/DR7/MWRE0/SA2.WAV  \n",
            "  inflating: data/TRAIN/DR7/MWRE0/SA2.WAV.wav  \n",
            "  inflating: data/TRAIN/DR7/MWRE0/SA2.WRD  \n",
            "  inflating: data/TRAIN/DR7/MWRE0/SI1057.PHN  \n",
            "  inflating: data/TRAIN/DR7/MWRE0/SI1057.TXT  \n",
            "  inflating: data/TRAIN/DR7/MWRE0/SI1057.WAV  \n",
            "  inflating: data/TRAIN/DR7/MWRE0/SI1057.WAV.wav  \n",
            "  inflating: data/TRAIN/DR7/MWRE0/SI1057.WRD  \n",
            "  inflating: data/TRAIN/DR7/MWRE0/SI1687.PHN  \n",
            "  inflating: data/TRAIN/DR7/MWRE0/SI1687.TXT  \n",
            "  inflating: data/TRAIN/DR7/MWRE0/SI1687.WAV  \n",
            "  inflating: data/TRAIN/DR7/MWRE0/SI1687.WAV.wav  \n",
            "  inflating: data/TRAIN/DR7/MWRE0/SI1687.WRD  \n",
            "  inflating: data/TRAIN/DR7/MWRE0/SI2317.PHN  \n",
            "  inflating: data/TRAIN/DR7/MWRE0/SI2317.TXT  \n",
            "  inflating: data/TRAIN/DR7/MWRE0/SI2317.WAV  \n",
            "  inflating: data/TRAIN/DR7/MWRE0/SI2317.WAV.wav  \n",
            "  inflating: data/TRAIN/DR7/MWRE0/SI2317.WRD  \n",
            "  inflating: data/TRAIN/DR7/MWRE0/SX157.PHN  \n",
            "  inflating: data/TRAIN/DR7/MWRE0/SX157.TXT  \n",
            "  inflating: data/TRAIN/DR7/MWRE0/SX157.WAV  \n",
            "  inflating: data/TRAIN/DR7/MWRE0/SX157.WAV.wav  \n",
            "  inflating: data/TRAIN/DR7/MWRE0/SX157.WRD  \n",
            "  inflating: data/TRAIN/DR7/MWRE0/SX247.PHN  \n",
            "  inflating: data/TRAIN/DR7/MWRE0/SX247.TXT  \n",
            "  inflating: data/TRAIN/DR7/MWRE0/SX247.WAV  \n",
            "  inflating: data/TRAIN/DR7/MWRE0/SX247.WAV.wav  \n",
            "  inflating: data/TRAIN/DR7/MWRE0/SX247.WRD  \n",
            "  inflating: data/TRAIN/DR7/MWRE0/SX337.PHN  \n",
            "  inflating: data/TRAIN/DR7/MWRE0/SX337.TXT  \n",
            "  inflating: data/TRAIN/DR7/MWRE0/SX337.WAV  \n",
            "  inflating: data/TRAIN/DR7/MWRE0/SX337.WAV.wav  \n",
            "  inflating: data/TRAIN/DR7/MWRE0/SX337.WRD  \n",
            "  inflating: data/TRAIN/DR7/MWRE0/SX427.PHN  \n",
            "  inflating: data/TRAIN/DR7/MWRE0/SX427.TXT  \n",
            "  inflating: data/TRAIN/DR7/MWRE0/SX427.WAV  \n",
            "  inflating: data/TRAIN/DR7/MWRE0/SX427.WAV.wav  \n",
            "  inflating: data/TRAIN/DR7/MWRE0/SX427.WRD  \n",
            "  inflating: data/TRAIN/DR7/MWRE0/SX67.PHN  \n",
            "  inflating: data/TRAIN/DR7/MWRE0/SX67.TXT  \n",
            "  inflating: data/TRAIN/DR7/MWRE0/SX67.WAV  \n",
            "  inflating: data/TRAIN/DR7/MWRE0/SX67.WAV.wav  \n",
            "  inflating: data/TRAIN/DR7/MWRE0/SX67.WRD  \n",
            "  inflating: data/TRAIN/DR7/MWRP0/SA1.PHN  \n",
            "  inflating: data/TRAIN/DR7/MWRP0/SA1.TXT  \n",
            "  inflating: data/TRAIN/DR7/MWRP0/SA1.WAV  \n",
            "  inflating: data/TRAIN/DR7/MWRP0/SA1.WAV.wav  \n",
            "  inflating: data/TRAIN/DR7/MWRP0/SA1.WRD  \n",
            "  inflating: data/TRAIN/DR7/MWRP0/SA2.PHN  \n",
            "  inflating: data/TRAIN/DR7/MWRP0/SA2.TXT  \n",
            "  inflating: data/TRAIN/DR7/MWRP0/SA2.WAV  \n",
            "  inflating: data/TRAIN/DR7/MWRP0/SA2.WAV.wav  \n",
            "  inflating: data/TRAIN/DR7/MWRP0/SA2.WRD  \n",
            "  inflating: data/TRAIN/DR7/MWRP0/SI1443.PHN  \n",
            "  inflating: data/TRAIN/DR7/MWRP0/SI1443.TXT  \n",
            "  inflating: data/TRAIN/DR7/MWRP0/SI1443.WAV  \n",
            "  inflating: data/TRAIN/DR7/MWRP0/SI1443.WAV.wav  \n",
            "  inflating: data/TRAIN/DR7/MWRP0/SI1443.WRD  \n",
            "  inflating: data/TRAIN/DR7/MWRP0/SI1525.PHN  \n",
            "  inflating: data/TRAIN/DR7/MWRP0/SI1525.TXT  \n",
            "  inflating: data/TRAIN/DR7/MWRP0/SI1525.WAV  \n",
            "  inflating: data/TRAIN/DR7/MWRP0/SI1525.WAV.wav  \n",
            "  inflating: data/TRAIN/DR7/MWRP0/SI1525.WRD  \n",
            "  inflating: data/TRAIN/DR7/MWRP0/SI2073.PHN  \n",
            "  inflating: data/TRAIN/DR7/MWRP0/SI2073.TXT  \n",
            "  inflating: data/TRAIN/DR7/MWRP0/SI2073.WAV  \n",
            "  inflating: data/TRAIN/DR7/MWRP0/SI2073.WAV.wav  \n",
            "  inflating: data/TRAIN/DR7/MWRP0/SI2073.WRD  \n",
            "  inflating: data/TRAIN/DR7/MWRP0/SX183.PHN  \n",
            "  inflating: data/TRAIN/DR7/MWRP0/SX183.TXT  \n",
            "  inflating: data/TRAIN/DR7/MWRP0/SX183.WAV  \n",
            "  inflating: data/TRAIN/DR7/MWRP0/SX183.WAV.wav  \n",
            "  inflating: data/TRAIN/DR7/MWRP0/SX183.WRD  \n",
            "  inflating: data/TRAIN/DR7/MWRP0/SX273.PHN  \n",
            "  inflating: data/TRAIN/DR7/MWRP0/SX273.TXT  \n",
            "  inflating: data/TRAIN/DR7/MWRP0/SX273.WAV  \n",
            "  inflating: data/TRAIN/DR7/MWRP0/SX273.WAV.wav  \n",
            "  inflating: data/TRAIN/DR7/MWRP0/SX273.WRD  \n",
            "  inflating: data/TRAIN/DR7/MWRP0/SX3.PHN  \n",
            "  inflating: data/TRAIN/DR7/MWRP0/SX3.TXT  \n",
            "  inflating: data/TRAIN/DR7/MWRP0/SX3.WAV  \n",
            "  inflating: data/TRAIN/DR7/MWRP0/SX3.WAV.wav  \n",
            "  inflating: data/TRAIN/DR7/MWRP0/SX3.WRD  \n",
            "  inflating: data/TRAIN/DR7/MWRP0/SX363.PHN  \n",
            "  inflating: data/TRAIN/DR7/MWRP0/SX363.TXT  \n",
            "  inflating: data/TRAIN/DR7/MWRP0/SX363.WAV  \n",
            "  inflating: data/TRAIN/DR7/MWRP0/SX363.WAV.wav  \n",
            "  inflating: data/TRAIN/DR7/MWRP0/SX363.WRD  \n",
            "  inflating: data/TRAIN/DR7/MWRP0/SX93.PHN  \n",
            "  inflating: data/TRAIN/DR7/MWRP0/SX93.TXT  \n",
            "  inflating: data/TRAIN/DR7/MWRP0/SX93.WAV  \n",
            "  inflating: data/TRAIN/DR7/MWRP0/SX93.WAV.wav  \n",
            "  inflating: data/TRAIN/DR7/MWRP0/SX93.WRD  \n",
            "  inflating: data/TRAIN/DR8/FBCG1/SA1.PHN  \n",
            "  inflating: data/TRAIN/DR8/FBCG1/SA1.TXT  \n",
            "  inflating: data/TRAIN/DR8/FBCG1/SA1.WAV  \n",
            "  inflating: data/TRAIN/DR8/FBCG1/SA1.WAV.wav  \n",
            "  inflating: data/TRAIN/DR8/FBCG1/SA1.WRD  \n",
            "  inflating: data/TRAIN/DR8/FBCG1/SA2.PHN  \n",
            "  inflating: data/TRAIN/DR8/FBCG1/SA2.TXT  \n",
            "  inflating: data/TRAIN/DR8/FBCG1/SA2.WAV  \n",
            "  inflating: data/TRAIN/DR8/FBCG1/SA2.WAV.wav  \n",
            "  inflating: data/TRAIN/DR8/FBCG1/SA2.WRD  \n",
            "  inflating: data/TRAIN/DR8/FBCG1/SI1612.PHN  \n",
            "  inflating: data/TRAIN/DR8/FBCG1/SI1612.TXT  \n",
            "  inflating: data/TRAIN/DR8/FBCG1/SI1612.WAV  \n",
            "  inflating: data/TRAIN/DR8/FBCG1/SI1612.WAV.wav  \n",
            "  inflating: data/TRAIN/DR8/FBCG1/SI1612.WRD  \n",
            "  inflating: data/TRAIN/DR8/FBCG1/SI2242.PHN  \n",
            "  inflating: data/TRAIN/DR8/FBCG1/SI2242.TXT  \n",
            "  inflating: data/TRAIN/DR8/FBCG1/SI2242.WAV  \n",
            "  inflating: data/TRAIN/DR8/FBCG1/SI2242.WAV.wav  \n",
            "  inflating: data/TRAIN/DR8/FBCG1/SI2242.WRD  \n",
            "  inflating: data/TRAIN/DR8/FBCG1/SI982.PHN  \n",
            "  inflating: data/TRAIN/DR8/FBCG1/SI982.TXT  \n",
            "  inflating: data/TRAIN/DR8/FBCG1/SI982.WAV  \n",
            "  inflating: data/TRAIN/DR8/FBCG1/SI982.WAV.wav  \n",
            "  inflating: data/TRAIN/DR8/FBCG1/SI982.WRD  \n",
            "  inflating: data/TRAIN/DR8/FBCG1/SX172.PHN  \n",
            "  inflating: data/TRAIN/DR8/FBCG1/SX172.TXT  \n",
            "  inflating: data/TRAIN/DR8/FBCG1/SX172.WAV  \n",
            "  inflating: data/TRAIN/DR8/FBCG1/SX172.WAV.wav  \n",
            "  inflating: data/TRAIN/DR8/FBCG1/SX172.WRD  \n",
            "  inflating: data/TRAIN/DR8/FBCG1/SX262.PHN  \n",
            "  inflating: data/TRAIN/DR8/FBCG1/SX262.TXT  \n",
            "  inflating: data/TRAIN/DR8/FBCG1/SX262.WAV  \n",
            "  inflating: data/TRAIN/DR8/FBCG1/SX262.WAV.wav  \n",
            "  inflating: data/TRAIN/DR8/FBCG1/SX262.WRD  \n",
            "  inflating: data/TRAIN/DR8/FBCG1/SX352.PHN  \n",
            "  inflating: data/TRAIN/DR8/FBCG1/SX352.TXT  \n",
            "  inflating: data/TRAIN/DR8/FBCG1/SX352.WAV  \n",
            "  inflating: data/TRAIN/DR8/FBCG1/SX352.WAV.wav  \n",
            "  inflating: data/TRAIN/DR8/FBCG1/SX352.WRD  \n",
            "  inflating: data/TRAIN/DR8/FBCG1/SX442.PHN  \n",
            "  inflating: data/TRAIN/DR8/FBCG1/SX442.TXT  \n",
            "  inflating: data/TRAIN/DR8/FBCG1/SX442.WAV  \n",
            "  inflating: data/TRAIN/DR8/FBCG1/SX442.WAV.wav  \n",
            "  inflating: data/TRAIN/DR8/FBCG1/SX442.WRD  \n",
            "  inflating: data/TRAIN/DR8/FBCG1/SX82.PHN  \n",
            "  inflating: data/TRAIN/DR8/FBCG1/SX82.TXT  \n",
            "  inflating: data/TRAIN/DR8/FBCG1/SX82.WAV  \n",
            "  inflating: data/TRAIN/DR8/FBCG1/SX82.WAV.wav  \n",
            "  inflating: data/TRAIN/DR8/FBCG1/SX82.WRD  \n",
            "  inflating: data/TRAIN/DR8/FCEG0/SA1.PHN  \n",
            "  inflating: data/TRAIN/DR8/FCEG0/SA1.TXT  \n",
            "  inflating: data/TRAIN/DR8/FCEG0/SA1.WAV  \n",
            "  inflating: data/TRAIN/DR8/FCEG0/SA1.WAV.wav  \n",
            "  inflating: data/TRAIN/DR8/FCEG0/SA1.WRD  \n",
            "  inflating: data/TRAIN/DR8/FCEG0/SA2.PHN  \n",
            "  inflating: data/TRAIN/DR8/FCEG0/SA2.TXT  \n",
            "  inflating: data/TRAIN/DR8/FCEG0/SA2.WAV  \n",
            "  inflating: data/TRAIN/DR8/FCEG0/SA2.WAV.wav  \n",
            "  inflating: data/TRAIN/DR8/FCEG0/SA2.WRD  \n",
            "  inflating: data/TRAIN/DR8/FCEG0/SI1248.PHN  \n",
            "  inflating: data/TRAIN/DR8/FCEG0/SI1248.TXT  \n",
            "  inflating: data/TRAIN/DR8/FCEG0/SI1248.WAV  \n",
            "  inflating: data/TRAIN/DR8/FCEG0/SI1248.WAV.wav  \n",
            "  inflating: data/TRAIN/DR8/FCEG0/SI1248.WRD  \n",
            "  inflating: data/TRAIN/DR8/FCEG0/SI1878.PHN  \n",
            "  inflating: data/TRAIN/DR8/FCEG0/SI1878.TXT  \n",
            "  inflating: data/TRAIN/DR8/FCEG0/SI1878.WAV  \n",
            "  inflating: data/TRAIN/DR8/FCEG0/SI1878.WAV.wav  \n",
            "  inflating: data/TRAIN/DR8/FCEG0/SI1878.WRD  \n",
            "  inflating: data/TRAIN/DR8/FCEG0/SI618.PHN  \n",
            "  inflating: data/TRAIN/DR8/FCEG0/SI618.TXT  \n",
            "  inflating: data/TRAIN/DR8/FCEG0/SI618.WAV  \n",
            "  inflating: data/TRAIN/DR8/FCEG0/SI618.WAV.wav  \n",
            "  inflating: data/TRAIN/DR8/FCEG0/SI618.WRD  \n",
            "  inflating: data/TRAIN/DR8/FCEG0/SX168.PHN  \n",
            "  inflating: data/TRAIN/DR8/FCEG0/SX168.TXT  \n",
            "  inflating: data/TRAIN/DR8/FCEG0/SX168.WAV  \n",
            "  inflating: data/TRAIN/DR8/FCEG0/SX168.WAV.wav  \n",
            "  inflating: data/TRAIN/DR8/FCEG0/SX168.WRD  \n",
            "  inflating: data/TRAIN/DR8/FCEG0/SX258.PHN  \n",
            "  inflating: data/TRAIN/DR8/FCEG0/SX258.TXT  \n",
            "  inflating: data/TRAIN/DR8/FCEG0/SX258.WAV  \n",
            "  inflating: data/TRAIN/DR8/FCEG0/SX258.WAV.wav  \n",
            "  inflating: data/TRAIN/DR8/FCEG0/SX258.WRD  \n",
            "  inflating: data/TRAIN/DR8/FCEG0/SX348.PHN  \n",
            "  inflating: data/TRAIN/DR8/FCEG0/SX348.TXT  \n",
            "  inflating: data/TRAIN/DR8/FCEG0/SX348.WAV  \n",
            "  inflating: data/TRAIN/DR8/FCEG0/SX348.WAV.wav  \n",
            "  inflating: data/TRAIN/DR8/FCEG0/SX348.WRD  \n",
            "  inflating: data/TRAIN/DR8/FCEG0/SX438.PHN  \n",
            "  inflating: data/TRAIN/DR8/FCEG0/SX438.TXT  \n",
            "  inflating: data/TRAIN/DR8/FCEG0/SX438.WAV  \n",
            "  inflating: data/TRAIN/DR8/FCEG0/SX438.WAV.wav  \n",
            "  inflating: data/TRAIN/DR8/FCEG0/SX438.WRD  \n",
            "  inflating: data/TRAIN/DR8/FCEG0/SX78.PHN  \n",
            "  inflating: data/TRAIN/DR8/FCEG0/SX78.TXT  \n",
            "  inflating: data/TRAIN/DR8/FCEG0/SX78.WAV  \n",
            "  inflating: data/TRAIN/DR8/FCEG0/SX78.WAV.wav  \n",
            "  inflating: data/TRAIN/DR8/FCEG0/SX78.WRD  \n",
            "  inflating: data/TRAIN/DR8/FCLT0/SA1.PHN  \n",
            "  inflating: data/TRAIN/DR8/FCLT0/SA1.TXT  \n",
            "  inflating: data/TRAIN/DR8/FCLT0/SA1.WAV  \n",
            "  inflating: data/TRAIN/DR8/FCLT0/SA1.WAV.wav  \n",
            "  inflating: data/TRAIN/DR8/FCLT0/SA1.WRD  \n",
            "  inflating: data/TRAIN/DR8/FCLT0/SA2.PHN  \n",
            "  inflating: data/TRAIN/DR8/FCLT0/SA2.TXT  \n",
            "  inflating: data/TRAIN/DR8/FCLT0/SA2.WAV  \n",
            "  inflating: data/TRAIN/DR8/FCLT0/SA2.WAV.wav  \n",
            "  inflating: data/TRAIN/DR8/FCLT0/SA2.WRD  \n",
            "  inflating: data/TRAIN/DR8/FCLT0/SI1438.PHN  \n",
            "  inflating: data/TRAIN/DR8/FCLT0/SI1438.TXT  \n",
            "  inflating: data/TRAIN/DR8/FCLT0/SI1438.WAV  \n",
            "  inflating: data/TRAIN/DR8/FCLT0/SI1438.WAV.wav  \n",
            "  inflating: data/TRAIN/DR8/FCLT0/SI1438.WRD  \n",
            "  inflating: data/TRAIN/DR8/FCLT0/SI2068.PHN  \n",
            "  inflating: data/TRAIN/DR8/FCLT0/SI2068.TXT  \n",
            "  inflating: data/TRAIN/DR8/FCLT0/SI2068.WAV  \n",
            "  inflating: data/TRAIN/DR8/FCLT0/SI2068.WAV.wav  \n",
            "  inflating: data/TRAIN/DR8/FCLT0/SI2068.WRD  \n",
            "  inflating: data/TRAIN/DR8/FCLT0/SI808.PHN  \n",
            "  inflating: data/TRAIN/DR8/FCLT0/SI808.TXT  \n",
            "  inflating: data/TRAIN/DR8/FCLT0/SI808.WAV  \n",
            "  inflating: data/TRAIN/DR8/FCLT0/SI808.WAV.wav  \n",
            "  inflating: data/TRAIN/DR8/FCLT0/SI808.WRD  \n",
            "  inflating: data/TRAIN/DR8/FCLT0/SX178.PHN  \n",
            "  inflating: data/TRAIN/DR8/FCLT0/SX178.TXT  \n",
            "  inflating: data/TRAIN/DR8/FCLT0/SX178.WAV  \n",
            "  inflating: data/TRAIN/DR8/FCLT0/SX178.WAV.wav  \n",
            "  inflating: data/TRAIN/DR8/FCLT0/SX178.WRD  \n",
            "  inflating: data/TRAIN/DR8/FCLT0/SX268.PHN  \n",
            "  inflating: data/TRAIN/DR8/FCLT0/SX268.TXT  \n",
            "  inflating: data/TRAIN/DR8/FCLT0/SX268.WAV  \n",
            "  inflating: data/TRAIN/DR8/FCLT0/SX268.WAV.wav  \n",
            "  inflating: data/TRAIN/DR8/FCLT0/SX268.WRD  \n",
            "  inflating: data/TRAIN/DR8/FCLT0/SX358.PHN  \n",
            "  inflating: data/TRAIN/DR8/FCLT0/SX358.TXT  \n",
            "  inflating: data/TRAIN/DR8/FCLT0/SX358.WAV  \n",
            "  inflating: data/TRAIN/DR8/FCLT0/SX358.WAV.wav  \n",
            "  inflating: data/TRAIN/DR8/FCLT0/SX358.WRD  \n",
            "  inflating: data/TRAIN/DR8/FCLT0/SX448.PHN  \n",
            "  inflating: data/TRAIN/DR8/FCLT0/SX448.TXT  \n",
            "  inflating: data/TRAIN/DR8/FCLT0/SX448.WAV  \n",
            "  inflating: data/TRAIN/DR8/FCLT0/SX448.WAV.wav  \n",
            "  inflating: data/TRAIN/DR8/FCLT0/SX448.WRD  \n",
            "  inflating: data/TRAIN/DR8/FCLT0/SX88.PHN  \n",
            "  inflating: data/TRAIN/DR8/FCLT0/SX88.TXT  \n",
            "  inflating: data/TRAIN/DR8/FCLT0/SX88.WAV  \n",
            "  inflating: data/TRAIN/DR8/FCLT0/SX88.WAV.wav  \n",
            "  inflating: data/TRAIN/DR8/FCLT0/SX88.WRD  \n",
            "  inflating: data/TRAIN/DR8/FJRB0/SA1.PHN  \n",
            "  inflating: data/TRAIN/DR8/FJRB0/SA1.TXT  \n",
            "  inflating: data/TRAIN/DR8/FJRB0/SA1.WAV  \n",
            "  inflating: data/TRAIN/DR8/FJRB0/SA1.WAV.wav  \n",
            "  inflating: data/TRAIN/DR8/FJRB0/SA1.WRD  \n",
            "  inflating: data/TRAIN/DR8/FJRB0/SA2.PHN  \n",
            "  inflating: data/TRAIN/DR8/FJRB0/SA2.TXT  \n",
            "  inflating: data/TRAIN/DR8/FJRB0/SA2.WAV  \n",
            "  inflating: data/TRAIN/DR8/FJRB0/SA2.WAV.wav  \n",
            "  inflating: data/TRAIN/DR8/FJRB0/SA2.WRD  \n",
            "  inflating: data/TRAIN/DR8/FJRB0/SI1302.PHN  \n",
            "  inflating: data/TRAIN/DR8/FJRB0/SI1302.TXT  \n",
            "  inflating: data/TRAIN/DR8/FJRB0/SI1302.WAV  \n",
            "  inflating: data/TRAIN/DR8/FJRB0/SI1302.WAV.wav  \n",
            "  inflating: data/TRAIN/DR8/FJRB0/SI1302.WRD  \n",
            "  inflating: data/TRAIN/DR8/FJRB0/SI1932.PHN  \n",
            "  inflating: data/TRAIN/DR8/FJRB0/SI1932.TXT  \n",
            "  inflating: data/TRAIN/DR8/FJRB0/SI1932.WAV  \n",
            "  inflating: data/TRAIN/DR8/FJRB0/SI1932.WAV.wav  \n",
            "  inflating: data/TRAIN/DR8/FJRB0/SI1932.WRD  \n",
            "  inflating: data/TRAIN/DR8/FJRB0/SI672.PHN  \n",
            "  inflating: data/TRAIN/DR8/FJRB0/SI672.TXT  \n",
            "  inflating: data/TRAIN/DR8/FJRB0/SI672.WAV  \n",
            "  inflating: data/TRAIN/DR8/FJRB0/SI672.WAV.wav  \n",
            "  inflating: data/TRAIN/DR8/FJRB0/SI672.WRD  \n",
            "  inflating: data/TRAIN/DR8/FJRB0/SX132.PHN  \n",
            "  inflating: data/TRAIN/DR8/FJRB0/SX132.TXT  \n",
            "  inflating: data/TRAIN/DR8/FJRB0/SX132.WAV  \n",
            "  inflating: data/TRAIN/DR8/FJRB0/SX132.WAV.wav  \n",
            "  inflating: data/TRAIN/DR8/FJRB0/SX132.WRD  \n",
            "  inflating: data/TRAIN/DR8/FJRB0/SX222.PHN  \n",
            "  inflating: data/TRAIN/DR8/FJRB0/SX222.TXT  \n",
            "  inflating: data/TRAIN/DR8/FJRB0/SX222.WAV  \n",
            "  inflating: data/TRAIN/DR8/FJRB0/SX222.WAV.wav  \n",
            "  inflating: data/TRAIN/DR8/FJRB0/SX222.WRD  \n",
            "  inflating: data/TRAIN/DR8/FJRB0/SX312.PHN  \n",
            "  inflating: data/TRAIN/DR8/FJRB0/SX312.TXT  \n",
            "  inflating: data/TRAIN/DR8/FJRB0/SX312.WAV  \n",
            "  inflating: data/TRAIN/DR8/FJRB0/SX312.WAV.wav  \n",
            "  inflating: data/TRAIN/DR8/FJRB0/SX312.WRD  \n",
            "  inflating: data/TRAIN/DR8/FJRB0/SX402.PHN  \n",
            "  inflating: data/TRAIN/DR8/FJRB0/SX402.TXT  \n",
            "  inflating: data/TRAIN/DR8/FJRB0/SX402.WAV  \n",
            "  inflating: data/TRAIN/DR8/FJRB0/SX402.WAV.wav  \n",
            "  inflating: data/TRAIN/DR8/FJRB0/SX402.WRD  \n",
            "  inflating: data/TRAIN/DR8/FJRB0/SX42.PHN  \n",
            "  inflating: data/TRAIN/DR8/FJRB0/SX42.TXT  \n",
            "  inflating: data/TRAIN/DR8/FJRB0/SX42.WAV  \n",
            "  inflating: data/TRAIN/DR8/FJRB0/SX42.WAV.wav  \n",
            "  inflating: data/TRAIN/DR8/FJRB0/SX42.WRD  \n",
            "  inflating: data/TRAIN/DR8/FKLH0/SA1.PHN  \n",
            "  inflating: data/TRAIN/DR8/FKLH0/SA1.TXT  \n",
            "  inflating: data/TRAIN/DR8/FKLH0/SA1.WAV  \n",
            "  inflating: data/TRAIN/DR8/FKLH0/SA1.WAV.wav  \n",
            "  inflating: data/TRAIN/DR8/FKLH0/SA1.WRD  \n",
            "  inflating: data/TRAIN/DR8/FKLH0/SA2.PHN  \n",
            "  inflating: data/TRAIN/DR8/FKLH0/SA2.TXT  \n",
            "  inflating: data/TRAIN/DR8/FKLH0/SA2.WAV  \n",
            "  inflating: data/TRAIN/DR8/FKLH0/SA2.WAV.wav  \n",
            "  inflating: data/TRAIN/DR8/FKLH0/SA2.WRD  \n",
            "  inflating: data/TRAIN/DR8/FKLH0/SI1257.PHN  \n",
            "  inflating: data/TRAIN/DR8/FKLH0/SI1257.TXT  \n",
            "  inflating: data/TRAIN/DR8/FKLH0/SI1257.WAV  \n",
            "  inflating: data/TRAIN/DR8/FKLH0/SI1257.WAV.wav  \n",
            "  inflating: data/TRAIN/DR8/FKLH0/SI1257.WRD  \n",
            "  inflating: data/TRAIN/DR8/FKLH0/SI1887.PHN  \n",
            "  inflating: data/TRAIN/DR8/FKLH0/SI1887.TXT  \n",
            "  inflating: data/TRAIN/DR8/FKLH0/SI1887.WAV  \n",
            "  inflating: data/TRAIN/DR8/FKLH0/SI1887.WAV.wav  \n",
            "  inflating: data/TRAIN/DR8/FKLH0/SI1887.WRD  \n",
            "  inflating: data/TRAIN/DR8/FKLH0/SI627.PHN  \n",
            "  inflating: data/TRAIN/DR8/FKLH0/SI627.TXT  \n",
            "  inflating: data/TRAIN/DR8/FKLH0/SI627.WAV  \n",
            "  inflating: data/TRAIN/DR8/FKLH0/SI627.WAV.wav  \n",
            "  inflating: data/TRAIN/DR8/FKLH0/SI627.WRD  \n",
            "  inflating: data/TRAIN/DR8/FKLH0/SX177.PHN  \n",
            "  inflating: data/TRAIN/DR8/FKLH0/SX177.TXT  \n",
            "  inflating: data/TRAIN/DR8/FKLH0/SX177.WAV  \n",
            "  inflating: data/TRAIN/DR8/FKLH0/SX177.WAV.wav  \n",
            "  inflating: data/TRAIN/DR8/FKLH0/SX177.WRD  \n",
            "  inflating: data/TRAIN/DR8/FKLH0/SX267.PHN  \n",
            "  inflating: data/TRAIN/DR8/FKLH0/SX267.TXT  \n",
            "  inflating: data/TRAIN/DR8/FKLH0/SX267.WAV  \n",
            "  inflating: data/TRAIN/DR8/FKLH0/SX267.WAV.wav  \n",
            "  inflating: data/TRAIN/DR8/FKLH0/SX267.WRD  \n",
            "  inflating: data/TRAIN/DR8/FKLH0/SX357.PHN  \n",
            "  inflating: data/TRAIN/DR8/FKLH0/SX357.TXT  \n",
            "  inflating: data/TRAIN/DR8/FKLH0/SX357.WAV  \n",
            "  inflating: data/TRAIN/DR8/FKLH0/SX357.WAV.wav  \n",
            "  inflating: data/TRAIN/DR8/FKLH0/SX357.WRD  \n",
            "  inflating: data/TRAIN/DR8/FKLH0/SX447.PHN  \n",
            "  inflating: data/TRAIN/DR8/FKLH0/SX447.TXT  \n",
            "  inflating: data/TRAIN/DR8/FKLH0/SX447.WAV  \n",
            "  inflating: data/TRAIN/DR8/FKLH0/SX447.WAV.wav  \n",
            "  inflating: data/TRAIN/DR8/FKLH0/SX447.WRD  \n",
            "  inflating: data/TRAIN/DR8/FKLH0/SX87.PHN  \n",
            "  inflating: data/TRAIN/DR8/FKLH0/SX87.TXT  \n",
            "  inflating: data/TRAIN/DR8/FKLH0/SX87.WAV  \n",
            "  inflating: data/TRAIN/DR8/FKLH0/SX87.WAV.wav  \n",
            "  inflating: data/TRAIN/DR8/FKLH0/SX87.WRD  \n",
            "  inflating: data/TRAIN/DR8/FMBG0/SA1.PHN  \n",
            "  inflating: data/TRAIN/DR8/FMBG0/SA1.TXT  \n",
            "  inflating: data/TRAIN/DR8/FMBG0/SA1.WAV  \n",
            "  inflating: data/TRAIN/DR8/FMBG0/SA1.WAV.wav  \n",
            "  inflating: data/TRAIN/DR8/FMBG0/SA1.WRD  \n",
            "  inflating: data/TRAIN/DR8/FMBG0/SA2.PHN  \n",
            "  inflating: data/TRAIN/DR8/FMBG0/SA2.TXT  \n",
            "  inflating: data/TRAIN/DR8/FMBG0/SA2.WAV  \n",
            "  inflating: data/TRAIN/DR8/FMBG0/SA2.WAV.wav  \n",
            "  inflating: data/TRAIN/DR8/FMBG0/SA2.WRD  \n",
            "  inflating: data/TRAIN/DR8/FMBG0/SI1160.PHN  \n",
            "  inflating: data/TRAIN/DR8/FMBG0/SI1160.TXT  \n",
            "  inflating: data/TRAIN/DR8/FMBG0/SI1160.WAV  \n",
            "  inflating: data/TRAIN/DR8/FMBG0/SI1160.WAV.wav  \n",
            "  inflating: data/TRAIN/DR8/FMBG0/SI1160.WRD  \n",
            "  inflating: data/TRAIN/DR8/FMBG0/SI1790.PHN  \n",
            "  inflating: data/TRAIN/DR8/FMBG0/SI1790.TXT  \n",
            "  inflating: data/TRAIN/DR8/FMBG0/SI1790.WAV  \n",
            "  inflating: data/TRAIN/DR8/FMBG0/SI1790.WAV.wav  \n",
            "  inflating: data/TRAIN/DR8/FMBG0/SI1790.WRD  \n",
            "  inflating: data/TRAIN/DR8/FMBG0/SI2264.PHN  \n",
            "  inflating: data/TRAIN/DR8/FMBG0/SI2264.TXT  \n",
            "  inflating: data/TRAIN/DR8/FMBG0/SI2264.WAV  \n",
            "  inflating: data/TRAIN/DR8/FMBG0/SI2264.WAV.wav  \n",
            "  inflating: data/TRAIN/DR8/FMBG0/SI2264.WRD  \n",
            "  inflating: data/TRAIN/DR8/FMBG0/SX260.PHN  \n",
            "  inflating: data/TRAIN/DR8/FMBG0/SX260.TXT  \n",
            "  inflating: data/TRAIN/DR8/FMBG0/SX260.WAV  \n",
            "  inflating: data/TRAIN/DR8/FMBG0/SX260.WAV.wav  \n",
            "  inflating: data/TRAIN/DR8/FMBG0/SX260.WRD  \n",
            "  inflating: data/TRAIN/DR8/FMBG0/SX3.PHN  \n",
            "  inflating: data/TRAIN/DR8/FMBG0/SX3.TXT  \n",
            "  inflating: data/TRAIN/DR8/FMBG0/SX3.WAV  \n",
            "  inflating: data/TRAIN/DR8/FMBG0/SX3.WAV.wav  \n",
            "  inflating: data/TRAIN/DR8/FMBG0/SX3.WRD  \n",
            "  inflating: data/TRAIN/DR8/FMBG0/SX350.PHN  \n",
            "  inflating: data/TRAIN/DR8/FMBG0/SX350.TXT  \n",
            "  inflating: data/TRAIN/DR8/FMBG0/SX350.WAV  \n",
            "  inflating: data/TRAIN/DR8/FMBG0/SX350.WAV.wav  \n",
            "  inflating: data/TRAIN/DR8/FMBG0/SX350.WRD  \n",
            "  inflating: data/TRAIN/DR8/FMBG0/SX440.PHN  \n",
            "  inflating: data/TRAIN/DR8/FMBG0/SX440.TXT  \n",
            "  inflating: data/TRAIN/DR8/FMBG0/SX440.WAV  \n",
            "  inflating: data/TRAIN/DR8/FMBG0/SX440.WAV.wav  \n",
            "  inflating: data/TRAIN/DR8/FMBG0/SX440.WRD  \n",
            "  inflating: data/TRAIN/DR8/FMBG0/SX80.PHN  \n",
            "  inflating: data/TRAIN/DR8/FMBG0/SX80.TXT  \n",
            "  inflating: data/TRAIN/DR8/FMBG0/SX80.WAV  \n",
            "  inflating: data/TRAIN/DR8/FMBG0/SX80.WAV.wav  \n",
            "  inflating: data/TRAIN/DR8/FMBG0/SX80.WRD  \n",
            "  inflating: data/TRAIN/DR8/FNKL0/SA1.PHN  \n",
            "  inflating: data/TRAIN/DR8/FNKL0/SA1.TXT  \n",
            "  inflating: data/TRAIN/DR8/FNKL0/SA1.WAV  \n",
            "  inflating: data/TRAIN/DR8/FNKL0/SA1.WAV.wav  \n",
            "  inflating: data/TRAIN/DR8/FNKL0/SA1.WRD  \n",
            "  inflating: data/TRAIN/DR8/FNKL0/SA2.PHN  \n",
            "  inflating: data/TRAIN/DR8/FNKL0/SA2.TXT  \n",
            "  inflating: data/TRAIN/DR8/FNKL0/SA2.WAV  \n",
            "  inflating: data/TRAIN/DR8/FNKL0/SA2.WAV.wav  \n",
            "  inflating: data/TRAIN/DR8/FNKL0/SA2.WRD  \n",
            "  inflating: data/TRAIN/DR8/FNKL0/SI1522.PHN  \n",
            "  inflating: data/TRAIN/DR8/FNKL0/SI1522.TXT  \n",
            "  inflating: data/TRAIN/DR8/FNKL0/SI1522.WAV  \n",
            "  inflating: data/TRAIN/DR8/FNKL0/SI1522.WAV.wav  \n",
            "  inflating: data/TRAIN/DR8/FNKL0/SI1522.WRD  \n",
            "  inflating: data/TRAIN/DR8/FNKL0/SI2152.PHN  \n",
            "  inflating: data/TRAIN/DR8/FNKL0/SI2152.TXT  \n",
            "  inflating: data/TRAIN/DR8/FNKL0/SI2152.WAV  \n",
            "  inflating: data/TRAIN/DR8/FNKL0/SI2152.WAV.wav  \n",
            "  inflating: data/TRAIN/DR8/FNKL0/SI2152.WRD  \n",
            "  inflating: data/TRAIN/DR8/FNKL0/SI892.PHN  \n",
            "  inflating: data/TRAIN/DR8/FNKL0/SI892.TXT  \n",
            "  inflating: data/TRAIN/DR8/FNKL0/SI892.WAV  \n",
            "  inflating: data/TRAIN/DR8/FNKL0/SI892.WAV.wav  \n",
            "  inflating: data/TRAIN/DR8/FNKL0/SI892.WRD  \n",
            "  inflating: data/TRAIN/DR8/FNKL0/SX172.PHN  \n",
            "  inflating: data/TRAIN/DR8/FNKL0/SX172.TXT  \n",
            "  inflating: data/TRAIN/DR8/FNKL0/SX172.WAV  \n",
            "  inflating: data/TRAIN/DR8/FNKL0/SX172.WAV.wav  \n",
            "  inflating: data/TRAIN/DR8/FNKL0/SX172.WRD  \n",
            "  inflating: data/TRAIN/DR8/FNKL0/SX196.PHN  \n",
            "  inflating: data/TRAIN/DR8/FNKL0/SX196.TXT  \n",
            "  inflating: data/TRAIN/DR8/FNKL0/SX196.WAV  \n",
            "  inflating: data/TRAIN/DR8/FNKL0/SX196.WAV.wav  \n",
            "  inflating: data/TRAIN/DR8/FNKL0/SX196.WRD  \n",
            "  inflating: data/TRAIN/DR8/FNKL0/SX262.PHN  \n",
            "  inflating: data/TRAIN/DR8/FNKL0/SX262.TXT  \n",
            "  inflating: data/TRAIN/DR8/FNKL0/SX262.WAV  \n",
            "  inflating: data/TRAIN/DR8/FNKL0/SX262.WAV.wav  \n",
            "  inflating: data/TRAIN/DR8/FNKL0/SX262.WRD  \n",
            "  inflating: data/TRAIN/DR8/FNKL0/SX442.PHN  \n",
            "  inflating: data/TRAIN/DR8/FNKL0/SX442.TXT  \n",
            "  inflating: data/TRAIN/DR8/FNKL0/SX442.WAV  \n",
            "  inflating: data/TRAIN/DR8/FNKL0/SX442.WAV.wav  \n",
            "  inflating: data/TRAIN/DR8/FNKL0/SX442.WRD  \n",
            "  inflating: data/TRAIN/DR8/FNKL0/SX82.PHN  \n",
            "  inflating: data/TRAIN/DR8/FNKL0/SX82.TXT  \n",
            "  inflating: data/TRAIN/DR8/FNKL0/SX82.WAV  \n",
            "  inflating: data/TRAIN/DR8/FNKL0/SX82.WAV.wav  \n",
            "  inflating: data/TRAIN/DR8/FNKL0/SX82.WRD  \n",
            "  inflating: data/TRAIN/DR8/FPLS0/SA1.PHN  \n",
            "  inflating: data/TRAIN/DR8/FPLS0/SA1.TXT  \n",
            "  inflating: data/TRAIN/DR8/FPLS0/SA1.WAV  \n",
            "  inflating: data/TRAIN/DR8/FPLS0/SA1.WAV.wav  \n",
            "  inflating: data/TRAIN/DR8/FPLS0/SA1.WRD  \n",
            "  inflating: data/TRAIN/DR8/FPLS0/SA2.PHN  \n",
            "  inflating: data/TRAIN/DR8/FPLS0/SA2.TXT  \n",
            "  inflating: data/TRAIN/DR8/FPLS0/SA2.WAV  \n",
            "  inflating: data/TRAIN/DR8/FPLS0/SA2.WAV.wav  \n",
            "  inflating: data/TRAIN/DR8/FPLS0/SA2.WRD  \n",
            "  inflating: data/TRAIN/DR8/FPLS0/SI1590.PHN  \n",
            "  inflating: data/TRAIN/DR8/FPLS0/SI1590.TXT  \n",
            "  inflating: data/TRAIN/DR8/FPLS0/SI1590.WAV  \n",
            "  inflating: data/TRAIN/DR8/FPLS0/SI1590.WAV.wav  \n",
            "  inflating: data/TRAIN/DR8/FPLS0/SI1590.WRD  \n",
            "  inflating: data/TRAIN/DR8/FPLS0/SI2220.PHN  \n",
            "  inflating: data/TRAIN/DR8/FPLS0/SI2220.TXT  \n",
            "  inflating: data/TRAIN/DR8/FPLS0/SI2220.WAV  \n",
            "  inflating: data/TRAIN/DR8/FPLS0/SI2220.WAV.wav  \n",
            "  inflating: data/TRAIN/DR8/FPLS0/SI2220.WRD  \n",
            "  inflating: data/TRAIN/DR8/FPLS0/SI960.PHN  \n",
            "  inflating: data/TRAIN/DR8/FPLS0/SI960.TXT  \n",
            "  inflating: data/TRAIN/DR8/FPLS0/SI960.WAV  \n",
            "  inflating: data/TRAIN/DR8/FPLS0/SI960.WAV.wav  \n",
            "  inflating: data/TRAIN/DR8/FPLS0/SI960.WRD  \n",
            "  inflating: data/TRAIN/DR8/FPLS0/SX150.PHN  \n",
            "  inflating: data/TRAIN/DR8/FPLS0/SX150.TXT  \n",
            "  inflating: data/TRAIN/DR8/FPLS0/SX150.WAV  \n",
            "  inflating: data/TRAIN/DR8/FPLS0/SX150.WAV.wav  \n",
            "  inflating: data/TRAIN/DR8/FPLS0/SX150.WRD  \n",
            "  inflating: data/TRAIN/DR8/FPLS0/SX240.PHN  \n",
            "  inflating: data/TRAIN/DR8/FPLS0/SX240.TXT  \n",
            "  inflating: data/TRAIN/DR8/FPLS0/SX240.WAV  \n",
            "  inflating: data/TRAIN/DR8/FPLS0/SX240.WAV.wav  \n",
            "  inflating: data/TRAIN/DR8/FPLS0/SX240.WRD  \n",
            "  inflating: data/TRAIN/DR8/FPLS0/SX3.PHN  \n",
            "  inflating: data/TRAIN/DR8/FPLS0/SX3.TXT  \n",
            "  inflating: data/TRAIN/DR8/FPLS0/SX3.WAV  \n",
            "  inflating: data/TRAIN/DR8/FPLS0/SX3.WAV.wav  \n",
            "  inflating: data/TRAIN/DR8/FPLS0/SX3.WRD  \n",
            "  inflating: data/TRAIN/DR8/FPLS0/SX330.PHN  \n",
            "  inflating: data/TRAIN/DR8/FPLS0/SX330.TXT  \n",
            "  inflating: data/TRAIN/DR8/FPLS0/SX330.WAV  \n",
            "  inflating: data/TRAIN/DR8/FPLS0/SX330.WAV.wav  \n",
            "  inflating: data/TRAIN/DR8/FPLS0/SX330.WRD  \n",
            "  inflating: data/TRAIN/DR8/FPLS0/SX60.PHN  \n",
            "  inflating: data/TRAIN/DR8/FPLS0/SX60.TXT  \n",
            "  inflating: data/TRAIN/DR8/FPLS0/SX60.WAV  \n",
            "  inflating: data/TRAIN/DR8/FPLS0/SX60.WAV.wav  \n",
            "  inflating: data/TRAIN/DR8/FPLS0/SX60.WRD  \n",
            "  inflating: data/TRAIN/DR8/MBCG0/SA1.PHN  \n",
            "  inflating: data/TRAIN/DR8/MBCG0/SA1.TXT  \n",
            "  inflating: data/TRAIN/DR8/MBCG0/SA1.WAV  \n",
            "  inflating: data/TRAIN/DR8/MBCG0/SA1.WAV.wav  \n",
            "  inflating: data/TRAIN/DR8/MBCG0/SA1.WRD  \n",
            "  inflating: data/TRAIN/DR8/MBCG0/SA2.PHN  \n",
            "  inflating: data/TRAIN/DR8/MBCG0/SA2.TXT  \n",
            "  inflating: data/TRAIN/DR8/MBCG0/SA2.WAV  \n",
            "  inflating: data/TRAIN/DR8/MBCG0/SA2.WAV.wav  \n",
            "  inflating: data/TRAIN/DR8/MBCG0/SA2.WRD  \n",
            "  inflating: data/TRAIN/DR8/MBCG0/SI2217.PHN  \n",
            "  inflating: data/TRAIN/DR8/MBCG0/SI2217.TXT  \n",
            "  inflating: data/TRAIN/DR8/MBCG0/SI2217.WAV  \n",
            "  inflating: data/TRAIN/DR8/MBCG0/SI2217.WAV.wav  \n",
            "  inflating: data/TRAIN/DR8/MBCG0/SI2217.WRD  \n",
            "  inflating: data/TRAIN/DR8/MBCG0/SI486.PHN  \n",
            "  inflating: data/TRAIN/DR8/MBCG0/SI486.TXT  \n",
            "  inflating: data/TRAIN/DR8/MBCG0/SI486.WAV  \n",
            "  inflating: data/TRAIN/DR8/MBCG0/SI486.WAV.wav  \n",
            "  inflating: data/TRAIN/DR8/MBCG0/SI486.WRD  \n",
            "  inflating: data/TRAIN/DR8/MBCG0/SI957.PHN  \n",
            "  inflating: data/TRAIN/DR8/MBCG0/SI957.TXT  \n",
            "  inflating: data/TRAIN/DR8/MBCG0/SI957.WAV  \n",
            "  inflating: data/TRAIN/DR8/MBCG0/SI957.WAV.wav  \n",
            "  inflating: data/TRAIN/DR8/MBCG0/SI957.WRD  \n",
            "  inflating: data/TRAIN/DR8/MBCG0/SX147.PHN  \n",
            "  inflating: data/TRAIN/DR8/MBCG0/SX147.TXT  \n",
            "  inflating: data/TRAIN/DR8/MBCG0/SX147.WAV  \n",
            "  inflating: data/TRAIN/DR8/MBCG0/SX147.WAV.wav  \n",
            "  inflating: data/TRAIN/DR8/MBCG0/SX147.WRD  \n",
            "  inflating: data/TRAIN/DR8/MBCG0/SX237.PHN  \n",
            "  inflating: data/TRAIN/DR8/MBCG0/SX237.TXT  \n",
            "  inflating: data/TRAIN/DR8/MBCG0/SX237.WAV  \n",
            "  inflating: data/TRAIN/DR8/MBCG0/SX237.WAV.wav  \n",
            "  inflating: data/TRAIN/DR8/MBCG0/SX237.WRD  \n",
            "  inflating: data/TRAIN/DR8/MBCG0/SX327.PHN  \n",
            "  inflating: data/TRAIN/DR8/MBCG0/SX327.TXT  \n",
            "  inflating: data/TRAIN/DR8/MBCG0/SX327.WAV  \n",
            "  inflating: data/TRAIN/DR8/MBCG0/SX327.WAV.wav  \n",
            "  inflating: data/TRAIN/DR8/MBCG0/SX327.WRD  \n",
            "  inflating: data/TRAIN/DR8/MBCG0/SX417.PHN  \n",
            "  inflating: data/TRAIN/DR8/MBCG0/SX417.TXT  \n",
            "  inflating: data/TRAIN/DR8/MBCG0/SX417.WAV  \n",
            "  inflating: data/TRAIN/DR8/MBCG0/SX417.WAV.wav  \n",
            "  inflating: data/TRAIN/DR8/MBCG0/SX417.WRD  \n",
            "  inflating: data/TRAIN/DR8/MBCG0/SX57.PHN  \n",
            "  inflating: data/TRAIN/DR8/MBCG0/SX57.TXT  \n",
            "  inflating: data/TRAIN/DR8/MBCG0/SX57.WAV  \n",
            "  inflating: data/TRAIN/DR8/MBCG0/SX57.WAV.wav  \n",
            "  inflating: data/TRAIN/DR8/MBCG0/SX57.WRD  \n",
            "  inflating: data/TRAIN/DR8/MBSB0/SA1.PHN  \n",
            "  inflating: data/TRAIN/DR8/MBSB0/SA1.TXT  \n",
            "  inflating: data/TRAIN/DR8/MBSB0/SA1.WAV  \n",
            "  inflating: data/TRAIN/DR8/MBSB0/SA1.WAV.wav  \n",
            "  inflating: data/TRAIN/DR8/MBSB0/SA1.WRD  \n",
            "  inflating: data/TRAIN/DR8/MBSB0/SA2.PHN  \n",
            "  inflating: data/TRAIN/DR8/MBSB0/SA2.TXT  \n",
            "  inflating: data/TRAIN/DR8/MBSB0/SA2.WAV  \n",
            "  inflating: data/TRAIN/DR8/MBSB0/SA2.WAV.wav  \n",
            "  inflating: data/TRAIN/DR8/MBSB0/SA2.WRD  \n",
            "  inflating: data/TRAIN/DR8/MBSB0/SI1353.PHN  \n",
            "  inflating: data/TRAIN/DR8/MBSB0/SI1353.TXT  \n",
            "  inflating: data/TRAIN/DR8/MBSB0/SI1353.WAV  \n",
            "  inflating: data/TRAIN/DR8/MBSB0/SI1353.WAV.wav  \n",
            "  inflating: data/TRAIN/DR8/MBSB0/SI1353.WRD  \n",
            "  inflating: data/TRAIN/DR8/MBSB0/SI1983.PHN  \n",
            "  inflating: data/TRAIN/DR8/MBSB0/SI1983.TXT  \n",
            "  inflating: data/TRAIN/DR8/MBSB0/SI1983.WAV  \n",
            "  inflating: data/TRAIN/DR8/MBSB0/SI1983.WAV.wav  \n",
            "  inflating: data/TRAIN/DR8/MBSB0/SI1983.WRD  \n",
            "  inflating: data/TRAIN/DR8/MBSB0/SI723.PHN  \n",
            "  inflating: data/TRAIN/DR8/MBSB0/SI723.TXT  \n",
            "  inflating: data/TRAIN/DR8/MBSB0/SI723.WAV  \n",
            "  inflating: data/TRAIN/DR8/MBSB0/SI723.WAV.wav  \n",
            "  inflating: data/TRAIN/DR8/MBSB0/SI723.WRD  \n",
            "  inflating: data/TRAIN/DR8/MBSB0/SX183.PHN  \n",
            "  inflating: data/TRAIN/DR8/MBSB0/SX183.TXT  \n",
            "  inflating: data/TRAIN/DR8/MBSB0/SX183.WAV  \n",
            "  inflating: data/TRAIN/DR8/MBSB0/SX183.WAV.wav  \n",
            "  inflating: data/TRAIN/DR8/MBSB0/SX183.WRD  \n",
            "  inflating: data/TRAIN/DR8/MBSB0/SX273.PHN  \n",
            "  inflating: data/TRAIN/DR8/MBSB0/SX273.TXT  \n",
            "  inflating: data/TRAIN/DR8/MBSB0/SX273.WAV  \n",
            "  inflating: data/TRAIN/DR8/MBSB0/SX273.WAV.wav  \n",
            "  inflating: data/TRAIN/DR8/MBSB0/SX273.WRD  \n",
            "  inflating: data/TRAIN/DR8/MBSB0/SX3.PHN  \n",
            "  inflating: data/TRAIN/DR8/MBSB0/SX3.TXT  \n",
            "  inflating: data/TRAIN/DR8/MBSB0/SX3.WAV  \n",
            "  inflating: data/TRAIN/DR8/MBSB0/SX3.WAV.wav  \n",
            "  inflating: data/TRAIN/DR8/MBSB0/SX3.WRD  \n",
            "  inflating: data/TRAIN/DR8/MBSB0/SX363.PHN  \n",
            "  inflating: data/TRAIN/DR8/MBSB0/SX363.TXT  \n",
            "  inflating: data/TRAIN/DR8/MBSB0/SX363.WAV  \n",
            "  inflating: data/TRAIN/DR8/MBSB0/SX363.WAV.wav  \n",
            "  inflating: data/TRAIN/DR8/MBSB0/SX363.WRD  \n",
            "  inflating: data/TRAIN/DR8/MBSB0/SX93.PHN  \n",
            "  inflating: data/TRAIN/DR8/MBSB0/SX93.TXT  \n",
            "  inflating: data/TRAIN/DR8/MBSB0/SX93.WAV  \n",
            "  inflating: data/TRAIN/DR8/MBSB0/SX93.WAV.wav  \n",
            "  inflating: data/TRAIN/DR8/MBSB0/SX93.WRD  \n",
            "  inflating: data/TRAIN/DR8/MCXM0/SA1.PHN  \n",
            "  inflating: data/TRAIN/DR8/MCXM0/SA1.TXT  \n",
            "  inflating: data/TRAIN/DR8/MCXM0/SA1.WAV  \n",
            "  inflating: data/TRAIN/DR8/MCXM0/SA1.WAV.wav  \n",
            "  inflating: data/TRAIN/DR8/MCXM0/SA1.WRD  \n",
            "  inflating: data/TRAIN/DR8/MCXM0/SA2.PHN  \n",
            "  inflating: data/TRAIN/DR8/MCXM0/SA2.TXT  \n",
            "  inflating: data/TRAIN/DR8/MCXM0/SA2.WAV  \n",
            "  inflating: data/TRAIN/DR8/MCXM0/SA2.WAV.wav  \n",
            "  inflating: data/TRAIN/DR8/MCXM0/SA2.WRD  \n",
            "  inflating: data/TRAIN/DR8/MCXM0/SI1351.PHN  \n",
            "  inflating: data/TRAIN/DR8/MCXM0/SI1351.TXT  \n",
            "  inflating: data/TRAIN/DR8/MCXM0/SI1351.WAV  \n",
            "  inflating: data/TRAIN/DR8/MCXM0/SI1351.WAV.wav  \n",
            "  inflating: data/TRAIN/DR8/MCXM0/SI1351.WRD  \n",
            "  inflating: data/TRAIN/DR8/MCXM0/SI1981.PHN  \n",
            "  inflating: data/TRAIN/DR8/MCXM0/SI1981.TXT  \n",
            "  inflating: data/TRAIN/DR8/MCXM0/SI1981.WAV  \n",
            "  inflating: data/TRAIN/DR8/MCXM0/SI1981.WAV.wav  \n",
            "  inflating: data/TRAIN/DR8/MCXM0/SI1981.WRD  \n",
            "  inflating: data/TRAIN/DR8/MCXM0/SI721.PHN  \n",
            "  inflating: data/TRAIN/DR8/MCXM0/SI721.TXT  \n",
            "  inflating: data/TRAIN/DR8/MCXM0/SI721.WAV  \n",
            "  inflating: data/TRAIN/DR8/MCXM0/SI721.WAV.wav  \n",
            "  inflating: data/TRAIN/DR8/MCXM0/SI721.WRD  \n",
            "  inflating: data/TRAIN/DR8/MCXM0/SX181.PHN  \n",
            "  inflating: data/TRAIN/DR8/MCXM0/SX181.TXT  \n",
            "  inflating: data/TRAIN/DR8/MCXM0/SX181.WAV  \n",
            "  inflating: data/TRAIN/DR8/MCXM0/SX181.WAV.wav  \n",
            "  inflating: data/TRAIN/DR8/MCXM0/SX181.WRD  \n",
            "  inflating: data/TRAIN/DR8/MCXM0/SX271.PHN  \n",
            "  inflating: data/TRAIN/DR8/MCXM0/SX271.TXT  \n",
            "  inflating: data/TRAIN/DR8/MCXM0/SX271.WAV  \n",
            "  inflating: data/TRAIN/DR8/MCXM0/SX271.WAV.wav  \n",
            "  inflating: data/TRAIN/DR8/MCXM0/SX271.WRD  \n",
            "  inflating: data/TRAIN/DR8/MCXM0/SX361.PHN  \n",
            "  inflating: data/TRAIN/DR8/MCXM0/SX361.TXT  \n",
            "  inflating: data/TRAIN/DR8/MCXM0/SX361.WAV  \n",
            "  inflating: data/TRAIN/DR8/MCXM0/SX361.WAV.wav  \n",
            "  inflating: data/TRAIN/DR8/MCXM0/SX361.WRD  \n",
            "  inflating: data/TRAIN/DR8/MCXM0/SX451.PHN  \n",
            "  inflating: data/TRAIN/DR8/MCXM0/SX451.TXT  \n",
            "  inflating: data/TRAIN/DR8/MCXM0/SX451.WAV  \n",
            "  inflating: data/TRAIN/DR8/MCXM0/SX451.WAV.wav  \n",
            "  inflating: data/TRAIN/DR8/MCXM0/SX451.WRD  \n",
            "  inflating: data/TRAIN/DR8/MCXM0/SX91.PHN  \n",
            "  inflating: data/TRAIN/DR8/MCXM0/SX91.TXT  \n",
            "  inflating: data/TRAIN/DR8/MCXM0/SX91.WAV  \n",
            "  inflating: data/TRAIN/DR8/MCXM0/SX91.WAV.wav  \n",
            "  inflating: data/TRAIN/DR8/MCXM0/SX91.WRD  \n",
            "  inflating: data/TRAIN/DR8/MEJS0/SA1.PHN  \n",
            "  inflating: data/TRAIN/DR8/MEJS0/SA1.TXT  \n",
            "  inflating: data/TRAIN/DR8/MEJS0/SA1.WAV  \n",
            "  inflating: data/TRAIN/DR8/MEJS0/SA1.WAV.wav  \n",
            "  inflating: data/TRAIN/DR8/MEJS0/SA1.WRD  \n",
            "  inflating: data/TRAIN/DR8/MEJS0/SA2.PHN  \n",
            "  inflating: data/TRAIN/DR8/MEJS0/SA2.TXT  \n",
            "  inflating: data/TRAIN/DR8/MEJS0/SA2.WAV  \n",
            "  inflating: data/TRAIN/DR8/MEJS0/SA2.WAV.wav  \n",
            "  inflating: data/TRAIN/DR8/MEJS0/SA2.WRD  \n",
            "  inflating: data/TRAIN/DR8/MEJS0/SI1240.PHN  \n",
            "  inflating: data/TRAIN/DR8/MEJS0/SI1240.TXT  \n",
            "  inflating: data/TRAIN/DR8/MEJS0/SI1240.WAV  \n",
            "  inflating: data/TRAIN/DR8/MEJS0/SI1240.WAV.wav  \n",
            "  inflating: data/TRAIN/DR8/MEJS0/SI1240.WRD  \n",
            "  inflating: data/TRAIN/DR8/MEJS0/SI1870.PHN  \n",
            "  inflating: data/TRAIN/DR8/MEJS0/SI1870.TXT  \n",
            "  inflating: data/TRAIN/DR8/MEJS0/SI1870.WAV  \n",
            "  inflating: data/TRAIN/DR8/MEJS0/SI1870.WAV.wav  \n",
            "  inflating: data/TRAIN/DR8/MEJS0/SI1870.WRD  \n",
            "  inflating: data/TRAIN/DR8/MEJS0/SI610.PHN  \n",
            "  inflating: data/TRAIN/DR8/MEJS0/SI610.TXT  \n",
            "  inflating: data/TRAIN/DR8/MEJS0/SI610.WAV  \n",
            "  inflating: data/TRAIN/DR8/MEJS0/SI610.WAV.wav  \n",
            "  inflating: data/TRAIN/DR8/MEJS0/SI610.WRD  \n",
            "  inflating: data/TRAIN/DR8/MEJS0/SX160.PHN  \n",
            "  inflating: data/TRAIN/DR8/MEJS0/SX160.TXT  \n",
            "  inflating: data/TRAIN/DR8/MEJS0/SX160.WAV  \n",
            "  inflating: data/TRAIN/DR8/MEJS0/SX160.WAV.wav  \n",
            "  inflating: data/TRAIN/DR8/MEJS0/SX160.WRD  \n",
            "  inflating: data/TRAIN/DR8/MEJS0/SX250.PHN  \n",
            "  inflating: data/TRAIN/DR8/MEJS0/SX250.TXT  \n",
            "  inflating: data/TRAIN/DR8/MEJS0/SX250.WAV  \n",
            "  inflating: data/TRAIN/DR8/MEJS0/SX250.WAV.wav  \n",
            "  inflating: data/TRAIN/DR8/MEJS0/SX250.WRD  \n",
            "  inflating: data/TRAIN/DR8/MEJS0/SX340.PHN  \n",
            "  inflating: data/TRAIN/DR8/MEJS0/SX340.TXT  \n",
            "  inflating: data/TRAIN/DR8/MEJS0/SX340.WAV  \n",
            "  inflating: data/TRAIN/DR8/MEJS0/SX340.WAV.wav  \n",
            "  inflating: data/TRAIN/DR8/MEJS0/SX340.WRD  \n",
            "  inflating: data/TRAIN/DR8/MEJS0/SX430.PHN  \n",
            "  inflating: data/TRAIN/DR8/MEJS0/SX430.TXT  \n",
            "  inflating: data/TRAIN/DR8/MEJS0/SX430.WAV  \n",
            "  inflating: data/TRAIN/DR8/MEJS0/SX430.WAV.wav  \n",
            "  inflating: data/TRAIN/DR8/MEJS0/SX430.WRD  \n",
            "  inflating: data/TRAIN/DR8/MEJS0/SX70.PHN  \n",
            "  inflating: data/TRAIN/DR8/MEJS0/SX70.TXT  \n",
            "  inflating: data/TRAIN/DR8/MEJS0/SX70.WAV  \n",
            "  inflating: data/TRAIN/DR8/MEJS0/SX70.WAV.wav  \n",
            "  inflating: data/TRAIN/DR8/MEJS0/SX70.WRD  \n",
            "  inflating: data/TRAIN/DR8/MKDD0/SA1.PHN  \n",
            "  inflating: data/TRAIN/DR8/MKDD0/SA1.TXT  \n",
            "  inflating: data/TRAIN/DR8/MKDD0/SA1.WAV  \n",
            "  inflating: data/TRAIN/DR8/MKDD0/SA1.WAV.wav  \n",
            "  inflating: data/TRAIN/DR8/MKDD0/SA1.WRD  \n",
            "  inflating: data/TRAIN/DR8/MKDD0/SA2.PHN  \n",
            "  inflating: data/TRAIN/DR8/MKDD0/SA2.TXT  \n",
            "  inflating: data/TRAIN/DR8/MKDD0/SA2.WAV  \n",
            "  inflating: data/TRAIN/DR8/MKDD0/SA2.WAV.wav  \n",
            "  inflating: data/TRAIN/DR8/MKDD0/SA2.WRD  \n",
            "  inflating: data/TRAIN/DR8/MKDD0/SI1567.PHN  \n",
            "  inflating: data/TRAIN/DR8/MKDD0/SI1567.TXT  \n",
            "  inflating: data/TRAIN/DR8/MKDD0/SI1567.WAV  \n",
            "  inflating: data/TRAIN/DR8/MKDD0/SI1567.WAV.wav  \n",
            "  inflating: data/TRAIN/DR8/MKDD0/SI1567.WRD  \n",
            "  inflating: data/TRAIN/DR8/MKDD0/SI2197.PHN  \n",
            "  inflating: data/TRAIN/DR8/MKDD0/SI2197.TXT  \n",
            "  inflating: data/TRAIN/DR8/MKDD0/SI2197.WAV  \n",
            "  inflating: data/TRAIN/DR8/MKDD0/SI2197.WAV.wav  \n",
            "  inflating: data/TRAIN/DR8/MKDD0/SI2197.WRD  \n",
            "  inflating: data/TRAIN/DR8/MKDD0/SI937.PHN  \n",
            "  inflating: data/TRAIN/DR8/MKDD0/SI937.TXT  \n",
            "  inflating: data/TRAIN/DR8/MKDD0/SI937.WAV  \n",
            "  inflating: data/TRAIN/DR8/MKDD0/SI937.WAV.wav  \n",
            "  inflating: data/TRAIN/DR8/MKDD0/SI937.WRD  \n",
            "  inflating: data/TRAIN/DR8/MKDD0/SX127.PHN  \n",
            "  inflating: data/TRAIN/DR8/MKDD0/SX127.TXT  \n",
            "  inflating: data/TRAIN/DR8/MKDD0/SX127.WAV  \n",
            "  inflating: data/TRAIN/DR8/MKDD0/SX127.WAV.wav  \n",
            "  inflating: data/TRAIN/DR8/MKDD0/SX127.WRD  \n",
            "  inflating: data/TRAIN/DR8/MKDD0/SX217.PHN  \n",
            "  inflating: data/TRAIN/DR8/MKDD0/SX217.TXT  \n",
            "  inflating: data/TRAIN/DR8/MKDD0/SX217.WAV  \n",
            "  inflating: data/TRAIN/DR8/MKDD0/SX217.WAV.wav  \n",
            "  inflating: data/TRAIN/DR8/MKDD0/SX217.WRD  \n",
            "  inflating: data/TRAIN/DR8/MKDD0/SX307.PHN  \n",
            "  inflating: data/TRAIN/DR8/MKDD0/SX307.TXT  \n",
            "  inflating: data/TRAIN/DR8/MKDD0/SX307.WAV  \n",
            "  inflating: data/TRAIN/DR8/MKDD0/SX307.WAV.wav  \n",
            "  inflating: data/TRAIN/DR8/MKDD0/SX307.WRD  \n",
            "  inflating: data/TRAIN/DR8/MKDD0/SX37.PHN  \n",
            "  inflating: data/TRAIN/DR8/MKDD0/SX37.TXT  \n",
            "  inflating: data/TRAIN/DR8/MKDD0/SX37.WAV  \n",
            "  inflating: data/TRAIN/DR8/MKDD0/SX37.WAV.wav  \n",
            "  inflating: data/TRAIN/DR8/MKDD0/SX37.WRD  \n",
            "  inflating: data/TRAIN/DR8/MKDD0/SX397.PHN  \n",
            "  inflating: data/TRAIN/DR8/MKDD0/SX397.TXT  \n",
            "  inflating: data/TRAIN/DR8/MKDD0/SX397.WAV  \n",
            "  inflating: data/TRAIN/DR8/MKDD0/SX397.WAV.wav  \n",
            "  inflating: data/TRAIN/DR8/MKDD0/SX397.WRD  \n",
            "  inflating: data/TRAIN/DR8/MKRG0/SA1.PHN  \n",
            "  inflating: data/TRAIN/DR8/MKRG0/SA1.TXT  \n",
            "  inflating: data/TRAIN/DR8/MKRG0/SA1.WAV  \n",
            "  inflating: data/TRAIN/DR8/MKRG0/SA1.WAV.wav  \n",
            "  inflating: data/TRAIN/DR8/MKRG0/SA1.WRD  \n",
            "  inflating: data/TRAIN/DR8/MKRG0/SA2.PHN  \n",
            "  inflating: data/TRAIN/DR8/MKRG0/SA2.TXT  \n",
            "  inflating: data/TRAIN/DR8/MKRG0/SA2.WAV  \n",
            "  inflating: data/TRAIN/DR8/MKRG0/SA2.WAV.wav  \n",
            "  inflating: data/TRAIN/DR8/MKRG0/SA2.WRD  \n",
            "  inflating: data/TRAIN/DR8/MKRG0/SI1491.PHN  \n",
            "  inflating: data/TRAIN/DR8/MKRG0/SI1491.TXT  \n",
            "  inflating: data/TRAIN/DR8/MKRG0/SI1491.WAV  \n",
            "  inflating: data/TRAIN/DR8/MKRG0/SI1491.WAV.wav  \n",
            "  inflating: data/TRAIN/DR8/MKRG0/SI1491.WRD  \n",
            "  inflating: data/TRAIN/DR8/MKRG0/SI2121.PHN  \n",
            "  inflating: data/TRAIN/DR8/MKRG0/SI2121.TXT  \n",
            "  inflating: data/TRAIN/DR8/MKRG0/SI2121.WAV  \n",
            "  inflating: data/TRAIN/DR8/MKRG0/SI2121.WAV.wav  \n",
            "  inflating: data/TRAIN/DR8/MKRG0/SI2121.WRD  \n",
            "  inflating: data/TRAIN/DR8/MKRG0/SI861.PHN  \n",
            "  inflating: data/TRAIN/DR8/MKRG0/SI861.TXT  \n",
            "  inflating: data/TRAIN/DR8/MKRG0/SI861.WAV  \n",
            "  inflating: data/TRAIN/DR8/MKRG0/SI861.WAV.wav  \n",
            "  inflating: data/TRAIN/DR8/MKRG0/SI861.WRD  \n",
            "  inflating: data/TRAIN/DR8/MKRG0/SX141.PHN  \n",
            "  inflating: data/TRAIN/DR8/MKRG0/SX141.TXT  \n",
            "  inflating: data/TRAIN/DR8/MKRG0/SX141.WAV  \n",
            "  inflating: data/TRAIN/DR8/MKRG0/SX141.WAV.wav  \n",
            "  inflating: data/TRAIN/DR8/MKRG0/SX141.WRD  \n",
            "  inflating: data/TRAIN/DR8/MKRG0/SX231.PHN  \n",
            "  inflating: data/TRAIN/DR8/MKRG0/SX231.TXT  \n",
            "  inflating: data/TRAIN/DR8/MKRG0/SX231.WAV  \n",
            "  inflating: data/TRAIN/DR8/MKRG0/SX231.WAV.wav  \n",
            "  inflating: data/TRAIN/DR8/MKRG0/SX231.WRD  \n",
            "  inflating: data/TRAIN/DR8/MKRG0/SX31.PHN  \n",
            "  inflating: data/TRAIN/DR8/MKRG0/SX31.TXT  \n",
            "  inflating: data/TRAIN/DR8/MKRG0/SX31.WAV  \n",
            "  inflating: data/TRAIN/DR8/MKRG0/SX31.WAV.wav  \n",
            "  inflating: data/TRAIN/DR8/MKRG0/SX31.WRD  \n",
            "  inflating: data/TRAIN/DR8/MKRG0/SX411.PHN  \n",
            "  inflating: data/TRAIN/DR8/MKRG0/SX411.TXT  \n",
            "  inflating: data/TRAIN/DR8/MKRG0/SX411.WAV  \n",
            "  inflating: data/TRAIN/DR8/MKRG0/SX411.WAV.wav  \n",
            "  inflating: data/TRAIN/DR8/MKRG0/SX411.WRD  \n",
            "  inflating: data/TRAIN/DR8/MKRG0/SX51.PHN  \n",
            "  inflating: data/TRAIN/DR8/MKRG0/SX51.TXT  \n",
            "  inflating: data/TRAIN/DR8/MKRG0/SX51.WAV  \n",
            "  inflating: data/TRAIN/DR8/MKRG0/SX51.WAV.wav  \n",
            "  inflating: data/TRAIN/DR8/MKRG0/SX51.WRD  \n",
            "  inflating: data/TRAIN/DR8/MMEA0/SA1.PHN  \n",
            "  inflating: data/TRAIN/DR8/MMEA0/SA1.TXT  \n",
            "  inflating: data/TRAIN/DR8/MMEA0/SA1.WAV  \n",
            "  inflating: data/TRAIN/DR8/MMEA0/SA1.WAV.wav  \n",
            "  inflating: data/TRAIN/DR8/MMEA0/SA1.WRD  \n",
            "  inflating: data/TRAIN/DR8/MMEA0/SA2.PHN  \n",
            "  inflating: data/TRAIN/DR8/MMEA0/SA2.TXT  \n",
            "  inflating: data/TRAIN/DR8/MMEA0/SA2.WAV  \n",
            "  inflating: data/TRAIN/DR8/MMEA0/SA2.WAV.wav  \n",
            "  inflating: data/TRAIN/DR8/MMEA0/SA2.WRD  \n",
            "  inflating: data/TRAIN/DR8/MMEA0/SI1388.PHN  \n",
            "  inflating: data/TRAIN/DR8/MMEA0/SI1388.TXT  \n",
            "  inflating: data/TRAIN/DR8/MMEA0/SI1388.WAV  \n",
            "  inflating: data/TRAIN/DR8/MMEA0/SI1388.WAV.wav  \n",
            "  inflating: data/TRAIN/DR8/MMEA0/SI1388.WRD  \n",
            "  inflating: data/TRAIN/DR8/MMEA0/SI2018.PHN  \n",
            "  inflating: data/TRAIN/DR8/MMEA0/SI2018.TXT  \n",
            "  inflating: data/TRAIN/DR8/MMEA0/SI2018.WAV  \n",
            "  inflating: data/TRAIN/DR8/MMEA0/SI2018.WAV.wav  \n",
            "  inflating: data/TRAIN/DR8/MMEA0/SI2018.WRD  \n",
            "  inflating: data/TRAIN/DR8/MMEA0/SI758.PHN  \n",
            "  inflating: data/TRAIN/DR8/MMEA0/SI758.TXT  \n",
            "  inflating: data/TRAIN/DR8/MMEA0/SI758.WAV  \n",
            "  inflating: data/TRAIN/DR8/MMEA0/SI758.WAV.wav  \n",
            "  inflating: data/TRAIN/DR8/MMEA0/SI758.WRD  \n",
            "  inflating: data/TRAIN/DR8/MMEA0/SX128.PHN  \n",
            "  inflating: data/TRAIN/DR8/MMEA0/SX128.TXT  \n",
            "  inflating: data/TRAIN/DR8/MMEA0/SX128.WAV  \n",
            "  inflating: data/TRAIN/DR8/MMEA0/SX128.WAV.wav  \n",
            "  inflating: data/TRAIN/DR8/MMEA0/SX128.WRD  \n",
            "  inflating: data/TRAIN/DR8/MMEA0/SX218.PHN  \n",
            "  inflating: data/TRAIN/DR8/MMEA0/SX218.TXT  \n",
            "  inflating: data/TRAIN/DR8/MMEA0/SX218.WAV  \n",
            "  inflating: data/TRAIN/DR8/MMEA0/SX218.WAV.wav  \n",
            "  inflating: data/TRAIN/DR8/MMEA0/SX218.WRD  \n",
            "  inflating: data/TRAIN/DR8/MMEA0/SX308.PHN  \n",
            "  inflating: data/TRAIN/DR8/MMEA0/SX308.TXT  \n",
            "  inflating: data/TRAIN/DR8/MMEA0/SX308.WAV  \n",
            "  inflating: data/TRAIN/DR8/MMEA0/SX308.WAV.wav  \n",
            "  inflating: data/TRAIN/DR8/MMEA0/SX308.WRD  \n",
            "  inflating: data/TRAIN/DR8/MMEA0/SX38.PHN  \n",
            "  inflating: data/TRAIN/DR8/MMEA0/SX38.TXT  \n",
            "  inflating: data/TRAIN/DR8/MMEA0/SX38.WAV  \n",
            "  inflating: data/TRAIN/DR8/MMEA0/SX38.WAV.wav  \n",
            "  inflating: data/TRAIN/DR8/MMEA0/SX38.WRD  \n",
            "  inflating: data/TRAIN/DR8/MMEA0/SX398.PHN  \n",
            "  inflating: data/TRAIN/DR8/MMEA0/SX398.TXT  \n",
            "  inflating: data/TRAIN/DR8/MMEA0/SX398.WAV  \n",
            "  inflating: data/TRAIN/DR8/MMEA0/SX398.WAV.wav  \n",
            "  inflating: data/TRAIN/DR8/MMEA0/SX398.WRD  \n",
            "  inflating: data/TRAIN/DR8/MMLM0/SA1.PHN  \n",
            "  inflating: data/TRAIN/DR8/MMLM0/SA1.TXT  \n",
            "  inflating: data/TRAIN/DR8/MMLM0/SA1.WAV  \n",
            "  inflating: data/TRAIN/DR8/MMLM0/SA1.WAV.wav  \n",
            "  inflating: data/TRAIN/DR8/MMLM0/SA1.WRD  \n",
            "  inflating: data/TRAIN/DR8/MMLM0/SA2.PHN  \n",
            "  inflating: data/TRAIN/DR8/MMLM0/SA2.TXT  \n",
            "  inflating: data/TRAIN/DR8/MMLM0/SA2.WAV  \n",
            "  inflating: data/TRAIN/DR8/MMLM0/SA2.WAV.wav  \n",
            "  inflating: data/TRAIN/DR8/MMLM0/SA2.WRD  \n",
            "  inflating: data/TRAIN/DR8/MMLM0/SI1527.PHN  \n",
            "  inflating: data/TRAIN/DR8/MMLM0/SI1527.TXT  \n",
            "  inflating: data/TRAIN/DR8/MMLM0/SI1527.WAV  \n",
            "  inflating: data/TRAIN/DR8/MMLM0/SI1527.WAV.wav  \n",
            "  inflating: data/TRAIN/DR8/MMLM0/SI1527.WRD  \n",
            "  inflating: data/TRAIN/DR8/MMLM0/SI2150.PHN  \n",
            "  inflating: data/TRAIN/DR8/MMLM0/SI2150.TXT  \n",
            "  inflating: data/TRAIN/DR8/MMLM0/SI2150.WAV  \n",
            "  inflating: data/TRAIN/DR8/MMLM0/SI2150.WAV.wav  \n",
            "  inflating: data/TRAIN/DR8/MMLM0/SI2150.WRD  \n",
            "  inflating: data/TRAIN/DR8/MMLM0/SI897.PHN  \n",
            "  inflating: data/TRAIN/DR8/MMLM0/SI897.TXT  \n",
            "  inflating: data/TRAIN/DR8/MMLM0/SI897.WAV  \n",
            "  inflating: data/TRAIN/DR8/MMLM0/SI897.WAV.wav  \n",
            "  inflating: data/TRAIN/DR8/MMLM0/SI897.WRD  \n",
            "  inflating: data/TRAIN/DR8/MMLM0/SX177.PHN  \n",
            "  inflating: data/TRAIN/DR8/MMLM0/SX177.TXT  \n",
            "  inflating: data/TRAIN/DR8/MMLM0/SX177.WAV  \n",
            "  inflating: data/TRAIN/DR8/MMLM0/SX177.WAV.wav  \n",
            "  inflating: data/TRAIN/DR8/MMLM0/SX177.WRD  \n",
            "  inflating: data/TRAIN/DR8/MMLM0/SX267.PHN  \n",
            "  inflating: data/TRAIN/DR8/MMLM0/SX267.TXT  \n",
            "  inflating: data/TRAIN/DR8/MMLM0/SX267.WAV  \n",
            "  inflating: data/TRAIN/DR8/MMLM0/SX267.WAV.wav  \n",
            "  inflating: data/TRAIN/DR8/MMLM0/SX267.WRD  \n",
            "  inflating: data/TRAIN/DR8/MMLM0/SX357.PHN  \n",
            "  inflating: data/TRAIN/DR8/MMLM0/SX357.TXT  \n",
            "  inflating: data/TRAIN/DR8/MMLM0/SX357.WAV  \n",
            "  inflating: data/TRAIN/DR8/MMLM0/SX357.WAV.wav  \n",
            "  inflating: data/TRAIN/DR8/MMLM0/SX357.WRD  \n",
            "  inflating: data/TRAIN/DR8/MMLM0/SX447.PHN  \n",
            "  inflating: data/TRAIN/DR8/MMLM0/SX447.TXT  \n",
            "  inflating: data/TRAIN/DR8/MMLM0/SX447.WAV  \n",
            "  inflating: data/TRAIN/DR8/MMLM0/SX447.WAV.wav  \n",
            "  inflating: data/TRAIN/DR8/MMLM0/SX447.WRD  \n",
            "  inflating: data/TRAIN/DR8/MMLM0/SX87.PHN  \n",
            "  inflating: data/TRAIN/DR8/MMLM0/SX87.TXT  \n",
            "  inflating: data/TRAIN/DR8/MMLM0/SX87.WAV  \n",
            "  inflating: data/TRAIN/DR8/MMLM0/SX87.WAV.wav  \n",
            "  inflating: data/TRAIN/DR8/MMLM0/SX87.WRD  \n",
            "  inflating: data/TRAIN/DR8/MMPM0/SA1.PHN  \n",
            "  inflating: data/TRAIN/DR8/MMPM0/SA1.TXT  \n",
            "  inflating: data/TRAIN/DR8/MMPM0/SA1.WAV  \n",
            "  inflating: data/TRAIN/DR8/MMPM0/SA1.WAV.wav  \n",
            "  inflating: data/TRAIN/DR8/MMPM0/SA1.WRD  \n",
            "  inflating: data/TRAIN/DR8/MMPM0/SA2.PHN  \n",
            "  inflating: data/TRAIN/DR8/MMPM0/SA2.TXT  \n",
            "  inflating: data/TRAIN/DR8/MMPM0/SA2.WAV  \n",
            "  inflating: data/TRAIN/DR8/MMPM0/SA2.WAV.wav  \n",
            "  inflating: data/TRAIN/DR8/MMPM0/SA2.WRD  \n",
            "  inflating: data/TRAIN/DR8/MMPM0/SI1061.PHN  \n",
            "  inflating: data/TRAIN/DR8/MMPM0/SI1061.TXT  \n",
            "  inflating: data/TRAIN/DR8/MMPM0/SI1061.WAV  \n",
            "  inflating: data/TRAIN/DR8/MMPM0/SI1061.WAV.wav  \n",
            "  inflating: data/TRAIN/DR8/MMPM0/SI1061.WRD  \n",
            "  inflating: data/TRAIN/DR8/MMPM0/SI1691.PHN  \n",
            "  inflating: data/TRAIN/DR8/MMPM0/SI1691.TXT  \n",
            "  inflating: data/TRAIN/DR8/MMPM0/SI1691.WAV  \n",
            "  inflating: data/TRAIN/DR8/MMPM0/SI1691.WAV.wav  \n",
            "  inflating: data/TRAIN/DR8/MMPM0/SI1691.WRD  \n",
            "  inflating: data/TRAIN/DR8/MMPM0/SI2321.PHN  \n",
            "  inflating: data/TRAIN/DR8/MMPM0/SI2321.TXT  \n",
            "  inflating: data/TRAIN/DR8/MMPM0/SI2321.WAV  \n",
            "  inflating: data/TRAIN/DR8/MMPM0/SI2321.WAV.wav  \n",
            "  inflating: data/TRAIN/DR8/MMPM0/SI2321.WRD  \n",
            "  inflating: data/TRAIN/DR8/MMPM0/SX161.PHN  \n",
            "  inflating: data/TRAIN/DR8/MMPM0/SX161.TXT  \n",
            "  inflating: data/TRAIN/DR8/MMPM0/SX161.WAV  \n",
            "  inflating: data/TRAIN/DR8/MMPM0/SX161.WAV.wav  \n",
            "  inflating: data/TRAIN/DR8/MMPM0/SX161.WRD  \n",
            "  inflating: data/TRAIN/DR8/MMPM0/SX251.PHN  \n",
            "  inflating: data/TRAIN/DR8/MMPM0/SX251.TXT  \n",
            "  inflating: data/TRAIN/DR8/MMPM0/SX251.WAV  \n",
            "  inflating: data/TRAIN/DR8/MMPM0/SX251.WAV.wav  \n",
            "  inflating: data/TRAIN/DR8/MMPM0/SX251.WRD  \n",
            "  inflating: data/TRAIN/DR8/MMPM0/SX341.PHN  \n",
            "  inflating: data/TRAIN/DR8/MMPM0/SX341.TXT  \n",
            "  inflating: data/TRAIN/DR8/MMPM0/SX341.WAV  \n",
            "  inflating: data/TRAIN/DR8/MMPM0/SX341.WAV.wav  \n",
            "  inflating: data/TRAIN/DR8/MMPM0/SX341.WRD  \n",
            "  inflating: data/TRAIN/DR8/MMPM0/SX431.PHN  \n",
            "  inflating: data/TRAIN/DR8/MMPM0/SX431.TXT  \n",
            "  inflating: data/TRAIN/DR8/MMPM0/SX431.WAV  \n",
            "  inflating: data/TRAIN/DR8/MMPM0/SX431.WAV.wav  \n",
            "  inflating: data/TRAIN/DR8/MMPM0/SX431.WRD  \n",
            "  inflating: data/TRAIN/DR8/MMPM0/SX71.PHN  \n",
            "  inflating: data/TRAIN/DR8/MMPM0/SX71.TXT  \n",
            "  inflating: data/TRAIN/DR8/MMPM0/SX71.WAV  \n",
            "  inflating: data/TRAIN/DR8/MMPM0/SX71.WAV.wav  \n",
            "  inflating: data/TRAIN/DR8/MMPM0/SX71.WRD  \n",
            "  inflating: data/TRAIN/DR8/MMWS0/SA1.PHN  \n",
            "  inflating: data/TRAIN/DR8/MMWS0/SA1.TXT  \n",
            "  inflating: data/TRAIN/DR8/MMWS0/SA1.WAV  \n",
            "  inflating: data/TRAIN/DR8/MMWS0/SA1.WAV.wav  \n",
            "  inflating: data/TRAIN/DR8/MMWS0/SA1.WRD  \n",
            "  inflating: data/TRAIN/DR8/MMWS0/SA2.PHN  \n",
            "  inflating: data/TRAIN/DR8/MMWS0/SA2.TXT  \n",
            "  inflating: data/TRAIN/DR8/MMWS0/SA2.WAV  \n",
            "  inflating: data/TRAIN/DR8/MMWS0/SA2.WAV.wav  \n",
            "  inflating: data/TRAIN/DR8/MMWS0/SA2.WRD  \n",
            "  inflating: data/TRAIN/DR8/MMWS0/SI1518.PHN  \n",
            "  inflating: data/TRAIN/DR8/MMWS0/SI1518.TXT  \n",
            "  inflating: data/TRAIN/DR8/MMWS0/SI1518.WAV  \n",
            "  inflating: data/TRAIN/DR8/MMWS0/SI1518.WAV.wav  \n",
            "  inflating: data/TRAIN/DR8/MMWS0/SI1518.WRD  \n",
            "  inflating: data/TRAIN/DR8/MMWS0/SI559.PHN  \n",
            "  inflating: data/TRAIN/DR8/MMWS0/SI559.TXT  \n",
            "  inflating: data/TRAIN/DR8/MMWS0/SI559.WAV  \n",
            "  inflating: data/TRAIN/DR8/MMWS0/SI559.WAV.wav  \n",
            "  inflating: data/TRAIN/DR8/MMWS0/SI559.WRD  \n",
            "  inflating: data/TRAIN/DR8/MMWS0/SI888.PHN  \n",
            "  inflating: data/TRAIN/DR8/MMWS0/SI888.TXT  \n",
            "  inflating: data/TRAIN/DR8/MMWS0/SI888.WAV  \n",
            "  inflating: data/TRAIN/DR8/MMWS0/SI888.WAV.wav  \n",
            "  inflating: data/TRAIN/DR8/MMWS0/SI888.WRD  \n",
            "  inflating: data/TRAIN/DR8/MMWS0/SX168.PHN  \n",
            "  inflating: data/TRAIN/DR8/MMWS0/SX168.TXT  \n",
            "  inflating: data/TRAIN/DR8/MMWS0/SX168.WAV  \n",
            "  inflating: data/TRAIN/DR8/MMWS0/SX168.WAV.wav  \n",
            "  inflating: data/TRAIN/DR8/MMWS0/SX168.WRD  \n",
            "  inflating: data/TRAIN/DR8/MMWS0/SX258.PHN  \n",
            "  inflating: data/TRAIN/DR8/MMWS0/SX258.TXT  \n",
            "  inflating: data/TRAIN/DR8/MMWS0/SX258.WAV  \n",
            "  inflating: data/TRAIN/DR8/MMWS0/SX258.WAV.wav  \n",
            "  inflating: data/TRAIN/DR8/MMWS0/SX258.WRD  \n",
            "  inflating: data/TRAIN/DR8/MMWS0/SX348.PHN  \n",
            "  inflating: data/TRAIN/DR8/MMWS0/SX348.TXT  \n",
            "  inflating: data/TRAIN/DR8/MMWS0/SX348.WAV  \n",
            "  inflating: data/TRAIN/DR8/MMWS0/SX348.WAV.wav  \n",
            "  inflating: data/TRAIN/DR8/MMWS0/SX348.WRD  \n",
            "  inflating: data/TRAIN/DR8/MMWS0/SX438.PHN  \n",
            "  inflating: data/TRAIN/DR8/MMWS0/SX438.TXT  \n",
            "  inflating: data/TRAIN/DR8/MMWS0/SX438.WAV  \n",
            "  inflating: data/TRAIN/DR8/MMWS0/SX438.WAV.wav  \n",
            "  inflating: data/TRAIN/DR8/MMWS0/SX438.WRD  \n",
            "  inflating: data/TRAIN/DR8/MMWS0/SX78.PHN  \n",
            "  inflating: data/TRAIN/DR8/MMWS0/SX78.TXT  \n",
            "  inflating: data/TRAIN/DR8/MMWS0/SX78.WAV  \n",
            "  inflating: data/TRAIN/DR8/MMWS0/SX78.WAV.wav  \n",
            "  inflating: data/TRAIN/DR8/MMWS0/SX78.WRD  \n",
            "  inflating: data/TRAIN/DR8/MRDM0/SA1.PHN  \n",
            "  inflating: data/TRAIN/DR8/MRDM0/SA1.TXT  \n",
            "  inflating: data/TRAIN/DR8/MRDM0/SA1.WAV  \n",
            "  inflating: data/TRAIN/DR8/MRDM0/SA1.WAV.wav  \n",
            "  inflating: data/TRAIN/DR8/MRDM0/SA1.WRD  \n",
            "  inflating: data/TRAIN/DR8/MRDM0/SA2.PHN  \n",
            "  inflating: data/TRAIN/DR8/MRDM0/SA2.TXT  \n",
            "  inflating: data/TRAIN/DR8/MRDM0/SA2.WAV  \n",
            "  inflating: data/TRAIN/DR8/MRDM0/SA2.WAV.wav  \n",
            "  inflating: data/TRAIN/DR8/MRDM0/SA2.WRD  \n",
            "  inflating: data/TRAIN/DR8/MRDM0/SI1044.PHN  \n",
            "  inflating: data/TRAIN/DR8/MRDM0/SI1044.TXT  \n",
            "  inflating: data/TRAIN/DR8/MRDM0/SI1044.WAV  \n",
            "  inflating: data/TRAIN/DR8/MRDM0/SI1044.WAV.wav  \n",
            "  inflating: data/TRAIN/DR8/MRDM0/SI1044.WRD  \n",
            "  inflating: data/TRAIN/DR8/MRDM0/SI1595.PHN  \n",
            "  inflating: data/TRAIN/DR8/MRDM0/SI1595.TXT  \n",
            "  inflating: data/TRAIN/DR8/MRDM0/SI1595.WAV  \n",
            "  inflating: data/TRAIN/DR8/MRDM0/SI1595.WAV.wav  \n",
            "  inflating: data/TRAIN/DR8/MRDM0/SI1595.WRD  \n",
            "  inflating: data/TRAIN/DR8/MRDM0/SI965.PHN  \n",
            "  inflating: data/TRAIN/DR8/MRDM0/SI965.TXT  \n",
            "  inflating: data/TRAIN/DR8/MRDM0/SI965.WAV  \n",
            "  inflating: data/TRAIN/DR8/MRDM0/SI965.WAV.wav  \n",
            "  inflating: data/TRAIN/DR8/MRDM0/SI965.WRD  \n",
            "  inflating: data/TRAIN/DR8/MRDM0/SX155.PHN  \n",
            "  inflating: data/TRAIN/DR8/MRDM0/SX155.TXT  \n",
            "  inflating: data/TRAIN/DR8/MRDM0/SX155.WAV  \n",
            "  inflating: data/TRAIN/DR8/MRDM0/SX155.WAV.wav  \n",
            "  inflating: data/TRAIN/DR8/MRDM0/SX155.WRD  \n",
            "  inflating: data/TRAIN/DR8/MRDM0/SX245.PHN  \n",
            "  inflating: data/TRAIN/DR8/MRDM0/SX245.TXT  \n",
            "  inflating: data/TRAIN/DR8/MRDM0/SX245.WAV  \n",
            "  inflating: data/TRAIN/DR8/MRDM0/SX245.WAV.wav  \n",
            "  inflating: data/TRAIN/DR8/MRDM0/SX245.WRD  \n",
            "  inflating: data/TRAIN/DR8/MRDM0/SX335.PHN  \n",
            "  inflating: data/TRAIN/DR8/MRDM0/SX335.TXT  \n",
            "  inflating: data/TRAIN/DR8/MRDM0/SX335.WAV  \n",
            "  inflating: data/TRAIN/DR8/MRDM0/SX335.WAV.wav  \n",
            "  inflating: data/TRAIN/DR8/MRDM0/SX335.WRD  \n",
            "  inflating: data/TRAIN/DR8/MRDM0/SX425.PHN  \n",
            "  inflating: data/TRAIN/DR8/MRDM0/SX425.TXT  \n",
            "  inflating: data/TRAIN/DR8/MRDM0/SX425.WAV  \n",
            "  inflating: data/TRAIN/DR8/MRDM0/SX425.WAV.wav  \n",
            "  inflating: data/TRAIN/DR8/MRDM0/SX425.WRD  \n",
            "  inflating: data/TRAIN/DR8/MRDM0/SX65.PHN  \n",
            "  inflating: data/TRAIN/DR8/MRDM0/SX65.TXT  \n",
            "  inflating: data/TRAIN/DR8/MRDM0/SX65.WAV  \n",
            "  inflating: data/TRAIN/DR8/MRDM0/SX65.WAV.wav  \n",
            "  inflating: data/TRAIN/DR8/MRDM0/SX65.WRD  \n",
            "  inflating: data/TRAIN/DR8/MRLK0/SA1.PHN  \n",
            "  inflating: data/TRAIN/DR8/MRLK0/SA1.TXT  \n",
            "  inflating: data/TRAIN/DR8/MRLK0/SA1.WAV  \n",
            "  inflating: data/TRAIN/DR8/MRLK0/SA1.WAV.wav  \n",
            "  inflating: data/TRAIN/DR8/MRLK0/SA1.WRD  \n",
            "  inflating: data/TRAIN/DR8/MRLK0/SA2.PHN  \n",
            "  inflating: data/TRAIN/DR8/MRLK0/SA2.TXT  \n",
            "  inflating: data/TRAIN/DR8/MRLK0/SA2.WAV  \n",
            "  inflating: data/TRAIN/DR8/MRLK0/SA2.WAV.wav  \n",
            "  inflating: data/TRAIN/DR8/MRLK0/SA2.WRD  \n",
            "  inflating: data/TRAIN/DR8/MRLK0/SI1468.PHN  \n",
            "  inflating: data/TRAIN/DR8/MRLK0/SI1468.TXT  \n",
            "  inflating: data/TRAIN/DR8/MRLK0/SI1468.WAV  \n",
            "  inflating: data/TRAIN/DR8/MRLK0/SI1468.WAV.wav  \n",
            "  inflating: data/TRAIN/DR8/MRLK0/SI1468.WRD  \n",
            "  inflating: data/TRAIN/DR8/MRLK0/SI2140.PHN  \n",
            "  inflating: data/TRAIN/DR8/MRLK0/SI2140.TXT  \n",
            "  inflating: data/TRAIN/DR8/MRLK0/SI2140.WAV  \n",
            "  inflating: data/TRAIN/DR8/MRLK0/SI2140.WAV.wav  \n",
            "  inflating: data/TRAIN/DR8/MRLK0/SI2140.WRD  \n",
            "  inflating: data/TRAIN/DR8/MRLK0/SI843.PHN  \n",
            "  inflating: data/TRAIN/DR8/MRLK0/SI843.TXT  \n",
            "  inflating: data/TRAIN/DR8/MRLK0/SI843.WAV  \n",
            "  inflating: data/TRAIN/DR8/MRLK0/SI843.WAV.wav  \n",
            "  inflating: data/TRAIN/DR8/MRLK0/SI843.WRD  \n",
            "  inflating: data/TRAIN/DR8/MRLK0/SX123.PHN  \n",
            "  inflating: data/TRAIN/DR8/MRLK0/SX123.TXT  \n",
            "  inflating: data/TRAIN/DR8/MRLK0/SX123.WAV  \n",
            "  inflating: data/TRAIN/DR8/MRLK0/SX123.WAV.wav  \n",
            "  inflating: data/TRAIN/DR8/MRLK0/SX123.WRD  \n",
            "  inflating: data/TRAIN/DR8/MRLK0/SX213.PHN  \n",
            "  inflating: data/TRAIN/DR8/MRLK0/SX213.TXT  \n",
            "  inflating: data/TRAIN/DR8/MRLK0/SX213.WAV  \n",
            "  inflating: data/TRAIN/DR8/MRLK0/SX213.WAV.wav  \n",
            "  inflating: data/TRAIN/DR8/MRLK0/SX213.WRD  \n",
            "  inflating: data/TRAIN/DR8/MRLK0/SX303.PHN  \n",
            "  inflating: data/TRAIN/DR8/MRLK0/SX303.TXT  \n",
            "  inflating: data/TRAIN/DR8/MRLK0/SX303.WAV  \n",
            "  inflating: data/TRAIN/DR8/MRLK0/SX303.WAV.wav  \n",
            "  inflating: data/TRAIN/DR8/MRLK0/SX303.WRD  \n",
            "  inflating: data/TRAIN/DR8/MRLK0/SX33.PHN  \n",
            "  inflating: data/TRAIN/DR8/MRLK0/SX33.TXT  \n",
            "  inflating: data/TRAIN/DR8/MRLK0/SX33.WAV  \n",
            "  inflating: data/TRAIN/DR8/MRLK0/SX33.WAV.wav  \n",
            "  inflating: data/TRAIN/DR8/MRLK0/SX33.WRD  \n",
            "  inflating: data/TRAIN/DR8/MRLK0/SX393.PHN  \n",
            "  inflating: data/TRAIN/DR8/MRLK0/SX393.TXT  \n",
            "  inflating: data/TRAIN/DR8/MRLK0/SX393.WAV  \n",
            "  inflating: data/TRAIN/DR8/MRLK0/SX393.WAV.wav  \n",
            "  inflating: data/TRAIN/DR8/MRLK0/SX393.WRD  \n",
            "  inflating: data/TRAIN/DR8/MRRE0/SA1.PHN  \n",
            "  inflating: data/TRAIN/DR8/MRRE0/SA1.TXT  \n",
            "  inflating: data/TRAIN/DR8/MRRE0/SA1.WAV  \n",
            "  inflating: data/TRAIN/DR8/MRRE0/SA1.WAV.wav  \n",
            "  inflating: data/TRAIN/DR8/MRRE0/SA1.WRD  \n",
            "  inflating: data/TRAIN/DR8/MRRE0/SA2.PHN  \n",
            "  inflating: data/TRAIN/DR8/MRRE0/SA2.TXT  \n",
            "  inflating: data/TRAIN/DR8/MRRE0/SA2.WAV  \n",
            "  inflating: data/TRAIN/DR8/MRRE0/SA2.WAV.wav  \n",
            "  inflating: data/TRAIN/DR8/MRRE0/SA2.WRD  \n",
            "  inflating: data/TRAIN/DR8/MRRE0/SI1334.PHN  \n",
            "  inflating: data/TRAIN/DR8/MRRE0/SI1334.TXT  \n",
            "  inflating: data/TRAIN/DR8/MRRE0/SI1334.WAV  \n",
            "  inflating: data/TRAIN/DR8/MRRE0/SI1334.WAV.wav  \n",
            "  inflating: data/TRAIN/DR8/MRRE0/SI1334.WRD  \n",
            "  inflating: data/TRAIN/DR8/MRRE0/SI704.PHN  \n",
            "  inflating: data/TRAIN/DR8/MRRE0/SI704.TXT  \n",
            "  inflating: data/TRAIN/DR8/MRRE0/SI704.WAV  \n",
            "  inflating: data/TRAIN/DR8/MRRE0/SI704.WAV.wav  \n",
            "  inflating: data/TRAIN/DR8/MRRE0/SI704.WRD  \n",
            "  inflating: data/TRAIN/DR8/MRRE0/SI952.PHN  \n",
            "  inflating: data/TRAIN/DR8/MRRE0/SI952.TXT  \n",
            "  inflating: data/TRAIN/DR8/MRRE0/SI952.WAV  \n",
            "  inflating: data/TRAIN/DR8/MRRE0/SI952.WAV.wav  \n",
            "  inflating: data/TRAIN/DR8/MRRE0/SI952.WRD  \n",
            "  inflating: data/TRAIN/DR8/MRRE0/SX164.PHN  \n",
            "  inflating: data/TRAIN/DR8/MRRE0/SX164.TXT  \n",
            "  inflating: data/TRAIN/DR8/MRRE0/SX164.WAV  \n",
            "  inflating: data/TRAIN/DR8/MRRE0/SX164.WAV.wav  \n",
            "  inflating: data/TRAIN/DR8/MRRE0/SX164.WRD  \n",
            "  inflating: data/TRAIN/DR8/MRRE0/SX254.PHN  \n",
            "  inflating: data/TRAIN/DR8/MRRE0/SX254.TXT  \n",
            "  inflating: data/TRAIN/DR8/MRRE0/SX254.WAV  \n",
            "  inflating: data/TRAIN/DR8/MRRE0/SX254.WAV.wav  \n",
            "  inflating: data/TRAIN/DR8/MRRE0/SX254.WRD  \n",
            "  inflating: data/TRAIN/DR8/MRRE0/SX344.PHN  \n",
            "  inflating: data/TRAIN/DR8/MRRE0/SX344.TXT  \n",
            "  inflating: data/TRAIN/DR8/MRRE0/SX344.WAV  \n",
            "  inflating: data/TRAIN/DR8/MRRE0/SX344.WAV.wav  \n",
            "  inflating: data/TRAIN/DR8/MRRE0/SX344.WRD  \n",
            "  inflating: data/TRAIN/DR8/MRRE0/SX434.PHN  \n",
            "  inflating: data/TRAIN/DR8/MRRE0/SX434.TXT  \n",
            "  inflating: data/TRAIN/DR8/MRRE0/SX434.WAV  \n",
            "  inflating: data/TRAIN/DR8/MRRE0/SX434.WAV.wav  \n",
            "  inflating: data/TRAIN/DR8/MRRE0/SX434.WRD  \n",
            "  inflating: data/TRAIN/DR8/MRRE0/SX74.PHN  \n",
            "  inflating: data/TRAIN/DR8/MRRE0/SX74.TXT  \n",
            "  inflating: data/TRAIN/DR8/MRRE0/SX74.WAV  \n",
            "  inflating: data/TRAIN/DR8/MRRE0/SX74.WAV.wav  \n",
            "  inflating: data/TRAIN/DR8/MRRE0/SX74.WRD  \n",
            "  inflating: data/TRAIN/DR8/MTCS0/SA1.PHN  \n",
            "  inflating: data/TRAIN/DR8/MTCS0/SA1.TXT  \n",
            "  inflating: data/TRAIN/DR8/MTCS0/SA1.WAV  \n",
            "  inflating: data/TRAIN/DR8/MTCS0/SA1.WAV.wav  \n",
            "  inflating: data/TRAIN/DR8/MTCS0/SA1.WRD  \n",
            "  inflating: data/TRAIN/DR8/MTCS0/SA2.PHN  \n",
            "  inflating: data/TRAIN/DR8/MTCS0/SA2.TXT  \n",
            "  inflating: data/TRAIN/DR8/MTCS0/SA2.WAV  \n",
            "  inflating: data/TRAIN/DR8/MTCS0/SA2.WAV.wav  \n",
            "  inflating: data/TRAIN/DR8/MTCS0/SA2.WRD  \n",
            "  inflating: data/TRAIN/DR8/MTCS0/SI1972.PHN  \n",
            "  inflating: data/TRAIN/DR8/MTCS0/SI1972.TXT  \n",
            "  inflating: data/TRAIN/DR8/MTCS0/SI1972.WAV  \n",
            "  inflating: data/TRAIN/DR8/MTCS0/SI1972.WAV.wav  \n",
            "  inflating: data/TRAIN/DR8/MTCS0/SI1972.WRD  \n",
            "  inflating: data/TRAIN/DR8/MTCS0/SI2265.PHN  \n",
            "  inflating: data/TRAIN/DR8/MTCS0/SI2265.TXT  \n",
            "  inflating: data/TRAIN/DR8/MTCS0/SI2265.WAV  \n",
            "  inflating: data/TRAIN/DR8/MTCS0/SI2265.WAV.wav  \n",
            "  inflating: data/TRAIN/DR8/MTCS0/SI2265.WRD  \n",
            "  inflating: data/TRAIN/DR8/MTCS0/SI712.PHN  \n",
            "  inflating: data/TRAIN/DR8/MTCS0/SI712.TXT  \n",
            "  inflating: data/TRAIN/DR8/MTCS0/SI712.WAV  \n",
            "  inflating: data/TRAIN/DR8/MTCS0/SI712.WAV.wav  \n",
            "  inflating: data/TRAIN/DR8/MTCS0/SI712.WRD  \n",
            "  inflating: data/TRAIN/DR8/MTCS0/SX172.PHN  \n",
            "  inflating: data/TRAIN/DR8/MTCS0/SX172.TXT  \n",
            "  inflating: data/TRAIN/DR8/MTCS0/SX172.WAV  \n",
            "  inflating: data/TRAIN/DR8/MTCS0/SX172.WAV.wav  \n",
            "  inflating: data/TRAIN/DR8/MTCS0/SX172.WRD  \n",
            "  inflating: data/TRAIN/DR8/MTCS0/SX262.PHN  \n",
            "  inflating: data/TRAIN/DR8/MTCS0/SX262.TXT  \n",
            "  inflating: data/TRAIN/DR8/MTCS0/SX262.WAV  \n",
            "  inflating: data/TRAIN/DR8/MTCS0/SX262.WAV.wav  \n",
            "  inflating: data/TRAIN/DR8/MTCS0/SX262.WRD  \n",
            "  inflating: data/TRAIN/DR8/MTCS0/SX352.PHN  \n",
            "  inflating: data/TRAIN/DR8/MTCS0/SX352.TXT  \n",
            "  inflating: data/TRAIN/DR8/MTCS0/SX352.WAV  \n",
            "  inflating: data/TRAIN/DR8/MTCS0/SX352.WAV.wav  \n",
            "  inflating: data/TRAIN/DR8/MTCS0/SX352.WRD  \n",
            "  inflating: data/TRAIN/DR8/MTCS0/SX442.PHN  \n",
            "  inflating: data/TRAIN/DR8/MTCS0/SX442.TXT  \n",
            "  inflating: data/TRAIN/DR8/MTCS0/SX442.WAV  \n",
            "  inflating: data/TRAIN/DR8/MTCS0/SX442.WAV.wav  \n",
            "  inflating: data/TRAIN/DR8/MTCS0/SX442.WRD  \n",
            "  inflating: data/TRAIN/DR8/MTCS0/SX82.PHN  \n",
            "  inflating: data/TRAIN/DR8/MTCS0/SX82.TXT  \n",
            "  inflating: data/TRAIN/DR8/MTCS0/SX82.WAV  \n",
            "  inflating: data/TRAIN/DR8/MTCS0/SX82.WAV.wav  \n",
            "  inflating: data/TRAIN/DR8/MTCS0/SX82.WRD  \n",
            "  inflating: test_data.csv           \n",
            "  inflating: train_data.csv          \n"
          ]
        }
      ],
      "source": [
        "! pip install kaggle\n",
        "! mkdir ~/.kaggle\n",
        "# ! cp kaggle.json ~/.kaggle/\n",
        "!cp /content/kaggle.json ~/.kaggle/\n",
        "! chmod 600 ~/.kaggle/kaggle.json\n",
        "! kaggle datasets download mfekadu/darpa-timit-acousticphonetic-continuous-speech\n",
        "!unzip /content/darpa-timit-acousticphonetic-continuous-speech.zip"
      ]
    },
    {
      "cell_type": "code",
      "execution_count": null,
      "metadata": {
        "id": "lEA8Lc9BGROs",
        "colab": {
          "base_uri": "https://localhost:8080/"
        },
        "outputId": "c91a5040-63e0-4d32-e342-5488eb1b3a52"
      },
      "outputs": [
        {
          "output_type": "stream",
          "name": "stdout",
          "text": [
            "Requirement already satisfied: wavio in /usr/local/lib/python3.10/dist-packages (0.0.8)\n",
            "Requirement already satisfied: numpy>=1.19.0 in /usr/local/lib/python3.10/dist-packages (from wavio) (1.23.5)\n",
            "Requirement already satisfied: noisereduce in /usr/local/lib/python3.10/dist-packages (3.0.0)\n",
            "Requirement already satisfied: scipy in /usr/local/lib/python3.10/dist-packages (from noisereduce) (1.11.3)\n",
            "Requirement already satisfied: matplotlib in /usr/local/lib/python3.10/dist-packages (from noisereduce) (3.7.1)\n",
            "Requirement already satisfied: librosa in /usr/local/lib/python3.10/dist-packages (from noisereduce) (0.8.1)\n",
            "Requirement already satisfied: numpy in /usr/local/lib/python3.10/dist-packages (from noisereduce) (1.23.5)\n",
            "Requirement already satisfied: tqdm in /usr/local/lib/python3.10/dist-packages (from noisereduce) (4.66.1)\n",
            "Requirement already satisfied: audioread>=2.0.0 in /usr/local/lib/python3.10/dist-packages (from librosa->noisereduce) (3.0.1)\n",
            "Requirement already satisfied: scikit-learn!=0.19.0,>=0.14.0 in /usr/local/lib/python3.10/dist-packages (from librosa->noisereduce) (1.2.2)\n",
            "Requirement already satisfied: joblib>=0.14 in /usr/local/lib/python3.10/dist-packages (from librosa->noisereduce) (1.3.2)\n",
            "Requirement already satisfied: decorator>=3.0.0 in /usr/local/lib/python3.10/dist-packages (from librosa->noisereduce) (4.4.2)\n",
            "Requirement already satisfied: resampy>=0.2.2 in /usr/local/lib/python3.10/dist-packages (from librosa->noisereduce) (0.4.2)\n",
            "Requirement already satisfied: numba>=0.43.0 in /usr/local/lib/python3.10/dist-packages (from librosa->noisereduce) (0.58.1)\n",
            "Requirement already satisfied: soundfile>=0.10.2 in /usr/local/lib/python3.10/dist-packages (from librosa->noisereduce) (0.12.1)\n",
            "Requirement already satisfied: pooch>=1.0 in /usr/local/lib/python3.10/dist-packages (from librosa->noisereduce) (1.8.0)\n",
            "Requirement already satisfied: packaging>=20.0 in /usr/local/lib/python3.10/dist-packages (from librosa->noisereduce) (23.2)\n",
            "Requirement already satisfied: contourpy>=1.0.1 in /usr/local/lib/python3.10/dist-packages (from matplotlib->noisereduce) (1.2.0)\n",
            "Requirement already satisfied: cycler>=0.10 in /usr/local/lib/python3.10/dist-packages (from matplotlib->noisereduce) (0.12.1)\n",
            "Requirement already satisfied: fonttools>=4.22.0 in /usr/local/lib/python3.10/dist-packages (from matplotlib->noisereduce) (4.44.3)\n",
            "Requirement already satisfied: kiwisolver>=1.0.1 in /usr/local/lib/python3.10/dist-packages (from matplotlib->noisereduce) (1.4.5)\n",
            "Requirement already satisfied: pillow>=6.2.0 in /usr/local/lib/python3.10/dist-packages (from matplotlib->noisereduce) (9.4.0)\n",
            "Requirement already satisfied: pyparsing>=2.3.1 in /usr/local/lib/python3.10/dist-packages (from matplotlib->noisereduce) (3.1.1)\n",
            "Requirement already satisfied: python-dateutil>=2.7 in /usr/local/lib/python3.10/dist-packages (from matplotlib->noisereduce) (2.8.2)\n",
            "Requirement already satisfied: llvmlite<0.42,>=0.41.0dev0 in /usr/local/lib/python3.10/dist-packages (from numba>=0.43.0->librosa->noisereduce) (0.41.1)\n",
            "Requirement already satisfied: platformdirs>=2.5.0 in /usr/local/lib/python3.10/dist-packages (from pooch>=1.0->librosa->noisereduce) (4.0.0)\n",
            "Requirement already satisfied: requests>=2.19.0 in /usr/local/lib/python3.10/dist-packages (from pooch>=1.0->librosa->noisereduce) (2.31.0)\n",
            "Requirement already satisfied: six>=1.5 in /usr/local/lib/python3.10/dist-packages (from python-dateutil>=2.7->matplotlib->noisereduce) (1.16.0)\n",
            "Requirement already satisfied: threadpoolctl>=2.0.0 in /usr/local/lib/python3.10/dist-packages (from scikit-learn!=0.19.0,>=0.14.0->librosa->noisereduce) (3.2.0)\n",
            "Requirement already satisfied: cffi>=1.0 in /usr/local/lib/python3.10/dist-packages (from soundfile>=0.10.2->librosa->noisereduce) (1.16.0)\n",
            "Requirement already satisfied: pycparser in /usr/local/lib/python3.10/dist-packages (from cffi>=1.0->soundfile>=0.10.2->librosa->noisereduce) (2.21)\n",
            "Requirement already satisfied: charset-normalizer<4,>=2 in /usr/local/lib/python3.10/dist-packages (from requests>=2.19.0->pooch>=1.0->librosa->noisereduce) (3.3.2)\n",
            "Requirement already satisfied: idna<4,>=2.5 in /usr/local/lib/python3.10/dist-packages (from requests>=2.19.0->pooch>=1.0->librosa->noisereduce) (3.4)\n",
            "Requirement already satisfied: urllib3<3,>=1.21.1 in /usr/local/lib/python3.10/dist-packages (from requests>=2.19.0->pooch>=1.0->librosa->noisereduce) (2.0.7)\n",
            "Requirement already satisfied: certifi>=2017.4.17 in /usr/local/lib/python3.10/dist-packages (from requests>=2.19.0->pooch>=1.0->librosa->noisereduce) (2023.7.22)\n",
            "Requirement already satisfied: speechrecognition in /usr/local/lib/python3.10/dist-packages (3.10.0)\n",
            "Requirement already satisfied: requests>=2.26.0 in /usr/local/lib/python3.10/dist-packages (from speechrecognition) (2.31.0)\n",
            "Requirement already satisfied: charset-normalizer<4,>=2 in /usr/local/lib/python3.10/dist-packages (from requests>=2.26.0->speechrecognition) (3.3.2)\n",
            "Requirement already satisfied: idna<4,>=2.5 in /usr/local/lib/python3.10/dist-packages (from requests>=2.26.0->speechrecognition) (3.4)\n",
            "Requirement already satisfied: urllib3<3,>=1.21.1 in /usr/local/lib/python3.10/dist-packages (from requests>=2.26.0->speechrecognition) (2.0.7)\n",
            "Requirement already satisfied: certifi>=2017.4.17 in /usr/local/lib/python3.10/dist-packages (from requests>=2.26.0->speechrecognition) (2023.7.22)\n",
            "Requirement already satisfied: spacy in /usr/local/lib/python3.10/dist-packages (3.6.1)\n",
            "Requirement already satisfied: spacy-legacy<3.1.0,>=3.0.11 in /usr/local/lib/python3.10/dist-packages (from spacy) (3.0.12)\n",
            "Requirement already satisfied: spacy-loggers<2.0.0,>=1.0.0 in /usr/local/lib/python3.10/dist-packages (from spacy) (1.0.5)\n",
            "Requirement already satisfied: murmurhash<1.1.0,>=0.28.0 in /usr/local/lib/python3.10/dist-packages (from spacy) (1.0.10)\n",
            "Requirement already satisfied: cymem<2.1.0,>=2.0.2 in /usr/local/lib/python3.10/dist-packages (from spacy) (2.0.8)\n",
            "Requirement already satisfied: preshed<3.1.0,>=3.0.2 in /usr/local/lib/python3.10/dist-packages (from spacy) (3.0.9)\n",
            "Requirement already satisfied: thinc<8.2.0,>=8.1.8 in /usr/local/lib/python3.10/dist-packages (from spacy) (8.1.12)\n",
            "Requirement already satisfied: wasabi<1.2.0,>=0.9.1 in /usr/local/lib/python3.10/dist-packages (from spacy) (1.1.2)\n",
            "Requirement already satisfied: srsly<3.0.0,>=2.4.3 in /usr/local/lib/python3.10/dist-packages (from spacy) (2.4.8)\n",
            "Requirement already satisfied: catalogue<2.1.0,>=2.0.6 in /usr/local/lib/python3.10/dist-packages (from spacy) (2.0.10)\n",
            "Requirement already satisfied: typer<0.10.0,>=0.3.0 in /usr/local/lib/python3.10/dist-packages (from spacy) (0.9.0)\n",
            "Requirement already satisfied: pathy>=0.10.0 in /usr/local/lib/python3.10/dist-packages (from spacy) (0.10.3)\n",
            "Requirement already satisfied: smart-open<7.0.0,>=5.2.1 in /usr/local/lib/python3.10/dist-packages (from spacy) (6.4.0)\n",
            "Requirement already satisfied: tqdm<5.0.0,>=4.38.0 in /usr/local/lib/python3.10/dist-packages (from spacy) (4.66.1)\n",
            "Requirement already satisfied: numpy>=1.15.0 in /usr/local/lib/python3.10/dist-packages (from spacy) (1.23.5)\n",
            "Requirement already satisfied: requests<3.0.0,>=2.13.0 in /usr/local/lib/python3.10/dist-packages (from spacy) (2.31.0)\n",
            "Requirement already satisfied: pydantic!=1.8,!=1.8.1,<3.0.0,>=1.7.4 in /usr/local/lib/python3.10/dist-packages (from spacy) (1.10.13)\n",
            "Requirement already satisfied: jinja2 in /usr/local/lib/python3.10/dist-packages (from spacy) (3.1.2)\n",
            "Requirement already satisfied: setuptools in /usr/local/lib/python3.10/dist-packages (from spacy) (67.7.2)\n",
            "Requirement already satisfied: packaging>=20.0 in /usr/local/lib/python3.10/dist-packages (from spacy) (23.2)\n",
            "Requirement already satisfied: langcodes<4.0.0,>=3.2.0 in /usr/local/lib/python3.10/dist-packages (from spacy) (3.3.0)\n",
            "Requirement already satisfied: typing-extensions>=4.2.0 in /usr/local/lib/python3.10/dist-packages (from pydantic!=1.8,!=1.8.1,<3.0.0,>=1.7.4->spacy) (4.5.0)\n",
            "Requirement already satisfied: charset-normalizer<4,>=2 in /usr/local/lib/python3.10/dist-packages (from requests<3.0.0,>=2.13.0->spacy) (3.3.2)\n",
            "Requirement already satisfied: idna<4,>=2.5 in /usr/local/lib/python3.10/dist-packages (from requests<3.0.0,>=2.13.0->spacy) (3.4)\n",
            "Requirement already satisfied: urllib3<3,>=1.21.1 in /usr/local/lib/python3.10/dist-packages (from requests<3.0.0,>=2.13.0->spacy) (2.0.7)\n",
            "Requirement already satisfied: certifi>=2017.4.17 in /usr/local/lib/python3.10/dist-packages (from requests<3.0.0,>=2.13.0->spacy) (2023.7.22)\n",
            "Requirement already satisfied: blis<0.8.0,>=0.7.8 in /usr/local/lib/python3.10/dist-packages (from thinc<8.2.0,>=8.1.8->spacy) (0.7.11)\n",
            "Requirement already satisfied: confection<1.0.0,>=0.0.1 in /usr/local/lib/python3.10/dist-packages (from thinc<8.2.0,>=8.1.8->spacy) (0.1.3)\n",
            "Requirement already satisfied: click<9.0.0,>=7.1.1 in /usr/local/lib/python3.10/dist-packages (from typer<0.10.0,>=0.3.0->spacy) (8.1.7)\n",
            "Requirement already satisfied: MarkupSafe>=2.0 in /usr/local/lib/python3.10/dist-packages (from jinja2->spacy) (2.1.3)\n",
            "2023-11-27 01:18:10.928122: E tensorflow/compiler/xla/stream_executor/cuda/cuda_dnn.cc:9342] Unable to register cuDNN factory: Attempting to register factory for plugin cuDNN when one has already been registered\n",
            "2023-11-27 01:18:10.928264: E tensorflow/compiler/xla/stream_executor/cuda/cuda_fft.cc:609] Unable to register cuFFT factory: Attempting to register factory for plugin cuFFT when one has already been registered\n",
            "2023-11-27 01:18:10.928472: E tensorflow/compiler/xla/stream_executor/cuda/cuda_blas.cc:1518] Unable to register cuBLAS factory: Attempting to register factory for plugin cuBLAS when one has already been registered\n",
            "2023-11-27 01:18:10.978735: I tensorflow/core/platform/cpu_feature_guard.cc:182] This TensorFlow binary is optimized to use available CPU instructions in performance-critical operations.\n",
            "To enable the following instructions: AVX2 FMA, in other operations, rebuild TensorFlow with the appropriate compiler flags.\n",
            "2023-11-27 01:18:12.980049: W tensorflow/compiler/tf2tensorrt/utils/py_utils.cc:38] TF-TRT Warning: Could not find TensorRT\n",
            "Collecting en-core-web-sm==3.6.0\n",
            "  Downloading https://github.com/explosion/spacy-models/releases/download/en_core_web_sm-3.6.0/en_core_web_sm-3.6.0-py3-none-any.whl (12.8 MB)\n",
            "\u001b[2K     \u001b[90m━━━━━━━━━━━━━━━━━━━━━━━━━━━━━━━━━━━━━━━━\u001b[0m \u001b[32m12.8/12.8 MB\u001b[0m \u001b[31m60.6 MB/s\u001b[0m eta \u001b[36m0:00:00\u001b[0m\n",
            "\u001b[?25hRequirement already satisfied: spacy<3.7.0,>=3.6.0 in /usr/local/lib/python3.10/dist-packages (from en-core-web-sm==3.6.0) (3.6.1)\n",
            "Requirement already satisfied: spacy-legacy<3.1.0,>=3.0.11 in /usr/local/lib/python3.10/dist-packages (from spacy<3.7.0,>=3.6.0->en-core-web-sm==3.6.0) (3.0.12)\n",
            "Requirement already satisfied: spacy-loggers<2.0.0,>=1.0.0 in /usr/local/lib/python3.10/dist-packages (from spacy<3.7.0,>=3.6.0->en-core-web-sm==3.6.0) (1.0.5)\n",
            "Requirement already satisfied: murmurhash<1.1.0,>=0.28.0 in /usr/local/lib/python3.10/dist-packages (from spacy<3.7.0,>=3.6.0->en-core-web-sm==3.6.0) (1.0.10)\n",
            "Requirement already satisfied: cymem<2.1.0,>=2.0.2 in /usr/local/lib/python3.10/dist-packages (from spacy<3.7.0,>=3.6.0->en-core-web-sm==3.6.0) (2.0.8)\n",
            "Requirement already satisfied: preshed<3.1.0,>=3.0.2 in /usr/local/lib/python3.10/dist-packages (from spacy<3.7.0,>=3.6.0->en-core-web-sm==3.6.0) (3.0.9)\n",
            "Requirement already satisfied: thinc<8.2.0,>=8.1.8 in /usr/local/lib/python3.10/dist-packages (from spacy<3.7.0,>=3.6.0->en-core-web-sm==3.6.0) (8.1.12)\n",
            "Requirement already satisfied: wasabi<1.2.0,>=0.9.1 in /usr/local/lib/python3.10/dist-packages (from spacy<3.7.0,>=3.6.0->en-core-web-sm==3.6.0) (1.1.2)\n",
            "Requirement already satisfied: srsly<3.0.0,>=2.4.3 in /usr/local/lib/python3.10/dist-packages (from spacy<3.7.0,>=3.6.0->en-core-web-sm==3.6.0) (2.4.8)\n",
            "Requirement already satisfied: catalogue<2.1.0,>=2.0.6 in /usr/local/lib/python3.10/dist-packages (from spacy<3.7.0,>=3.6.0->en-core-web-sm==3.6.0) (2.0.10)\n",
            "Requirement already satisfied: typer<0.10.0,>=0.3.0 in /usr/local/lib/python3.10/dist-packages (from spacy<3.7.0,>=3.6.0->en-core-web-sm==3.6.0) (0.9.0)\n",
            "Requirement already satisfied: pathy>=0.10.0 in /usr/local/lib/python3.10/dist-packages (from spacy<3.7.0,>=3.6.0->en-core-web-sm==3.6.0) (0.10.3)\n",
            "Requirement already satisfied: smart-open<7.0.0,>=5.2.1 in /usr/local/lib/python3.10/dist-packages (from spacy<3.7.0,>=3.6.0->en-core-web-sm==3.6.0) (6.4.0)\n",
            "Requirement already satisfied: tqdm<5.0.0,>=4.38.0 in /usr/local/lib/python3.10/dist-packages (from spacy<3.7.0,>=3.6.0->en-core-web-sm==3.6.0) (4.66.1)\n",
            "Requirement already satisfied: numpy>=1.15.0 in /usr/local/lib/python3.10/dist-packages (from spacy<3.7.0,>=3.6.0->en-core-web-sm==3.6.0) (1.23.5)\n",
            "Requirement already satisfied: requests<3.0.0,>=2.13.0 in /usr/local/lib/python3.10/dist-packages (from spacy<3.7.0,>=3.6.0->en-core-web-sm==3.6.0) (2.31.0)\n",
            "Requirement already satisfied: pydantic!=1.8,!=1.8.1,<3.0.0,>=1.7.4 in /usr/local/lib/python3.10/dist-packages (from spacy<3.7.0,>=3.6.0->en-core-web-sm==3.6.0) (1.10.13)\n",
            "Requirement already satisfied: jinja2 in /usr/local/lib/python3.10/dist-packages (from spacy<3.7.0,>=3.6.0->en-core-web-sm==3.6.0) (3.1.2)\n",
            "Requirement already satisfied: setuptools in /usr/local/lib/python3.10/dist-packages (from spacy<3.7.0,>=3.6.0->en-core-web-sm==3.6.0) (67.7.2)\n",
            "Requirement already satisfied: packaging>=20.0 in /usr/local/lib/python3.10/dist-packages (from spacy<3.7.0,>=3.6.0->en-core-web-sm==3.6.0) (23.2)\n",
            "Requirement already satisfied: langcodes<4.0.0,>=3.2.0 in /usr/local/lib/python3.10/dist-packages (from spacy<3.7.0,>=3.6.0->en-core-web-sm==3.6.0) (3.3.0)\n",
            "Requirement already satisfied: typing-extensions>=4.2.0 in /usr/local/lib/python3.10/dist-packages (from pydantic!=1.8,!=1.8.1,<3.0.0,>=1.7.4->spacy<3.7.0,>=3.6.0->en-core-web-sm==3.6.0) (4.5.0)\n",
            "Requirement already satisfied: charset-normalizer<4,>=2 in /usr/local/lib/python3.10/dist-packages (from requests<3.0.0,>=2.13.0->spacy<3.7.0,>=3.6.0->en-core-web-sm==3.6.0) (3.3.2)\n",
            "Requirement already satisfied: idna<4,>=2.5 in /usr/local/lib/python3.10/dist-packages (from requests<3.0.0,>=2.13.0->spacy<3.7.0,>=3.6.0->en-core-web-sm==3.6.0) (3.4)\n",
            "Requirement already satisfied: urllib3<3,>=1.21.1 in /usr/local/lib/python3.10/dist-packages (from requests<3.0.0,>=2.13.0->spacy<3.7.0,>=3.6.0->en-core-web-sm==3.6.0) (2.0.7)\n",
            "Requirement already satisfied: certifi>=2017.4.17 in /usr/local/lib/python3.10/dist-packages (from requests<3.0.0,>=2.13.0->spacy<3.7.0,>=3.6.0->en-core-web-sm==3.6.0) (2023.7.22)\n",
            "Requirement already satisfied: blis<0.8.0,>=0.7.8 in /usr/local/lib/python3.10/dist-packages (from thinc<8.2.0,>=8.1.8->spacy<3.7.0,>=3.6.0->en-core-web-sm==3.6.0) (0.7.11)\n",
            "Requirement already satisfied: confection<1.0.0,>=0.0.1 in /usr/local/lib/python3.10/dist-packages (from thinc<8.2.0,>=8.1.8->spacy<3.7.0,>=3.6.0->en-core-web-sm==3.6.0) (0.1.3)\n",
            "Requirement already satisfied: click<9.0.0,>=7.1.1 in /usr/local/lib/python3.10/dist-packages (from typer<0.10.0,>=0.3.0->spacy<3.7.0,>=3.6.0->en-core-web-sm==3.6.0) (8.1.7)\n",
            "Requirement already satisfied: MarkupSafe>=2.0 in /usr/local/lib/python3.10/dist-packages (from jinja2->spacy<3.7.0,>=3.6.0->en-core-web-sm==3.6.0) (2.1.3)\n",
            "\u001b[38;5;2m✔ Download and installation successful\u001b[0m\n",
            "You can now load the package via spacy.load('en_core_web_sm')\n"
          ]
        }
      ],
      "source": [
        "!pip install wavio\n",
        "!pip install noisereduce\n",
        "!pip install speechrecognition\n",
        "!pip install spacy\n",
        "!python -m spacy download en_core_web_sm"
      ]
    },
    {
      "cell_type": "code",
      "execution_count": null,
      "metadata": {
        "id": "xbBSX3QwF8wD"
      },
      "outputs": [],
      "source": [
        "import wavio\n",
        "import spacy\n",
        "import random\n",
        "import pandas as pd\n",
        "import noisereduce as nr\n",
        "from scipy.io import wavfile\n",
        "import speech_recognition as sr\n",
        "from IPython.display import Audio\n",
        "from moviepy.editor import concatenate_audioclips, AudioFileClip\n",
        "\n",
        "\n",
        "\n",
        "import warnings\n",
        "warnings.filterwarnings(\"ignore\")"
      ]
    },
    {
      "cell_type": "code",
      "execution_count": null,
      "metadata": {
        "id": "WvcT1XdDGmeg",
        "colab": {
          "base_uri": "https://localhost:8080/"
        },
        "outputId": "a4fc33ac-ac15-4a3b-eaa7-6504323f9011"
      },
      "outputs": [
        {
          "output_type": "execute_result",
          "data": {
            "text/plain": [
              "<torch._C.Generator at 0x7f6813b0f1f0>"
            ]
          },
          "metadata": {},
          "execution_count": 10
        }
      ],
      "source": [
        "import torch\n",
        "torch.manual_seed(3407)"
      ]
    },
    {
      "cell_type": "code",
      "execution_count": null,
      "metadata": {
        "id": "-wlJ2l6EGqP9",
        "colab": {
          "base_uri": "https://localhost:8080/",
          "height": 132
        },
        "outputId": "ef6447db-4c6d-4c4e-ba52-3acef3ddaad8"
      },
      "outputs": [
        {
          "output_type": "execute_result",
          "data": {
            "text/plain": [
              "   index test_or_train dialect_region speaker_id       filename  \\\n",
              "0    1.0         TRAIN            DR4      MMDM0  SI681.WAV.wav   \n",
              "1    2.0         TRAIN            DR4      MMDM0     SI1311.PHN   \n",
              "\n",
              "              path_from_data_dir        path_from_data_dir_windows  \\\n",
              "0  TRAIN/DR4/MMDM0/SI681.WAV.wav  TRAIN\\\\DR4\\\\MMDM0\\\\SI681.WAV.wav   \n",
              "1     TRAIN/DR4/MMDM0/SI1311.PHN     TRAIN\\\\DR4\\\\MMDM0\\\\SI1311.PHN   \n",
              "\n",
              "  is_converted_audio is_audio is_word_file is_phonetic_file is_sentence_file  \n",
              "0               True     True        False            False            False  \n",
              "1              False    False        False             True            False  "
            ],
            "text/html": [
              "\n",
              "  <div id=\"df-04a067be-7104-4074-9773-9a2602439e5a\" class=\"colab-df-container\">\n",
              "    <div>\n",
              "<style scoped>\n",
              "    .dataframe tbody tr th:only-of-type {\n",
              "        vertical-align: middle;\n",
              "    }\n",
              "\n",
              "    .dataframe tbody tr th {\n",
              "        vertical-align: top;\n",
              "    }\n",
              "\n",
              "    .dataframe thead th {\n",
              "        text-align: right;\n",
              "    }\n",
              "</style>\n",
              "<table border=\"1\" class=\"dataframe\">\n",
              "  <thead>\n",
              "    <tr style=\"text-align: right;\">\n",
              "      <th></th>\n",
              "      <th>index</th>\n",
              "      <th>test_or_train</th>\n",
              "      <th>dialect_region</th>\n",
              "      <th>speaker_id</th>\n",
              "      <th>filename</th>\n",
              "      <th>path_from_data_dir</th>\n",
              "      <th>path_from_data_dir_windows</th>\n",
              "      <th>is_converted_audio</th>\n",
              "      <th>is_audio</th>\n",
              "      <th>is_word_file</th>\n",
              "      <th>is_phonetic_file</th>\n",
              "      <th>is_sentence_file</th>\n",
              "    </tr>\n",
              "  </thead>\n",
              "  <tbody>\n",
              "    <tr>\n",
              "      <th>0</th>\n",
              "      <td>1.0</td>\n",
              "      <td>TRAIN</td>\n",
              "      <td>DR4</td>\n",
              "      <td>MMDM0</td>\n",
              "      <td>SI681.WAV.wav</td>\n",
              "      <td>TRAIN/DR4/MMDM0/SI681.WAV.wav</td>\n",
              "      <td>TRAIN\\\\DR4\\\\MMDM0\\\\SI681.WAV.wav</td>\n",
              "      <td>True</td>\n",
              "      <td>True</td>\n",
              "      <td>False</td>\n",
              "      <td>False</td>\n",
              "      <td>False</td>\n",
              "    </tr>\n",
              "    <tr>\n",
              "      <th>1</th>\n",
              "      <td>2.0</td>\n",
              "      <td>TRAIN</td>\n",
              "      <td>DR4</td>\n",
              "      <td>MMDM0</td>\n",
              "      <td>SI1311.PHN</td>\n",
              "      <td>TRAIN/DR4/MMDM0/SI1311.PHN</td>\n",
              "      <td>TRAIN\\\\DR4\\\\MMDM0\\\\SI1311.PHN</td>\n",
              "      <td>False</td>\n",
              "      <td>False</td>\n",
              "      <td>False</td>\n",
              "      <td>True</td>\n",
              "      <td>False</td>\n",
              "    </tr>\n",
              "  </tbody>\n",
              "</table>\n",
              "</div>\n",
              "    <div class=\"colab-df-buttons\">\n",
              "\n",
              "  <div class=\"colab-df-container\">\n",
              "    <button class=\"colab-df-convert\" onclick=\"convertToInteractive('df-04a067be-7104-4074-9773-9a2602439e5a')\"\n",
              "            title=\"Convert this dataframe to an interactive table.\"\n",
              "            style=\"display:none;\">\n",
              "\n",
              "  <svg xmlns=\"http://www.w3.org/2000/svg\" height=\"24px\" viewBox=\"0 -960 960 960\">\n",
              "    <path d=\"M120-120v-720h720v720H120Zm60-500h600v-160H180v160Zm220 220h160v-160H400v160Zm0 220h160v-160H400v160ZM180-400h160v-160H180v160Zm440 0h160v-160H620v160ZM180-180h160v-160H180v160Zm440 0h160v-160H620v160Z\"/>\n",
              "  </svg>\n",
              "    </button>\n",
              "\n",
              "  <style>\n",
              "    .colab-df-container {\n",
              "      display:flex;\n",
              "      gap: 12px;\n",
              "    }\n",
              "\n",
              "    .colab-df-convert {\n",
              "      background-color: #E8F0FE;\n",
              "      border: none;\n",
              "      border-radius: 50%;\n",
              "      cursor: pointer;\n",
              "      display: none;\n",
              "      fill: #1967D2;\n",
              "      height: 32px;\n",
              "      padding: 0 0 0 0;\n",
              "      width: 32px;\n",
              "    }\n",
              "\n",
              "    .colab-df-convert:hover {\n",
              "      background-color: #E2EBFA;\n",
              "      box-shadow: 0px 1px 2px rgba(60, 64, 67, 0.3), 0px 1px 3px 1px rgba(60, 64, 67, 0.15);\n",
              "      fill: #174EA6;\n",
              "    }\n",
              "\n",
              "    .colab-df-buttons div {\n",
              "      margin-bottom: 4px;\n",
              "    }\n",
              "\n",
              "    [theme=dark] .colab-df-convert {\n",
              "      background-color: #3B4455;\n",
              "      fill: #D2E3FC;\n",
              "    }\n",
              "\n",
              "    [theme=dark] .colab-df-convert:hover {\n",
              "      background-color: #434B5C;\n",
              "      box-shadow: 0px 1px 3px 1px rgba(0, 0, 0, 0.15);\n",
              "      filter: drop-shadow(0px 1px 2px rgba(0, 0, 0, 0.3));\n",
              "      fill: #FFFFFF;\n",
              "    }\n",
              "  </style>\n",
              "\n",
              "    <script>\n",
              "      const buttonEl =\n",
              "        document.querySelector('#df-04a067be-7104-4074-9773-9a2602439e5a button.colab-df-convert');\n",
              "      buttonEl.style.display =\n",
              "        google.colab.kernel.accessAllowed ? 'block' : 'none';\n",
              "\n",
              "      async function convertToInteractive(key) {\n",
              "        const element = document.querySelector('#df-04a067be-7104-4074-9773-9a2602439e5a');\n",
              "        const dataTable =\n",
              "          await google.colab.kernel.invokeFunction('convertToInteractive',\n",
              "                                                    [key], {});\n",
              "        if (!dataTable) return;\n",
              "\n",
              "        const docLinkHtml = 'Like what you see? Visit the ' +\n",
              "          '<a target=\"_blank\" href=https://colab.research.google.com/notebooks/data_table.ipynb>data table notebook</a>'\n",
              "          + ' to learn more about interactive tables.';\n",
              "        element.innerHTML = '';\n",
              "        dataTable['output_type'] = 'display_data';\n",
              "        await google.colab.output.renderOutput(dataTable, element);\n",
              "        const docLink = document.createElement('div');\n",
              "        docLink.innerHTML = docLinkHtml;\n",
              "        element.appendChild(docLink);\n",
              "      }\n",
              "    </script>\n",
              "  </div>\n",
              "\n",
              "\n",
              "<div id=\"df-4c77bdcd-2bf8-4b55-b05c-a405abc0834f\">\n",
              "  <button class=\"colab-df-quickchart\" onclick=\"quickchart('df-4c77bdcd-2bf8-4b55-b05c-a405abc0834f')\"\n",
              "            title=\"Suggest charts\"\n",
              "            style=\"display:none;\">\n",
              "\n",
              "<svg xmlns=\"http://www.w3.org/2000/svg\" height=\"24px\"viewBox=\"0 0 24 24\"\n",
              "     width=\"24px\">\n",
              "    <g>\n",
              "        <path d=\"M19 3H5c-1.1 0-2 .9-2 2v14c0 1.1.9 2 2 2h14c1.1 0 2-.9 2-2V5c0-1.1-.9-2-2-2zM9 17H7v-7h2v7zm4 0h-2V7h2v10zm4 0h-2v-4h2v4z\"/>\n",
              "    </g>\n",
              "</svg>\n",
              "  </button>\n",
              "\n",
              "<style>\n",
              "  .colab-df-quickchart {\n",
              "      --bg-color: #E8F0FE;\n",
              "      --fill-color: #1967D2;\n",
              "      --hover-bg-color: #E2EBFA;\n",
              "      --hover-fill-color: #174EA6;\n",
              "      --disabled-fill-color: #AAA;\n",
              "      --disabled-bg-color: #DDD;\n",
              "  }\n",
              "\n",
              "  [theme=dark] .colab-df-quickchart {\n",
              "      --bg-color: #3B4455;\n",
              "      --fill-color: #D2E3FC;\n",
              "      --hover-bg-color: #434B5C;\n",
              "      --hover-fill-color: #FFFFFF;\n",
              "      --disabled-bg-color: #3B4455;\n",
              "      --disabled-fill-color: #666;\n",
              "  }\n",
              "\n",
              "  .colab-df-quickchart {\n",
              "    background-color: var(--bg-color);\n",
              "    border: none;\n",
              "    border-radius: 50%;\n",
              "    cursor: pointer;\n",
              "    display: none;\n",
              "    fill: var(--fill-color);\n",
              "    height: 32px;\n",
              "    padding: 0;\n",
              "    width: 32px;\n",
              "  }\n",
              "\n",
              "  .colab-df-quickchart:hover {\n",
              "    background-color: var(--hover-bg-color);\n",
              "    box-shadow: 0 1px 2px rgba(60, 64, 67, 0.3), 0 1px 3px 1px rgba(60, 64, 67, 0.15);\n",
              "    fill: var(--button-hover-fill-color);\n",
              "  }\n",
              "\n",
              "  .colab-df-quickchart-complete:disabled,\n",
              "  .colab-df-quickchart-complete:disabled:hover {\n",
              "    background-color: var(--disabled-bg-color);\n",
              "    fill: var(--disabled-fill-color);\n",
              "    box-shadow: none;\n",
              "  }\n",
              "\n",
              "  .colab-df-spinner {\n",
              "    border: 2px solid var(--fill-color);\n",
              "    border-color: transparent;\n",
              "    border-bottom-color: var(--fill-color);\n",
              "    animation:\n",
              "      spin 1s steps(1) infinite;\n",
              "  }\n",
              "\n",
              "  @keyframes spin {\n",
              "    0% {\n",
              "      border-color: transparent;\n",
              "      border-bottom-color: var(--fill-color);\n",
              "      border-left-color: var(--fill-color);\n",
              "    }\n",
              "    20% {\n",
              "      border-color: transparent;\n",
              "      border-left-color: var(--fill-color);\n",
              "      border-top-color: var(--fill-color);\n",
              "    }\n",
              "    30% {\n",
              "      border-color: transparent;\n",
              "      border-left-color: var(--fill-color);\n",
              "      border-top-color: var(--fill-color);\n",
              "      border-right-color: var(--fill-color);\n",
              "    }\n",
              "    40% {\n",
              "      border-color: transparent;\n",
              "      border-right-color: var(--fill-color);\n",
              "      border-top-color: var(--fill-color);\n",
              "    }\n",
              "    60% {\n",
              "      border-color: transparent;\n",
              "      border-right-color: var(--fill-color);\n",
              "    }\n",
              "    80% {\n",
              "      border-color: transparent;\n",
              "      border-right-color: var(--fill-color);\n",
              "      border-bottom-color: var(--fill-color);\n",
              "    }\n",
              "    90% {\n",
              "      border-color: transparent;\n",
              "      border-bottom-color: var(--fill-color);\n",
              "    }\n",
              "  }\n",
              "</style>\n",
              "\n",
              "  <script>\n",
              "    async function quickchart(key) {\n",
              "      const quickchartButtonEl =\n",
              "        document.querySelector('#' + key + ' button');\n",
              "      quickchartButtonEl.disabled = true;  // To prevent multiple clicks.\n",
              "      quickchartButtonEl.classList.add('colab-df-spinner');\n",
              "      try {\n",
              "        const charts = await google.colab.kernel.invokeFunction(\n",
              "            'suggestCharts', [key], {});\n",
              "      } catch (error) {\n",
              "        console.error('Error during call to suggestCharts:', error);\n",
              "      }\n",
              "      quickchartButtonEl.classList.remove('colab-df-spinner');\n",
              "      quickchartButtonEl.classList.add('colab-df-quickchart-complete');\n",
              "    }\n",
              "    (() => {\n",
              "      let quickchartButtonEl =\n",
              "        document.querySelector('#df-4c77bdcd-2bf8-4b55-b05c-a405abc0834f button');\n",
              "      quickchartButtonEl.style.display =\n",
              "        google.colab.kernel.accessAllowed ? 'block' : 'none';\n",
              "    })();\n",
              "  </script>\n",
              "</div>\n",
              "    </div>\n",
              "  </div>\n"
            ]
          },
          "metadata": {},
          "execution_count": 11
        }
      ],
      "source": [
        "train = pd.read_csv('/content/train_data.csv')\n",
        "train.head(2)"
      ]
    },
    {
      "cell_type": "code",
      "execution_count": null,
      "metadata": {
        "id": "A3Og6PYoGz7C"
      },
      "outputs": [],
      "source": [
        "def synthesize1(audio, text, audio_name):\n",
        "\n",
        "  \"\"\"\n",
        "  Used to clone the audio\n",
        "  \"\"\"\n",
        "  embedding = encoder.embed_utterance(encoder.preprocess_wav(audio, 22050))\n",
        "  print(\"Synthesizing new audio...\")\n",
        "  specs = synthesizer.synthesize_spectrograms([text], [embedding])\n",
        "  generated_wav = vocoder.infer_waveform(specs[0])\n",
        "  generated_wav = np.pad(generated_wav, (1, synthesizer.sample_rate), mode=\"constant\")\n",
        "  clear_output()\n",
        "  wavio.write(audio_name, generated_wav, sampwidth=2, rate=synthesizer.sample_rate)\n"
      ]
    },
    {
      "cell_type": "code",
      "execution_count": null,
      "metadata": {
        "id": "fq9BWjdQG-wB"
      },
      "outputs": [],
      "source": [
        "nlp = spacy.load('en_core_web_sm')\n",
        "def text_comparison(audio, text, nlp = nlp):\n",
        "  \"\"\"\n",
        "Used to convert the cloned audio to text and compare that result with the original text with \"speech_to_text\" function help\n",
        "  \"\"\"\n",
        "  new_text = speech_to_text(audio)\n",
        "  original_text = nlp(text)\n",
        "  return original_text.similarity(nlp(new_text))"
      ]
    },
    {
      "cell_type": "code",
      "execution_count": null,
      "metadata": {
        "id": "T127hiS5HCrc"
      },
      "outputs": [],
      "source": [
        "# initialize the recognizer\n",
        "r = sr.Recognizer()\n",
        "def speech_to_text(audio):\n",
        "  \"\"\"\n",
        "  return the text from cloned audio\n",
        "  \"\"\"\n",
        "  with sr.AudioFile(audio) as source:\n",
        "      # listen for the data (load audio to memory)\n",
        "      audio_data = r.record(source)\n",
        "      # recognize (convert from speech to text)\n",
        "      text = r.recognize_google(audio_data)\n",
        "      return text"
      ]
    },
    {
      "cell_type": "code",
      "execution_count": null,
      "metadata": {
        "id": "EGjZJ0wgHXOj"
      },
      "outputs": [],
      "source": [
        "train = pd.read_csv('/content/train_data.csv')\n",
        "test = pd.read_csv('/content/test_data.csv')"
      ]
    },
    {
      "cell_type": "code",
      "execution_count": null,
      "metadata": {
        "id": "WIybB1WZH9Fa",
        "colab": {
          "base_uri": "https://localhost:8080/",
          "height": 132
        },
        "outputId": "2db7a867-be1f-411a-c459-1b772d1c522f"
      },
      "outputs": [
        {
          "output_type": "execute_result",
          "data": {
            "text/plain": [
              "   index test_or_train dialect_region speaker_id       filename  \\\n",
              "0    1.0         TRAIN            DR4      MMDM0  SI681.WAV.wav   \n",
              "1    2.0         TRAIN            DR4      MMDM0     SI1311.PHN   \n",
              "\n",
              "              path_from_data_dir        path_from_data_dir_windows  \\\n",
              "0  TRAIN/DR4/MMDM0/SI681.WAV.wav  TRAIN\\\\DR4\\\\MMDM0\\\\SI681.WAV.wav   \n",
              "1     TRAIN/DR4/MMDM0/SI1311.PHN     TRAIN\\\\DR4\\\\MMDM0\\\\SI1311.PHN   \n",
              "\n",
              "  is_converted_audio is_audio is_word_file is_phonetic_file is_sentence_file  \n",
              "0               True     True        False            False            False  \n",
              "1              False    False        False             True            False  "
            ],
            "text/html": [
              "\n",
              "  <div id=\"df-f73e8ea6-35f7-437c-8416-76752ee33ead\" class=\"colab-df-container\">\n",
              "    <div>\n",
              "<style scoped>\n",
              "    .dataframe tbody tr th:only-of-type {\n",
              "        vertical-align: middle;\n",
              "    }\n",
              "\n",
              "    .dataframe tbody tr th {\n",
              "        vertical-align: top;\n",
              "    }\n",
              "\n",
              "    .dataframe thead th {\n",
              "        text-align: right;\n",
              "    }\n",
              "</style>\n",
              "<table border=\"1\" class=\"dataframe\">\n",
              "  <thead>\n",
              "    <tr style=\"text-align: right;\">\n",
              "      <th></th>\n",
              "      <th>index</th>\n",
              "      <th>test_or_train</th>\n",
              "      <th>dialect_region</th>\n",
              "      <th>speaker_id</th>\n",
              "      <th>filename</th>\n",
              "      <th>path_from_data_dir</th>\n",
              "      <th>path_from_data_dir_windows</th>\n",
              "      <th>is_converted_audio</th>\n",
              "      <th>is_audio</th>\n",
              "      <th>is_word_file</th>\n",
              "      <th>is_phonetic_file</th>\n",
              "      <th>is_sentence_file</th>\n",
              "    </tr>\n",
              "  </thead>\n",
              "  <tbody>\n",
              "    <tr>\n",
              "      <th>0</th>\n",
              "      <td>1.0</td>\n",
              "      <td>TRAIN</td>\n",
              "      <td>DR4</td>\n",
              "      <td>MMDM0</td>\n",
              "      <td>SI681.WAV.wav</td>\n",
              "      <td>TRAIN/DR4/MMDM0/SI681.WAV.wav</td>\n",
              "      <td>TRAIN\\\\DR4\\\\MMDM0\\\\SI681.WAV.wav</td>\n",
              "      <td>True</td>\n",
              "      <td>True</td>\n",
              "      <td>False</td>\n",
              "      <td>False</td>\n",
              "      <td>False</td>\n",
              "    </tr>\n",
              "    <tr>\n",
              "      <th>1</th>\n",
              "      <td>2.0</td>\n",
              "      <td>TRAIN</td>\n",
              "      <td>DR4</td>\n",
              "      <td>MMDM0</td>\n",
              "      <td>SI1311.PHN</td>\n",
              "      <td>TRAIN/DR4/MMDM0/SI1311.PHN</td>\n",
              "      <td>TRAIN\\\\DR4\\\\MMDM0\\\\SI1311.PHN</td>\n",
              "      <td>False</td>\n",
              "      <td>False</td>\n",
              "      <td>False</td>\n",
              "      <td>True</td>\n",
              "      <td>False</td>\n",
              "    </tr>\n",
              "  </tbody>\n",
              "</table>\n",
              "</div>\n",
              "    <div class=\"colab-df-buttons\">\n",
              "\n",
              "  <div class=\"colab-df-container\">\n",
              "    <button class=\"colab-df-convert\" onclick=\"convertToInteractive('df-f73e8ea6-35f7-437c-8416-76752ee33ead')\"\n",
              "            title=\"Convert this dataframe to an interactive table.\"\n",
              "            style=\"display:none;\">\n",
              "\n",
              "  <svg xmlns=\"http://www.w3.org/2000/svg\" height=\"24px\" viewBox=\"0 -960 960 960\">\n",
              "    <path d=\"M120-120v-720h720v720H120Zm60-500h600v-160H180v160Zm220 220h160v-160H400v160Zm0 220h160v-160H400v160ZM180-400h160v-160H180v160Zm440 0h160v-160H620v160ZM180-180h160v-160H180v160Zm440 0h160v-160H620v160Z\"/>\n",
              "  </svg>\n",
              "    </button>\n",
              "\n",
              "  <style>\n",
              "    .colab-df-container {\n",
              "      display:flex;\n",
              "      gap: 12px;\n",
              "    }\n",
              "\n",
              "    .colab-df-convert {\n",
              "      background-color: #E8F0FE;\n",
              "      border: none;\n",
              "      border-radius: 50%;\n",
              "      cursor: pointer;\n",
              "      display: none;\n",
              "      fill: #1967D2;\n",
              "      height: 32px;\n",
              "      padding: 0 0 0 0;\n",
              "      width: 32px;\n",
              "    }\n",
              "\n",
              "    .colab-df-convert:hover {\n",
              "      background-color: #E2EBFA;\n",
              "      box-shadow: 0px 1px 2px rgba(60, 64, 67, 0.3), 0px 1px 3px 1px rgba(60, 64, 67, 0.15);\n",
              "      fill: #174EA6;\n",
              "    }\n",
              "\n",
              "    .colab-df-buttons div {\n",
              "      margin-bottom: 4px;\n",
              "    }\n",
              "\n",
              "    [theme=dark] .colab-df-convert {\n",
              "      background-color: #3B4455;\n",
              "      fill: #D2E3FC;\n",
              "    }\n",
              "\n",
              "    [theme=dark] .colab-df-convert:hover {\n",
              "      background-color: #434B5C;\n",
              "      box-shadow: 0px 1px 3px 1px rgba(0, 0, 0, 0.15);\n",
              "      filter: drop-shadow(0px 1px 2px rgba(0, 0, 0, 0.3));\n",
              "      fill: #FFFFFF;\n",
              "    }\n",
              "  </style>\n",
              "\n",
              "    <script>\n",
              "      const buttonEl =\n",
              "        document.querySelector('#df-f73e8ea6-35f7-437c-8416-76752ee33ead button.colab-df-convert');\n",
              "      buttonEl.style.display =\n",
              "        google.colab.kernel.accessAllowed ? 'block' : 'none';\n",
              "\n",
              "      async function convertToInteractive(key) {\n",
              "        const element = document.querySelector('#df-f73e8ea6-35f7-437c-8416-76752ee33ead');\n",
              "        const dataTable =\n",
              "          await google.colab.kernel.invokeFunction('convertToInteractive',\n",
              "                                                    [key], {});\n",
              "        if (!dataTable) return;\n",
              "\n",
              "        const docLinkHtml = 'Like what you see? Visit the ' +\n",
              "          '<a target=\"_blank\" href=https://colab.research.google.com/notebooks/data_table.ipynb>data table notebook</a>'\n",
              "          + ' to learn more about interactive tables.';\n",
              "        element.innerHTML = '';\n",
              "        dataTable['output_type'] = 'display_data';\n",
              "        await google.colab.output.renderOutput(dataTable, element);\n",
              "        const docLink = document.createElement('div');\n",
              "        docLink.innerHTML = docLinkHtml;\n",
              "        element.appendChild(docLink);\n",
              "      }\n",
              "    </script>\n",
              "  </div>\n",
              "\n",
              "\n",
              "<div id=\"df-82dcdcd7-5450-41ee-b42b-27f2b9b029e9\">\n",
              "  <button class=\"colab-df-quickchart\" onclick=\"quickchart('df-82dcdcd7-5450-41ee-b42b-27f2b9b029e9')\"\n",
              "            title=\"Suggest charts\"\n",
              "            style=\"display:none;\">\n",
              "\n",
              "<svg xmlns=\"http://www.w3.org/2000/svg\" height=\"24px\"viewBox=\"0 0 24 24\"\n",
              "     width=\"24px\">\n",
              "    <g>\n",
              "        <path d=\"M19 3H5c-1.1 0-2 .9-2 2v14c0 1.1.9 2 2 2h14c1.1 0 2-.9 2-2V5c0-1.1-.9-2-2-2zM9 17H7v-7h2v7zm4 0h-2V7h2v10zm4 0h-2v-4h2v4z\"/>\n",
              "    </g>\n",
              "</svg>\n",
              "  </button>\n",
              "\n",
              "<style>\n",
              "  .colab-df-quickchart {\n",
              "      --bg-color: #E8F0FE;\n",
              "      --fill-color: #1967D2;\n",
              "      --hover-bg-color: #E2EBFA;\n",
              "      --hover-fill-color: #174EA6;\n",
              "      --disabled-fill-color: #AAA;\n",
              "      --disabled-bg-color: #DDD;\n",
              "  }\n",
              "\n",
              "  [theme=dark] .colab-df-quickchart {\n",
              "      --bg-color: #3B4455;\n",
              "      --fill-color: #D2E3FC;\n",
              "      --hover-bg-color: #434B5C;\n",
              "      --hover-fill-color: #FFFFFF;\n",
              "      --disabled-bg-color: #3B4455;\n",
              "      --disabled-fill-color: #666;\n",
              "  }\n",
              "\n",
              "  .colab-df-quickchart {\n",
              "    background-color: var(--bg-color);\n",
              "    border: none;\n",
              "    border-radius: 50%;\n",
              "    cursor: pointer;\n",
              "    display: none;\n",
              "    fill: var(--fill-color);\n",
              "    height: 32px;\n",
              "    padding: 0;\n",
              "    width: 32px;\n",
              "  }\n",
              "\n",
              "  .colab-df-quickchart:hover {\n",
              "    background-color: var(--hover-bg-color);\n",
              "    box-shadow: 0 1px 2px rgba(60, 64, 67, 0.3), 0 1px 3px 1px rgba(60, 64, 67, 0.15);\n",
              "    fill: var(--button-hover-fill-color);\n",
              "  }\n",
              "\n",
              "  .colab-df-quickchart-complete:disabled,\n",
              "  .colab-df-quickchart-complete:disabled:hover {\n",
              "    background-color: var(--disabled-bg-color);\n",
              "    fill: var(--disabled-fill-color);\n",
              "    box-shadow: none;\n",
              "  }\n",
              "\n",
              "  .colab-df-spinner {\n",
              "    border: 2px solid var(--fill-color);\n",
              "    border-color: transparent;\n",
              "    border-bottom-color: var(--fill-color);\n",
              "    animation:\n",
              "      spin 1s steps(1) infinite;\n",
              "  }\n",
              "\n",
              "  @keyframes spin {\n",
              "    0% {\n",
              "      border-color: transparent;\n",
              "      border-bottom-color: var(--fill-color);\n",
              "      border-left-color: var(--fill-color);\n",
              "    }\n",
              "    20% {\n",
              "      border-color: transparent;\n",
              "      border-left-color: var(--fill-color);\n",
              "      border-top-color: var(--fill-color);\n",
              "    }\n",
              "    30% {\n",
              "      border-color: transparent;\n",
              "      border-left-color: var(--fill-color);\n",
              "      border-top-color: var(--fill-color);\n",
              "      border-right-color: var(--fill-color);\n",
              "    }\n",
              "    40% {\n",
              "      border-color: transparent;\n",
              "      border-right-color: var(--fill-color);\n",
              "      border-top-color: var(--fill-color);\n",
              "    }\n",
              "    60% {\n",
              "      border-color: transparent;\n",
              "      border-right-color: var(--fill-color);\n",
              "    }\n",
              "    80% {\n",
              "      border-color: transparent;\n",
              "      border-right-color: var(--fill-color);\n",
              "      border-bottom-color: var(--fill-color);\n",
              "    }\n",
              "    90% {\n",
              "      border-color: transparent;\n",
              "      border-bottom-color: var(--fill-color);\n",
              "    }\n",
              "  }\n",
              "</style>\n",
              "\n",
              "  <script>\n",
              "    async function quickchart(key) {\n",
              "      const quickchartButtonEl =\n",
              "        document.querySelector('#' + key + ' button');\n",
              "      quickchartButtonEl.disabled = true;  // To prevent multiple clicks.\n",
              "      quickchartButtonEl.classList.add('colab-df-spinner');\n",
              "      try {\n",
              "        const charts = await google.colab.kernel.invokeFunction(\n",
              "            'suggestCharts', [key], {});\n",
              "      } catch (error) {\n",
              "        console.error('Error during call to suggestCharts:', error);\n",
              "      }\n",
              "      quickchartButtonEl.classList.remove('colab-df-spinner');\n",
              "      quickchartButtonEl.classList.add('colab-df-quickchart-complete');\n",
              "    }\n",
              "    (() => {\n",
              "      let quickchartButtonEl =\n",
              "        document.querySelector('#df-82dcdcd7-5450-41ee-b42b-27f2b9b029e9 button');\n",
              "      quickchartButtonEl.style.display =\n",
              "        google.colab.kernel.accessAllowed ? 'block' : 'none';\n",
              "    })();\n",
              "  </script>\n",
              "</div>\n",
              "    </div>\n",
              "  </div>\n"
            ]
          },
          "metadata": {},
          "execution_count": 16
        }
      ],
      "source": [
        "train.head(2)"
      ]
    },
    {
      "cell_type": "code",
      "execution_count": null,
      "metadata": {
        "id": "Etho6Z4UH_y-",
        "colab": {
          "base_uri": "https://localhost:8080/",
          "height": 132
        },
        "outputId": "ce9ce051-aac3-40fb-a364-e70025973428"
      },
      "outputs": [
        {
          "output_type": "execute_result",
          "data": {
            "text/plain": [
              "   index test_or_train dialect_region speaker_id       filename  \\\n",
              "0    1.0          TEST            DR4      MGMM0      SX139.WAV   \n",
              "1    2.0          TEST            DR4      MGMM0  SX139.WAV.wav   \n",
              "\n",
              "             path_from_data_dir       path_from_data_dir_windows  \\\n",
              "0      TEST/DR4/MGMM0/SX139.WAV      TEST\\\\DR4\\\\MGMM0\\\\SX139.WAV   \n",
              "1  TEST/DR4/MGMM0/SX139.WAV.wav  TEST\\\\DR4\\\\MGMM0\\\\SX139.WAV.wav   \n",
              "\n",
              "  is_converted_audio is_audio is_word_file is_phonetic_file is_sentence_file  \n",
              "0              False     True        False            False            False  \n",
              "1               True     True        False            False            False  "
            ],
            "text/html": [
              "\n",
              "  <div id=\"df-6b748478-4396-410b-9976-0876f923784e\" class=\"colab-df-container\">\n",
              "    <div>\n",
              "<style scoped>\n",
              "    .dataframe tbody tr th:only-of-type {\n",
              "        vertical-align: middle;\n",
              "    }\n",
              "\n",
              "    .dataframe tbody tr th {\n",
              "        vertical-align: top;\n",
              "    }\n",
              "\n",
              "    .dataframe thead th {\n",
              "        text-align: right;\n",
              "    }\n",
              "</style>\n",
              "<table border=\"1\" class=\"dataframe\">\n",
              "  <thead>\n",
              "    <tr style=\"text-align: right;\">\n",
              "      <th></th>\n",
              "      <th>index</th>\n",
              "      <th>test_or_train</th>\n",
              "      <th>dialect_region</th>\n",
              "      <th>speaker_id</th>\n",
              "      <th>filename</th>\n",
              "      <th>path_from_data_dir</th>\n",
              "      <th>path_from_data_dir_windows</th>\n",
              "      <th>is_converted_audio</th>\n",
              "      <th>is_audio</th>\n",
              "      <th>is_word_file</th>\n",
              "      <th>is_phonetic_file</th>\n",
              "      <th>is_sentence_file</th>\n",
              "    </tr>\n",
              "  </thead>\n",
              "  <tbody>\n",
              "    <tr>\n",
              "      <th>0</th>\n",
              "      <td>1.0</td>\n",
              "      <td>TEST</td>\n",
              "      <td>DR4</td>\n",
              "      <td>MGMM0</td>\n",
              "      <td>SX139.WAV</td>\n",
              "      <td>TEST/DR4/MGMM0/SX139.WAV</td>\n",
              "      <td>TEST\\\\DR4\\\\MGMM0\\\\SX139.WAV</td>\n",
              "      <td>False</td>\n",
              "      <td>True</td>\n",
              "      <td>False</td>\n",
              "      <td>False</td>\n",
              "      <td>False</td>\n",
              "    </tr>\n",
              "    <tr>\n",
              "      <th>1</th>\n",
              "      <td>2.0</td>\n",
              "      <td>TEST</td>\n",
              "      <td>DR4</td>\n",
              "      <td>MGMM0</td>\n",
              "      <td>SX139.WAV.wav</td>\n",
              "      <td>TEST/DR4/MGMM0/SX139.WAV.wav</td>\n",
              "      <td>TEST\\\\DR4\\\\MGMM0\\\\SX139.WAV.wav</td>\n",
              "      <td>True</td>\n",
              "      <td>True</td>\n",
              "      <td>False</td>\n",
              "      <td>False</td>\n",
              "      <td>False</td>\n",
              "    </tr>\n",
              "  </tbody>\n",
              "</table>\n",
              "</div>\n",
              "    <div class=\"colab-df-buttons\">\n",
              "\n",
              "  <div class=\"colab-df-container\">\n",
              "    <button class=\"colab-df-convert\" onclick=\"convertToInteractive('df-6b748478-4396-410b-9976-0876f923784e')\"\n",
              "            title=\"Convert this dataframe to an interactive table.\"\n",
              "            style=\"display:none;\">\n",
              "\n",
              "  <svg xmlns=\"http://www.w3.org/2000/svg\" height=\"24px\" viewBox=\"0 -960 960 960\">\n",
              "    <path d=\"M120-120v-720h720v720H120Zm60-500h600v-160H180v160Zm220 220h160v-160H400v160Zm0 220h160v-160H400v160ZM180-400h160v-160H180v160Zm440 0h160v-160H620v160ZM180-180h160v-160H180v160Zm440 0h160v-160H620v160Z\"/>\n",
              "  </svg>\n",
              "    </button>\n",
              "\n",
              "  <style>\n",
              "    .colab-df-container {\n",
              "      display:flex;\n",
              "      gap: 12px;\n",
              "    }\n",
              "\n",
              "    .colab-df-convert {\n",
              "      background-color: #E8F0FE;\n",
              "      border: none;\n",
              "      border-radius: 50%;\n",
              "      cursor: pointer;\n",
              "      display: none;\n",
              "      fill: #1967D2;\n",
              "      height: 32px;\n",
              "      padding: 0 0 0 0;\n",
              "      width: 32px;\n",
              "    }\n",
              "\n",
              "    .colab-df-convert:hover {\n",
              "      background-color: #E2EBFA;\n",
              "      box-shadow: 0px 1px 2px rgba(60, 64, 67, 0.3), 0px 1px 3px 1px rgba(60, 64, 67, 0.15);\n",
              "      fill: #174EA6;\n",
              "    }\n",
              "\n",
              "    .colab-df-buttons div {\n",
              "      margin-bottom: 4px;\n",
              "    }\n",
              "\n",
              "    [theme=dark] .colab-df-convert {\n",
              "      background-color: #3B4455;\n",
              "      fill: #D2E3FC;\n",
              "    }\n",
              "\n",
              "    [theme=dark] .colab-df-convert:hover {\n",
              "      background-color: #434B5C;\n",
              "      box-shadow: 0px 1px 3px 1px rgba(0, 0, 0, 0.15);\n",
              "      filter: drop-shadow(0px 1px 2px rgba(0, 0, 0, 0.3));\n",
              "      fill: #FFFFFF;\n",
              "    }\n",
              "  </style>\n",
              "\n",
              "    <script>\n",
              "      const buttonEl =\n",
              "        document.querySelector('#df-6b748478-4396-410b-9976-0876f923784e button.colab-df-convert');\n",
              "      buttonEl.style.display =\n",
              "        google.colab.kernel.accessAllowed ? 'block' : 'none';\n",
              "\n",
              "      async function convertToInteractive(key) {\n",
              "        const element = document.querySelector('#df-6b748478-4396-410b-9976-0876f923784e');\n",
              "        const dataTable =\n",
              "          await google.colab.kernel.invokeFunction('convertToInteractive',\n",
              "                                                    [key], {});\n",
              "        if (!dataTable) return;\n",
              "\n",
              "        const docLinkHtml = 'Like what you see? Visit the ' +\n",
              "          '<a target=\"_blank\" href=https://colab.research.google.com/notebooks/data_table.ipynb>data table notebook</a>'\n",
              "          + ' to learn more about interactive tables.';\n",
              "        element.innerHTML = '';\n",
              "        dataTable['output_type'] = 'display_data';\n",
              "        await google.colab.output.renderOutput(dataTable, element);\n",
              "        const docLink = document.createElement('div');\n",
              "        docLink.innerHTML = docLinkHtml;\n",
              "        element.appendChild(docLink);\n",
              "      }\n",
              "    </script>\n",
              "  </div>\n",
              "\n",
              "\n",
              "<div id=\"df-2070f50b-3a19-430f-8f25-d6875559bb26\">\n",
              "  <button class=\"colab-df-quickchart\" onclick=\"quickchart('df-2070f50b-3a19-430f-8f25-d6875559bb26')\"\n",
              "            title=\"Suggest charts\"\n",
              "            style=\"display:none;\">\n",
              "\n",
              "<svg xmlns=\"http://www.w3.org/2000/svg\" height=\"24px\"viewBox=\"0 0 24 24\"\n",
              "     width=\"24px\">\n",
              "    <g>\n",
              "        <path d=\"M19 3H5c-1.1 0-2 .9-2 2v14c0 1.1.9 2 2 2h14c1.1 0 2-.9 2-2V5c0-1.1-.9-2-2-2zM9 17H7v-7h2v7zm4 0h-2V7h2v10zm4 0h-2v-4h2v4z\"/>\n",
              "    </g>\n",
              "</svg>\n",
              "  </button>\n",
              "\n",
              "<style>\n",
              "  .colab-df-quickchart {\n",
              "      --bg-color: #E8F0FE;\n",
              "      --fill-color: #1967D2;\n",
              "      --hover-bg-color: #E2EBFA;\n",
              "      --hover-fill-color: #174EA6;\n",
              "      --disabled-fill-color: #AAA;\n",
              "      --disabled-bg-color: #DDD;\n",
              "  }\n",
              "\n",
              "  [theme=dark] .colab-df-quickchart {\n",
              "      --bg-color: #3B4455;\n",
              "      --fill-color: #D2E3FC;\n",
              "      --hover-bg-color: #434B5C;\n",
              "      --hover-fill-color: #FFFFFF;\n",
              "      --disabled-bg-color: #3B4455;\n",
              "      --disabled-fill-color: #666;\n",
              "  }\n",
              "\n",
              "  .colab-df-quickchart {\n",
              "    background-color: var(--bg-color);\n",
              "    border: none;\n",
              "    border-radius: 50%;\n",
              "    cursor: pointer;\n",
              "    display: none;\n",
              "    fill: var(--fill-color);\n",
              "    height: 32px;\n",
              "    padding: 0;\n",
              "    width: 32px;\n",
              "  }\n",
              "\n",
              "  .colab-df-quickchart:hover {\n",
              "    background-color: var(--hover-bg-color);\n",
              "    box-shadow: 0 1px 2px rgba(60, 64, 67, 0.3), 0 1px 3px 1px rgba(60, 64, 67, 0.15);\n",
              "    fill: var(--button-hover-fill-color);\n",
              "  }\n",
              "\n",
              "  .colab-df-quickchart-complete:disabled,\n",
              "  .colab-df-quickchart-complete:disabled:hover {\n",
              "    background-color: var(--disabled-bg-color);\n",
              "    fill: var(--disabled-fill-color);\n",
              "    box-shadow: none;\n",
              "  }\n",
              "\n",
              "  .colab-df-spinner {\n",
              "    border: 2px solid var(--fill-color);\n",
              "    border-color: transparent;\n",
              "    border-bottom-color: var(--fill-color);\n",
              "    animation:\n",
              "      spin 1s steps(1) infinite;\n",
              "  }\n",
              "\n",
              "  @keyframes spin {\n",
              "    0% {\n",
              "      border-color: transparent;\n",
              "      border-bottom-color: var(--fill-color);\n",
              "      border-left-color: var(--fill-color);\n",
              "    }\n",
              "    20% {\n",
              "      border-color: transparent;\n",
              "      border-left-color: var(--fill-color);\n",
              "      border-top-color: var(--fill-color);\n",
              "    }\n",
              "    30% {\n",
              "      border-color: transparent;\n",
              "      border-left-color: var(--fill-color);\n",
              "      border-top-color: var(--fill-color);\n",
              "      border-right-color: var(--fill-color);\n",
              "    }\n",
              "    40% {\n",
              "      border-color: transparent;\n",
              "      border-right-color: var(--fill-color);\n",
              "      border-top-color: var(--fill-color);\n",
              "    }\n",
              "    60% {\n",
              "      border-color: transparent;\n",
              "      border-right-color: var(--fill-color);\n",
              "    }\n",
              "    80% {\n",
              "      border-color: transparent;\n",
              "      border-right-color: var(--fill-color);\n",
              "      border-bottom-color: var(--fill-color);\n",
              "    }\n",
              "    90% {\n",
              "      border-color: transparent;\n",
              "      border-bottom-color: var(--fill-color);\n",
              "    }\n",
              "  }\n",
              "</style>\n",
              "\n",
              "  <script>\n",
              "    async function quickchart(key) {\n",
              "      const quickchartButtonEl =\n",
              "        document.querySelector('#' + key + ' button');\n",
              "      quickchartButtonEl.disabled = true;  // To prevent multiple clicks.\n",
              "      quickchartButtonEl.classList.add('colab-df-spinner');\n",
              "      try {\n",
              "        const charts = await google.colab.kernel.invokeFunction(\n",
              "            'suggestCharts', [key], {});\n",
              "      } catch (error) {\n",
              "        console.error('Error during call to suggestCharts:', error);\n",
              "      }\n",
              "      quickchartButtonEl.classList.remove('colab-df-spinner');\n",
              "      quickchartButtonEl.classList.add('colab-df-quickchart-complete');\n",
              "    }\n",
              "    (() => {\n",
              "      let quickchartButtonEl =\n",
              "        document.querySelector('#df-2070f50b-3a19-430f-8f25-d6875559bb26 button');\n",
              "      quickchartButtonEl.style.display =\n",
              "        google.colab.kernel.accessAllowed ? 'block' : 'none';\n",
              "    })();\n",
              "  </script>\n",
              "</div>\n",
              "    </div>\n",
              "  </div>\n"
            ]
          },
          "metadata": {},
          "execution_count": 17
        }
      ],
      "source": [
        "test.head(2)"
      ]
    },
    {
      "cell_type": "code",
      "execution_count": null,
      "metadata": {
        "id": "9BRpDOStICAi",
        "colab": {
          "base_uri": "https://localhost:8080/"
        },
        "outputId": "83a506f8-cf5e-49f8-9cfa-7eacb8ead5ba"
      },
      "outputs": [
        {
          "output_type": "execute_result",
          "data": {
            "text/plain": [
              "((31678, 12), (31678, 12))"
            ]
          },
          "metadata": {},
          "execution_count": 18
        }
      ],
      "source": [
        "train.shape, test.shape"
      ]
    },
    {
      "cell_type": "code",
      "execution_count": null,
      "metadata": {
        "id": "_rsELebuIHWD",
        "colab": {
          "base_uri": "https://localhost:8080/"
        },
        "outputId": "7912fc76-a12c-485b-cd32-f6ad2b129b10"
      },
      "outputs": [
        {
          "output_type": "execute_result",
          "data": {
            "text/plain": [
              "((8400, 12), (8400, 12))"
            ]
          },
          "metadata": {},
          "execution_count": 19
        }
      ],
      "source": [
        "train = train.dropna()\n",
        "test = test.dropna()\n",
        "train.shape, test.shape"
      ]
    },
    {
      "cell_type": "code",
      "execution_count": null,
      "metadata": {
        "id": "4wDOCnp9IKho"
      },
      "outputs": [],
      "source": [
        "# correct the path before concat\n",
        "train.path_from_data_dir = [f\"data/{i}\" for i in train.path_from_data_dir]\n",
        "test.path_from_data_dir = [f\"data/{i}\" for i in test.path_from_data_dir]"
      ]
    },
    {
      "cell_type": "code",
      "execution_count": null,
      "metadata": {
        "id": "lHH8zJFRIS-I",
        "colab": {
          "base_uri": "https://localhost:8080/",
          "height": 132
        },
        "outputId": "ec13603c-39ea-4f60-cad7-f9c98756cdea"
      },
      "outputs": [
        {
          "output_type": "execute_result",
          "data": {
            "text/plain": [
              "   index test_or_train dialect_region speaker_id       filename  \\\n",
              "0    1.0         TRAIN            DR4      MMDM0  SI681.WAV.wav   \n",
              "1    2.0         TRAIN            DR4      MMDM0     SI1311.PHN   \n",
              "\n",
              "                   path_from_data_dir        path_from_data_dir_windows  \\\n",
              "0  data/TRAIN/DR4/MMDM0/SI681.WAV.wav  TRAIN\\\\DR4\\\\MMDM0\\\\SI681.WAV.wav   \n",
              "1     data/TRAIN/DR4/MMDM0/SI1311.PHN     TRAIN\\\\DR4\\\\MMDM0\\\\SI1311.PHN   \n",
              "\n",
              "  is_converted_audio is_audio is_word_file is_phonetic_file is_sentence_file  \n",
              "0               True     True        False            False            False  \n",
              "1              False    False        False             True            False  "
            ],
            "text/html": [
              "\n",
              "  <div id=\"df-c6483c3f-4f4a-4759-b93f-37f8776d46d6\" class=\"colab-df-container\">\n",
              "    <div>\n",
              "<style scoped>\n",
              "    .dataframe tbody tr th:only-of-type {\n",
              "        vertical-align: middle;\n",
              "    }\n",
              "\n",
              "    .dataframe tbody tr th {\n",
              "        vertical-align: top;\n",
              "    }\n",
              "\n",
              "    .dataframe thead th {\n",
              "        text-align: right;\n",
              "    }\n",
              "</style>\n",
              "<table border=\"1\" class=\"dataframe\">\n",
              "  <thead>\n",
              "    <tr style=\"text-align: right;\">\n",
              "      <th></th>\n",
              "      <th>index</th>\n",
              "      <th>test_or_train</th>\n",
              "      <th>dialect_region</th>\n",
              "      <th>speaker_id</th>\n",
              "      <th>filename</th>\n",
              "      <th>path_from_data_dir</th>\n",
              "      <th>path_from_data_dir_windows</th>\n",
              "      <th>is_converted_audio</th>\n",
              "      <th>is_audio</th>\n",
              "      <th>is_word_file</th>\n",
              "      <th>is_phonetic_file</th>\n",
              "      <th>is_sentence_file</th>\n",
              "    </tr>\n",
              "  </thead>\n",
              "  <tbody>\n",
              "    <tr>\n",
              "      <th>0</th>\n",
              "      <td>1.0</td>\n",
              "      <td>TRAIN</td>\n",
              "      <td>DR4</td>\n",
              "      <td>MMDM0</td>\n",
              "      <td>SI681.WAV.wav</td>\n",
              "      <td>data/TRAIN/DR4/MMDM0/SI681.WAV.wav</td>\n",
              "      <td>TRAIN\\\\DR4\\\\MMDM0\\\\SI681.WAV.wav</td>\n",
              "      <td>True</td>\n",
              "      <td>True</td>\n",
              "      <td>False</td>\n",
              "      <td>False</td>\n",
              "      <td>False</td>\n",
              "    </tr>\n",
              "    <tr>\n",
              "      <th>1</th>\n",
              "      <td>2.0</td>\n",
              "      <td>TRAIN</td>\n",
              "      <td>DR4</td>\n",
              "      <td>MMDM0</td>\n",
              "      <td>SI1311.PHN</td>\n",
              "      <td>data/TRAIN/DR4/MMDM0/SI1311.PHN</td>\n",
              "      <td>TRAIN\\\\DR4\\\\MMDM0\\\\SI1311.PHN</td>\n",
              "      <td>False</td>\n",
              "      <td>False</td>\n",
              "      <td>False</td>\n",
              "      <td>True</td>\n",
              "      <td>False</td>\n",
              "    </tr>\n",
              "  </tbody>\n",
              "</table>\n",
              "</div>\n",
              "    <div class=\"colab-df-buttons\">\n",
              "\n",
              "  <div class=\"colab-df-container\">\n",
              "    <button class=\"colab-df-convert\" onclick=\"convertToInteractive('df-c6483c3f-4f4a-4759-b93f-37f8776d46d6')\"\n",
              "            title=\"Convert this dataframe to an interactive table.\"\n",
              "            style=\"display:none;\">\n",
              "\n",
              "  <svg xmlns=\"http://www.w3.org/2000/svg\" height=\"24px\" viewBox=\"0 -960 960 960\">\n",
              "    <path d=\"M120-120v-720h720v720H120Zm60-500h600v-160H180v160Zm220 220h160v-160H400v160Zm0 220h160v-160H400v160ZM180-400h160v-160H180v160Zm440 0h160v-160H620v160ZM180-180h160v-160H180v160Zm440 0h160v-160H620v160Z\"/>\n",
              "  </svg>\n",
              "    </button>\n",
              "\n",
              "  <style>\n",
              "    .colab-df-container {\n",
              "      display:flex;\n",
              "      gap: 12px;\n",
              "    }\n",
              "\n",
              "    .colab-df-convert {\n",
              "      background-color: #E8F0FE;\n",
              "      border: none;\n",
              "      border-radius: 50%;\n",
              "      cursor: pointer;\n",
              "      display: none;\n",
              "      fill: #1967D2;\n",
              "      height: 32px;\n",
              "      padding: 0 0 0 0;\n",
              "      width: 32px;\n",
              "    }\n",
              "\n",
              "    .colab-df-convert:hover {\n",
              "      background-color: #E2EBFA;\n",
              "      box-shadow: 0px 1px 2px rgba(60, 64, 67, 0.3), 0px 1px 3px 1px rgba(60, 64, 67, 0.15);\n",
              "      fill: #174EA6;\n",
              "    }\n",
              "\n",
              "    .colab-df-buttons div {\n",
              "      margin-bottom: 4px;\n",
              "    }\n",
              "\n",
              "    [theme=dark] .colab-df-convert {\n",
              "      background-color: #3B4455;\n",
              "      fill: #D2E3FC;\n",
              "    }\n",
              "\n",
              "    [theme=dark] .colab-df-convert:hover {\n",
              "      background-color: #434B5C;\n",
              "      box-shadow: 0px 1px 3px 1px rgba(0, 0, 0, 0.15);\n",
              "      filter: drop-shadow(0px 1px 2px rgba(0, 0, 0, 0.3));\n",
              "      fill: #FFFFFF;\n",
              "    }\n",
              "  </style>\n",
              "\n",
              "    <script>\n",
              "      const buttonEl =\n",
              "        document.querySelector('#df-c6483c3f-4f4a-4759-b93f-37f8776d46d6 button.colab-df-convert');\n",
              "      buttonEl.style.display =\n",
              "        google.colab.kernel.accessAllowed ? 'block' : 'none';\n",
              "\n",
              "      async function convertToInteractive(key) {\n",
              "        const element = document.querySelector('#df-c6483c3f-4f4a-4759-b93f-37f8776d46d6');\n",
              "        const dataTable =\n",
              "          await google.colab.kernel.invokeFunction('convertToInteractive',\n",
              "                                                    [key], {});\n",
              "        if (!dataTable) return;\n",
              "\n",
              "        const docLinkHtml = 'Like what you see? Visit the ' +\n",
              "          '<a target=\"_blank\" href=https://colab.research.google.com/notebooks/data_table.ipynb>data table notebook</a>'\n",
              "          + ' to learn more about interactive tables.';\n",
              "        element.innerHTML = '';\n",
              "        dataTable['output_type'] = 'display_data';\n",
              "        await google.colab.output.renderOutput(dataTable, element);\n",
              "        const docLink = document.createElement('div');\n",
              "        docLink.innerHTML = docLinkHtml;\n",
              "        element.appendChild(docLink);\n",
              "      }\n",
              "    </script>\n",
              "  </div>\n",
              "\n",
              "\n",
              "<div id=\"df-de6e0345-0ab1-4ab9-b2f2-ddbbf014c424\">\n",
              "  <button class=\"colab-df-quickchart\" onclick=\"quickchart('df-de6e0345-0ab1-4ab9-b2f2-ddbbf014c424')\"\n",
              "            title=\"Suggest charts\"\n",
              "            style=\"display:none;\">\n",
              "\n",
              "<svg xmlns=\"http://www.w3.org/2000/svg\" height=\"24px\"viewBox=\"0 0 24 24\"\n",
              "     width=\"24px\">\n",
              "    <g>\n",
              "        <path d=\"M19 3H5c-1.1 0-2 .9-2 2v14c0 1.1.9 2 2 2h14c1.1 0 2-.9 2-2V5c0-1.1-.9-2-2-2zM9 17H7v-7h2v7zm4 0h-2V7h2v10zm4 0h-2v-4h2v4z\"/>\n",
              "    </g>\n",
              "</svg>\n",
              "  </button>\n",
              "\n",
              "<style>\n",
              "  .colab-df-quickchart {\n",
              "      --bg-color: #E8F0FE;\n",
              "      --fill-color: #1967D2;\n",
              "      --hover-bg-color: #E2EBFA;\n",
              "      --hover-fill-color: #174EA6;\n",
              "      --disabled-fill-color: #AAA;\n",
              "      --disabled-bg-color: #DDD;\n",
              "  }\n",
              "\n",
              "  [theme=dark] .colab-df-quickchart {\n",
              "      --bg-color: #3B4455;\n",
              "      --fill-color: #D2E3FC;\n",
              "      --hover-bg-color: #434B5C;\n",
              "      --hover-fill-color: #FFFFFF;\n",
              "      --disabled-bg-color: #3B4455;\n",
              "      --disabled-fill-color: #666;\n",
              "  }\n",
              "\n",
              "  .colab-df-quickchart {\n",
              "    background-color: var(--bg-color);\n",
              "    border: none;\n",
              "    border-radius: 50%;\n",
              "    cursor: pointer;\n",
              "    display: none;\n",
              "    fill: var(--fill-color);\n",
              "    height: 32px;\n",
              "    padding: 0;\n",
              "    width: 32px;\n",
              "  }\n",
              "\n",
              "  .colab-df-quickchart:hover {\n",
              "    background-color: var(--hover-bg-color);\n",
              "    box-shadow: 0 1px 2px rgba(60, 64, 67, 0.3), 0 1px 3px 1px rgba(60, 64, 67, 0.15);\n",
              "    fill: var(--button-hover-fill-color);\n",
              "  }\n",
              "\n",
              "  .colab-df-quickchart-complete:disabled,\n",
              "  .colab-df-quickchart-complete:disabled:hover {\n",
              "    background-color: var(--disabled-bg-color);\n",
              "    fill: var(--disabled-fill-color);\n",
              "    box-shadow: none;\n",
              "  }\n",
              "\n",
              "  .colab-df-spinner {\n",
              "    border: 2px solid var(--fill-color);\n",
              "    border-color: transparent;\n",
              "    border-bottom-color: var(--fill-color);\n",
              "    animation:\n",
              "      spin 1s steps(1) infinite;\n",
              "  }\n",
              "\n",
              "  @keyframes spin {\n",
              "    0% {\n",
              "      border-color: transparent;\n",
              "      border-bottom-color: var(--fill-color);\n",
              "      border-left-color: var(--fill-color);\n",
              "    }\n",
              "    20% {\n",
              "      border-color: transparent;\n",
              "      border-left-color: var(--fill-color);\n",
              "      border-top-color: var(--fill-color);\n",
              "    }\n",
              "    30% {\n",
              "      border-color: transparent;\n",
              "      border-left-color: var(--fill-color);\n",
              "      border-top-color: var(--fill-color);\n",
              "      border-right-color: var(--fill-color);\n",
              "    }\n",
              "    40% {\n",
              "      border-color: transparent;\n",
              "      border-right-color: var(--fill-color);\n",
              "      border-top-color: var(--fill-color);\n",
              "    }\n",
              "    60% {\n",
              "      border-color: transparent;\n",
              "      border-right-color: var(--fill-color);\n",
              "    }\n",
              "    80% {\n",
              "      border-color: transparent;\n",
              "      border-right-color: var(--fill-color);\n",
              "      border-bottom-color: var(--fill-color);\n",
              "    }\n",
              "    90% {\n",
              "      border-color: transparent;\n",
              "      border-bottom-color: var(--fill-color);\n",
              "    }\n",
              "  }\n",
              "</style>\n",
              "\n",
              "  <script>\n",
              "    async function quickchart(key) {\n",
              "      const quickchartButtonEl =\n",
              "        document.querySelector('#' + key + ' button');\n",
              "      quickchartButtonEl.disabled = true;  // To prevent multiple clicks.\n",
              "      quickchartButtonEl.classList.add('colab-df-spinner');\n",
              "      try {\n",
              "        const charts = await google.colab.kernel.invokeFunction(\n",
              "            'suggestCharts', [key], {});\n",
              "      } catch (error) {\n",
              "        console.error('Error during call to suggestCharts:', error);\n",
              "      }\n",
              "      quickchartButtonEl.classList.remove('colab-df-spinner');\n",
              "      quickchartButtonEl.classList.add('colab-df-quickchart-complete');\n",
              "    }\n",
              "    (() => {\n",
              "      let quickchartButtonEl =\n",
              "        document.querySelector('#df-de6e0345-0ab1-4ab9-b2f2-ddbbf014c424 button');\n",
              "      quickchartButtonEl.style.display =\n",
              "        google.colab.kernel.accessAllowed ? 'block' : 'none';\n",
              "    })();\n",
              "  </script>\n",
              "</div>\n",
              "    </div>\n",
              "  </div>\n"
            ]
          },
          "metadata": {},
          "execution_count": 21
        }
      ],
      "source": [
        "df = pd.concat([train, test], axis=0)\n",
        "df.head(2)"
      ]
    },
    {
      "cell_type": "code",
      "execution_count": null,
      "metadata": {
        "id": "De6uknvKINd4"
      },
      "outputs": [],
      "source": [
        "df = df.reset_index(drop=True)"
      ]
    },
    {
      "cell_type": "code",
      "execution_count": null,
      "metadata": {
        "id": "2VFvuhudIWsK"
      },
      "outputs": [],
      "source": [
        "# create speaker dic\n",
        "speaker_id_dic = {}\n",
        "for i in df.speaker_id.unique():\n",
        "  speaker_id_dic[i] = []"
      ]
    },
    {
      "cell_type": "code",
      "execution_count": null,
      "metadata": {
        "id": "3yUY5U1BIZUP"
      },
      "outputs": [],
      "source": [
        "for i in range(df.shape[0]):\n",
        "  for key, value in speaker_id_dic.items():\n",
        "    if df.speaker_id[i] == key:\n",
        "      if df.path_from_data_dir[i].endswith('.wav'):\n",
        "        value.append(df.path_from_data_dir[i])"
      ]
    },
    {
      "cell_type": "code",
      "execution_count": null,
      "metadata": {
        "id": "ABhkS7OgIbym",
        "colab": {
          "base_uri": "https://localhost:8080/"
        },
        "outputId": "20950097-d4cc-4ccb-d1a5-01f330a55c15"
      },
      "outputs": [
        {
          "output_type": "stream",
          "name": "stdout",
          "text": [
            "MoviePy - Writing audio in /content/drive/MyDrive/long_version_audio/MMDM0.wav\n"
          ]
        },
        {
          "output_type": "stream",
          "name": "stderr",
          "text": []
        },
        {
          "output_type": "stream",
          "name": "stdout",
          "text": [
            "MoviePy - Done.\n",
            "MoviePy - Writing audio in /content/drive/MyDrive/long_version_audio/MCSS0.wav\n"
          ]
        },
        {
          "output_type": "stream",
          "name": "stderr",
          "text": []
        },
        {
          "output_type": "stream",
          "name": "stdout",
          "text": [
            "MoviePy - Done.\n",
            "MoviePy - Writing audio in /content/drive/MyDrive/long_version_audio/MCDR0.wav\n"
          ]
        },
        {
          "output_type": "stream",
          "name": "stderr",
          "text": []
        },
        {
          "output_type": "stream",
          "name": "stdout",
          "text": [
            "MoviePy - Done.\n",
            "MoviePy - Writing audio in /content/drive/MyDrive/long_version_audio/MLEL0.wav\n"
          ]
        },
        {
          "output_type": "stream",
          "name": "stderr",
          "text": []
        },
        {
          "output_type": "stream",
          "name": "stdout",
          "text": [
            "MoviePy - Done.\n",
            "MoviePy - Writing audio in /content/drive/MyDrive/long_version_audio/FEEH0.wav\n"
          ]
        },
        {
          "output_type": "stream",
          "name": "stderr",
          "text": []
        },
        {
          "output_type": "stream",
          "name": "stdout",
          "text": [
            "MoviePy - Done.\n",
            "MoviePy - Writing audio in /content/drive/MyDrive/long_version_audio/MFWK0.wav\n"
          ]
        },
        {
          "output_type": "stream",
          "name": "stderr",
          "text": []
        },
        {
          "output_type": "stream",
          "name": "stdout",
          "text": [
            "MoviePy - Done.\n",
            "MoviePy - Writing audio in /content/drive/MyDrive/long_version_audio/MKAM0.wav\n"
          ]
        },
        {
          "output_type": "stream",
          "name": "stderr",
          "text": []
        },
        {
          "output_type": "stream",
          "name": "stdout",
          "text": [
            "MoviePy - Done.\n",
            "MoviePy - Writing audio in /content/drive/MyDrive/long_version_audio/MSMS0.wav\n"
          ]
        },
        {
          "output_type": "stream",
          "name": "stderr",
          "text": []
        },
        {
          "output_type": "stream",
          "name": "stdout",
          "text": [
            "MoviePy - Done.\n",
            "MoviePy - Writing audio in /content/drive/MyDrive/long_version_audio/MGJC0.wav\n"
          ]
        },
        {
          "output_type": "stream",
          "name": "stderr",
          "text": []
        },
        {
          "output_type": "stream",
          "name": "stdout",
          "text": [
            "MoviePy - Done.\n",
            "MoviePy - Writing audio in /content/drive/MyDrive/long_version_audio/FLKM0.wav\n"
          ]
        },
        {
          "output_type": "stream",
          "name": "stderr",
          "text": []
        },
        {
          "output_type": "stream",
          "name": "stdout",
          "text": [
            "MoviePy - Done.\n",
            "MoviePy - Writing audio in /content/drive/MyDrive/long_version_audio/MMGC0.wav\n"
          ]
        },
        {
          "output_type": "stream",
          "name": "stderr",
          "text": []
        },
        {
          "output_type": "stream",
          "name": "stdout",
          "text": [
            "MoviePy - Done.\n",
            "MoviePy - Writing audio in /content/drive/MyDrive/long_version_audio/MJXL0.wav\n"
          ]
        },
        {
          "output_type": "stream",
          "name": "stderr",
          "text": []
        },
        {
          "output_type": "stream",
          "name": "stdout",
          "text": [
            "MoviePy - Done.\n",
            "MoviePy - Writing audio in /content/drive/MyDrive/long_version_audio/MMBS0.wav\n"
          ]
        },
        {
          "output_type": "stream",
          "name": "stderr",
          "text": []
        },
        {
          "output_type": "stream",
          "name": "stdout",
          "text": [
            "MoviePy - Done.\n",
            "MoviePy - Writing audio in /content/drive/MyDrive/long_version_audio/MTQC0.wav\n"
          ]
        },
        {
          "output_type": "stream",
          "name": "stderr",
          "text": []
        },
        {
          "output_type": "stream",
          "name": "stdout",
          "text": [
            "MoviePy - Done.\n",
            "MoviePy - Writing audio in /content/drive/MyDrive/long_version_audio/MBWP0.wav\n"
          ]
        },
        {
          "output_type": "stream",
          "name": "stderr",
          "text": []
        },
        {
          "output_type": "stream",
          "name": "stdout",
          "text": [
            "MoviePy - Done.\n",
            "MoviePy - Writing audio in /content/drive/MyDrive/long_version_audio/MFRM0.wav\n"
          ]
        },
        {
          "output_type": "stream",
          "name": "stderr",
          "text": []
        },
        {
          "output_type": "stream",
          "name": "stdout",
          "text": [
            "MoviePy - Done.\n",
            "MoviePy - Writing audio in /content/drive/MyDrive/long_version_audio/MJRH0.wav\n"
          ]
        },
        {
          "output_type": "stream",
          "name": "stderr",
          "text": []
        },
        {
          "output_type": "stream",
          "name": "stdout",
          "text": [
            "MoviePy - Done.\n",
            "MoviePy - Writing audio in /content/drive/MyDrive/long_version_audio/MLSH0.wav\n"
          ]
        },
        {
          "output_type": "stream",
          "name": "stderr",
          "text": []
        },
        {
          "output_type": "stream",
          "name": "stdout",
          "text": [
            "MoviePy - Done.\n",
            "MoviePy - Writing audio in /content/drive/MyDrive/long_version_audio/MTAS0.wav\n"
          ]
        },
        {
          "output_type": "stream",
          "name": "stderr",
          "text": []
        },
        {
          "output_type": "stream",
          "name": "stdout",
          "text": [
            "MoviePy - Done.\n",
            "MoviePy - Writing audio in /content/drive/MyDrive/long_version_audio/MLJC0.wav\n"
          ]
        },
        {
          "output_type": "stream",
          "name": "stderr",
          "text": []
        },
        {
          "output_type": "stream",
          "name": "stdout",
          "text": [
            "MoviePy - Done.\n",
            "MoviePy - Writing audio in /content/drive/MyDrive/long_version_audio/MJSR0.wav\n"
          ]
        },
        {
          "output_type": "stream",
          "name": "stderr",
          "text": []
        },
        {
          "output_type": "stream",
          "name": "stdout",
          "text": [
            "MoviePy - Done.\n",
            "MoviePy - Writing audio in /content/drive/MyDrive/long_version_audio/MJAC0.wav\n"
          ]
        },
        {
          "output_type": "stream",
          "name": "stderr",
          "text": []
        },
        {
          "output_type": "stream",
          "name": "stdout",
          "text": [
            "MoviePy - Done.\n",
            "MoviePy - Writing audio in /content/drive/MyDrive/long_version_audio/FCAG0.wav\n"
          ]
        },
        {
          "output_type": "stream",
          "name": "stderr",
          "text": []
        },
        {
          "output_type": "stream",
          "name": "stdout",
          "text": [
            "MoviePy - Done.\n",
            "MoviePy - Writing audio in /content/drive/MyDrive/long_version_audio/FJWB1.wav\n"
          ]
        },
        {
          "output_type": "stream",
          "name": "stderr",
          "text": []
        },
        {
          "output_type": "stream",
          "name": "stdout",
          "text": [
            "MoviePy - Done.\n",
            "MoviePy - Writing audio in /content/drive/MyDrive/long_version_audio/FSAK0.wav\n"
          ]
        },
        {
          "output_type": "stream",
          "name": "stderr",
          "text": []
        },
        {
          "output_type": "stream",
          "name": "stdout",
          "text": [
            "MoviePy - Done.\n",
            "MoviePy - Writing audio in /content/drive/MyDrive/long_version_audio/MJPM1.wav\n"
          ]
        },
        {
          "output_type": "stream",
          "name": "stderr",
          "text": []
        },
        {
          "output_type": "stream",
          "name": "stdout",
          "text": [
            "MoviePy - Done.\n",
            "MoviePy - Writing audio in /content/drive/MyDrive/long_version_audio/MPEB0.wav\n"
          ]
        },
        {
          "output_type": "stream",
          "name": "stderr",
          "text": []
        },
        {
          "output_type": "stream",
          "name": "stdout",
          "text": [
            "MoviePy - Done.\n",
            "MoviePy - Writing audio in /content/drive/MyDrive/long_version_audio/MARW0.wav\n"
          ]
        },
        {
          "output_type": "stream",
          "name": "stderr",
          "text": []
        },
        {
          "output_type": "stream",
          "name": "stdout",
          "text": [
            "MoviePy - Done.\n",
            "MoviePy - Writing audio in /content/drive/MyDrive/long_version_audio/FLHD0.wav\n"
          ]
        },
        {
          "output_type": "stream",
          "name": "stderr",
          "text": []
        },
        {
          "output_type": "stream",
          "name": "stdout",
          "text": [
            "MoviePy - Done.\n",
            "MoviePy - Writing audio in /content/drive/MyDrive/long_version_audio/MESG0.wav\n"
          ]
        },
        {
          "output_type": "stream",
          "name": "stderr",
          "text": []
        },
        {
          "output_type": "stream",
          "name": "stdout",
          "text": [
            "MoviePy - Done.\n",
            "MoviePy - Writing audio in /content/drive/MyDrive/long_version_audio/FSSB0.wav\n"
          ]
        },
        {
          "output_type": "stream",
          "name": "stderr",
          "text": []
        },
        {
          "output_type": "stream",
          "name": "stdout",
          "text": [
            "MoviePy - Done.\n",
            "MoviePy - Writing audio in /content/drive/MyDrive/long_version_audio/MTRC0.wav\n"
          ]
        },
        {
          "output_type": "stream",
          "name": "stderr",
          "text": []
        },
        {
          "output_type": "stream",
          "name": "stdout",
          "text": [
            "MoviePy - Done.\n",
            "MoviePy - Writing audio in /content/drive/MyDrive/long_version_audio/MDMA0.wav\n"
          ]
        },
        {
          "output_type": "stream",
          "name": "stderr",
          "text": []
        },
        {
          "output_type": "stream",
          "name": "stdout",
          "text": [
            "MoviePy - Done.\n",
            "MoviePy - Writing audio in /content/drive/MyDrive/long_version_audio/MRFL0.wav\n"
          ]
        },
        {
          "output_type": "stream",
          "name": "stderr",
          "text": []
        },
        {
          "output_type": "stream",
          "name": "stdout",
          "text": [
            "MoviePy - Done.\n",
            "MoviePy - Writing audio in /content/drive/MyDrive/long_version_audio/FALR0.wav\n"
          ]
        },
        {
          "output_type": "stream",
          "name": "stderr",
          "text": []
        },
        {
          "output_type": "stream",
          "name": "stdout",
          "text": [
            "MoviePy - Done.\n",
            "MoviePy - Writing audio in /content/drive/MyDrive/long_version_audio/MJDC0.wav\n"
          ]
        },
        {
          "output_type": "stream",
          "name": "stderr",
          "text": []
        },
        {
          "output_type": "stream",
          "name": "stdout",
          "text": [
            "MoviePy - Done.\n",
            "MoviePy - Writing audio in /content/drive/MyDrive/long_version_audio/MPRK0.wav\n"
          ]
        },
        {
          "output_type": "stream",
          "name": "stderr",
          "text": []
        },
        {
          "output_type": "stream",
          "name": "stdout",
          "text": [
            "MoviePy - Done.\n",
            "MoviePy - Writing audio in /content/drive/MyDrive/long_version_audio/MJJJ0.wav\n"
          ]
        },
        {
          "output_type": "stream",
          "name": "stderr",
          "text": []
        },
        {
          "output_type": "stream",
          "name": "stdout",
          "text": [
            "MoviePy - Done.\n",
            "MoviePy - Writing audio in /content/drive/MyDrive/long_version_audio/FBMJ0.wav\n"
          ]
        },
        {
          "output_type": "stream",
          "name": "stderr",
          "text": []
        },
        {
          "output_type": "stream",
          "name": "stdout",
          "text": [
            "MoviePy - Done.\n",
            "MoviePy - Writing audio in /content/drive/MyDrive/long_version_audio/MGAG0.wav\n"
          ]
        },
        {
          "output_type": "stream",
          "name": "stderr",
          "text": []
        },
        {
          "output_type": "stream",
          "name": "stdout",
          "text": [
            "MoviePy - Done.\n",
            "MoviePy - Writing audio in /content/drive/MyDrive/long_version_audio/MSTF0.wav\n"
          ]
        },
        {
          "output_type": "stream",
          "name": "stderr",
          "text": []
        },
        {
          "output_type": "stream",
          "name": "stdout",
          "text": [
            "MoviePy - Done.\n",
            "MoviePy - Writing audio in /content/drive/MyDrive/long_version_audio/MLJH0.wav\n"
          ]
        },
        {
          "output_type": "stream",
          "name": "stderr",
          "text": []
        },
        {
          "output_type": "stream",
          "name": "stdout",
          "text": [
            "MoviePy - Done.\n",
            "MoviePy - Writing audio in /content/drive/MyDrive/long_version_audio/FJXP0.wav\n"
          ]
        },
        {
          "output_type": "stream",
          "name": "stderr",
          "text": []
        },
        {
          "output_type": "stream",
          "name": "stdout",
          "text": [
            "MoviePy - Done.\n",
            "MoviePy - Writing audio in /content/drive/MyDrive/long_version_audio/MBMA0.wav\n"
          ]
        },
        {
          "output_type": "stream",
          "name": "stderr",
          "text": []
        },
        {
          "output_type": "stream",
          "name": "stdout",
          "text": [
            "MoviePy - Done.\n",
            "MoviePy - Writing audio in /content/drive/MyDrive/long_version_audio/MRGM0.wav\n"
          ]
        },
        {
          "output_type": "stream",
          "name": "stderr",
          "text": []
        },
        {
          "output_type": "stream",
          "name": "stdout",
          "text": [
            "MoviePy - Done.\n",
            "MoviePy - Writing audio in /content/drive/MyDrive/long_version_audio/FDKN0.wav\n"
          ]
        },
        {
          "output_type": "stream",
          "name": "stderr",
          "text": []
        },
        {
          "output_type": "stream",
          "name": "stdout",
          "text": [
            "MoviePy - Done.\n",
            "MoviePy - Writing audio in /content/drive/MyDrive/long_version_audio/MRAB1.wav\n"
          ]
        },
        {
          "output_type": "stream",
          "name": "stderr",
          "text": []
        },
        {
          "output_type": "stream",
          "name": "stdout",
          "text": [
            "MoviePy - Done.\n",
            "MoviePy - Writing audio in /content/drive/MyDrive/long_version_audio/MJWS0.wav\n"
          ]
        },
        {
          "output_type": "stream",
          "name": "stderr",
          "text": []
        },
        {
          "output_type": "stream",
          "name": "stdout",
          "text": [
            "MoviePy - Done.\n",
            "MoviePy - Writing audio in /content/drive/MyDrive/long_version_audio/MJMM0.wav\n"
          ]
        },
        {
          "output_type": "stream",
          "name": "stderr",
          "text": []
        },
        {
          "output_type": "stream",
          "name": "stdout",
          "text": [
            "MoviePy - Done.\n",
            "MoviePy - Writing audio in /content/drive/MyDrive/long_version_audio/MRSP0.wav\n"
          ]
        },
        {
          "output_type": "stream",
          "name": "stderr",
          "text": []
        },
        {
          "output_type": "stream",
          "name": "stdout",
          "text": [
            "MoviePy - Done.\n",
            "MoviePy - Writing audio in /content/drive/MyDrive/long_version_audio/FBAS0.wav\n"
          ]
        },
        {
          "output_type": "stream",
          "name": "stderr",
          "text": []
        },
        {
          "output_type": "stream",
          "name": "stdout",
          "text": [
            "MoviePy - Done.\n",
            "MoviePy - Writing audio in /content/drive/MyDrive/long_version_audio/MGRP0.wav\n"
          ]
        },
        {
          "output_type": "stream",
          "name": "stderr",
          "text": []
        },
        {
          "output_type": "stream",
          "name": "stdout",
          "text": [
            "MoviePy - Done.\n",
            "MoviePy - Writing audio in /content/drive/MyDrive/long_version_audio/MGXP0.wav\n"
          ]
        },
        {
          "output_type": "stream",
          "name": "stderr",
          "text": []
        },
        {
          "output_type": "stream",
          "name": "stdout",
          "text": [
            "MoviePy - Done.\n",
            "MoviePy - Writing audio in /content/drive/MyDrive/long_version_audio/MSFH0.wav\n"
          ]
        },
        {
          "output_type": "stream",
          "name": "stderr",
          "text": []
        },
        {
          "output_type": "stream",
          "name": "stdout",
          "text": [
            "MoviePy - Done.\n",
            "MoviePy - Writing audio in /content/drive/MyDrive/long_version_audio/MAEB0.wav\n"
          ]
        },
        {
          "output_type": "stream",
          "name": "stderr",
          "text": []
        },
        {
          "output_type": "stream",
          "name": "stdout",
          "text": [
            "MoviePy - Done.\n",
            "MoviePy - Writing audio in /content/drive/MyDrive/long_version_audio/FKDW0.wav\n"
          ]
        },
        {
          "output_type": "stream",
          "name": "stderr",
          "text": []
        },
        {
          "output_type": "stream",
          "name": "stdout",
          "text": [
            "MoviePy - Done.\n",
            "MoviePy - Writing audio in /content/drive/MyDrive/long_version_audio/MTRT0.wav\n"
          ]
        },
        {
          "output_type": "stream",
          "name": "stderr",
          "text": []
        },
        {
          "output_type": "stream",
          "name": "stdout",
          "text": [
            "MoviePy - Done.\n",
            "MoviePy - Writing audio in /content/drive/MyDrive/long_version_audio/FPAF0.wav\n"
          ]
        },
        {
          "output_type": "stream",
          "name": "stderr",
          "text": []
        },
        {
          "output_type": "stream",
          "name": "stdout",
          "text": [
            "MoviePy - Done.\n",
            "MoviePy - Writing audio in /content/drive/MyDrive/long_version_audio/MJLS0.wav\n"
          ]
        },
        {
          "output_type": "stream",
          "name": "stderr",
          "text": []
        },
        {
          "output_type": "stream",
          "name": "stdout",
          "text": [
            "MoviePy - Done.\n",
            "MoviePy - Writing audio in /content/drive/MyDrive/long_version_audio/MJEE0.wav\n"
          ]
        },
        {
          "output_type": "stream",
          "name": "stderr",
          "text": []
        },
        {
          "output_type": "stream",
          "name": "stdout",
          "text": [
            "MoviePy - Done.\n",
            "MoviePy - Writing audio in /content/drive/MyDrive/long_version_audio/MLBC0.wav\n"
          ]
        },
        {
          "output_type": "stream",
          "name": "stderr",
          "text": []
        },
        {
          "output_type": "stream",
          "name": "stdout",
          "text": [
            "MoviePy - Done.\n",
            "MoviePy - Writing audio in /content/drive/MyDrive/long_version_audio/MPRT0.wav\n"
          ]
        },
        {
          "output_type": "stream",
          "name": "stderr",
          "text": []
        },
        {
          "output_type": "stream",
          "name": "stdout",
          "text": [
            "MoviePy - Done.\n",
            "MoviePy - Writing audio in /content/drive/MyDrive/long_version_audio/MNET0.wav\n"
          ]
        },
        {
          "output_type": "stream",
          "name": "stderr",
          "text": []
        },
        {
          "output_type": "stream",
          "name": "stdout",
          "text": [
            "MoviePy - Done.\n",
            "MoviePy - Writing audio in /content/drive/MyDrive/long_version_audio/MDCD0.wav\n"
          ]
        },
        {
          "output_type": "stream",
          "name": "stderr",
          "text": []
        },
        {
          "output_type": "stream",
          "name": "stdout",
          "text": [
            "MoviePy - Done.\n",
            "MoviePy - Writing audio in /content/drive/MyDrive/long_version_audio/FKLC0.wav\n"
          ]
        },
        {
          "output_type": "stream",
          "name": "stderr",
          "text": []
        },
        {
          "output_type": "stream",
          "name": "stdout",
          "text": [
            "MoviePy - Done.\n",
            "MoviePy - Writing audio in /content/drive/MyDrive/long_version_audio/MJLB0.wav\n"
          ]
        },
        {
          "output_type": "stream",
          "name": "stderr",
          "text": []
        },
        {
          "output_type": "stream",
          "name": "stdout",
          "text": [
            "MoviePy - Done.\n",
            "MoviePy - Writing audio in /content/drive/MyDrive/long_version_audio/MSRG0.wav\n"
          ]
        },
        {
          "output_type": "stream",
          "name": "stderr",
          "text": []
        },
        {
          "output_type": "stream",
          "name": "stdout",
          "text": [
            "MoviePy - Done.\n",
            "MoviePy - Writing audio in /content/drive/MyDrive/long_version_audio/MSMC0.wav\n"
          ]
        },
        {
          "output_type": "stream",
          "name": "stderr",
          "text": []
        },
        {
          "output_type": "stream",
          "name": "stdout",
          "text": [
            "MoviePy - Done.\n",
            "MoviePy - Writing audio in /content/drive/MyDrive/long_version_audio/MDNS0.wav\n"
          ]
        },
        {
          "output_type": "stream",
          "name": "stderr",
          "text": []
        },
        {
          "output_type": "stream",
          "name": "stdout",
          "text": [
            "MoviePy - Done.\n",
            "MoviePy - Writing audio in /content/drive/MyDrive/long_version_audio/MKXL0.wav\n"
          ]
        },
        {
          "output_type": "stream",
          "name": "stderr",
          "text": []
        },
        {
          "output_type": "stream",
          "name": "stdout",
          "text": [
            "MoviePy - Done.\n",
            "MoviePy - Writing audio in /content/drive/MyDrive/long_version_audio/MPRD0.wav\n"
          ]
        },
        {
          "output_type": "stream",
          "name": "stderr",
          "text": []
        },
        {
          "output_type": "stream",
          "name": "stdout",
          "text": [
            "MoviePy - Done.\n",
            "MoviePy - Writing audio in /content/drive/MyDrive/long_version_audio/MAKR0.wav\n"
          ]
        },
        {
          "output_type": "stream",
          "name": "stderr",
          "text": []
        },
        {
          "output_type": "stream",
          "name": "stdout",
          "text": [
            "MoviePy - Done.\n",
            "MoviePy - Writing audio in /content/drive/MyDrive/long_version_audio/MILB0.wav\n"
          ]
        },
        {
          "output_type": "stream",
          "name": "stderr",
          "text": []
        },
        {
          "output_type": "stream",
          "name": "stdout",
          "text": [
            "MoviePy - Done.\n",
            "MoviePy - Writing audio in /content/drive/MyDrive/long_version_audio/FNTB0.wav\n"
          ]
        },
        {
          "output_type": "stream",
          "name": "stderr",
          "text": []
        },
        {
          "output_type": "stream",
          "name": "stdout",
          "text": [
            "MoviePy - Done.\n",
            "MoviePy - Writing audio in /content/drive/MyDrive/long_version_audio/MRBC0.wav\n"
          ]
        },
        {
          "output_type": "stream",
          "name": "stderr",
          "text": []
        },
        {
          "output_type": "stream",
          "name": "stdout",
          "text": [
            "MoviePy - Done.\n",
            "MoviePy - Writing audio in /content/drive/MyDrive/long_version_audio/MAPV0.wav\n"
          ]
        },
        {
          "output_type": "stream",
          "name": "stderr",
          "text": []
        },
        {
          "output_type": "stream",
          "name": "stdout",
          "text": [
            "MoviePy - Done.\n",
            "MoviePy - Writing audio in /content/drive/MyDrive/long_version_audio/MRTC0.wav\n"
          ]
        },
        {
          "output_type": "stream",
          "name": "stderr",
          "text": []
        },
        {
          "output_type": "stream",
          "name": "stdout",
          "text": [
            "MoviePy - Done.\n",
            "MoviePy - Writing audio in /content/drive/MyDrive/long_version_audio/MTJM0.wav\n"
          ]
        },
        {
          "output_type": "stream",
          "name": "stderr",
          "text": []
        },
        {
          "output_type": "stream",
          "name": "stdout",
          "text": [
            "MoviePy - Done.\n",
            "MoviePy - Writing audio in /content/drive/MyDrive/long_version_audio/MCDC0.wav\n"
          ]
        },
        {
          "output_type": "stream",
          "name": "stderr",
          "text": []
        },
        {
          "output_type": "stream",
          "name": "stdout",
          "text": [
            "MoviePy - Done.\n",
            "MoviePy - Writing audio in /content/drive/MyDrive/long_version_audio/MTPP0.wav\n"
          ]
        },
        {
          "output_type": "stream",
          "name": "stderr",
          "text": []
        },
        {
          "output_type": "stream",
          "name": "stdout",
          "text": [
            "MoviePy - Done.\n",
            "MoviePy - Writing audio in /content/drive/MyDrive/long_version_audio/FMJF0.wav\n"
          ]
        },
        {
          "output_type": "stream",
          "name": "stderr",
          "text": []
        },
        {
          "output_type": "stream",
          "name": "stdout",
          "text": [
            "MoviePy - Done.\n",
            "MoviePy - Writing audio in /content/drive/MyDrive/long_version_audio/FSLS0.wav\n"
          ]
        },
        {
          "output_type": "stream",
          "name": "stderr",
          "text": []
        },
        {
          "output_type": "stream",
          "name": "stdout",
          "text": [
            "MoviePy - Done.\n",
            "MoviePy - Writing audio in /content/drive/MyDrive/long_version_audio/MRTJ0.wav\n"
          ]
        },
        {
          "output_type": "stream",
          "name": "stderr",
          "text": []
        },
        {
          "output_type": "stream",
          "name": "stdout",
          "text": [
            "MoviePy - Done.\n",
            "MoviePy - Writing audio in /content/drive/MyDrive/long_version_audio/MTLB0.wav\n"
          ]
        },
        {
          "output_type": "stream",
          "name": "stderr",
          "text": []
        },
        {
          "output_type": "stream",
          "name": "stdout",
          "text": [
            "MoviePy - Done.\n",
            "MoviePy - Writing audio in /content/drive/MyDrive/long_version_audio/MHMR0.wav\n"
          ]
        },
        {
          "output_type": "stream",
          "name": "stderr",
          "text": []
        },
        {
          "output_type": "stream",
          "name": "stdout",
          "text": [
            "MoviePy - Done.\n",
            "MoviePy - Writing audio in /content/drive/MyDrive/long_version_audio/MFMC0.wav\n"
          ]
        },
        {
          "output_type": "stream",
          "name": "stderr",
          "text": []
        },
        {
          "output_type": "stream",
          "name": "stdout",
          "text": [
            "MoviePy - Done.\n",
            "MoviePy - Writing audio in /content/drive/MyDrive/long_version_audio/FALK0.wav\n"
          ]
        },
        {
          "output_type": "stream",
          "name": "stderr",
          "text": []
        },
        {
          "output_type": "stream",
          "name": "stdout",
          "text": [
            "MoviePy - Done.\n",
            "MoviePy - Writing audio in /content/drive/MyDrive/long_version_audio/MWDK0.wav\n"
          ]
        },
        {
          "output_type": "stream",
          "name": "stderr",
          "text": []
        },
        {
          "output_type": "stream",
          "name": "stdout",
          "text": [
            "MoviePy - Done.\n",
            "MoviePy - Writing audio in /content/drive/MyDrive/long_version_audio/FLTM0.wav\n"
          ]
        },
        {
          "output_type": "stream",
          "name": "stderr",
          "text": []
        },
        {
          "output_type": "stream",
          "name": "stdout",
          "text": [
            "MoviePy - Done.\n",
            "MoviePy - Writing audio in /content/drive/MyDrive/long_version_audio/MCDD0.wav\n"
          ]
        },
        {
          "output_type": "stream",
          "name": "stderr",
          "text": []
        },
        {
          "output_type": "stream",
          "name": "stdout",
          "text": [
            "MoviePy - Done.\n",
            "MoviePy - Writing audio in /content/drive/MyDrive/long_version_audio/MDWM0.wav\n"
          ]
        },
        {
          "output_type": "stream",
          "name": "stderr",
          "text": []
        },
        {
          "output_type": "stream",
          "name": "stdout",
          "text": [
            "MoviePy - Done.\n",
            "MoviePy - Writing audio in /content/drive/MyDrive/long_version_audio/FLAC0.wav\n"
          ]
        },
        {
          "output_type": "stream",
          "name": "stderr",
          "text": []
        },
        {
          "output_type": "stream",
          "name": "stdout",
          "text": [
            "MoviePy - Done.\n",
            "MoviePy - Writing audio in /content/drive/MyDrive/long_version_audio/MMEB0.wav\n"
          ]
        },
        {
          "output_type": "stream",
          "name": "stderr",
          "text": []
        },
        {
          "output_type": "stream",
          "name": "stdout",
          "text": [
            "MoviePy - Done.\n",
            "MoviePy - Writing audio in /content/drive/MyDrive/long_version_audio/MTKP0.wav\n"
          ]
        },
        {
          "output_type": "stream",
          "name": "stderr",
          "text": []
        },
        {
          "output_type": "stream",
          "name": "stdout",
          "text": [
            "MoviePy - Done.\n",
            "MoviePy - Writing audio in /content/drive/MyDrive/long_version_audio/MJRH1.wav\n"
          ]
        },
        {
          "output_type": "stream",
          "name": "stderr",
          "text": []
        },
        {
          "output_type": "stream",
          "name": "stdout",
          "text": [
            "MoviePy - Done.\n",
            "MoviePy - Writing audio in /content/drive/MyDrive/long_version_audio/MDLC0.wav\n"
          ]
        },
        {
          "output_type": "stream",
          "name": "stderr",
          "text": []
        },
        {
          "output_type": "stream",
          "name": "stdout",
          "text": [
            "MoviePy - Done.\n",
            "MoviePy - Writing audio in /content/drive/MyDrive/long_version_audio/MBEF0.wav\n"
          ]
        },
        {
          "output_type": "stream",
          "name": "stderr",
          "text": []
        },
        {
          "output_type": "stream",
          "name": "stdout",
          "text": [
            "MoviePy - Done.\n",
            "MoviePy - Writing audio in /content/drive/MyDrive/long_version_audio/MRDS0.wav\n"
          ]
        },
        {
          "output_type": "stream",
          "name": "stderr",
          "text": []
        },
        {
          "output_type": "stream",
          "name": "stdout",
          "text": [
            "MoviePy - Done.\n",
            "MoviePy - Writing audio in /content/drive/MyDrive/long_version_audio/MGAF0.wav\n"
          ]
        },
        {
          "output_type": "stream",
          "name": "stderr",
          "text": []
        },
        {
          "output_type": "stream",
          "name": "stdout",
          "text": [
            "MoviePy - Done.\n",
            "MoviePy - Writing audio in /content/drive/MyDrive/long_version_audio/MJLG1.wav\n"
          ]
        },
        {
          "output_type": "stream",
          "name": "stderr",
          "text": []
        },
        {
          "output_type": "stream",
          "name": "stdout",
          "text": [
            "MoviePy - Done.\n",
            "MoviePy - Writing audio in /content/drive/MyDrive/long_version_audio/MJJB0.wav\n"
          ]
        },
        {
          "output_type": "stream",
          "name": "stderr",
          "text": []
        },
        {
          "output_type": "stream",
          "name": "stdout",
          "text": [
            "MoviePy - Done.\n",
            "MoviePy - Writing audio in /content/drive/MyDrive/long_version_audio/MSFV0.wav\n"
          ]
        },
        {
          "output_type": "stream",
          "name": "stderr",
          "text": []
        },
        {
          "output_type": "stream",
          "name": "stdout",
          "text": [
            "MoviePy - Done.\n",
            "MoviePy - Writing audio in /content/drive/MyDrive/long_version_audio/MJDA0.wav\n"
          ]
        },
        {
          "output_type": "stream",
          "name": "stderr",
          "text": []
        },
        {
          "output_type": "stream",
          "name": "stdout",
          "text": [
            "MoviePy - Done.\n",
            "MoviePy - Writing audio in /content/drive/MyDrive/long_version_audio/FGCS0.wav\n"
          ]
        },
        {
          "output_type": "stream",
          "name": "stderr",
          "text": []
        },
        {
          "output_type": "stream",
          "name": "stdout",
          "text": [
            "MoviePy - Done.\n",
            "MoviePy - Writing audio in /content/drive/MyDrive/long_version_audio/MCEF0.wav\n"
          ]
        },
        {
          "output_type": "stream",
          "name": "stderr",
          "text": []
        },
        {
          "output_type": "stream",
          "name": "stdout",
          "text": [
            "MoviePy - Done.\n",
            "MoviePy - Writing audio in /content/drive/MyDrive/long_version_audio/MVJH0.wav\n"
          ]
        },
        {
          "output_type": "stream",
          "name": "stderr",
          "text": []
        },
        {
          "output_type": "stream",
          "name": "stdout",
          "text": [
            "MoviePy - Done.\n",
            "MoviePy - Writing audio in /content/drive/MyDrive/long_version_audio/FGRW0.wav\n"
          ]
        },
        {
          "output_type": "stream",
          "name": "stderr",
          "text": []
        },
        {
          "output_type": "stream",
          "name": "stdout",
          "text": [
            "MoviePy - Done.\n",
            "MoviePy - Writing audio in /content/drive/MyDrive/long_version_audio/MRJB1.wav\n"
          ]
        },
        {
          "output_type": "stream",
          "name": "stderr",
          "text": []
        },
        {
          "output_type": "stream",
          "name": "stdout",
          "text": [
            "MoviePy - Done.\n",
            "MoviePy - Writing audio in /content/drive/MyDrive/long_version_audio/FDFB0.wav\n"
          ]
        },
        {
          "output_type": "stream",
          "name": "stderr",
          "text": []
        },
        {
          "output_type": "stream",
          "name": "stdout",
          "text": [
            "MoviePy - Done.\n",
            "MoviePy - Writing audio in /content/drive/MyDrive/long_version_audio/MJKR0.wav\n"
          ]
        },
        {
          "output_type": "stream",
          "name": "stderr",
          "text": []
        },
        {
          "output_type": "stream",
          "name": "stdout",
          "text": [
            "MoviePy - Done.\n",
            "MoviePy - Writing audio in /content/drive/MyDrive/long_version_audio/MCAL0.wav\n"
          ]
        },
        {
          "output_type": "stream",
          "name": "stderr",
          "text": []
        },
        {
          "output_type": "stream",
          "name": "stdout",
          "text": [
            "MoviePy - Done.\n",
            "MoviePy - Writing audio in /content/drive/MyDrive/long_version_audio/MMJB1.wav\n"
          ]
        },
        {
          "output_type": "stream",
          "name": "stderr",
          "text": []
        },
        {
          "output_type": "stream",
          "name": "stdout",
          "text": [
            "MoviePy - Done.\n",
            "MoviePy - Writing audio in /content/drive/MyDrive/long_version_audio/MTPG0.wav\n"
          ]
        },
        {
          "output_type": "stream",
          "name": "stderr",
          "text": []
        },
        {
          "output_type": "stream",
          "name": "stdout",
          "text": [
            "MoviePy - Done.\n",
            "MoviePy - Writing audio in /content/drive/MyDrive/long_version_audio/MDTB0.wav\n"
          ]
        },
        {
          "output_type": "stream",
          "name": "stderr",
          "text": []
        },
        {
          "output_type": "stream",
          "name": "stdout",
          "text": [
            "MoviePy - Done.\n",
            "MoviePy - Writing audio in /content/drive/MyDrive/long_version_audio/MRWA0.wav\n"
          ]
        },
        {
          "output_type": "stream",
          "name": "stderr",
          "text": []
        },
        {
          "output_type": "stream",
          "name": "stdout",
          "text": [
            "MoviePy - Done.\n",
            "MoviePy - Writing audio in /content/drive/MyDrive/long_version_audio/MMAR0.wav\n"
          ]
        },
        {
          "output_type": "stream",
          "name": "stderr",
          "text": []
        },
        {
          "output_type": "stream",
          "name": "stdout",
          "text": [
            "MoviePy - Done.\n",
            "MoviePy - Writing audio in /content/drive/MyDrive/long_version_audio/MDHS0.wav\n"
          ]
        },
        {
          "output_type": "stream",
          "name": "stderr",
          "text": []
        },
        {
          "output_type": "stream",
          "name": "stdout",
          "text": [
            "MoviePy - Done.\n",
            "MoviePy - Writing audio in /content/drive/MyDrive/long_version_audio/MLNS0.wav\n"
          ]
        },
        {
          "output_type": "stream",
          "name": "stderr",
          "text": []
        },
        {
          "output_type": "stream",
          "name": "stdout",
          "text": [
            "MoviePy - Done.\n",
            "MoviePy - Writing audio in /content/drive/MyDrive/long_version_audio/FPAZ0.wav\n"
          ]
        },
        {
          "output_type": "stream",
          "name": "stderr",
          "text": []
        },
        {
          "output_type": "stream",
          "name": "stdout",
          "text": [
            "MoviePy - Done.\n",
            "MoviePy - Writing audio in /content/drive/MyDrive/long_version_audio/MDEF0.wav\n"
          ]
        },
        {
          "output_type": "stream",
          "name": "stderr",
          "text": []
        },
        {
          "output_type": "stream",
          "name": "stdout",
          "text": [
            "MoviePy - Done.\n",
            "MoviePy - Writing audio in /content/drive/MyDrive/long_version_audio/MDBB1.wav\n"
          ]
        },
        {
          "output_type": "stream",
          "name": "stderr",
          "text": []
        },
        {
          "output_type": "stream",
          "name": "stdout",
          "text": [
            "MoviePy - Done.\n",
            "MoviePy - Writing audio in /content/drive/MyDrive/long_version_audio/MREH1.wav\n"
          ]
        },
        {
          "output_type": "stream",
          "name": "stderr",
          "text": []
        },
        {
          "output_type": "stream",
          "name": "stdout",
          "text": [
            "MoviePy - Done.\n",
            "MoviePy - Writing audio in /content/drive/MyDrive/long_version_audio/FSJS0.wav\n"
          ]
        },
        {
          "output_type": "stream",
          "name": "stderr",
          "text": []
        },
        {
          "output_type": "stream",
          "name": "stdout",
          "text": [
            "MoviePy - Done.\n",
            "MoviePy - Writing audio in /content/drive/MyDrive/long_version_audio/FJLG0.wav\n"
          ]
        },
        {
          "output_type": "stream",
          "name": "stderr",
          "text": []
        },
        {
          "output_type": "stream",
          "name": "stdout",
          "text": [
            "MoviePy - Done.\n",
            "MoviePy - Writing audio in /content/drive/MyDrive/long_version_audio/MDLH0.wav\n"
          ]
        },
        {
          "output_type": "stream",
          "name": "stderr",
          "text": []
        },
        {
          "output_type": "stream",
          "name": "stdout",
          "text": [
            "MoviePy - Done.\n",
            "MoviePy - Writing audio in /content/drive/MyDrive/long_version_audio/MHJB0.wav\n"
          ]
        },
        {
          "output_type": "stream",
          "name": "stderr",
          "text": []
        },
        {
          "output_type": "stream",
          "name": "stdout",
          "text": [
            "MoviePy - Done.\n",
            "MoviePy - Writing audio in /content/drive/MyDrive/long_version_audio/FSKC0.wav\n"
          ]
        },
        {
          "output_type": "stream",
          "name": "stderr",
          "text": []
        },
        {
          "output_type": "stream",
          "name": "stdout",
          "text": [
            "MoviePy - Done.\n",
            "MoviePy - Writing audio in /content/drive/MyDrive/long_version_audio/FCKE0.wav\n"
          ]
        },
        {
          "output_type": "stream",
          "name": "stderr",
          "text": []
        },
        {
          "output_type": "stream",
          "name": "stdout",
          "text": [
            "MoviePy - Done.\n",
            "MoviePy - Writing audio in /content/drive/MyDrive/long_version_audio/MDJM0.wav\n"
          ]
        },
        {
          "output_type": "stream",
          "name": "stderr",
          "text": []
        },
        {
          "output_type": "stream",
          "name": "stdout",
          "text": [
            "MoviePy - Done.\n",
            "MoviePy - Writing audio in /content/drive/MyDrive/long_version_audio/MWGR0.wav\n"
          ]
        },
        {
          "output_type": "stream",
          "name": "stderr",
          "text": []
        },
        {
          "output_type": "stream",
          "name": "stdout",
          "text": [
            "MoviePy - Done.\n",
            "MoviePy - Writing audio in /content/drive/MyDrive/long_version_audio/FCMG0.wav\n"
          ]
        },
        {
          "output_type": "stream",
          "name": "stderr",
          "text": []
        },
        {
          "output_type": "stream",
          "name": "stdout",
          "text": [
            "MoviePy - Done.\n",
            "MoviePy - Writing audio in /content/drive/MyDrive/long_version_audio/MAKB0.wav\n"
          ]
        },
        {
          "output_type": "stream",
          "name": "stderr",
          "text": []
        },
        {
          "output_type": "stream",
          "name": "stdout",
          "text": [
            "MoviePy - Done.\n",
            "MoviePy - Writing audio in /content/drive/MyDrive/long_version_audio/MREE0.wav\n"
          ]
        },
        {
          "output_type": "stream",
          "name": "stderr",
          "text": []
        },
        {
          "output_type": "stream",
          "name": "stdout",
          "text": [
            "MoviePy - Done.\n",
            "MoviePy - Writing audio in /content/drive/MyDrive/long_version_audio/MMAM0.wav\n"
          ]
        },
        {
          "output_type": "stream",
          "name": "stderr",
          "text": []
        },
        {
          "output_type": "stream",
          "name": "stdout",
          "text": [
            "MoviePy - Done.\n",
            "MoviePy - Writing audio in /content/drive/MyDrive/long_version_audio/MDDC0.wav\n"
          ]
        },
        {
          "output_type": "stream",
          "name": "stderr",
          "text": []
        },
        {
          "output_type": "stream",
          "name": "stdout",
          "text": [
            "MoviePy - Done.\n",
            "MoviePy - Writing audio in /content/drive/MyDrive/long_version_audio/FSJW0.wav\n"
          ]
        },
        {
          "output_type": "stream",
          "name": "stderr",
          "text": []
        },
        {
          "output_type": "stream",
          "name": "stdout",
          "text": [
            "MoviePy - Done.\n",
            "MoviePy - Writing audio in /content/drive/MyDrive/long_version_audio/MDSS1.wav\n"
          ]
        },
        {
          "output_type": "stream",
          "name": "stderr",
          "text": []
        },
        {
          "output_type": "stream",
          "name": "stdout",
          "text": [
            "MoviePy - Done.\n",
            "MoviePy - Writing audio in /content/drive/MyDrive/long_version_audio/FDJH0.wav\n"
          ]
        },
        {
          "output_type": "stream",
          "name": "stderr",
          "text": []
        },
        {
          "output_type": "stream",
          "name": "stdout",
          "text": [
            "MoviePy - Done.\n",
            "MoviePy - Writing audio in /content/drive/MyDrive/long_version_audio/FEME0.wav\n"
          ]
        },
        {
          "output_type": "stream",
          "name": "stderr",
          "text": []
        },
        {
          "output_type": "stream",
          "name": "stdout",
          "text": [
            "MoviePy - Done.\n",
            "MoviePy - Writing audio in /content/drive/MyDrive/long_version_audio/FLJD0.wav\n"
          ]
        },
        {
          "output_type": "stream",
          "name": "stderr",
          "text": []
        },
        {
          "output_type": "stream",
          "name": "stdout",
          "text": [
            "MoviePy - Done.\n",
            "MoviePy - Writing audio in /content/drive/MyDrive/long_version_audio/MMSM0.wav\n"
          ]
        },
        {
          "output_type": "stream",
          "name": "stderr",
          "text": []
        },
        {
          "output_type": "stream",
          "name": "stdout",
          "text": [
            "MoviePy - Done.\n",
            "MoviePy - Writing audio in /content/drive/MyDrive/long_version_audio/FJLR0.wav\n"
          ]
        },
        {
          "output_type": "stream",
          "name": "stderr",
          "text": []
        },
        {
          "output_type": "stream",
          "name": "stdout",
          "text": [
            "MoviePy - Done.\n",
            "MoviePy - Writing audio in /content/drive/MyDrive/long_version_audio/MADC0.wav\n"
          ]
        },
        {
          "output_type": "stream",
          "name": "stderr",
          "text": []
        },
        {
          "output_type": "stream",
          "name": "stdout",
          "text": [
            "MoviePy - Done.\n",
            "MoviePy - Writing audio in /content/drive/MyDrive/long_version_audio/MKLS1.wav\n"
          ]
        },
        {
          "output_type": "stream",
          "name": "stderr",
          "text": []
        },
        {
          "output_type": "stream",
          "name": "stdout",
          "text": [
            "MoviePy - Done.\n",
            "MoviePy - Writing audio in /content/drive/MyDrive/long_version_audio/FJKL0.wav\n"
          ]
        },
        {
          "output_type": "stream",
          "name": "stderr",
          "text": []
        },
        {
          "output_type": "stream",
          "name": "stdout",
          "text": [
            "MoviePy - Done.\n",
            "MoviePy - Writing audio in /content/drive/MyDrive/long_version_audio/FDNC0.wav\n"
          ]
        },
        {
          "output_type": "stream",
          "name": "stderr",
          "text": []
        },
        {
          "output_type": "stream",
          "name": "stdout",
          "text": [
            "MoviePy - Done.\n",
            "MoviePy - Writing audio in /content/drive/MyDrive/long_version_audio/MKDT0.wav\n"
          ]
        },
        {
          "output_type": "stream",
          "name": "stderr",
          "text": []
        },
        {
          "output_type": "stream",
          "name": "stdout",
          "text": [
            "MoviePy - Done.\n",
            "MoviePy - Writing audio in /content/drive/MyDrive/long_version_audio/MRLJ0.wav\n"
          ]
        },
        {
          "output_type": "stream",
          "name": "stderr",
          "text": []
        },
        {
          "output_type": "stream",
          "name": "stdout",
          "text": [
            "MoviePy - Done.\n",
            "MoviePy - Writing audio in /content/drive/MyDrive/long_version_audio/MJHI0.wav\n"
          ]
        },
        {
          "output_type": "stream",
          "name": "stderr",
          "text": []
        },
        {
          "output_type": "stream",
          "name": "stdout",
          "text": [
            "MoviePy - Done.\n",
            "MoviePy - Writing audio in /content/drive/MyDrive/long_version_audio/MRMS0.wav\n"
          ]
        },
        {
          "output_type": "stream",
          "name": "stderr",
          "text": []
        },
        {
          "output_type": "stream",
          "name": "stdout",
          "text": [
            "MoviePy - Done.\n",
            "MoviePy - Writing audio in /content/drive/MyDrive/long_version_audio/MEFG0.wav\n"
          ]
        },
        {
          "output_type": "stream",
          "name": "stderr",
          "text": []
        },
        {
          "output_type": "stream",
          "name": "stdout",
          "text": [
            "MoviePy - Done.\n",
            "MoviePy - Writing audio in /content/drive/MyDrive/long_version_audio/FMMH0.wav\n"
          ]
        },
        {
          "output_type": "stream",
          "name": "stderr",
          "text": []
        },
        {
          "output_type": "stream",
          "name": "stdout",
          "text": [
            "MoviePy - Done.\n",
            "MoviePy - Writing audio in /content/drive/MyDrive/long_version_audio/FPJF0.wav\n"
          ]
        },
        {
          "output_type": "stream",
          "name": "stderr",
          "text": []
        },
        {
          "output_type": "stream",
          "name": "stdout",
          "text": [
            "MoviePy - Done.\n",
            "MoviePy - Writing audio in /content/drive/MyDrive/long_version_audio/MRGS0.wav\n"
          ]
        },
        {
          "output_type": "stream",
          "name": "stderr",
          "text": []
        },
        {
          "output_type": "stream",
          "name": "stdout",
          "text": [
            "MoviePy - Done.\n",
            "MoviePy - Writing audio in /content/drive/MyDrive/long_version_audio/FDAS1.wav\n"
          ]
        },
        {
          "output_type": "stream",
          "name": "stderr",
          "text": []
        },
        {
          "output_type": "stream",
          "name": "stdout",
          "text": [
            "MoviePy - Done.\n",
            "MoviePy - Writing audio in /content/drive/MyDrive/long_version_audio/MHRM0.wav\n"
          ]
        },
        {
          "output_type": "stream",
          "name": "stderr",
          "text": []
        },
        {
          "output_type": "stream",
          "name": "stdout",
          "text": [
            "MoviePy - Done.\n",
            "MoviePy - Writing audio in /content/drive/MyDrive/long_version_audio/MJDE0.wav\n"
          ]
        },
        {
          "output_type": "stream",
          "name": "stderr",
          "text": []
        },
        {
          "output_type": "stream",
          "name": "stdout",
          "text": [
            "MoviePy - Done.\n",
            "MoviePy - Writing audio in /content/drive/MyDrive/long_version_audio/MRJT0.wav\n"
          ]
        },
        {
          "output_type": "stream",
          "name": "stderr",
          "text": []
        },
        {
          "output_type": "stream",
          "name": "stdout",
          "text": [
            "MoviePy - Done.\n",
            "MoviePy - Writing audio in /content/drive/MyDrive/long_version_audio/MJMA0.wav\n"
          ]
        },
        {
          "output_type": "stream",
          "name": "stderr",
          "text": []
        },
        {
          "output_type": "stream",
          "name": "stdout",
          "text": [
            "MoviePy - Done.\n",
            "MoviePy - Writing audio in /content/drive/MyDrive/long_version_audio/MRLR0.wav\n"
          ]
        },
        {
          "output_type": "stream",
          "name": "stderr",
          "text": []
        },
        {
          "output_type": "stream",
          "name": "stdout",
          "text": [
            "MoviePy - Done.\n",
            "MoviePy - Writing audio in /content/drive/MyDrive/long_version_audio/MTJG0.wav\n"
          ]
        },
        {
          "output_type": "stream",
          "name": "stderr",
          "text": []
        },
        {
          "output_type": "stream",
          "name": "stdout",
          "text": [
            "MoviePy - Done.\n",
            "MoviePy - Writing audio in /content/drive/MyDrive/long_version_audio/MDMT0.wav\n"
          ]
        },
        {
          "output_type": "stream",
          "name": "stderr",
          "text": []
        },
        {
          "output_type": "stream",
          "name": "stdout",
          "text": [
            "MoviePy - Done.\n",
            "MoviePy - Writing audio in /content/drive/MyDrive/long_version_audio/MTAT1.wav\n"
          ]
        },
        {
          "output_type": "stream",
          "name": "stderr",
          "text": []
        },
        {
          "output_type": "stream",
          "name": "stdout",
          "text": [
            "MoviePy - Done.\n",
            "MoviePy - Writing audio in /content/drive/MyDrive/long_version_audio/FCAJ0.wav\n"
          ]
        },
        {
          "output_type": "stream",
          "name": "stderr",
          "text": []
        },
        {
          "output_type": "stream",
          "name": "stdout",
          "text": [
            "MoviePy - Done.\n",
            "MoviePy - Writing audio in /content/drive/MyDrive/long_version_audio/FLMA0.wav\n"
          ]
        },
        {
          "output_type": "stream",
          "name": "stderr",
          "text": []
        },
        {
          "output_type": "stream",
          "name": "stdout",
          "text": [
            "MoviePy - Done.\n",
            "MoviePy - Writing audio in /content/drive/MyDrive/long_version_audio/MKJO0.wav\n"
          ]
        },
        {
          "output_type": "stream",
          "name": "stderr",
          "text": []
        },
        {
          "output_type": "stream",
          "name": "stdout",
          "text": [
            "MoviePy - Done.\n",
            "MoviePy - Writing audio in /content/drive/MyDrive/long_version_audio/FSKL0.wav\n"
          ]
        },
        {
          "output_type": "stream",
          "name": "stderr",
          "text": []
        },
        {
          "output_type": "stream",
          "name": "stdout",
          "text": [
            "MoviePy - Done.\n",
            "MoviePy - Writing audio in /content/drive/MyDrive/long_version_audio/MMAA0.wav\n"
          ]
        },
        {
          "output_type": "stream",
          "name": "stderr",
          "text": []
        },
        {
          "output_type": "stream",
          "name": "stdout",
          "text": [
            "MoviePy - Done.\n",
            "MoviePy - Writing audio in /content/drive/MyDrive/long_version_audio/MGMM0.wav\n"
          ]
        },
        {
          "output_type": "stream",
          "name": "stderr",
          "text": []
        },
        {
          "output_type": "stream",
          "name": "stdout",
          "text": [
            "MoviePy - Done.\n",
            "MoviePy - Writing audio in /content/drive/MyDrive/long_version_audio/MTLS0.wav\n"
          ]
        },
        {
          "output_type": "stream",
          "name": "stderr",
          "text": []
        },
        {
          "output_type": "stream",
          "name": "stdout",
          "text": [
            "MoviePy - Done.\n",
            "MoviePy - Writing audio in /content/drive/MyDrive/long_version_audio/FNMR0.wav\n"
          ]
        },
        {
          "output_type": "stream",
          "name": "stderr",
          "text": []
        },
        {
          "output_type": "stream",
          "name": "stdout",
          "text": [
            "MoviePy - Done.\n",
            "MoviePy - Writing audio in /content/drive/MyDrive/long_version_audio/FRNG0.wav\n"
          ]
        },
        {
          "output_type": "stream",
          "name": "stderr",
          "text": []
        },
        {
          "output_type": "stream",
          "name": "stdout",
          "text": [
            "MoviePy - Done.\n",
            "MoviePy - Writing audio in /content/drive/MyDrive/long_version_audio/MPLB0.wav\n"
          ]
        },
        {
          "output_type": "stream",
          "name": "stderr",
          "text": []
        },
        {
          "output_type": "stream",
          "name": "stdout",
          "text": [
            "MoviePy - Done.\n",
            "MoviePy - Writing audio in /content/drive/MyDrive/long_version_audio/FLKD0.wav\n"
          ]
        },
        {
          "output_type": "stream",
          "name": "stderr",
          "text": []
        },
        {
          "output_type": "stream",
          "name": "stdout",
          "text": [
            "MoviePy - Done.\n",
            "MoviePy - Writing audio in /content/drive/MyDrive/long_version_audio/FREW0.wav\n"
          ]
        },
        {
          "output_type": "stream",
          "name": "stderr",
          "text": []
        },
        {
          "output_type": "stream",
          "name": "stdout",
          "text": [
            "MoviePy - Done.\n",
            "MoviePy - Writing audio in /content/drive/MyDrive/long_version_audio/MJRF0.wav\n"
          ]
        },
        {
          "output_type": "stream",
          "name": "stderr",
          "text": []
        },
        {
          "output_type": "stream",
          "name": "stdout",
          "text": [
            "MoviePy - Done.\n",
            "MoviePy - Writing audio in /content/drive/MyDrive/long_version_audio/FCRH0.wav\n"
          ]
        },
        {
          "output_type": "stream",
          "name": "stderr",
          "text": []
        },
        {
          "output_type": "stream",
          "name": "stdout",
          "text": [
            "MoviePy - Done.\n",
            "MoviePy - Writing audio in /content/drive/MyDrive/long_version_audio/MLLL0.wav\n"
          ]
        },
        {
          "output_type": "stream",
          "name": "stderr",
          "text": []
        },
        {
          "output_type": "stream",
          "name": "stdout",
          "text": [
            "MoviePy - Done.\n",
            "MoviePy - Writing audio in /content/drive/MyDrive/long_version_audio/FADG0.wav\n"
          ]
        },
        {
          "output_type": "stream",
          "name": "stderr",
          "text": []
        },
        {
          "output_type": "stream",
          "name": "stdout",
          "text": [
            "MoviePy - Done.\n",
            "MoviePy - Writing audio in /content/drive/MyDrive/long_version_audio/MKCL0.wav\n"
          ]
        },
        {
          "output_type": "stream",
          "name": "stderr",
          "text": []
        },
        {
          "output_type": "stream",
          "name": "stdout",
          "text": [
            "MoviePy - Done.\n",
            "MoviePy - Writing audio in /content/drive/MyDrive/long_version_audio/FJMG0.wav\n"
          ]
        },
        {
          "output_type": "stream",
          "name": "stderr",
          "text": []
        },
        {
          "output_type": "stream",
          "name": "stdout",
          "text": [
            "MoviePy - Done.\n",
            "MoviePy - Writing audio in /content/drive/MyDrive/long_version_audio/MTEB0.wav\n"
          ]
        },
        {
          "output_type": "stream",
          "name": "stderr",
          "text": []
        },
        {
          "output_type": "stream",
          "name": "stdout",
          "text": [
            "MoviePy - Done.\n",
            "MoviePy - Writing audio in /content/drive/MyDrive/long_version_audio/FMCM0.wav\n"
          ]
        },
        {
          "output_type": "stream",
          "name": "stderr",
          "text": []
        },
        {
          "output_type": "stream",
          "name": "stdout",
          "text": [
            "MoviePy - Done.\n",
            "MoviePy - Writing audio in /content/drive/MyDrive/long_version_audio/MDLS0.wav\n"
          ]
        },
        {
          "output_type": "stream",
          "name": "stderr",
          "text": []
        },
        {
          "output_type": "stream",
          "name": "stdout",
          "text": [
            "MoviePy - Done.\n",
            "MoviePy - Writing audio in /content/drive/MyDrive/long_version_audio/MDRM0.wav\n"
          ]
        },
        {
          "output_type": "stream",
          "name": "stderr",
          "text": []
        },
        {
          "output_type": "stream",
          "name": "stdout",
          "text": [
            "MoviePy - Done.\n",
            "MoviePy - Writing audio in /content/drive/MyDrive/long_version_audio/FDMS0.wav\n"
          ]
        },
        {
          "output_type": "stream",
          "name": "stderr",
          "text": []
        },
        {
          "output_type": "stream",
          "name": "stdout",
          "text": [
            "MoviePy - Done.\n",
            "MoviePy - Writing audio in /content/drive/MyDrive/long_version_audio/FEDW0.wav\n"
          ]
        },
        {
          "output_type": "stream",
          "name": "stderr",
          "text": []
        },
        {
          "output_type": "stream",
          "name": "stdout",
          "text": [
            "MoviePy - Done.\n",
            "MoviePy - Writing audio in /content/drive/MyDrive/long_version_audio/FGJD0.wav\n"
          ]
        },
        {
          "output_type": "stream",
          "name": "stderr",
          "text": []
        },
        {
          "output_type": "stream",
          "name": "stdout",
          "text": [
            "MoviePy - Done.\n",
            "MoviePy - Writing audio in /content/drive/MyDrive/long_version_audio/MLJB0.wav\n"
          ]
        },
        {
          "output_type": "stream",
          "name": "stderr",
          "text": []
        },
        {
          "output_type": "stream",
          "name": "stdout",
          "text": [
            "MoviePy - Done.\n",
            "MoviePy - Writing audio in /content/drive/MyDrive/long_version_audio/MROA0.wav\n"
          ]
        },
        {
          "output_type": "stream",
          "name": "stderr",
          "text": []
        },
        {
          "output_type": "stream",
          "name": "stdout",
          "text": [
            "MoviePy - Done.\n",
            "MoviePy - Writing audio in /content/drive/MyDrive/long_version_audio/FJLM0.wav\n"
          ]
        },
        {
          "output_type": "stream",
          "name": "stderr",
          "text": []
        },
        {
          "output_type": "stream",
          "name": "stdout",
          "text": [
            "MoviePy - Done.\n",
            "MoviePy - Writing audio in /content/drive/MyDrive/long_version_audio/FLBW0.wav\n"
          ]
        },
        {
          "output_type": "stream",
          "name": "stderr",
          "text": []
        },
        {
          "output_type": "stream",
          "name": "stdout",
          "text": [
            "MoviePy - Done.\n",
            "MoviePy - Writing audio in /content/drive/MyDrive/long_version_audio/MPWM0.wav\n"
          ]
        },
        {
          "output_type": "stream",
          "name": "stderr",
          "text": []
        },
        {
          "output_type": "stream",
          "name": "stdout",
          "text": [
            "MoviePy - Done.\n",
            "MoviePy - Writing audio in /content/drive/MyDrive/long_version_audio/FCFT0.wav\n"
          ]
        },
        {
          "output_type": "stream",
          "name": "stderr",
          "text": []
        },
        {
          "output_type": "stream",
          "name": "stdout",
          "text": [
            "MoviePy - Done.\n",
            "MoviePy - Writing audio in /content/drive/MyDrive/long_version_audio/MBNS0.wav\n"
          ]
        },
        {
          "output_type": "stream",
          "name": "stderr",
          "text": []
        },
        {
          "output_type": "stream",
          "name": "stdout",
          "text": [
            "MoviePy - Done.\n",
            "MoviePy - Writing audio in /content/drive/MyDrive/long_version_audio/MRKO0.wav\n"
          ]
        },
        {
          "output_type": "stream",
          "name": "stderr",
          "text": []
        },
        {
          "output_type": "stream",
          "name": "stdout",
          "text": [
            "MoviePy - Done.\n",
            "MoviePy - Writing audio in /content/drive/MyDrive/long_version_audio/FSEM0.wav\n"
          ]
        },
        {
          "output_type": "stream",
          "name": "stderr",
          "text": []
        },
        {
          "output_type": "stream",
          "name": "stdout",
          "text": [
            "MoviePy - Done.\n",
            "MoviePy - Writing audio in /content/drive/MyDrive/long_version_audio/MPCS0.wav\n"
          ]
        },
        {
          "output_type": "stream",
          "name": "stderr",
          "text": []
        },
        {
          "output_type": "stream",
          "name": "stdout",
          "text": [
            "MoviePy - Done.\n",
            "MoviePy - Writing audio in /content/drive/MyDrive/long_version_audio/MJDM1.wav\n"
          ]
        },
        {
          "output_type": "stream",
          "name": "stderr",
          "text": []
        },
        {
          "output_type": "stream",
          "name": "stdout",
          "text": [
            "MoviePy - Done.\n",
            "MoviePy - Writing audio in /content/drive/MyDrive/long_version_audio/FMAF0.wav\n"
          ]
        },
        {
          "output_type": "stream",
          "name": "stderr",
          "text": []
        },
        {
          "output_type": "stream",
          "name": "stdout",
          "text": [
            "MoviePy - Done.\n",
            "MoviePy - Writing audio in /content/drive/MyDrive/long_version_audio/MJVW0.wav\n"
          ]
        },
        {
          "output_type": "stream",
          "name": "stderr",
          "text": []
        },
        {
          "output_type": "stream",
          "name": "stdout",
          "text": [
            "MoviePy - Done.\n",
            "MoviePy - Writing audio in /content/drive/MyDrive/long_version_audio/MJMP0.wav\n"
          ]
        },
        {
          "output_type": "stream",
          "name": "stderr",
          "text": []
        },
        {
          "output_type": "stream",
          "name": "stdout",
          "text": [
            "MoviePy - Done.\n",
            "MoviePy - Writing audio in /content/drive/MyDrive/long_version_audio/MKCH0.wav\n"
          ]
        },
        {
          "output_type": "stream",
          "name": "stderr",
          "text": []
        },
        {
          "output_type": "stream",
          "name": "stdout",
          "text": [
            "MoviePy - Done.\n",
            "MoviePy - Writing audio in /content/drive/MyDrive/long_version_audio/MCSH0.wav\n"
          ]
        },
        {
          "output_type": "stream",
          "name": "stderr",
          "text": []
        },
        {
          "output_type": "stream",
          "name": "stdout",
          "text": [
            "MoviePy - Done.\n",
            "MoviePy - Writing audio in /content/drive/MyDrive/long_version_audio/MCTW0.wav\n"
          ]
        },
        {
          "output_type": "stream",
          "name": "stderr",
          "text": []
        },
        {
          "output_type": "stream",
          "name": "stdout",
          "text": [
            "MoviePy - Done.\n",
            "MoviePy - Writing audio in /content/drive/MyDrive/long_version_audio/MJBR0.wav\n"
          ]
        },
        {
          "output_type": "stream",
          "name": "stderr",
          "text": []
        },
        {
          "output_type": "stream",
          "name": "stdout",
          "text": [
            "MoviePy - Done.\n",
            "MoviePy - Writing audio in /content/drive/MyDrive/long_version_audio/FCMH0.wav\n"
          ]
        },
        {
          "output_type": "stream",
          "name": "stderr",
          "text": []
        },
        {
          "output_type": "stream",
          "name": "stdout",
          "text": [
            "MoviePy - Done.\n",
            "MoviePy - Writing audio in /content/drive/MyDrive/long_version_audio/MGLB0.wav\n"
          ]
        },
        {
          "output_type": "stream",
          "name": "stderr",
          "text": []
        },
        {
          "output_type": "stream",
          "name": "stdout",
          "text": [
            "MoviePy - Done.\n",
            "MoviePy - Writing audio in /content/drive/MyDrive/long_version_audio/MMJR0.wav\n"
          ]
        },
        {
          "output_type": "stream",
          "name": "stderr",
          "text": []
        },
        {
          "output_type": "stream",
          "name": "stdout",
          "text": [
            "MoviePy - Done.\n",
            "MoviePy - Writing audio in /content/drive/MyDrive/long_version_audio/MMAB0.wav\n"
          ]
        },
        {
          "output_type": "stream",
          "name": "stderr",
          "text": []
        },
        {
          "output_type": "stream",
          "name": "stdout",
          "text": [
            "MoviePy - Done.\n",
            "MoviePy - Writing audio in /content/drive/MyDrive/long_version_audio/MMWH0.wav\n"
          ]
        },
        {
          "output_type": "stream",
          "name": "stderr",
          "text": []
        },
        {
          "output_type": "stream",
          "name": "stdout",
          "text": [
            "MoviePy - Done.\n",
            "MoviePy - Writing audio in /content/drive/MyDrive/long_version_audio/MBDG0.wav\n"
          ]
        },
        {
          "output_type": "stream",
          "name": "stderr",
          "text": []
        },
        {
          "output_type": "stream",
          "name": "stdout",
          "text": [
            "MoviePy - Done.\n",
            "MoviePy - Writing audio in /content/drive/MyDrive/long_version_audio/MTAA0.wav\n"
          ]
        },
        {
          "output_type": "stream",
          "name": "stderr",
          "text": []
        },
        {
          "output_type": "stream",
          "name": "stdout",
          "text": [
            "MoviePy - Done.\n",
            "MoviePy - Writing audio in /content/drive/MyDrive/long_version_audio/MMDH0.wav\n"
          ]
        },
        {
          "output_type": "stream",
          "name": "stderr",
          "text": []
        },
        {
          "output_type": "stream",
          "name": "stdout",
          "text": [
            "MoviePy - Done.\n",
            "MoviePy - Writing audio in /content/drive/MyDrive/long_version_audio/MBWM0.wav\n"
          ]
        },
        {
          "output_type": "stream",
          "name": "stderr",
          "text": []
        },
        {
          "output_type": "stream",
          "name": "stdout",
          "text": [
            "MoviePy - Done.\n",
            "MoviePy - Writing audio in /content/drive/MyDrive/long_version_audio/MJES0.wav\n"
          ]
        },
        {
          "output_type": "stream",
          "name": "stderr",
          "text": []
        },
        {
          "output_type": "stream",
          "name": "stdout",
          "text": [
            "MoviePy - Done.\n",
            "MoviePy - Writing audio in /content/drive/MyDrive/long_version_audio/MHPG0.wav\n"
          ]
        },
        {
          "output_type": "stream",
          "name": "stderr",
          "text": []
        },
        {
          "output_type": "stream",
          "name": "stdout",
          "text": [
            "MoviePy - Done.\n",
            "MoviePy - Writing audio in /content/drive/MyDrive/long_version_audio/MGJF0.wav\n"
          ]
        },
        {
          "output_type": "stream",
          "name": "stderr",
          "text": []
        },
        {
          "output_type": "stream",
          "name": "stdout",
          "text": [
            "MoviePy - Done.\n",
            "MoviePy - Writing audio in /content/drive/MyDrive/long_version_audio/MWJG0.wav\n"
          ]
        },
        {
          "output_type": "stream",
          "name": "stderr",
          "text": []
        },
        {
          "output_type": "stream",
          "name": "stdout",
          "text": [
            "MoviePy - Done.\n",
            "MoviePy - Writing audio in /content/drive/MyDrive/long_version_audio/MRTK0.wav\n"
          ]
        },
        {
          "output_type": "stream",
          "name": "stderr",
          "text": []
        },
        {
          "output_type": "stream",
          "name": "stdout",
          "text": [
            "MoviePy - Done.\n",
            "MoviePy - Writing audio in /content/drive/MyDrive/long_version_audio/MTHC0.wav\n"
          ]
        },
        {
          "output_type": "stream",
          "name": "stderr",
          "text": []
        },
        {
          "output_type": "stream",
          "name": "stdout",
          "text": [
            "MoviePy - Done.\n",
            "MoviePy - Writing audio in /content/drive/MyDrive/long_version_audio/MJJG0.wav\n"
          ]
        },
        {
          "output_type": "stream",
          "name": "stderr",
          "text": []
        },
        {
          "output_type": "stream",
          "name": "stdout",
          "text": [
            "MoviePy - Done.\n",
            "MoviePy - Writing audio in /content/drive/MyDrive/long_version_audio/FPKT0.wav\n"
          ]
        },
        {
          "output_type": "stream",
          "name": "stderr",
          "text": []
        },
        {
          "output_type": "stream",
          "name": "stdout",
          "text": [
            "MoviePy - Done.\n",
            "MoviePy - Writing audio in /content/drive/MyDrive/long_version_audio/FKMS0.wav\n"
          ]
        },
        {
          "output_type": "stream",
          "name": "stderr",
          "text": []
        },
        {
          "output_type": "stream",
          "name": "stdout",
          "text": [
            "MoviePy - Done.\n",
            "MoviePy - Writing audio in /content/drive/MyDrive/long_version_audio/MLNT0.wav\n"
          ]
        },
        {
          "output_type": "stream",
          "name": "stderr",
          "text": []
        },
        {
          "output_type": "stream",
          "name": "stdout",
          "text": [
            "MoviePy - Done.\n",
            "MoviePy - Writing audio in /content/drive/MyDrive/long_version_audio/MTDT0.wav\n"
          ]
        },
        {
          "output_type": "stream",
          "name": "stderr",
          "text": []
        },
        {
          "output_type": "stream",
          "name": "stdout",
          "text": [
            "MoviePy - Done.\n",
            "MoviePy - Writing audio in /content/drive/MyDrive/long_version_audio/FSLB1.wav\n"
          ]
        },
        {
          "output_type": "stream",
          "name": "stderr",
          "text": []
        },
        {
          "output_type": "stream",
          "name": "stdout",
          "text": [
            "MoviePy - Done.\n",
            "MoviePy - Writing audio in /content/drive/MyDrive/long_version_audio/MRCZ0.wav\n"
          ]
        },
        {
          "output_type": "stream",
          "name": "stderr",
          "text": []
        },
        {
          "output_type": "stream",
          "name": "stdout",
          "text": [
            "MoviePy - Done.\n",
            "MoviePy - Writing audio in /content/drive/MyDrive/long_version_audio/MTMR0.wav\n"
          ]
        },
        {
          "output_type": "stream",
          "name": "stderr",
          "text": []
        },
        {
          "output_type": "stream",
          "name": "stdout",
          "text": [
            "MoviePy - Done.\n",
            "MoviePy - Writing audio in /content/drive/MyDrive/long_version_audio/MWVW0.wav\n"
          ]
        },
        {
          "output_type": "stream",
          "name": "stderr",
          "text": []
        },
        {
          "output_type": "stream",
          "name": "stdout",
          "text": [
            "MoviePy - Done.\n",
            "MoviePy - Writing audio in /content/drive/MyDrive/long_version_audio/MDLD0.wav\n"
          ]
        },
        {
          "output_type": "stream",
          "name": "stderr",
          "text": []
        },
        {
          "output_type": "stream",
          "name": "stdout",
          "text": [
            "MoviePy - Done.\n",
            "MoviePy - Writing audio in /content/drive/MyDrive/long_version_audio/FDRD1.wav\n"
          ]
        },
        {
          "output_type": "stream",
          "name": "stderr",
          "text": []
        },
        {
          "output_type": "stream",
          "name": "stdout",
          "text": [
            "MoviePy - Done.\n",
            "MoviePy - Writing audio in /content/drive/MyDrive/long_version_audio/FJWB0.wav\n"
          ]
        },
        {
          "output_type": "stream",
          "name": "stderr",
          "text": []
        },
        {
          "output_type": "stream",
          "name": "stdout",
          "text": [
            "MoviePy - Done.\n",
            "MoviePy - Writing audio in /content/drive/MyDrive/long_version_audio/MTAS1.wav\n"
          ]
        },
        {
          "output_type": "stream",
          "name": "stderr",
          "text": []
        },
        {
          "output_type": "stream",
          "name": "stdout",
          "text": [
            "MoviePy - Done.\n",
            "MoviePy - Writing audio in /content/drive/MyDrive/long_version_audio/FJAS0.wav\n"
          ]
        },
        {
          "output_type": "stream",
          "name": "stderr",
          "text": []
        },
        {
          "output_type": "stream",
          "name": "stdout",
          "text": [
            "MoviePy - Done.\n",
            "MoviePy - Writing audio in /content/drive/MyDrive/long_version_audio/MGWT0.wav\n"
          ]
        },
        {
          "output_type": "stream",
          "name": "stderr",
          "text": []
        },
        {
          "output_type": "stream",
          "name": "stdout",
          "text": [
            "MoviePy - Done.\n",
            "MoviePy - Writing audio in /content/drive/MyDrive/long_version_audio/MJAR0.wav\n"
          ]
        },
        {
          "output_type": "stream",
          "name": "stderr",
          "text": []
        },
        {
          "output_type": "stream",
          "name": "stdout",
          "text": [
            "MoviePy - Done.\n",
            "MoviePy - Writing audio in /content/drive/MyDrive/long_version_audio/FPAS0.wav\n"
          ]
        },
        {
          "output_type": "stream",
          "name": "stderr",
          "text": []
        },
        {
          "output_type": "stream",
          "name": "stdout",
          "text": [
            "MoviePy - Done.\n",
            "MoviePy - Writing audio in /content/drive/MyDrive/long_version_audio/MCEM0.wav\n"
          ]
        },
        {
          "output_type": "stream",
          "name": "stderr",
          "text": []
        },
        {
          "output_type": "stream",
          "name": "stdout",
          "text": [
            "MoviePy - Done.\n",
            "MoviePy - Writing audio in /content/drive/MyDrive/long_version_audio/FCMR0.wav\n"
          ]
        },
        {
          "output_type": "stream",
          "name": "stderr",
          "text": []
        },
        {
          "output_type": "stream",
          "name": "stdout",
          "text": [
            "MoviePy - Done.\n",
            "MoviePy - Writing audio in /content/drive/MyDrive/long_version_audio/MPGL0.wav\n"
          ]
        },
        {
          "output_type": "stream",
          "name": "stderr",
          "text": []
        },
        {
          "output_type": "stream",
          "name": "stdout",
          "text": [
            "MoviePy - Done.\n",
            "MoviePy - Writing audio in /content/drive/MyDrive/long_version_audio/MMDM2.wav\n"
          ]
        },
        {
          "output_type": "stream",
          "name": "stderr",
          "text": []
        },
        {
          "output_type": "stream",
          "name": "stdout",
          "text": [
            "MoviePy - Done.\n",
            "MoviePy - Writing audio in /content/drive/MyDrive/long_version_audio/MMDB1.wav\n"
          ]
        },
        {
          "output_type": "stream",
          "name": "stderr",
          "text": []
        },
        {
          "output_type": "stream",
          "name": "stdout",
          "text": [
            "MoviePy - Done.\n",
            "MoviePy - Writing audio in /content/drive/MyDrive/long_version_audio/MCCS0.wav\n"
          ]
        },
        {
          "output_type": "stream",
          "name": "stderr",
          "text": []
        },
        {
          "output_type": "stream",
          "name": "stdout",
          "text": [
            "MoviePy - Done.\n",
            "MoviePy - Writing audio in /content/drive/MyDrive/long_version_audio/MRGG0.wav\n"
          ]
        },
        {
          "output_type": "stream",
          "name": "stderr",
          "text": []
        },
        {
          "output_type": "stream",
          "name": "stdout",
          "text": [
            "MoviePy - Done.\n",
            "MoviePy - Writing audio in /content/drive/MyDrive/long_version_audio/MDBB0.wav\n"
          ]
        },
        {
          "output_type": "stream",
          "name": "stderr",
          "text": []
        },
        {
          "output_type": "stream",
          "name": "stdout",
          "text": [
            "MoviePy - Done.\n",
            "MoviePy - Writing audio in /content/drive/MyDrive/long_version_audio/MABW0.wav\n"
          ]
        },
        {
          "output_type": "stream",
          "name": "stderr",
          "text": []
        },
        {
          "output_type": "stream",
          "name": "stdout",
          "text": [
            "MoviePy - Done.\n",
            "MoviePy - Writing audio in /content/drive/MyDrive/long_version_audio/MWEW0.wav\n"
          ]
        },
        {
          "output_type": "stream",
          "name": "stderr",
          "text": []
        },
        {
          "output_type": "stream",
          "name": "stdout",
          "text": [
            "MoviePy - Done.\n",
            "MoviePy - Writing audio in /content/drive/MyDrive/long_version_audio/MPDF0.wav\n"
          ]
        },
        {
          "output_type": "stream",
          "name": "stderr",
          "text": []
        },
        {
          "output_type": "stream",
          "name": "stdout",
          "text": [
            "MoviePy - Done.\n",
            "MoviePy - Writing audio in /content/drive/MyDrive/long_version_audio/MBJK0.wav\n"
          ]
        },
        {
          "output_type": "stream",
          "name": "stderr",
          "text": []
        },
        {
          "output_type": "stream",
          "name": "stdout",
          "text": [
            "MoviePy - Done.\n",
            "MoviePy - Writing audio in /content/drive/MyDrive/long_version_audio/FRAM1.wav\n"
          ]
        },
        {
          "output_type": "stream",
          "name": "stderr",
          "text": []
        },
        {
          "output_type": "stream",
          "name": "stdout",
          "text": [
            "MoviePy - Done.\n",
            "MoviePy - Writing audio in /content/drive/MyDrive/long_version_audio/FJRE0.wav\n"
          ]
        },
        {
          "output_type": "stream",
          "name": "stderr",
          "text": []
        },
        {
          "output_type": "stream",
          "name": "stdout",
          "text": [
            "MoviePy - Done.\n",
            "MoviePy - Writing audio in /content/drive/MyDrive/long_version_audio/FNLP0.wav\n"
          ]
        },
        {
          "output_type": "stream",
          "name": "stderr",
          "text": []
        },
        {
          "output_type": "stream",
          "name": "stdout",
          "text": [
            "MoviePy - Done.\n",
            "MoviePy - Writing audio in /content/drive/MyDrive/long_version_audio/MDRB0.wav\n"
          ]
        },
        {
          "output_type": "stream",
          "name": "stderr",
          "text": []
        },
        {
          "output_type": "stream",
          "name": "stdout",
          "text": [
            "MoviePy - Done.\n",
            "MoviePy - Writing audio in /content/drive/MyDrive/long_version_audio/MCRC0.wav\n"
          ]
        },
        {
          "output_type": "stream",
          "name": "stderr",
          "text": []
        },
        {
          "output_type": "stream",
          "name": "stdout",
          "text": [
            "MoviePy - Done.\n",
            "MoviePy - Writing audio in /content/drive/MyDrive/long_version_audio/MCTT0.wav\n"
          ]
        },
        {
          "output_type": "stream",
          "name": "stderr",
          "text": []
        },
        {
          "output_type": "stream",
          "name": "stdout",
          "text": [
            "MoviePy - Done.\n",
            "MoviePy - Writing audio in /content/drive/MyDrive/long_version_audio/FJSA0.wav\n"
          ]
        },
        {
          "output_type": "stream",
          "name": "stderr",
          "text": []
        },
        {
          "output_type": "stream",
          "name": "stdout",
          "text": [
            "MoviePy - Done.\n",
            "MoviePy - Writing audio in /content/drive/MyDrive/long_version_audio/FAWF0.wav\n"
          ]
        },
        {
          "output_type": "stream",
          "name": "stderr",
          "text": []
        },
        {
          "output_type": "stream",
          "name": "stdout",
          "text": [
            "MoviePy - Done.\n",
            "MoviePy - Writing audio in /content/drive/MyDrive/long_version_audio/MRRK0.wav\n"
          ]
        },
        {
          "output_type": "stream",
          "name": "stderr",
          "text": []
        },
        {
          "output_type": "stream",
          "name": "stdout",
          "text": [
            "MoviePy - Done.\n",
            "MoviePy - Writing audio in /content/drive/MyDrive/long_version_audio/MRJM3.wav\n"
          ]
        },
        {
          "output_type": "stream",
          "name": "stderr",
          "text": []
        },
        {
          "output_type": "stream",
          "name": "stdout",
          "text": [
            "MoviePy - Done.\n",
            "MoviePy - Writing audio in /content/drive/MyDrive/long_version_audio/FASW0.wav\n"
          ]
        },
        {
          "output_type": "stream",
          "name": "stderr",
          "text": []
        },
        {
          "output_type": "stream",
          "name": "stdout",
          "text": [
            "MoviePy - Done.\n",
            "MoviePy - Writing audio in /content/drive/MyDrive/long_version_audio/FMAH0.wav\n"
          ]
        },
        {
          "output_type": "stream",
          "name": "stderr",
          "text": []
        },
        {
          "output_type": "stream",
          "name": "stdout",
          "text": [
            "MoviePy - Done.\n",
            "MoviePy - Writing audio in /content/drive/MyDrive/long_version_audio/MKLT0.wav\n"
          ]
        },
        {
          "output_type": "stream",
          "name": "stderr",
          "text": []
        },
        {
          "output_type": "stream",
          "name": "stdout",
          "text": [
            "MoviePy - Done.\n",
            "MoviePy - Writing audio in /content/drive/MyDrive/long_version_audio/MCMB0.wav\n"
          ]
        },
        {
          "output_type": "stream",
          "name": "stderr",
          "text": []
        },
        {
          "output_type": "stream",
          "name": "stdout",
          "text": [
            "MoviePy - Done.\n",
            "MoviePy - Writing audio in /content/drive/MyDrive/long_version_audio/MAHH0.wav\n"
          ]
        },
        {
          "output_type": "stream",
          "name": "stderr",
          "text": []
        },
        {
          "output_type": "stream",
          "name": "stdout",
          "text": [
            "MoviePy - Done.\n",
            "MoviePy - Writing audio in /content/drive/MyDrive/long_version_audio/MDAC2.wav\n"
          ]
        },
        {
          "output_type": "stream",
          "name": "stderr",
          "text": []
        },
        {
          "output_type": "stream",
          "name": "stdout",
          "text": [
            "MoviePy - Done.\n",
            "MoviePy - Writing audio in /content/drive/MyDrive/long_version_audio/FHES0.wav\n"
          ]
        },
        {
          "output_type": "stream",
          "name": "stderr",
          "text": []
        },
        {
          "output_type": "stream",
          "name": "stdout",
          "text": [
            "MoviePy - Done.\n",
            "MoviePy - Writing audio in /content/drive/MyDrive/long_version_audio/MRWS1.wav\n"
          ]
        },
        {
          "output_type": "stream",
          "name": "stderr",
          "text": []
        },
        {
          "output_type": "stream",
          "name": "stdout",
          "text": [
            "MoviePy - Done.\n",
            "MoviePy - Writing audio in /content/drive/MyDrive/long_version_audio/MFGK0.wav\n"
          ]
        },
        {
          "output_type": "stream",
          "name": "stderr",
          "text": []
        },
        {
          "output_type": "stream",
          "name": "stdout",
          "text": [
            "MoviePy - Done.\n",
            "MoviePy - Writing audio in /content/drive/MyDrive/long_version_audio/FCAL1.wav\n"
          ]
        },
        {
          "output_type": "stream",
          "name": "stderr",
          "text": []
        },
        {
          "output_type": "stream",
          "name": "stdout",
          "text": [
            "MoviePy - Done.\n",
            "MoviePy - Writing audio in /content/drive/MyDrive/long_version_audio/FGMD0.wav\n"
          ]
        },
        {
          "output_type": "stream",
          "name": "stderr",
          "text": []
        },
        {
          "output_type": "stream",
          "name": "stdout",
          "text": [
            "MoviePy - Done.\n",
            "MoviePy - Writing audio in /content/drive/MyDrive/long_version_audio/MSFH1.wav\n"
          ]
        },
        {
          "output_type": "stream",
          "name": "stderr",
          "text": []
        },
        {
          "output_type": "stream",
          "name": "stdout",
          "text": [
            "MoviePy - Done.\n",
            "MoviePy - Writing audio in /content/drive/MyDrive/long_version_audio/MDWA0.wav\n"
          ]
        },
        {
          "output_type": "stream",
          "name": "stderr",
          "text": []
        },
        {
          "output_type": "stream",
          "name": "stdout",
          "text": [
            "MoviePy - Done.\n",
            "MoviePy - Writing audio in /content/drive/MyDrive/long_version_audio/FJCS0.wav\n"
          ]
        },
        {
          "output_type": "stream",
          "name": "stderr",
          "text": []
        },
        {
          "output_type": "stream",
          "name": "stdout",
          "text": [
            "MoviePy - Done.\n",
            "MoviePy - Writing audio in /content/drive/MyDrive/long_version_audio/MBPM0.wav\n"
          ]
        },
        {
          "output_type": "stream",
          "name": "stderr",
          "text": []
        },
        {
          "output_type": "stream",
          "name": "stdout",
          "text": [
            "MoviePy - Done.\n",
            "MoviePy - Writing audio in /content/drive/MyDrive/long_version_audio/MDWK0.wav\n"
          ]
        },
        {
          "output_type": "stream",
          "name": "stderr",
          "text": []
        },
        {
          "output_type": "stream",
          "name": "stdout",
          "text": [
            "MoviePy - Done.\n",
            "MoviePy - Writing audio in /content/drive/MyDrive/long_version_audio/MLIH0.wav\n"
          ]
        },
        {
          "output_type": "stream",
          "name": "stderr",
          "text": []
        },
        {
          "output_type": "stream",
          "name": "stdout",
          "text": [
            "MoviePy - Done.\n",
            "MoviePy - Writing audio in /content/drive/MyDrive/long_version_audio/FHEW0.wav\n"
          ]
        },
        {
          "output_type": "stream",
          "name": "stderr",
          "text": []
        },
        {
          "output_type": "stream",
          "name": "stdout",
          "text": [
            "MoviePy - Done.\n",
            "MoviePy - Writing audio in /content/drive/MyDrive/long_version_audio/MRPP0.wav\n"
          ]
        },
        {
          "output_type": "stream",
          "name": "stderr",
          "text": []
        },
        {
          "output_type": "stream",
          "name": "stdout",
          "text": [
            "MoviePy - Done.\n",
            "MoviePy - Writing audio in /content/drive/MyDrive/long_version_audio/FUTB0.wav\n"
          ]
        },
        {
          "output_type": "stream",
          "name": "stderr",
          "text": []
        },
        {
          "output_type": "stream",
          "name": "stdout",
          "text": [
            "MoviePy - Done.\n",
            "MoviePy - Writing audio in /content/drive/MyDrive/long_version_audio/MERS0.wav\n"
          ]
        },
        {
          "output_type": "stream",
          "name": "stderr",
          "text": []
        },
        {
          "output_type": "stream",
          "name": "stdout",
          "text": [
            "MoviePy - Done.\n",
            "MoviePy - Writing audio in /content/drive/MyDrive/long_version_audio/MRMS1.wav\n"
          ]
        },
        {
          "output_type": "stream",
          "name": "stderr",
          "text": []
        },
        {
          "output_type": "stream",
          "name": "stdout",
          "text": [
            "MoviePy - Done.\n",
            "MoviePy - Writing audio in /content/drive/MyDrive/long_version_audio/MRCS0.wav\n"
          ]
        },
        {
          "output_type": "stream",
          "name": "stderr",
          "text": []
        },
        {
          "output_type": "stream",
          "name": "stdout",
          "text": [
            "MoviePy - Done.\n",
            "MoviePy - Writing audio in /content/drive/MyDrive/long_version_audio/FGWR0.wav\n"
          ]
        },
        {
          "output_type": "stream",
          "name": "stderr",
          "text": []
        },
        {
          "output_type": "stream",
          "name": "stdout",
          "text": [
            "MoviePy - Done.\n",
            "MoviePy - Writing audio in /content/drive/MyDrive/long_version_audio/MKJL0.wav\n"
          ]
        },
        {
          "output_type": "stream",
          "name": "stderr",
          "text": []
        },
        {
          "output_type": "stream",
          "name": "stdout",
          "text": [
            "MoviePy - Done.\n",
            "MoviePy - Writing audio in /content/drive/MyDrive/long_version_audio/MRPC0.wav\n"
          ]
        },
        {
          "output_type": "stream",
          "name": "stderr",
          "text": []
        },
        {
          "output_type": "stream",
          "name": "stdout",
          "text": [
            "MoviePy - Done.\n",
            "MoviePy - Writing audio in /content/drive/MyDrive/long_version_audio/MCHH0.wav\n"
          ]
        },
        {
          "output_type": "stream",
          "name": "stderr",
          "text": []
        },
        {
          "output_type": "stream",
          "name": "stdout",
          "text": [
            "MoviePy - Done.\n",
            "MoviePy - Writing audio in /content/drive/MyDrive/long_version_audio/MTWH0.wav\n"
          ]
        },
        {
          "output_type": "stream",
          "name": "stderr",
          "text": []
        },
        {
          "output_type": "stream",
          "name": "stdout",
          "text": [
            "MoviePy - Done.\n",
            "MoviePy - Writing audio in /content/drive/MyDrive/long_version_audio/FMML0.wav\n"
          ]
        },
        {
          "output_type": "stream",
          "name": "stderr",
          "text": []
        },
        {
          "output_type": "stream",
          "name": "stdout",
          "text": [
            "MoviePy - Done.\n",
            "MoviePy - Writing audio in /content/drive/MyDrive/long_version_audio/FCAU0.wav\n"
          ]
        },
        {
          "output_type": "stream",
          "name": "stderr",
          "text": []
        },
        {
          "output_type": "stream",
          "name": "stdout",
          "text": [
            "MoviePy - Done.\n",
            "MoviePy - Writing audio in /content/drive/MyDrive/long_version_audio/MRJM4.wav\n"
          ]
        },
        {
          "output_type": "stream",
          "name": "stderr",
          "text": []
        },
        {
          "output_type": "stream",
          "name": "stdout",
          "text": [
            "MoviePy - Done.\n",
            "MoviePy - Writing audio in /content/drive/MyDrive/long_version_audio/MPAB0.wav\n"
          ]
        },
        {
          "output_type": "stream",
          "name": "stderr",
          "text": []
        },
        {
          "output_type": "stream",
          "name": "stdout",
          "text": [
            "MoviePy - Done.\n",
            "MoviePy - Writing audio in /content/drive/MyDrive/long_version_audio/MKDR0.wav\n"
          ]
        },
        {
          "output_type": "stream",
          "name": "stderr",
          "text": []
        },
        {
          "output_type": "stream",
          "name": "stdout",
          "text": [
            "MoviePy - Done.\n",
            "MoviePy - Writing audio in /content/drive/MyDrive/long_version_audio/FLAS0.wav\n"
          ]
        },
        {
          "output_type": "stream",
          "name": "stderr",
          "text": []
        },
        {
          "output_type": "stream",
          "name": "stdout",
          "text": [
            "MoviePy - Done.\n",
            "MoviePy - Writing audio in /content/drive/MyDrive/long_version_audio/FDHC0.wav\n"
          ]
        },
        {
          "output_type": "stream",
          "name": "stderr",
          "text": []
        },
        {
          "output_type": "stream",
          "name": "stdout",
          "text": [
            "MoviePy - Done.\n",
            "MoviePy - Writing audio in /content/drive/MyDrive/long_version_audio/MGRT0.wav\n"
          ]
        },
        {
          "output_type": "stream",
          "name": "stderr",
          "text": []
        },
        {
          "output_type": "stream",
          "name": "stdout",
          "text": [
            "MoviePy - Done.\n",
            "MoviePy - Writing audio in /content/drive/MyDrive/long_version_audio/FISB0.wav\n"
          ]
        },
        {
          "output_type": "stream",
          "name": "stderr",
          "text": []
        },
        {
          "output_type": "stream",
          "name": "stdout",
          "text": [
            "MoviePy - Done.\n",
            "MoviePy - Writing audio in /content/drive/MyDrive/long_version_audio/FSXA0.wav\n"
          ]
        },
        {
          "output_type": "stream",
          "name": "stderr",
          "text": []
        },
        {
          "output_type": "stream",
          "name": "stdout",
          "text": [
            "MoviePy - Done.\n",
            "MoviePy - Writing audio in /content/drive/MyDrive/long_version_audio/MNLS0.wav\n"
          ]
        },
        {
          "output_type": "stream",
          "name": "stderr",
          "text": []
        },
        {
          "output_type": "stream",
          "name": "stdout",
          "text": [
            "MoviePy - Done.\n",
            "MoviePy - Writing audio in /content/drive/MyDrive/long_version_audio/MDLF0.wav\n"
          ]
        },
        {
          "output_type": "stream",
          "name": "stderr",
          "text": []
        },
        {
          "output_type": "stream",
          "name": "stdout",
          "text": [
            "MoviePy - Done.\n",
            "MoviePy - Writing audio in /content/drive/MyDrive/long_version_audio/FTLH0.wav\n"
          ]
        },
        {
          "output_type": "stream",
          "name": "stderr",
          "text": []
        },
        {
          "output_type": "stream",
          "name": "stdout",
          "text": [
            "MoviePy - Done.\n",
            "MoviePy - Writing audio in /content/drive/MyDrive/long_version_audio/MDVC0.wav\n"
          ]
        },
        {
          "output_type": "stream",
          "name": "stderr",
          "text": []
        },
        {
          "output_type": "stream",
          "name": "stdout",
          "text": [
            "MoviePy - Done.\n",
            "MoviePy - Writing audio in /content/drive/MyDrive/long_version_audio/MNJM0.wav\n"
          ]
        },
        {
          "output_type": "stream",
          "name": "stderr",
          "text": []
        },
        {
          "output_type": "stream",
          "name": "stdout",
          "text": [
            "MoviePy - Done.\n",
            "MoviePy - Writing audio in /content/drive/MyDrive/long_version_audio/MJFC0.wav\n"
          ]
        },
        {
          "output_type": "stream",
          "name": "stderr",
          "text": []
        },
        {
          "output_type": "stream",
          "name": "stdout",
          "text": [
            "MoviePy - Done.\n",
            "MoviePy - Writing audio in /content/drive/MyDrive/long_version_audio/MDSC0.wav\n"
          ]
        },
        {
          "output_type": "stream",
          "name": "stderr",
          "text": []
        },
        {
          "output_type": "stream",
          "name": "stdout",
          "text": [
            "MoviePy - Done.\n",
            "MoviePy - Writing audio in /content/drive/MyDrive/long_version_audio/MRJS0.wav\n"
          ]
        },
        {
          "output_type": "stream",
          "name": "stderr",
          "text": []
        },
        {
          "output_type": "stream",
          "name": "stdout",
          "text": [
            "MoviePy - Done.\n",
            "MoviePy - Writing audio in /content/drive/MyDrive/long_version_audio/FLNH0.wav\n"
          ]
        },
        {
          "output_type": "stream",
          "name": "stderr",
          "text": []
        },
        {
          "output_type": "stream",
          "name": "stdout",
          "text": [
            "MoviePy - Done.\n",
            "MoviePy - Writing audio in /content/drive/MyDrive/long_version_audio/MJDH0.wav\n"
          ]
        },
        {
          "output_type": "stream",
          "name": "stderr",
          "text": []
        },
        {
          "output_type": "stream",
          "name": "stdout",
          "text": [
            "MoviePy - Done.\n",
            "MoviePy - Writing audio in /content/drive/MyDrive/long_version_audio/MESD0.wav\n"
          ]
        },
        {
          "output_type": "stream",
          "name": "stderr",
          "text": []
        },
        {
          "output_type": "stream",
          "name": "stdout",
          "text": [
            "MoviePy - Done.\n",
            "MoviePy - Writing audio in /content/drive/MyDrive/long_version_audio/MCMJ0.wav\n"
          ]
        },
        {
          "output_type": "stream",
          "name": "stderr",
          "text": []
        },
        {
          "output_type": "stream",
          "name": "stdout",
          "text": [
            "MoviePy - Done.\n",
            "MoviePy - Writing audio in /content/drive/MyDrive/long_version_audio/FMGD0.wav\n"
          ]
        },
        {
          "output_type": "stream",
          "name": "stderr",
          "text": []
        },
        {
          "output_type": "stream",
          "name": "stdout",
          "text": [
            "MoviePy - Done.\n",
            "MoviePy - Writing audio in /content/drive/MyDrive/long_version_audio/FDRW0.wav\n"
          ]
        },
        {
          "output_type": "stream",
          "name": "stderr",
          "text": []
        },
        {
          "output_type": "stream",
          "name": "stdout",
          "text": [
            "MoviePy - Done.\n",
            "MoviePy - Writing audio in /content/drive/MyDrive/long_version_audio/MRJR0.wav\n"
          ]
        },
        {
          "output_type": "stream",
          "name": "stderr",
          "text": []
        },
        {
          "output_type": "stream",
          "name": "stdout",
          "text": [
            "MoviePy - Done.\n",
            "MoviePy - Writing audio in /content/drive/MyDrive/long_version_audio/MPAM1.wav\n"
          ]
        },
        {
          "output_type": "stream",
          "name": "stderr",
          "text": []
        },
        {
          "output_type": "stream",
          "name": "stdout",
          "text": [
            "MoviePy - Done.\n",
            "MoviePy - Writing audio in /content/drive/MyDrive/long_version_audio/MRJO0.wav\n"
          ]
        },
        {
          "output_type": "stream",
          "name": "stderr",
          "text": []
        },
        {
          "output_type": "stream",
          "name": "stdout",
          "text": [
            "MoviePy - Done.\n",
            "MoviePy - Writing audio in /content/drive/MyDrive/long_version_audio/FAKS0.wav\n"
          ]
        },
        {
          "output_type": "stream",
          "name": "stderr",
          "text": []
        },
        {
          "output_type": "stream",
          "name": "stdout",
          "text": [
            "MoviePy - Done.\n",
            "MoviePy - Writing audio in /content/drive/MyDrive/long_version_audio/MSJS1.wav\n"
          ]
        },
        {
          "output_type": "stream",
          "name": "stderr",
          "text": []
        },
        {
          "output_type": "stream",
          "name": "stdout",
          "text": [
            "MoviePy - Done.\n",
            "MoviePy - Writing audio in /content/drive/MyDrive/long_version_audio/MWBT0.wav\n"
          ]
        },
        {
          "output_type": "stream",
          "name": "stderr",
          "text": []
        },
        {
          "output_type": "stream",
          "name": "stdout",
          "text": [
            "MoviePy - Done.\n",
            "MoviePy - Writing audio in /content/drive/MyDrive/long_version_audio/MREB0.wav\n"
          ]
        },
        {
          "output_type": "stream",
          "name": "stderr",
          "text": []
        },
        {
          "output_type": "stream",
          "name": "stdout",
          "text": [
            "MoviePy - Done.\n",
            "MoviePy - Writing audio in /content/drive/MyDrive/long_version_audio/FELC0.wav\n"
          ]
        },
        {
          "output_type": "stream",
          "name": "stderr",
          "text": []
        },
        {
          "output_type": "stream",
          "name": "stdout",
          "text": [
            "MoviePy - Done.\n",
            "MoviePy - Writing audio in /content/drive/MyDrive/long_version_audio/FDAC1.wav\n"
          ]
        },
        {
          "output_type": "stream",
          "name": "stderr",
          "text": []
        },
        {
          "output_type": "stream",
          "name": "stdout",
          "text": [
            "MoviePy - Done.\n",
            "MoviePy - Writing audio in /content/drive/MyDrive/long_version_audio/MJSW0.wav\n"
          ]
        },
        {
          "output_type": "stream",
          "name": "stderr",
          "text": []
        },
        {
          "output_type": "stream",
          "name": "stdout",
          "text": [
            "MoviePy - Done.\n",
            "MoviePy - Writing audio in /content/drive/MyDrive/long_version_audio/FJEM0.wav\n"
          ]
        },
        {
          "output_type": "stream",
          "name": "stderr",
          "text": []
        },
        {
          "output_type": "stream",
          "name": "stdout",
          "text": [
            "MoviePy - Done.\n",
            "MoviePy - Writing audio in /content/drive/MyDrive/long_version_audio/MDAB0.wav\n"
          ]
        },
        {
          "output_type": "stream",
          "name": "stderr",
          "text": []
        },
        {
          "output_type": "stream",
          "name": "stdout",
          "text": [
            "MoviePy - Done.\n",
            "MoviePy - Writing audio in /content/drive/MyDrive/long_version_audio/MSTK0.wav\n"
          ]
        },
        {
          "output_type": "stream",
          "name": "stderr",
          "text": []
        },
        {
          "output_type": "stream",
          "name": "stdout",
          "text": [
            "MoviePy - Done.\n",
            "MoviePy - Writing audio in /content/drive/MyDrive/long_version_audio/MJTC0.wav\n"
          ]
        },
        {
          "output_type": "stream",
          "name": "stderr",
          "text": []
        },
        {
          "output_type": "stream",
          "name": "stdout",
          "text": [
            "MoviePy - Done.\n",
            "MoviePy - Writing audio in /content/drive/MyDrive/long_version_audio/FMLD0.wav\n"
          ]
        },
        {
          "output_type": "stream",
          "name": "stderr",
          "text": []
        },
        {
          "output_type": "stream",
          "name": "stdout",
          "text": [
            "MoviePy - Done.\n",
            "MoviePy - Writing audio in /content/drive/MyDrive/long_version_audio/FCMH1.wav\n"
          ]
        },
        {
          "output_type": "stream",
          "name": "stderr",
          "text": []
        },
        {
          "output_type": "stream",
          "name": "stdout",
          "text": [
            "MoviePy - Done.\n",
            "MoviePy - Writing audio in /content/drive/MyDrive/long_version_audio/MJLN0.wav\n"
          ]
        },
        {
          "output_type": "stream",
          "name": "stderr",
          "text": []
        },
        {
          "output_type": "stream",
          "name": "stdout",
          "text": [
            "MoviePy - Done.\n",
            "MoviePy - Writing audio in /content/drive/MyDrive/long_version_audio/MRES0.wav\n"
          ]
        },
        {
          "output_type": "stream",
          "name": "stderr",
          "text": []
        },
        {
          "output_type": "stream",
          "name": "stdout",
          "text": [
            "MoviePy - Done.\n",
            "MoviePy - Writing audio in /content/drive/MyDrive/long_version_audio/FJSJ0.wav\n"
          ]
        },
        {
          "output_type": "stream",
          "name": "stderr",
          "text": []
        },
        {
          "output_type": "stream",
          "name": "stdout",
          "text": [
            "MoviePy - Done.\n",
            "MoviePy - Writing audio in /content/drive/MyDrive/long_version_audio/MDAW1.wav\n"
          ]
        },
        {
          "output_type": "stream",
          "name": "stderr",
          "text": []
        },
        {
          "output_type": "stream",
          "name": "stdout",
          "text": [
            "MoviePy - Done.\n",
            "MoviePy - Writing audio in /content/drive/MyDrive/long_version_audio/MSLB0.wav\n"
          ]
        },
        {
          "output_type": "stream",
          "name": "stderr",
          "text": []
        },
        {
          "output_type": "stream",
          "name": "stdout",
          "text": [
            "MoviePy - Done.\n",
            "MoviePy - Writing audio in /content/drive/MyDrive/long_version_audio/MJTH0.wav\n"
          ]
        },
        {
          "output_type": "stream",
          "name": "stderr",
          "text": []
        },
        {
          "output_type": "stream",
          "name": "stdout",
          "text": [
            "MoviePy - Done.\n",
            "MoviePy - Writing audio in /content/drive/MyDrive/long_version_audio/MAJC0.wav\n"
          ]
        },
        {
          "output_type": "stream",
          "name": "stderr",
          "text": []
        },
        {
          "output_type": "stream",
          "name": "stdout",
          "text": [
            "MoviePy - Done.\n",
            "MoviePy - Writing audio in /content/drive/MyDrive/long_version_audio/MPAM0.wav\n"
          ]
        },
        {
          "output_type": "stream",
          "name": "stderr",
          "text": [
            "                                                                    "
          ]
        },
        {
          "output_type": "stream",
          "name": "stdout",
          "text": [
            "MoviePy - Done.\n"
          ]
        },
        {
          "output_type": "stream",
          "name": "stderr",
          "text": [
            "\r"
          ]
        }
      ],
      "source": [
        "#convert the short audio files to long ones for all of the audio files\n",
        "for key, value in speaker_id_dic.items():\n",
        "  files = speaker_id_dic[key]\n",
        "  clips = [AudioFileClip(c) for c in files]\n",
        "  final_clip = concatenate_audioclips(clips)\n",
        "  final_clip.write_audiofile(f\"/content/drive/MyDrive/long_version_audio/{key}.wav\")"
      ]
    },
    {
      "cell_type": "code",
      "execution_count": null,
      "metadata": {
        "id": "GE3brDeFIiyL"
      },
      "outputs": [],
      "source": [
        "text_files = [i for i in df.path_from_data_dir if i.endswith('TXT')]"
      ]
    },
    {
      "cell_type": "code",
      "execution_count": null,
      "metadata": {
        "id": "n0pGVp8IIqBq"
      },
      "outputs": [],
      "source": [
        "text_list = []\n",
        "for file in text_files:\n",
        "  with open(file) as f:\n",
        "    lines = f.readlines()\n",
        "    text_list.append(lines)"
      ]
    },
    {
      "cell_type": "code",
      "execution_count": null,
      "metadata": {
        "id": "7DLBm1FuLcu5"
      },
      "outputs": [],
      "source": [
        "final_text = []\n",
        "for i in range(len(text_list)):\n",
        "  text = text_list[i][0].split(' ')[2:]\n",
        "  text = ' '.join(text)\n",
        "  text = text.replace('\\n', '').replace('.', '').replace('?', '').replace('!', '')\n",
        "  final_text.append(text)"
      ]
    },
    {
      "cell_type": "code",
      "execution_count": null,
      "metadata": {
        "id": "L1Wti18rLgal",
        "colab": {
          "base_uri": "https://localhost:8080/"
        },
        "outputId": "8ec2a95c-a5e0-4669-9d8e-e1130ddaca5c"
      },
      "outputs": [
        {
          "output_type": "execute_result",
          "data": {
            "text/plain": [
              "1456"
            ]
          },
          "metadata": {},
          "execution_count": 29
        }
      ],
      "source": [
        "len(set(final_text))"
      ]
    },
    {
      "cell_type": "code",
      "execution_count": null,
      "metadata": {
        "id": "QwGIz7FHLjDY"
      },
      "outputs": [],
      "source": [
        "audio_files = [f'/content/drive/MyDrive/long_version_audio/{audio}' for audio in os.listdir('/content/drive/MyDrive/long_version_audio')]"
      ]
    },
    {
      "cell_type": "code",
      "execution_count": null,
      "metadata": {
        "id": "eMOom0PPLmJw",
        "colab": {
          "base_uri": "https://localhost:8080/"
        },
        "outputId": "974475b1-99d7-4038-d57b-59cd5b48641a"
      },
      "outputs": [
        {
          "output_type": "execute_result",
          "data": {
            "text/plain": [
              "['/content/drive/MyDrive/long_version_audio/MCSS0.wav',\n",
              " '/content/drive/MyDrive/long_version_audio/MMDM0.wav',\n",
              " '/content/drive/MyDrive/long_version_audio/MCDR0.wav',\n",
              " '/content/drive/MyDrive/long_version_audio/MLEL0.wav']"
            ]
          },
          "metadata": {},
          "execution_count": 31
        }
      ],
      "source": [
        "audio_files[:4]"
      ]
    },
    {
      "cell_type": "code",
      "execution_count": null,
      "metadata": {
        "id": "ma39wY-JLpjc",
        "colab": {
          "base_uri": "https://localhost:8080/"
        },
        "outputId": "628663bf-b99f-486b-ee7a-223ce6713069"
      },
      "outputs": [
        {
          "output_type": "execute_result",
          "data": {
            "text/plain": [
              "['MCSS0.wav', 'MMDM0.wav', 'MCDR0.wav', 'MLEL0.wav']"
            ]
          },
          "metadata": {},
          "execution_count": 32
        }
      ],
      "source": [
        "audio_name = [i for i in os.listdir('/content/drive/MyDrive/long_version_audio')]\n",
        "audio_name[:4]"
      ]
    },
    {
      "cell_type": "code",
      "execution_count": null,
      "metadata": {
        "id": "wrXX65RTLs9-"
      },
      "outputs": [],
      "source": [
        "cloned_df = pd.DataFrame(audio_name, columns=['file'])"
      ]
    },
    {
      "cell_type": "code",
      "execution_count": null,
      "metadata": {
        "id": "4xHju7KiLwcW",
        "colab": {
          "base_uri": "https://localhost:8080/",
          "height": 81
        },
        "outputId": "e8a0bd03-9e3d-48ae-e31e-83ae812140b2"
      },
      "outputs": [
        {
          "output_type": "execute_result",
          "data": {
            "text/plain": [
              "        file  text\n",
              "0  MCSS0.wav  None"
            ],
            "text/html": [
              "\n",
              "  <div id=\"df-561447b7-409c-4fd5-a184-167ceded86f4\" class=\"colab-df-container\">\n",
              "    <div>\n",
              "<style scoped>\n",
              "    .dataframe tbody tr th:only-of-type {\n",
              "        vertical-align: middle;\n",
              "    }\n",
              "\n",
              "    .dataframe tbody tr th {\n",
              "        vertical-align: top;\n",
              "    }\n",
              "\n",
              "    .dataframe thead th {\n",
              "        text-align: right;\n",
              "    }\n",
              "</style>\n",
              "<table border=\"1\" class=\"dataframe\">\n",
              "  <thead>\n",
              "    <tr style=\"text-align: right;\">\n",
              "      <th></th>\n",
              "      <th>file</th>\n",
              "      <th>text</th>\n",
              "    </tr>\n",
              "  </thead>\n",
              "  <tbody>\n",
              "    <tr>\n",
              "      <th>0</th>\n",
              "      <td>MCSS0.wav</td>\n",
              "      <td>None</td>\n",
              "    </tr>\n",
              "  </tbody>\n",
              "</table>\n",
              "</div>\n",
              "    <div class=\"colab-df-buttons\">\n",
              "\n",
              "  <div class=\"colab-df-container\">\n",
              "    <button class=\"colab-df-convert\" onclick=\"convertToInteractive('df-561447b7-409c-4fd5-a184-167ceded86f4')\"\n",
              "            title=\"Convert this dataframe to an interactive table.\"\n",
              "            style=\"display:none;\">\n",
              "\n",
              "  <svg xmlns=\"http://www.w3.org/2000/svg\" height=\"24px\" viewBox=\"0 -960 960 960\">\n",
              "    <path d=\"M120-120v-720h720v720H120Zm60-500h600v-160H180v160Zm220 220h160v-160H400v160Zm0 220h160v-160H400v160ZM180-400h160v-160H180v160Zm440 0h160v-160H620v160ZM180-180h160v-160H180v160Zm440 0h160v-160H620v160Z\"/>\n",
              "  </svg>\n",
              "    </button>\n",
              "\n",
              "  <style>\n",
              "    .colab-df-container {\n",
              "      display:flex;\n",
              "      gap: 12px;\n",
              "    }\n",
              "\n",
              "    .colab-df-convert {\n",
              "      background-color: #E8F0FE;\n",
              "      border: none;\n",
              "      border-radius: 50%;\n",
              "      cursor: pointer;\n",
              "      display: none;\n",
              "      fill: #1967D2;\n",
              "      height: 32px;\n",
              "      padding: 0 0 0 0;\n",
              "      width: 32px;\n",
              "    }\n",
              "\n",
              "    .colab-df-convert:hover {\n",
              "      background-color: #E2EBFA;\n",
              "      box-shadow: 0px 1px 2px rgba(60, 64, 67, 0.3), 0px 1px 3px 1px rgba(60, 64, 67, 0.15);\n",
              "      fill: #174EA6;\n",
              "    }\n",
              "\n",
              "    .colab-df-buttons div {\n",
              "      margin-bottom: 4px;\n",
              "    }\n",
              "\n",
              "    [theme=dark] .colab-df-convert {\n",
              "      background-color: #3B4455;\n",
              "      fill: #D2E3FC;\n",
              "    }\n",
              "\n",
              "    [theme=dark] .colab-df-convert:hover {\n",
              "      background-color: #434B5C;\n",
              "      box-shadow: 0px 1px 3px 1px rgba(0, 0, 0, 0.15);\n",
              "      filter: drop-shadow(0px 1px 2px rgba(0, 0, 0, 0.3));\n",
              "      fill: #FFFFFF;\n",
              "    }\n",
              "  </style>\n",
              "\n",
              "    <script>\n",
              "      const buttonEl =\n",
              "        document.querySelector('#df-561447b7-409c-4fd5-a184-167ceded86f4 button.colab-df-convert');\n",
              "      buttonEl.style.display =\n",
              "        google.colab.kernel.accessAllowed ? 'block' : 'none';\n",
              "\n",
              "      async function convertToInteractive(key) {\n",
              "        const element = document.querySelector('#df-561447b7-409c-4fd5-a184-167ceded86f4');\n",
              "        const dataTable =\n",
              "          await google.colab.kernel.invokeFunction('convertToInteractive',\n",
              "                                                    [key], {});\n",
              "        if (!dataTable) return;\n",
              "\n",
              "        const docLinkHtml = 'Like what you see? Visit the ' +\n",
              "          '<a target=\"_blank\" href=https://colab.research.google.com/notebooks/data_table.ipynb>data table notebook</a>'\n",
              "          + ' to learn more about interactive tables.';\n",
              "        element.innerHTML = '';\n",
              "        dataTable['output_type'] = 'display_data';\n",
              "        await google.colab.output.renderOutput(dataTable, element);\n",
              "        const docLink = document.createElement('div');\n",
              "        docLink.innerHTML = docLinkHtml;\n",
              "        element.appendChild(docLink);\n",
              "      }\n",
              "    </script>\n",
              "  </div>\n",
              "\n",
              "    </div>\n",
              "  </div>\n"
            ]
          },
          "metadata": {},
          "execution_count": 34
        }
      ],
      "source": [
        "cloned_df['text'] = None\n",
        "cloned_df.head(1)"
      ]
    },
    {
      "cell_type": "code",
      "execution_count": null,
      "metadata": {
        "id": "vNOxGlqALy7t"
      },
      "outputs": [],
      "source": [
        "for i in range(cloned_df.shape[0]):\n",
        "  cloned_df['text'][i] = f\"{random.choice(list(set(final_text)))}\""
      ]
    },
    {
      "cell_type": "code",
      "execution_count": null,
      "metadata": {
        "id": "BMMin8_kL3bx",
        "colab": {
          "base_uri": "https://localhost:8080/",
          "height": 143
        },
        "outputId": "985a79b2-a6b2-4d86-c753-152803079267"
      },
      "outputs": [
        {
          "output_type": "execute_result",
          "data": {
            "text/plain": [
              "        file                                               text\n",
              "0  MCSS0.wav                      How much allowance do you get\n",
              "1  MMDM0.wav  My desires are simple: give me one informative...\n",
              "2  MCDR0.wav  Heavy industry, slanted toward inexhaustible g..."
            ],
            "text/html": [
              "\n",
              "  <div id=\"df-06318fb1-00f0-4fce-ad38-c861cea2764e\" class=\"colab-df-container\">\n",
              "    <div>\n",
              "<style scoped>\n",
              "    .dataframe tbody tr th:only-of-type {\n",
              "        vertical-align: middle;\n",
              "    }\n",
              "\n",
              "    .dataframe tbody tr th {\n",
              "        vertical-align: top;\n",
              "    }\n",
              "\n",
              "    .dataframe thead th {\n",
              "        text-align: right;\n",
              "    }\n",
              "</style>\n",
              "<table border=\"1\" class=\"dataframe\">\n",
              "  <thead>\n",
              "    <tr style=\"text-align: right;\">\n",
              "      <th></th>\n",
              "      <th>file</th>\n",
              "      <th>text</th>\n",
              "    </tr>\n",
              "  </thead>\n",
              "  <tbody>\n",
              "    <tr>\n",
              "      <th>0</th>\n",
              "      <td>MCSS0.wav</td>\n",
              "      <td>How much allowance do you get</td>\n",
              "    </tr>\n",
              "    <tr>\n",
              "      <th>1</th>\n",
              "      <td>MMDM0.wav</td>\n",
              "      <td>My desires are simple: give me one informative...</td>\n",
              "    </tr>\n",
              "    <tr>\n",
              "      <th>2</th>\n",
              "      <td>MCDR0.wav</td>\n",
              "      <td>Heavy industry, slanted toward inexhaustible g...</td>\n",
              "    </tr>\n",
              "  </tbody>\n",
              "</table>\n",
              "</div>\n",
              "    <div class=\"colab-df-buttons\">\n",
              "\n",
              "  <div class=\"colab-df-container\">\n",
              "    <button class=\"colab-df-convert\" onclick=\"convertToInteractive('df-06318fb1-00f0-4fce-ad38-c861cea2764e')\"\n",
              "            title=\"Convert this dataframe to an interactive table.\"\n",
              "            style=\"display:none;\">\n",
              "\n",
              "  <svg xmlns=\"http://www.w3.org/2000/svg\" height=\"24px\" viewBox=\"0 -960 960 960\">\n",
              "    <path d=\"M120-120v-720h720v720H120Zm60-500h600v-160H180v160Zm220 220h160v-160H400v160Zm0 220h160v-160H400v160ZM180-400h160v-160H180v160Zm440 0h160v-160H620v160ZM180-180h160v-160H180v160Zm440 0h160v-160H620v160Z\"/>\n",
              "  </svg>\n",
              "    </button>\n",
              "\n",
              "  <style>\n",
              "    .colab-df-container {\n",
              "      display:flex;\n",
              "      gap: 12px;\n",
              "    }\n",
              "\n",
              "    .colab-df-convert {\n",
              "      background-color: #E8F0FE;\n",
              "      border: none;\n",
              "      border-radius: 50%;\n",
              "      cursor: pointer;\n",
              "      display: none;\n",
              "      fill: #1967D2;\n",
              "      height: 32px;\n",
              "      padding: 0 0 0 0;\n",
              "      width: 32px;\n",
              "    }\n",
              "\n",
              "    .colab-df-convert:hover {\n",
              "      background-color: #E2EBFA;\n",
              "      box-shadow: 0px 1px 2px rgba(60, 64, 67, 0.3), 0px 1px 3px 1px rgba(60, 64, 67, 0.15);\n",
              "      fill: #174EA6;\n",
              "    }\n",
              "\n",
              "    .colab-df-buttons div {\n",
              "      margin-bottom: 4px;\n",
              "    }\n",
              "\n",
              "    [theme=dark] .colab-df-convert {\n",
              "      background-color: #3B4455;\n",
              "      fill: #D2E3FC;\n",
              "    }\n",
              "\n",
              "    [theme=dark] .colab-df-convert:hover {\n",
              "      background-color: #434B5C;\n",
              "      box-shadow: 0px 1px 3px 1px rgba(0, 0, 0, 0.15);\n",
              "      filter: drop-shadow(0px 1px 2px rgba(0, 0, 0, 0.3));\n",
              "      fill: #FFFFFF;\n",
              "    }\n",
              "  </style>\n",
              "\n",
              "    <script>\n",
              "      const buttonEl =\n",
              "        document.querySelector('#df-06318fb1-00f0-4fce-ad38-c861cea2764e button.colab-df-convert');\n",
              "      buttonEl.style.display =\n",
              "        google.colab.kernel.accessAllowed ? 'block' : 'none';\n",
              "\n",
              "      async function convertToInteractive(key) {\n",
              "        const element = document.querySelector('#df-06318fb1-00f0-4fce-ad38-c861cea2764e');\n",
              "        const dataTable =\n",
              "          await google.colab.kernel.invokeFunction('convertToInteractive',\n",
              "                                                    [key], {});\n",
              "        if (!dataTable) return;\n",
              "\n",
              "        const docLinkHtml = 'Like what you see? Visit the ' +\n",
              "          '<a target=\"_blank\" href=https://colab.research.google.com/notebooks/data_table.ipynb>data table notebook</a>'\n",
              "          + ' to learn more about interactive tables.';\n",
              "        element.innerHTML = '';\n",
              "        dataTable['output_type'] = 'display_data';\n",
              "        await google.colab.output.renderOutput(dataTable, element);\n",
              "        const docLink = document.createElement('div');\n",
              "        docLink.innerHTML = docLinkHtml;\n",
              "        element.appendChild(docLink);\n",
              "      }\n",
              "    </script>\n",
              "  </div>\n",
              "\n",
              "\n",
              "<div id=\"df-12f7ec6b-9ef9-491f-9fe1-e31e835eafc8\">\n",
              "  <button class=\"colab-df-quickchart\" onclick=\"quickchart('df-12f7ec6b-9ef9-491f-9fe1-e31e835eafc8')\"\n",
              "            title=\"Suggest charts\"\n",
              "            style=\"display:none;\">\n",
              "\n",
              "<svg xmlns=\"http://www.w3.org/2000/svg\" height=\"24px\"viewBox=\"0 0 24 24\"\n",
              "     width=\"24px\">\n",
              "    <g>\n",
              "        <path d=\"M19 3H5c-1.1 0-2 .9-2 2v14c0 1.1.9 2 2 2h14c1.1 0 2-.9 2-2V5c0-1.1-.9-2-2-2zM9 17H7v-7h2v7zm4 0h-2V7h2v10zm4 0h-2v-4h2v4z\"/>\n",
              "    </g>\n",
              "</svg>\n",
              "  </button>\n",
              "\n",
              "<style>\n",
              "  .colab-df-quickchart {\n",
              "      --bg-color: #E8F0FE;\n",
              "      --fill-color: #1967D2;\n",
              "      --hover-bg-color: #E2EBFA;\n",
              "      --hover-fill-color: #174EA6;\n",
              "      --disabled-fill-color: #AAA;\n",
              "      --disabled-bg-color: #DDD;\n",
              "  }\n",
              "\n",
              "  [theme=dark] .colab-df-quickchart {\n",
              "      --bg-color: #3B4455;\n",
              "      --fill-color: #D2E3FC;\n",
              "      --hover-bg-color: #434B5C;\n",
              "      --hover-fill-color: #FFFFFF;\n",
              "      --disabled-bg-color: #3B4455;\n",
              "      --disabled-fill-color: #666;\n",
              "  }\n",
              "\n",
              "  .colab-df-quickchart {\n",
              "    background-color: var(--bg-color);\n",
              "    border: none;\n",
              "    border-radius: 50%;\n",
              "    cursor: pointer;\n",
              "    display: none;\n",
              "    fill: var(--fill-color);\n",
              "    height: 32px;\n",
              "    padding: 0;\n",
              "    width: 32px;\n",
              "  }\n",
              "\n",
              "  .colab-df-quickchart:hover {\n",
              "    background-color: var(--hover-bg-color);\n",
              "    box-shadow: 0 1px 2px rgba(60, 64, 67, 0.3), 0 1px 3px 1px rgba(60, 64, 67, 0.15);\n",
              "    fill: var(--button-hover-fill-color);\n",
              "  }\n",
              "\n",
              "  .colab-df-quickchart-complete:disabled,\n",
              "  .colab-df-quickchart-complete:disabled:hover {\n",
              "    background-color: var(--disabled-bg-color);\n",
              "    fill: var(--disabled-fill-color);\n",
              "    box-shadow: none;\n",
              "  }\n",
              "\n",
              "  .colab-df-spinner {\n",
              "    border: 2px solid var(--fill-color);\n",
              "    border-color: transparent;\n",
              "    border-bottom-color: var(--fill-color);\n",
              "    animation:\n",
              "      spin 1s steps(1) infinite;\n",
              "  }\n",
              "\n",
              "  @keyframes spin {\n",
              "    0% {\n",
              "      border-color: transparent;\n",
              "      border-bottom-color: var(--fill-color);\n",
              "      border-left-color: var(--fill-color);\n",
              "    }\n",
              "    20% {\n",
              "      border-color: transparent;\n",
              "      border-left-color: var(--fill-color);\n",
              "      border-top-color: var(--fill-color);\n",
              "    }\n",
              "    30% {\n",
              "      border-color: transparent;\n",
              "      border-left-color: var(--fill-color);\n",
              "      border-top-color: var(--fill-color);\n",
              "      border-right-color: var(--fill-color);\n",
              "    }\n",
              "    40% {\n",
              "      border-color: transparent;\n",
              "      border-right-color: var(--fill-color);\n",
              "      border-top-color: var(--fill-color);\n",
              "    }\n",
              "    60% {\n",
              "      border-color: transparent;\n",
              "      border-right-color: var(--fill-color);\n",
              "    }\n",
              "    80% {\n",
              "      border-color: transparent;\n",
              "      border-right-color: var(--fill-color);\n",
              "      border-bottom-color: var(--fill-color);\n",
              "    }\n",
              "    90% {\n",
              "      border-color: transparent;\n",
              "      border-bottom-color: var(--fill-color);\n",
              "    }\n",
              "  }\n",
              "</style>\n",
              "\n",
              "  <script>\n",
              "    async function quickchart(key) {\n",
              "      const quickchartButtonEl =\n",
              "        document.querySelector('#' + key + ' button');\n",
              "      quickchartButtonEl.disabled = true;  // To prevent multiple clicks.\n",
              "      quickchartButtonEl.classList.add('colab-df-spinner');\n",
              "      try {\n",
              "        const charts = await google.colab.kernel.invokeFunction(\n",
              "            'suggestCharts', [key], {});\n",
              "      } catch (error) {\n",
              "        console.error('Error during call to suggestCharts:', error);\n",
              "      }\n",
              "      quickchartButtonEl.classList.remove('colab-df-spinner');\n",
              "      quickchartButtonEl.classList.add('colab-df-quickchart-complete');\n",
              "    }\n",
              "    (() => {\n",
              "      let quickchartButtonEl =\n",
              "        document.querySelector('#df-12f7ec6b-9ef9-491f-9fe1-e31e835eafc8 button');\n",
              "      quickchartButtonEl.style.display =\n",
              "        google.colab.kernel.accessAllowed ? 'block' : 'none';\n",
              "    })();\n",
              "  </script>\n",
              "</div>\n",
              "    </div>\n",
              "  </div>\n"
            ]
          },
          "metadata": {},
          "execution_count": 36
        }
      ],
      "source": [
        "cloned_df.head(3)"
      ]
    },
    {
      "cell_type": "code",
      "execution_count": null,
      "metadata": {
        "id": "5yWxXHQpL6QQ"
      },
      "outputs": [],
      "source": [
        "cloned_df.to_csv('cloned_df.csv')"
      ]
    },
    {
      "cell_type": "code",
      "execution_count": null,
      "metadata": {
        "id": "qCkgNE1rSnKH",
        "colab": {
          "base_uri": "https://localhost:8080/"
        },
        "outputId": "919a34cc-55b4-484f-f206-694f529003ca"
      },
      "outputs": [
        {
          "output_type": "stream",
          "name": "stdout",
          "text": [
            "Requirement already satisfied: librosa==0.8.1 in /usr/local/lib/python3.10/dist-packages (0.8.1)\n",
            "Requirement already satisfied: audioread>=2.0.0 in /usr/local/lib/python3.10/dist-packages (from librosa==0.8.1) (3.0.1)\n",
            "Requirement already satisfied: numpy>=1.15.0 in /usr/local/lib/python3.10/dist-packages (from librosa==0.8.1) (1.23.5)\n",
            "Requirement already satisfied: scipy>=1.0.0 in /usr/local/lib/python3.10/dist-packages (from librosa==0.8.1) (1.11.3)\n",
            "Requirement already satisfied: scikit-learn!=0.19.0,>=0.14.0 in /usr/local/lib/python3.10/dist-packages (from librosa==0.8.1) (1.2.2)\n",
            "Requirement already satisfied: joblib>=0.14 in /usr/local/lib/python3.10/dist-packages (from librosa==0.8.1) (1.3.2)\n",
            "Requirement already satisfied: decorator>=3.0.0 in /usr/local/lib/python3.10/dist-packages (from librosa==0.8.1) (4.4.2)\n",
            "Requirement already satisfied: resampy>=0.2.2 in /usr/local/lib/python3.10/dist-packages (from librosa==0.8.1) (0.4.2)\n",
            "Requirement already satisfied: numba>=0.43.0 in /usr/local/lib/python3.10/dist-packages (from librosa==0.8.1) (0.58.1)\n",
            "Requirement already satisfied: soundfile>=0.10.2 in /usr/local/lib/python3.10/dist-packages (from librosa==0.8.1) (0.12.1)\n",
            "Requirement already satisfied: pooch>=1.0 in /usr/local/lib/python3.10/dist-packages (from librosa==0.8.1) (1.8.0)\n",
            "Requirement already satisfied: packaging>=20.0 in /usr/local/lib/python3.10/dist-packages (from librosa==0.8.1) (23.2)\n",
            "Requirement already satisfied: llvmlite<0.42,>=0.41.0dev0 in /usr/local/lib/python3.10/dist-packages (from numba>=0.43.0->librosa==0.8.1) (0.41.1)\n",
            "Requirement already satisfied: platformdirs>=2.5.0 in /usr/local/lib/python3.10/dist-packages (from pooch>=1.0->librosa==0.8.1) (4.0.0)\n",
            "Requirement already satisfied: requests>=2.19.0 in /usr/local/lib/python3.10/dist-packages (from pooch>=1.0->librosa==0.8.1) (2.31.0)\n",
            "Requirement already satisfied: threadpoolctl>=2.0.0 in /usr/local/lib/python3.10/dist-packages (from scikit-learn!=0.19.0,>=0.14.0->librosa==0.8.1) (3.2.0)\n",
            "Requirement already satisfied: cffi>=1.0 in /usr/local/lib/python3.10/dist-packages (from soundfile>=0.10.2->librosa==0.8.1) (1.16.0)\n",
            "Requirement already satisfied: pycparser in /usr/local/lib/python3.10/dist-packages (from cffi>=1.0->soundfile>=0.10.2->librosa==0.8.1) (2.21)\n",
            "Requirement already satisfied: charset-normalizer<4,>=2 in /usr/local/lib/python3.10/dist-packages (from requests>=2.19.0->pooch>=1.0->librosa==0.8.1) (3.3.2)\n",
            "Requirement already satisfied: idna<4,>=2.5 in /usr/local/lib/python3.10/dist-packages (from requests>=2.19.0->pooch>=1.0->librosa==0.8.1) (3.4)\n",
            "Requirement already satisfied: urllib3<3,>=1.21.1 in /usr/local/lib/python3.10/dist-packages (from requests>=2.19.0->pooch>=1.0->librosa==0.8.1) (2.0.7)\n",
            "Requirement already satisfied: certifi>=2017.4.17 in /usr/local/lib/python3.10/dist-packages (from requests>=2.19.0->pooch>=1.0->librosa==0.8.1) (2023.7.22)\n"
          ]
        }
      ],
      "source": [
        "!pip install librosa==0.8.1"
      ]
    },
    {
      "cell_type": "code",
      "execution_count": null,
      "metadata": {
        "id": "Fro4EyjZL9Ni",
        "colab": {
          "base_uri": "https://localhost:8080/"
        },
        "outputId": "fdb1e749-da34-463b-a406-3016d2c558f5"
      },
      "outputs": [
        {
          "output_type": "stream",
          "name": "stdout",
          "text": [
            "151 files have been cloned out of 336\n",
            "Synthesizing new audio...\n",
            "\n",
            "| Generating 1/1\n",
            "\n",
            "\n",
            "Done.\n",
            "\n",
            "{| █████████████░░░ 60000/76800 | Batch Size: 8 | Gen Rate: 1.2kHz | }"
          ]
        }
      ],
      "source": [
        "# feed the model with the long audios and with a random text\n",
        "counter = 1\n",
        "for i in range(cloned_df.shape[0]):\n",
        "  text = cloned_df.text[i]\n",
        "  synthesize1(audio_files[i], text, f'/content/drive/MyDrive/synthesized_audio_long_version/{cloned_df.file[i]}')\n",
        "  print(f\"{counter} files have been cloned out of 336\")\n",
        "  counter += 1"
      ]
    },
    {
      "cell_type": "code",
      "execution_count": null,
      "metadata": {
        "id": "uD8xw9DfOXjJ"
      },
      "outputs": [],
      "source": [
        "short_original_text = 'She had your dark suit in greasy wash water all year'\n",
        "\n",
        "audio_1 = '/content/data/TRAIN/DR1/FCJF0/SA1.WAV.wav'\n",
        "Audio(audio_1, autoplay=True)"
      ]
    },
    {
      "cell_type": "code",
      "execution_count": null,
      "metadata": {
        "id": "kS91J5znO01c"
      },
      "outputs": [],
      "source": [
        "synthesize1(audio_1, short_original_text, 'exp-1-1.wav')"
      ]
    }
  ],
  "metadata": {
    "colab": {
      "provenance": [],
      "mount_file_id": "1zgQEDIiy3n-9dplfXEV4hSqXFKm587C2",
      "authorship_tag": "ABX9TyN83PYkzjQweSPEq5tCup48",
      "include_colab_link": true
    },
    "kernelspec": {
      "display_name": "Python 3",
      "name": "python3"
    },
    "language_info": {
      "name": "python"
    }
  },
  "nbformat": 4,
  "nbformat_minor": 0
}